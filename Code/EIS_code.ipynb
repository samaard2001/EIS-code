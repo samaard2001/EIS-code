{
 "cells": [
  {
   "cell_type": "markdown",
   "metadata": {},
   "source": [
    "Importing libraries"
   ]
  },
  {
   "cell_type": "code",
   "execution_count": 15,
   "metadata": {},
   "outputs": [],
   "source": [
    "import pybammeis\n",
    "import pybamm\n",
    "import os\n",
    "import re\n",
    "import numpy as np\n",
    "from gamry_parser import GamryParser, Impedance\n",
    "import pandas as pd\n",
    "import time as timer\n",
    "import matplotlib.pyplot as plt\n",
    "from scipy.fft import fft\n",
    "import random\n",
    "from scipy.optimize import minimize\n",
    "from scipy.optimize import basinhopping\n",
    "from scipy.interpolate import interp1d\n",
    "import pyswarms as ps \n",
    "from pyswarms.single import GlobalBestPSO"
   ]
  },
  {
   "cell_type": "markdown",
   "metadata": {},
   "source": [
    "Plotting experimental EIS data"
   ]
  },
  {
   "cell_type": "code",
   "execution_count": 16,
   "metadata": {},
   "outputs": [
    {
     "data": {
      "image/png": "[encoded data removed]",
      "text/plain": [
       "<Figure size 600x600 with 1 Axes>"
      ]
     },
     "metadata": {},
     "output_type": "display_data"
    }
   ],
   "source": [
    "file = \"/Users/synnemard/Desktop/lithium_ion/EIS data/MJ1_02.DTA\"\n",
    "# Information about the MJ1_02 cell: \n",
    "# ved BoL (Beginning of Life)\n",
    "# ved ca. 45% SoC \n",
    "# ved 25 deg C\n",
    "\n",
    "ca = Impedance(file)\n",
    "ca.load(filename=file)\n",
    "\n",
    "# process data header metadata to get start_time (not strictly necessary)\n",
    "start_time = pd.Timestamp(\"{} {}\".format(ca.header.get(\"DATE\"), ca.header.get(\"TIME\")))\n",
    "    \n",
    "# extract EIS curve\n",
    "res = ca.get_curve_data()\n",
    "res_reverse = res.iloc[::-1] #not necessary\n",
    "df_mag = res_reverse['Zmod']\n",
    "df_phz = res_reverse['Zphz']\n",
    "df_real = res_reverse['Zreal']\n",
    "df_imag= res_reverse['Zimag']\n",
    "freq = res_reverse['Freq']\n",
    "\n",
    "# excluding the values in the 4th quadrant: \n",
    "df_mag = df_mag[:49]\n",
    "df_phz = df_phz[:49]\n",
    "df_real = df_real[:49]\n",
    "df_imag = df_imag[:49]\n",
    "freq = freq[:49]\n",
    "\n",
    "# Creating Nyquist plot\n",
    "plt.figure(figsize=(6,6))\n",
    "plt.scatter(df_real, -df_imag, color='red') \n",
    "\n",
    "# Labeling the plot\n",
    "plt.xlabel('Real(Z) [Ω]')\n",
    "plt.ylabel('Imaginary(Z) [Ω]')\n",
    "plt.title('MJ1_02 cell')\n",
    "\n",
    "\n",
    "#finner høyeste log frekvens \n",
    "x = np.log10(freq[22])\n",
    "\n",
    "# Show plot\n",
    "plt.show()\n"
   ]
  },
  {
   "cell_type": "markdown",
   "metadata": {},
   "source": [
    "Generating EIS simulation\n",
    "\n",
    "Assumptions:\n",
    "- DFN model\n",
    "- same parameters as I got from Amund\n",
    "- input parameter SoC - 45% \n",
    "- at 25 degrees C\n",
    "- using the numerical prebicgstab frequency domain method and also the time domain method"
   ]
  },
  {
   "cell_type": "markdown",
   "metadata": {},
   "source": [
    "Defining Parameters"
   ]
  },
  {
   "cell_type": "code",
   "execution_count": 17,
   "metadata": {},
   "outputs": [],
   "source": [
    "# OCV curves for the anode and cathode\n",
    "# Simple math model for the individual electrode potentials as a function of the stoichiometry of Lithium\n",
    "def MJ1_ocp_tanh_SiC(sto):\n",
    "    x = sto\n",
    "    p = np.array([ 1.20912055e+00,  5.62297420e+01, -1.11020020e-01, -2.53458213e-01, 4.92581391e+01,  1.22046522e-02,  4.73538620e-02,  1.79631246e+01, 1.75283209e-01,  1.88038929e-02,  3.03255334e+01,  4.66328034e-01])\n",
    "    \n",
    "    return (\n",
    "            p[0] * pybamm.exp(-p[1] * x)\n",
    "            + p[2]\n",
    "            - p[3] * pybamm.tanh(p[4] * (x - p[5]))\n",
    "            - p[6] * pybamm.tanh(p[7] * (x - p[8]))\n",
    "            - p[9] * pybamm.tanh(p[10] * (x - p[11]))\n",
    "        )\n",
    "\n",
    "def MJ1_ocp_tanh_NMC(sto):\n",
    "    x = sto\n",
    "    p = np.array([ 0.74041974,  4.39107343,  0.03434767, 18.16841489,  0.53463176, 17.68283504, 14.59709162,  0.28835348, 17.58474971, 14.69911523,  0.28845641])\n",
    "\n",
    "    return (\n",
    "            -p[0] * x\n",
    "            + p[1]\n",
    "            - p[2] * pybamm.tanh(p[3] * (x - p[4]))\n",
    "            - p[5] * pybamm.tanh(p[6] * (x - p[7]))\n",
    "            + p[8] * pybamm.tanh(p[9] * (x - p[10]))\n",
    "        )\n",
    "\n",
    "# Parameters from literature\n",
    "literature_params = {\n",
    "    'Electrode height [m]': 0.059,\n",
    "    'Electrode width [m]': 0.610*2, # Multiplying by two since the electrode has active material on both sides.\n",
    "    'Lower voltage cut-off [V]': 2.5,\n",
    "    'Upper voltage cut-off [V]': 4.5,\n",
    "    'Nominal cell capacity [A.h]': 3.5,\n",
    "\n",
    "    # From Table 3 in https://doi.org/10.1016/j.jpowsour.2018.11.043\n",
    "    'Maximum concentration in negative electrode [mol.m-3]': 32418.5,\n",
    "    'Negative particle radius [m]': 6.1e-06,\n",
    "    'Negative electrode porosity': 0.216,\n",
    "    'Negative electrode active material volume fraction': 0.7011854763922494,\n",
    "    'Negative electrode conductivity [S.m-1]': 100.0,\n",
    "    'Negative electrode diffusivity [m2.s-1]': 5e-14,\n",
    "    'Negative electrode OCP [V]': MJ1_ocp_tanh_SiC,\n",
    "\n",
    "    # 'Maximum concentration in positive electrode [mol.m-3]': 51081.15,\n",
    "    'Positive particle radius [m]': 3.8e-06,\n",
    "    'Positive electrode porosity': 0.171,\n",
    "    'Positive electrode active material volume fraction': 0.7355902286855152,\n",
    "    'Positive electrode conductivity [S.m-1]': 0.17,\n",
    "    'Positive electrode diffusivity [m2.s-1]': 5e-13,\n",
    "    'Positive electrode OCP [V]': MJ1_ocp_tanh_NMC,\n",
    "\n",
    "    'Separator porosity': 0.45,\n",
    "\n",
    "    # end of section 3 data\n",
    "    \n",
    "    # From Table A-9 and A-10 in https://doi.org/10.1016/j.jpowsour.2018.11.043\n",
    "    'Negative current collector conductivity [S.m-1]': 5.9e7/(1+3.383e-3 * (298.15-293.15)), \n",
    "    'Negative current collector thickness [m]': 11e-06,\n",
    "    'Negative current collector density [kg.m-3]': 8950.0,\n",
    "    'Negative current collector specific heat capacity [J.kg-1.K-1]': 385.0,\n",
    "    'Negative current collector thermal conductivity [W.m-1.K-1]': 398.0,\n",
    "    'Negative electrode density [kg.m-3]': 2242.0,\n",
    "    'Negative electrode specific heat capacity [J.kg-1.K-1]': 867.0,\n",
    "    'Negative electrode thermal conductivity [W.m-1.K-1]': 1.04,\n",
    "    'Negative electrode thickness [m]': 86.7e-6, # 86.7 in Sturm 2019, 85um in Heenan2020, 170um in NASA\n",
    "    'Positive current collector conductivity [S.m-1]': 3.78e7/(1+4.290e-3 * (298.15-293.15)),\n",
    "    'Positive current collector density [kg.m-3]': 2710.0,\n",
    "    'Positive current collector specific heat capacity [J.kg-1.K-1]': 903.0,\n",
    "    'Positive current collector thermal conductivity [W.m-1.K-1]': 238.0,\n",
    "    'Positive current collector thickness [m]': 17.3e-06,\n",
    "    'Positive electrode density [kg.m-3]': 4870.0,\n",
    "    'Positive electrode specific heat capacity [J.kg-1.K-1]': 840.1,\n",
    "    'Positive electrode thermal conductivity [W.m-1.K-1]': 1.58,\n",
    "    'Positive electrode thickness [m]': 66.2e-6, #66.2um in Sturm2019, 72.5um in Heenan2020, 160um in NASA\n",
    "    'Separator density [kg.m-3]': 1009.0,\n",
    "    'Separator specific heat capacity [J.kg-1.K-1]': 1978.2,\n",
    "    'Separator thermal conductivity [W.m-1.K-1]': 0.33,\n",
    "    'Separator thickness [m]': 12e-06,\n",
    "    # end of table data\n",
    "    }\n",
    "\n",
    "# Use default parameters from the Chen2020 publication\n",
    "params = pybamm.ParameterValues(\"Chen2020\")\n",
    "\n",
    "# Overwrite parameters with our own\n",
    "for parameter, value in literature_params.items():\n",
    "    try:\n",
    "        if params[parameter] != value: # Check if the parameter exists in 'params' and has a different value\n",
    "            params[parameter] = value # Update 'params' with the new value from 'literature_params'\n",
    "    except KeyError as e: # This block handles the case where the 'parameter' is not in 'params'\n",
    "        print(f\"Parameter {parameter} not part of default. Skipping.\")\n",
    "\n",
    "# Changing state of charge SOC\n",
    "z = 0.45\n",
    "\n",
    "x0, x100, y100, y0 = pybamm.lithium_ion.get_min_max_stoichiometries(params)\n",
    "x = x0 + z * (x100 - x0)\n",
    "y = y0 - z * (y0 - y100)\n",
    "c_n_max = params[\"Maximum concentration in negative electrode [mol.m-3]\"]\n",
    "c_p_max = params[\"Maximum concentration in positive electrode [mol.m-3]\"]\n",
    "\n",
    "params.update(\n",
    "    {\n",
    "        \"Initial concentration in negative electrode [mol.m-3]\": x * c_n_max,\n",
    "        \"Initial concentration in positive electrode [mol.m-3]\": y * c_p_max,\n",
    "    }\n",
    ")\n",
    "\n",
    "# params['Initial temperature [K]'] = ambient temperature = 25 degrees\n",
    "\n",
    "# Choosing the same frequency range as in the experimental plot. \n",
    "# x is ish equal to 2.8\n",
    "frequencies = np.logspace(-2, 2.8, 49)\n",
    "\n",
    "\n"
   ]
  },
  {
   "cell_type": "markdown",
   "metadata": {},
   "source": [
    "Updating charge transfer resistance (by changing (increasing) exchange current density)"
   ]
  },
  {
   "cell_type": "code",
   "execution_count": 4,
   "metadata": {},
   "outputs": [
    {
     "data": {
      "text/plain": [
       "'\\nj0_ref1 = 5\\nC_dl1 = 0.5\\n\\nparams.update(\\n    {\"Positive electrode reference exchange-current density [A.m-2]\": j0_ref1, #pybamm.InputParameter(\"j0_ref\"),\\n    \"Positive electrode double-layer capacity [F.m-2]\": C_dl1   #pybamm.InputParameter(\"C_dl\")\\n    },\\n    check_already_exists=False,\\n)\\n\\n# exchange current density at the graphite anode in the LGM50 cell\\ndef graphite_LGM50_electrolyte_exchange_current_density_Chen2020(\\n    c_e, c_s_surf, c_s_max, T\\n):\\n    \"\"\"\\n    Exchange-current density for Butler-Volmer reactions between graphite and LiPF6 in\\n    EC:DMC.\\n\\n    References\\n    ----------\\n    .. [1] Chang-Hui Chen, Ferran Brosa Planella, Kieran O’Regan, Dominika Gastol, W.\\n    Dhammika Widanage, and Emma Kendrick. \"Development of Experimental Techniques for\\n    Parameterization of Multi-scale Lithium-ion Battery Models.\" Journal of the\\n    Electrochemical Society 167 (2020): 080534.\\n\\n    Parameters\\n    ----------\\n    c_e : :class:`pybamm.Symbol`\\n        Electrolyte concentration [mol.m-3]\\n    c_s_surf : :class:`pybamm.Symbol`\\n        Particle concentration [mol.m-3]\\n    c_s_max : :class:`pybamm.Symbol`\\n        Maximum particle concentration [mol.m-3]\\n    T : :class:`pybamm.Symbol`\\n        Temperature [K]\\n\\n    Returns\\n    -------\\n    :class:`pybamm.Symbol`\\n        Exchange-current density [A.m-2]\\n    \"\"\"\\n    m_ref = 6.48e-7  # (A/m2)(m3/mol)**1.5 - includes ref concentrations\\n    E_r = 35000\\n    arrhenius = np.exp(E_r / pybamm.constants.R * (1 / 298.15 - 1 / T))\\n\\n    return (m_ref * arrhenius * c_e**0.5 * c_s_surf**0.5 * (c_s_max - c_s_surf) ** 0.5)*1 #multiplied with 2 to decrease charge transfer resistance\\n\\n\\n# Exchange current density at the cathode, found from EIS example at pybammeis \\ndef j0(c_e, c_s_surf, c_s_max, T):\\n    #j0_ref = j0_ref1\\n    j0_ref = pybamm.Parameter(\"Positive electrode reference exchange-current density [A.m-2]\")\\n    c_e_init = pybamm.Parameter(\"Initial concentration in electrolyte [mol.m-3]\")\\n\\n    return (\\n        j0_ref\\n        * (c_e / c_e_init) ** 0.5\\n        * (c_s_surf / c_s_max) ** 0.5\\n        * (1 - c_s_surf / c_s_max) ** 0.5\\n    )\\n\\nparams.update(\\n    {\\n        \"Positive electrode exchange-current density [A.m-2]\": j0,\\n        \"Negative electrode exchange-current density [A.m-2]\": graphite_LGM50_electrolyte_exchange_current_density_Chen2020, \\n    },\\n    check_already_exists=False,\\n)\\n\\n'"
      ]
     },
     "execution_count": 4,
     "metadata": {},
     "output_type": "execute_result"
    }
   ],
   "source": [
    "'''\n",
    "j0_ref1 = 5\n",
    "C_dl1 = 0.5\n",
    "\n",
    "params.update(\n",
    "    {\"Positive electrode reference exchange-current density [A.m-2]\": j0_ref1, #pybamm.InputParameter(\"j0_ref\"),\n",
    "    \"Positive electrode double-layer capacity [F.m-2]\": C_dl1   #pybamm.InputParameter(\"C_dl\")\n",
    "    },\n",
    "    check_already_exists=False,\n",
    ")\n",
    "\n",
    "# exchange current density at the graphite anode in the LGM50 cell\n",
    "def graphite_LGM50_electrolyte_exchange_current_density_Chen2020(\n",
    "    c_e, c_s_surf, c_s_max, T\n",
    "):\n",
    "    \"\"\"\n",
    "    Exchange-current density for Butler-Volmer reactions between graphite and LiPF6 in\n",
    "    EC:DMC.\n",
    "\n",
    "    References\n",
    "    ----------\n",
    "    .. [1] Chang-Hui Chen, Ferran Brosa Planella, Kieran O’Regan, Dominika Gastol, W.\n",
    "    Dhammika Widanage, and Emma Kendrick. \"Development of Experimental Techniques for\n",
    "    Parameterization of Multi-scale Lithium-ion Battery Models.\" Journal of the\n",
    "    Electrochemical Society 167 (2020): 080534.\n",
    "\n",
    "    Parameters\n",
    "    ----------\n",
    "    c_e : :class:`pybamm.Symbol`\n",
    "        Electrolyte concentration [mol.m-3]\n",
    "    c_s_surf : :class:`pybamm.Symbol`\n",
    "        Particle concentration [mol.m-3]\n",
    "    c_s_max : :class:`pybamm.Symbol`\n",
    "        Maximum particle concentration [mol.m-3]\n",
    "    T : :class:`pybamm.Symbol`\n",
    "        Temperature [K]\n",
    "\n",
    "    Returns\n",
    "    -------\n",
    "    :class:`pybamm.Symbol`\n",
    "        Exchange-current density [A.m-2]\n",
    "    \"\"\"\n",
    "    m_ref = 6.48e-7  # (A/m2)(m3/mol)**1.5 - includes ref concentrations\n",
    "    E_r = 35000\n",
    "    arrhenius = np.exp(E_r / pybamm.constants.R * (1 / 298.15 - 1 / T))\n",
    "\n",
    "    return (m_ref * arrhenius * c_e**0.5 * c_s_surf**0.5 * (c_s_max - c_s_surf) ** 0.5)*1 #multiplied with 2 to decrease charge transfer resistance\n",
    "\n",
    "\n",
    "# Exchange current density at the cathode, found from EIS example at pybammeis \n",
    "def j0(c_e, c_s_surf, c_s_max, T):\n",
    "    #j0_ref = j0_ref1\n",
    "    j0_ref = pybamm.Parameter(\"Positive electrode reference exchange-current density [A.m-2]\")\n",
    "    c_e_init = pybamm.Parameter(\"Initial concentration in electrolyte [mol.m-3]\")\n",
    "\n",
    "    return (\n",
    "        j0_ref\n",
    "        * (c_e / c_e_init) ** 0.5\n",
    "        * (c_s_surf / c_s_max) ** 0.5\n",
    "        * (1 - c_s_surf / c_s_max) ** 0.5\n",
    "    )\n",
    "\n",
    "params.update(\n",
    "    {\n",
    "        \"Positive electrode exchange-current density [A.m-2]\": j0,\n",
    "        \"Negative electrode exchange-current density [A.m-2]\": graphite_LGM50_electrolyte_exchange_current_density_Chen2020, \n",
    "    },\n",
    "    check_already_exists=False,\n",
    ")\n",
    "\n",
    "'''"
   ]
  },
  {
   "cell_type": "markdown",
   "metadata": {},
   "source": [
    "Updating parameters I think is incorrect: \n",
    "\n",
    "- overflateareal mellom elektrode og elektrolytt - surface area between electrode and electrolyte\n",
    "Instead: The electrode thicknesses or adjust the Bruggeman coefficient for the electrolyte (reduces ion transport which lowers interaction between the electrolyte and electrode)\n",
    "\n",
    "- Electrolyte conductivity \n",
    "\n",
    "- (feil porositet)"
   ]
  },
  {
   "cell_type": "code",
   "execution_count": 18,
   "metadata": {},
   "outputs": [
    {
     "name": "stdout",
     "output_type": "stream",
     "text": [
      "{'Positive electrode double-layer capacity [F.m-2]', 'Negative electrode double-layer capacity [F.m-2]'}\n"
     ]
    }
   ],
   "source": [
    "model1 = pybamm.lithium_ion.DFN(options={\"surface form\": \"differential\"})\n",
    "dic1 = model1.get_parameter_info() #49\n",
    "model2 = pybamm.lithium_ion.DFN() \n",
    "dic2 = model2.get_parameter_info() #47\n",
    "\n",
    "diff_keys = set(dic1.keys()) - set(dic2.keys())\n",
    "print(diff_keys)\n",
    "\n",
    "# Her ser vi at den positive og negative electrode double-layer capacity kan bli endret!"
   ]
  },
  {
   "cell_type": "code",
   "execution_count": 6,
   "metadata": {},
   "outputs": [
    {
     "data": {
      "text/plain": [
       "'\\n\\n# har fjernet nominal cell capacity og Bruggeman coefficient foreløpig \\n# har lagt til positive electrode reference exchange-current density j0_ref \\n\\ninitial_params = [\\n    float(params[\\'Negative electrode thickness [m]\\']), \\n    #float(params[\\'Negative electrode Bruggeman coefficient (electrolyte)\\']),\\n    # float(params[\\'Nominal cell capacity [A.h]\\']),  \\n    float(params[\\'Separator thickness [m]\\']),\\n    float(params[\\'Negative electrode double-layer capacity [F.m-2]\\']), \\n    float(params[\\'Positive electrode double-layer capacity [F.m-2]\\']), \\n    float(params[\\'Electrode width [m]\\']), \\n    float(params[\"Positive electrode reference exchange-current density [A.m-2]\"]), \\n    ]\\n\\nprint(initial_params)\\n\\n\\n'"
      ]
     },
     "execution_count": 6,
     "metadata": {},
     "output_type": "execute_result"
    }
   ],
   "source": [
    "'''\n",
    "\n",
    "# har fjernet nominal cell capacity og Bruggeman coefficient foreløpig \n",
    "# har lagt til positive electrode reference exchange-current density j0_ref \n",
    "\n",
    "initial_params = [\n",
    "    float(params['Negative electrode thickness [m]']), \n",
    "    #float(params['Negative electrode Bruggeman coefficient (electrolyte)']),\n",
    "    # float(params['Nominal cell capacity [A.h]']),  \n",
    "    float(params['Separator thickness [m]']),\n",
    "    float(params['Negative electrode double-layer capacity [F.m-2]']), \n",
    "    float(params['Positive electrode double-layer capacity [F.m-2]']), \n",
    "    float(params['Electrode width [m]']), \n",
    "    float(params[\"Positive electrode reference exchange-current density [A.m-2]\"]), \n",
    "    ]\n",
    "\n",
    "print(initial_params)\n",
    "\n",
    "\n",
    "'''"
   ]
  },
  {
   "cell_type": "markdown",
   "metadata": {},
   "source": [
    "Finding the sum of squared difference between the simulated model and the experimental data"
   ]
  },
  {
   "cell_type": "code",
   "execution_count": 7,
   "metadata": {},
   "outputs": [
    {
     "data": {
      "text/plain": [
       "'\\nreal_exp = np.array(df_real)\\nimag_exp = np.array(df_imag)\\n\\n#options={\"surface form\": \"differential\"}\\n\\ndef Z_sim(frequencies, upt_par):\\n  model = pybamm.lithium_ion.DFN(options={\"surface form\": \"differential\"})\\n  #options={\"surface form\": \"differential\"}\\n  params.update(\\n    {\\'Negative electrode thickness [m]\\': upt_par[0], \\n     #\\'Negative electrode Bruggeman coefficient (electrolyte)\\': upt_par[1], \\n     #\\'Positive electrode Bruggeman coefficient (electrolyte)\\': upt_par[1], \\n     #\\'Separator Bruggeman coefficient (electrolyte)\\': upt_par[1], \\n     #\\'Nominal cell capacity [A.h]\\': upt_par[2], \\n     \\'Separator thickness [m]\\': upt_par[1], \\n     \\'Negative electrode double-layer capacity [F.m-2]\\': upt_par[2], \\n     \\'Positive electrode double-layer capacity [F.m-2]\\': upt_par[3], \\n     \\'Electrode width [m]\\': upt_par[4], \\n     \\'Positive electrode reference exchange-current density [A.m-2]\\': upt_par[5]\\n     })\\n  \\n  def j0(c_e, c_s_surf, c_s_max, T):\\n    #j0_ref = j0_ref1\\n    j0_ref = pybamm.Parameter(\"Positive electrode reference exchange-current density [A.m-2]\")\\n    c_e_init = pybamm.Parameter(\"Initial concentration in electrolyte [mol.m-3]\")\\n\\n    return (\\n        j0_ref\\n        * (c_e / c_e_init) ** 0.5\\n        * (c_s_surf / c_s_max) ** 0.5\\n        * (1 - c_s_surf / c_s_max) ** 0.5\\n    )\\n  params.update(\\n    {\\'Positive electrode exchange-current density [A.m-2]\\': j0})\\n  \\n  eis_sim = pybammeis.EISSimulation(model, parameter_values=params)\\n  z_sim = eis_sim.solve(frequencies, method = \"prebicgstab\")\\n  return z_sim \\n\\n\\ndef diff_function(upt_par, frequencies, real_exp, imag_exp): \\n  imp_sim = Z_sim(frequencies, upt_par)\\n  real_sim = np.real(imp_sim)\\n  imag_sim = np.imag(imp_sim)\\n\\n  real_diff = real_sim - real_exp \\n  imag_diff = imag_sim - imag_exp \\n\\n  #the total sum of squared differences (magnitude, absolute value, of the complex differences)\\n  sum_square_diff = np.sum(real_diff**2 + imag_diff**2)\\n  return sum_square_diff\\n\\n#diff_function(initial_params, frequencies, real_exp, imag_exp)\\n\\n# to pass the additional arguments\\n# args = (frequencies, real_exp, imag_exp)\\ndef wrapped_diff_function(upt_par):\\n  return np.array([diff_function(par, frequencies, real_exp, imag_exp) for par in upt_par])\\n\\n'"
      ]
     },
     "execution_count": 7,
     "metadata": {},
     "output_type": "execute_result"
    }
   ],
   "source": [
    "'''\n",
    "real_exp = np.array(df_real)\n",
    "imag_exp = np.array(df_imag)\n",
    "\n",
    "#options={\"surface form\": \"differential\"}\n",
    "\n",
    "def Z_sim(frequencies, upt_par):\n",
    "  model = pybamm.lithium_ion.DFN(options={\"surface form\": \"differential\"})\n",
    "  #options={\"surface form\": \"differential\"}\n",
    "  params.update(\n",
    "    {'Negative electrode thickness [m]': upt_par[0], \n",
    "     #'Negative electrode Bruggeman coefficient (electrolyte)': upt_par[1], \n",
    "     #'Positive electrode Bruggeman coefficient (electrolyte)': upt_par[1], \n",
    "     #'Separator Bruggeman coefficient (electrolyte)': upt_par[1], \n",
    "     #'Nominal cell capacity [A.h]': upt_par[2], \n",
    "     'Separator thickness [m]': upt_par[1], \n",
    "     'Negative electrode double-layer capacity [F.m-2]': upt_par[2], \n",
    "     'Positive electrode double-layer capacity [F.m-2]': upt_par[3], \n",
    "     'Electrode width [m]': upt_par[4], \n",
    "     'Positive electrode reference exchange-current density [A.m-2]': upt_par[5]\n",
    "     })\n",
    "  \n",
    "  def j0(c_e, c_s_surf, c_s_max, T):\n",
    "    #j0_ref = j0_ref1\n",
    "    j0_ref = pybamm.Parameter(\"Positive electrode reference exchange-current density [A.m-2]\")\n",
    "    c_e_init = pybamm.Parameter(\"Initial concentration in electrolyte [mol.m-3]\")\n",
    "\n",
    "    return (\n",
    "        j0_ref\n",
    "        * (c_e / c_e_init) ** 0.5\n",
    "        * (c_s_surf / c_s_max) ** 0.5\n",
    "        * (1 - c_s_surf / c_s_max) ** 0.5\n",
    "    )\n",
    "  params.update(\n",
    "    {'Positive electrode exchange-current density [A.m-2]': j0})\n",
    "  \n",
    "  eis_sim = pybammeis.EISSimulation(model, parameter_values=params)\n",
    "  z_sim = eis_sim.solve(frequencies, method = \"prebicgstab\")\n",
    "  return z_sim \n",
    "\n",
    "\n",
    "def diff_function(upt_par, frequencies, real_exp, imag_exp): \n",
    "  imp_sim = Z_sim(frequencies, upt_par)\n",
    "  real_sim = np.real(imp_sim)\n",
    "  imag_sim = np.imag(imp_sim)\n",
    "\n",
    "  real_diff = real_sim - real_exp \n",
    "  imag_diff = imag_sim - imag_exp \n",
    "\n",
    "  #the total sum of squared differences (magnitude, absolute value, of the complex differences)\n",
    "  sum_square_diff = np.sum(real_diff**2 + imag_diff**2)\n",
    "  return sum_square_diff\n",
    "\n",
    "#diff_function(initial_params, frequencies, real_exp, imag_exp)\n",
    "\n",
    "# to pass the additional arguments\n",
    "# args = (frequencies, real_exp, imag_exp)\n",
    "def wrapped_diff_function(upt_par):\n",
    "  return np.array([diff_function(par, frequencies, real_exp, imag_exp) for par in upt_par])\n",
    "\n",
    "'''"
   ]
  },
  {
   "cell_type": "markdown",
   "metadata": {},
   "source": [
    "Particle Swarm Optimization "
   ]
  },
  {
   "cell_type": "code",
   "execution_count": 8,
   "metadata": {},
   "outputs": [
    {
     "data": {
      "text/plain": [
       "'\\n\\nlower_bounds = [50e-6,5e-6,0.01,0.01, 40e-3, 0] #, -100\\nupper_bounds = [300e-6,50e-6,0.2,0.2, 2, 10] #, 100\\nbounds = (lower_bounds, upper_bounds)\\n\\nn_dim = 6 # changing 6 parameters\\n\\noptions = {\\'c1\\': 0.5,      # Cognitive parameter (influence of personal best)\\n    \\'c2\\': 0.3,      # Social parameter (influence of global best)\\n    \\'w\\': 0.9,       # Inertia parameter (how much particles retain velocity)\\n    }\\n\\noptimizer = ps.single.GlobalBestPSO(n_particles=5, dimensions=n_dim, options=options, bounds=bounds)\\n\\nbest_cost, best_params = optimizer.optimize(wrapped_diff_function, iters=2)\\n\\nprint(initial_params)\\nprint(\"Optimized Parameters:\", best_params)\\nprint(\"Best Cost:\", best_cost)\\n\\n'"
      ]
     },
     "execution_count": 8,
     "metadata": {},
     "output_type": "execute_result"
    }
   ],
   "source": [
    "'''\n",
    "\n",
    "lower_bounds = [50e-6,5e-6,0.01,0.01, 40e-3, 0] #, -100\n",
    "upper_bounds = [300e-6,50e-6,0.2,0.2, 2, 10] #, 100\n",
    "bounds = (lower_bounds, upper_bounds)\n",
    "\n",
    "n_dim = 6 # changing 6 parameters\n",
    "\n",
    "options = {'c1': 0.5,      # Cognitive parameter (influence of personal best)\n",
    "    'c2': 0.3,      # Social parameter (influence of global best)\n",
    "    'w': 0.9,       # Inertia parameter (how much particles retain velocity)\n",
    "    }\n",
    "\n",
    "optimizer = ps.single.GlobalBestPSO(n_particles=5, dimensions=n_dim, options=options, bounds=bounds)\n",
    "\n",
    "best_cost, best_params = optimizer.optimize(wrapped_diff_function, iters=2)\n",
    "\n",
    "print(initial_params)\n",
    "print(\"Optimized Parameters:\", best_params)\n",
    "print(\"Best Cost:\", best_cost)\n",
    "\n",
    "'''"
   ]
  },
  {
   "cell_type": "markdown",
   "metadata": {},
   "source": [
    "Udating parameters based on the \"best parameters\" from \"best cost\""
   ]
  },
  {
   "cell_type": "code",
   "execution_count": 9,
   "metadata": {},
   "outputs": [
    {
     "data": {
      "text/plain": [
       "'\\nparams.update(\\n    { \\'Negative electrode thickness [m]\\': best_params[0],\\n      #\\'Negative electrode Bruggeman coefficient (electrolyte)\\': opt_params[1],\\n      #\\'Positive electrode Bruggeman coefficient (electrolyte)\\': opt_params[1],\\n      #\\'Separator Bruggeman coefficient (electrolyte)\\': opt_params[1], \\n      #\\'Nominal cell capacity [A.h]\\': opt_params[2], \\n      \\'Separator thickness [m]\\': best_params[1], \\n      \\'Negative electrode double-layer capacity [F.m-2]\\': best_params[2], \\n      \\'Positive electrode double-layer capacity [F.m-2]\\': best_params[3],\\n      \\'Electrode width [m]\\': best_params[4], \\n      \"Positive electrode reference exchange-current density [A.m-2]\": best_params[5]\\n      \\n     \\n     }\\n    )\\n\\n'"
      ]
     },
     "execution_count": 9,
     "metadata": {},
     "output_type": "execute_result"
    }
   ],
   "source": [
    "'''\n",
    "params.update(\n",
    "    { 'Negative electrode thickness [m]': best_params[0],\n",
    "      #'Negative electrode Bruggeman coefficient (electrolyte)': opt_params[1],\n",
    "      #'Positive electrode Bruggeman coefficient (electrolyte)': opt_params[1],\n",
    "      #'Separator Bruggeman coefficient (electrolyte)': opt_params[1], \n",
    "      #'Nominal cell capacity [A.h]': opt_params[2], \n",
    "      'Separator thickness [m]': best_params[1], \n",
    "      'Negative electrode double-layer capacity [F.m-2]': best_params[2], \n",
    "      'Positive electrode double-layer capacity [F.m-2]': best_params[3],\n",
    "      'Electrode width [m]': best_params[4], \n",
    "      \"Positive electrode reference exchange-current density [A.m-2]\": best_params[5]\n",
    "      \n",
    "     \n",
    "     }\n",
    "    )\n",
    "\n",
    "'''"
   ]
  },
  {
   "cell_type": "markdown",
   "metadata": {},
   "source": [
    "HUGE change in functions"
   ]
  },
  {
   "cell_type": "markdown",
   "metadata": {},
   "source": [
    "Exchange current densities"
   ]
  },
  {
   "cell_type": "code",
   "execution_count": 27,
   "metadata": {},
   "outputs": [],
   "source": [
    "\n",
    "def nmc_LGM50_electrolyte_exchange_current_density_Chen2020(c_e, c_s_surf, c_s_max, T):\n",
    "    m_ref = 3.42e-6  # (A/m2)(m3/mol)**1.5 - includes ref concentrations\n",
    "    E_r = 17800\n",
    "    arrhenius = np.exp(E_r / pybamm.constants.R * (1 / 298.15 - 1 / T))\n",
    "\n",
    "    return (m_ref * arrhenius * c_e**0.5 * c_s_surf**0.5 * (c_s_max - c_s_surf) ** 0.5)*1e3 #Multiplying by 1000\n",
    "\n",
    "\n",
    "\n",
    "def graphite_LGM50_electrolyte_exchange_current_density_Chen2020(\n",
    "    c_e, c_s_surf, c_s_max, T\n",
    "):\n",
    "    m_ref = 6.48e-7  # (A/m2)(m3/mol)**1.5 - includes ref concentrations\n",
    "    E_r = 35000\n",
    "    arrhenius = np.exp(E_r / pybamm.constants.R * (1 / 298.15 - 1 / T))\n",
    "\n",
    "    return (m_ref * arrhenius * c_e**0.5 * c_s_surf**0.5 * (c_s_max - c_s_surf) ** 0.5)*1e3 #Multiplying by 1000\n",
    "\n",
    "params.update(\n",
    "    {\n",
    "        \"Positive electrode exchange-current density [A.m-2]\": nmc_LGM50_electrolyte_exchange_current_density_Chen2020,\n",
    "        \"Negative electrode exchange-current density [A.m-2]\": graphite_LGM50_electrolyte_exchange_current_density_Chen2020, \n",
    "    },\n",
    "    check_already_exists=False,\n",
    ")\n",
    "\n"
   ]
  },
  {
   "cell_type": "markdown",
   "metadata": {},
   "source": [
    "ELectrolyte conductivity - increase -> decrease semicircle height"
   ]
  },
  {
   "cell_type": "code",
   "execution_count": 28,
   "metadata": {},
   "outputs": [],
   "source": [
    "def electrolyte_conductivity_Nyman2008(c_e, T):\n",
    "    \n",
    "    sigma_e = (\n",
    "        0.1297 * (c_e / 1000) ** 3 - 2.51 * (c_e / 1000) ** 1.5 + 3.329 * (c_e / 1000)\n",
    "    )\n",
    "\n",
    "    # Nyman et al. (2008) does not provide temperature dependence\n",
    "\n",
    "    return (sigma_e)\n",
    "\n",
    "params.update(\n",
    "    {\n",
    "        \"Electrolyte conductivity [S.m-1]\": electrolyte_conductivity_Nyman2008,\n",
    "    },\n",
    "    check_already_exists=False,\n",
    "\n",
    ")"
   ]
  },
  {
   "cell_type": "markdown",
   "metadata": {},
   "source": [
    "ELectrolyte diffusivity - increase -> decrease semicircle width "
   ]
  },
  {
   "cell_type": "code",
   "execution_count": 29,
   "metadata": {},
   "outputs": [],
   "source": [
    "def electrolyte_diffusivity_Nyman2008(c_e, T):\n",
    "    D_c_e = 8.794e-11 * (c_e / 1000) ** 2 - 3.972e-10 * (c_e / 1000) + 4.862e-10\n",
    "\n",
    "    # Nyman et al. (2008) does not provide temperature dependence\n",
    "\n",
    "    return (D_c_e)\n",
    "\n",
    "params.update(\n",
    "    {\n",
    "        \"Electrolyte diffusivity [m2.s-1]\": electrolyte_diffusivity_Nyman2008, \n",
    "    },\n",
    "    check_already_exists=False,\n",
    "\n",
    ")"
   ]
  },
  {
   "cell_type": "code",
   "execution_count": 30,
   "metadata": {},
   "outputs": [
    {
     "data": {
      "image/png": "[encoded data removed]",
      "text/plain": [
       "<Figure size 400x400 with 1 Axes>"
      ]
     },
     "metadata": {},
     "output_type": "display_data"
    },
    {
     "name": "stdout",
     "output_type": "stream",
     "text": [
      "[[3376.34946456 3376.34946456 3376.34946456 ... 3376.34946456\n",
      "  3376.34946456 3376.34946456]\n",
      " [3376.34946456 3376.34946456 3376.34946456 ... 3376.34946456\n",
      "  3376.34946456 3376.34946456]\n",
      " [3376.34946456 3376.34946456 3376.34946456 ... 3376.34946456\n",
      "  3376.34946456 3376.34946456]\n",
      " ...\n",
      " [3376.34946456 3376.34946456 3376.34946456 ... 3376.34946456\n",
      "  3376.34946456 3376.34946456]\n",
      " [3376.34946456 3376.34946456 3376.34946456 ... 3376.34946456\n",
      "  3376.34946456 3376.34946456]\n",
      " [3376.34946456 3376.34946456 3376.34946456 ... 3376.34946456\n",
      "  3376.34946456 3376.34946456]]\n"
     ]
    },
    {
     "data": {
      "text/plain": [
       "<Figure size 640x480 with 0 Axes>"
      ]
     },
     "metadata": {},
     "output_type": "display_data"
    },
    {
     "data": {
      "application/vnd.jupyter.widget-view+json": {
       "model_id": "09386a06b5f245329629b51f2d6bc6f0",
       "version_major": 2,
       "version_minor": 0
      },
      "text/plain": [
       "interactive(children=(FloatSlider(value=0.0, description='t', max=120.0, step=1.2), Output()), _dom_classes=('…"
      ]
     },
     "metadata": {},
     "output_type": "display_data"
    },
    {
     "data": {
      "text/plain": [
       "<pybamm.plotting.quick_plot.QuickPlot at 0x13375b550>"
      ]
     },
     "execution_count": 30,
     "metadata": {},
     "output_type": "execute_result"
    }
   ],
   "source": [
    "model = pybamm.lithium_ion.DFN()\n",
    "#options={\"surface form\": \"differential\"}\n",
    "\n",
    "# Create simulation\n",
    "eis_sim = pybammeis.EISSimulation(model, parameter_values=params)\n",
    "\n",
    "sim_f = eis_sim.solve(frequencies, method = \"prebicgstab\")\n",
    "\n",
    "# Plotting the simulation (from frequency domain)\n",
    "fig, ax = plt.subplots(figsize=(4, 4)) \n",
    "pybammeis.nyquist_plot(sim_f, ax=ax, linestyle=\"-\", label=f\"Simulation\", alpha=0.7\n",
    "    )\n",
    "#ax.set_xlim(0.0475, 0.0550) \n",
    "#ax.set_ylim(0, 0.008)\n",
    "\n",
    "#plt.legend()\n",
    "plt.title('Simulation of the MJ_02 cell')\n",
    "plt.show()\n",
    "plt.clf()\n",
    "\n",
    "sim = pybamm.Simulation(model, parameter_values=params)\n",
    "t_eval = np.arange(0, 121, 1)\n",
    "sim.solve(t_eval = t_eval)\n",
    "print(sim.solution['Positive electrode exchange current density [A.m-2]'].entries)\n",
    "sim.plot([ \"Current [A]\", \"Voltage [V]\",'Positive electrode exchange current density [A.m-2]']) \n"
   ]
  },
  {
   "cell_type": "markdown",
   "metadata": {},
   "source": [
    "HUGE code "
   ]
  },
  {
   "cell_type": "code",
   "execution_count": 109,
   "metadata": {},
   "outputs": [
    {
     "name": "stderr",
     "output_type": "stream",
     "text": [
      "2024-10-11 13:57:03,063 - pyswarms.single.global_best - INFO - Optimize for 2 iters with {'c1': 0.5, 'c2': 0.3, 'w': 0.9}\n"
     ]
    },
    {
     "name": "stdout",
     "output_type": "stream",
     "text": [
      "{'Negative electrode double-layer capacity [F.m-2]': 6.02134761989294, 'Positive electrode double-layer capacity [F.m-2]': 6.02134761989294, 'Positive electrode exchange-current density [A.m-2]': 0.00012655981263986623, 'Negative electrode exchange-current density [A.m-2]': 0.00012655981263986623, 'Electrolyte conductivity [S.m-1]': 7138654.002652527, 'Negative electrode conductivity [S.m-1]': 381152.51692123554, 'Positive electrode conductivity [S.m-1]': 1142888.9583091077, 'Electrolyte diffusivity [m2.s-1]': 360642644891216.9, 'Negative particle diffusivity [m2.s-1]': 1028115714520.4261, 'Positive particle diffusivity [m2.s-1]': 9243841436422.555}\n"
     ]
    },
    {
     "name": "stderr",
     "output_type": "stream",
     "text": [
      "pyswarms.single.global_best: 100%|██████████|2/2, best_cost=0.0134\n",
      "2024-10-11 13:57:07,169 - pyswarms.single.global_best - INFO - Optimization finished | best cost: 0.013443493661533806, best pos: [1.14385342 0.76493076 0.75685402 0.67768708 0.43000437 0.62657955\n",
      " 1.00037844 0.29808744 0.50588699 1.05195403]\n"
     ]
    },
    {
     "name": "stdout",
     "output_type": "stream",
     "text": [
      "Optimized Parameters: {'Negative electrode double-layer capacity [F.m-2]': 1.1438534153341533, 'Positive electrode double-layer capacity [F.m-2]': 0.7649307599214624, 'Positive electrode exchange-current density [A.m-2]': 0.7568540215458233, 'Negative electrode exchange-current density [A.m-2]': 0.6776870755582889, 'Electrolyte conductivity [S.m-1]': 0.4300043678976333, 'Negative electrode conductivity [S.m-1]': 0.6265795540863306, 'Positive electrode conductivity [S.m-1]': 1.0003784437849954, 'Electrolyte diffusivity [m2.s-1]': 0.2980874434343925, 'Negative particle diffusivity [m2.s-1]': 0.5058869899789777, 'Positive particle diffusivity [m2.s-1]': 1.0519540301650525}\n",
      "Best Cost: 0.013443493661533806\n"
     ]
    }
   ],
   "source": [
    "# Function to convert dictionary to list\n",
    "def dict_to_list(c_elem):\n",
    "    return list(c_elem.values())\n",
    "\n",
    "# Function to convert list back to dictionary\n",
    "def list_to_dict(c_elem, optimized_values):\n",
    "    keys = list(c_elem.keys())\n",
    "    return dict(zip(keys, optimized_values))\n",
    "\n",
    "e_height = 0.059    #params['Electrode height [m]']\n",
    "e_width = 0.9033043292355315      #params['Electrode width [m]']\n",
    "e_A = e_height*e_width\n",
    "\n",
    "s_thick = 1.0598531461526225e-05 #params['Separator thickness [m]']\n",
    "anode_thick = 0.00019850124472796743 #params['Negative electrode thickness [m]']\n",
    "cathode_thick = 6.62e-05 #params['Positive electrode thickness [m]']\n",
    "\n",
    "# For small overpotentials and assuming a symmetrical charge transfer process, \n",
    "#i_0 = (R*T)/(n*F*Rct) \n",
    "#From Butler-Volmer! \n",
    "i_0  = 0.0257 * 0.004924506328399464 #from Randles circuit \n",
    "\n",
    "# Diffusivity from the Warburg coefficient A: \n",
    "# D = ((R*T)/(n*F*area*A))**2\n",
    "# D = ((8.314*298)/(1*96485*area*.002162371149615444))**2\n",
    "\n",
    "\n",
    "# parameters I want to change to optimize the graph: \n",
    "p = {\n",
    "    #Capacity - analog to Cdl/CPE in the Randles circuit \n",
    "    'Negative electrode double-layer capacity [F.m-2]': 0.320907453/e_A, #constant or function? \n",
    "    'Positive electrode double-layer capacity [F.m-2]': 0.320907453/e_A, #constant or function? \n",
    "\n",
    "    #Exchange current density - analog to Rct in the Randles circuit through the Butler-Volmer \n",
    "    #\"Positive electrode reference exchange-current density [A.m-2]\": , #do not think this is needed\n",
    "    \"Positive electrode exchange-current density [A.m-2]\": i_0, #function\n",
    "    \"Negative electrode exchange-current density [A.m-2]\": i_0, #function \n",
    "\n",
    "    #Omic resistance - analog to Rel in the Randles circuit? \n",
    "    \"Electrolyte conductivity [S.m-1]\": 1/(s_thick*0.013217154712578262), #function \n",
    "    # \n",
    "    \"Negative electrode conductivity [S.m-1]\": 1/(anode_thick*0.013217154712578262), #function \n",
    "    \"Positive electrode conductivity [S.m-1]\": 1/(cathode_thick*0.013217154712578262), #function\n",
    "\n",
    "    #Mass transfer resistance - analog to W in the Randles circuit? \n",
    "    \"Electrolyte diffusivity [m2.s-1]\": ((8.314*298)/(1*96485*e_height*s_thick*.002162371149615444))**2, #function\n",
    "    \"Negative particle diffusivity [m2.s-1]\": ((8.314*298)/(1*96485*e_height*anode_thick*.002162371149615444))**2,\n",
    "    \"Positive particle diffusivity [m2.s-1]\": ((8.314*298)/(1*96485*e_height*cathode_thick*.002162371149615444))**2  \n",
    "     }\n",
    "\n",
    "print(p)\n",
    "\n",
    "init_params = dict_to_list(p)\n",
    "\n",
    "\n",
    "def Z_sim(frequencies, upt_par):\n",
    "  model = pybamm.lithium_ion.DFN(options={\"surface form\": \"differential\"})\n",
    "  params.update(\n",
    "    {'Negative electrode double-layer capacity [F.m-2]': upt_par[0], \n",
    "     'Positive electrode double-layer capacity [F.m-2]': upt_par[1], \n",
    "\n",
    "     \"Positive electrode exchange-current density [A.m-2]\": upt_par[2], \n",
    "     \"Negative electrode exchange-current density [A.m-2]\": upt_par[3], \n",
    "\n",
    "     \"Electrolyte conductivity [S.m-1]\": upt_par[4], \n",
    "     \"Negative electrode conductivity [S.m-1]\": upt_par[5], \n",
    "     \"Positive electrode conductivity [S.m-1]\": upt_par[6], \n",
    "\n",
    "     \"Electrolyte diffusivity [m2.s-1]\": upt_par[7],\n",
    "     \"Negative particle diffusivity [m2.s-1]\": upt_par[8], \n",
    "     \"Positive particle diffusivity [m2.s-1]\": upt_par[9]\n",
    "     })\n",
    "  eis_sim = pybammeis.EISSimulation(model, parameter_values=params)\n",
    "  z_sim = eis_sim.solve(frequencies, method = \"prebicgstab\")\n",
    "  return z_sim \n",
    "\n",
    "\n",
    "real_exp = np.array(df_real)\n",
    "imag_exp = np.array(df_imag)\n",
    "\n",
    "def diff_function(upt_par, frequencies, real_exp, imag_exp): \n",
    "  imp_sim = Z_sim(frequencies, upt_par)\n",
    "  real_sim = np.real(imp_sim)\n",
    "  imag_sim = np.imag(imp_sim)\n",
    "\n",
    "  real_diff = real_sim - real_exp \n",
    "  imag_diff = imag_sim - imag_exp \n",
    "\n",
    "  #the total sum of squared differences (magnitude, absolute value, of the complex differences)\n",
    "  sum_square_diff = np.sum(real_diff**2 + imag_diff**2)\n",
    "  return sum_square_diff\n",
    "\n",
    "#diff_function(initial_params, frequencies, real_exp, imag_exp)\n",
    "\n",
    "# to pass the additional arguments\n",
    "# args = (frequencies, real_exp, imag_exp)\n",
    "def wrapped_diff_function(upt_par):\n",
    "  return np.array([diff_function(par, frequencies, real_exp, imag_exp) for par in upt_par])\n",
    "\n",
    "#lower_bounds = [50e-6,5e-6,0.01,0.01, 40e-3, 0] #, -100\n",
    "#upper_bounds = [300e-6,50e-6,0.2,0.2, 2, 10] #, 100\n",
    "#bounds = (lower_bounds, upper_bounds)\n",
    "\n",
    "n_dim = 10 # changing 10 parameters\n",
    "\n",
    "options = {'c1': 0.5,      # Cognitive parameter (influence of personal best)\n",
    "    'c2': 0.3,      # Social parameter (influence of global best)\n",
    "    'w': 0.9,       # Inertia parameter (how much particles retain velocity)\n",
    "    }\n",
    "\n",
    "optimizer = ps.single.GlobalBestPSO(n_particles=2, dimensions=n_dim, options=options)  #, bounds=bounds)\n",
    "\n",
    "best_cost, best_params = optimizer.optimize(wrapped_diff_function, iters=2)\n",
    "\n",
    "dic_best_params = list_to_dict(p, best_params)\n",
    "print(\"Optimized Parameters:\", dic_best_params)\n",
    "print(\"Best Cost:\", best_cost)\n"
   ]
  },
  {
   "cell_type": "markdown",
   "metadata": {},
   "source": [
    "The general model "
   ]
  },
  {
   "cell_type": "code",
   "execution_count": 110,
   "metadata": {},
   "outputs": [],
   "source": [
    "model = pybamm.lithium_ion.DFN(options={\"surface form\": \"differential\"})\n",
    "#options={\"surface form\": \"differential\"}\n",
    "\n",
    "# Create simulation\n",
    "eis_sim = pybammeis.EISSimulation(model, parameter_values=params)\n",
    "\n",
    "#model.print_parameter_info()\n",
    "#params.search('thickness')\n"
   ]
  },
  {
   "cell_type": "markdown",
   "metadata": {},
   "source": [
    "Model solved in the frequency domain (with prebicgstab method)"
   ]
  },
  {
   "cell_type": "code",
   "execution_count": 111,
   "metadata": {},
   "outputs": [
    {
     "data": {
      "image/png": "[encoded data removed]",
      "text/plain": [
       "<Figure size 400x400 with 1 Axes>"
      ]
     },
     "metadata": {},
     "output_type": "display_data"
    }
   ],
   "source": [
    "sim_f = eis_sim.solve(frequencies, method = \"prebicgstab\")\n",
    "\n",
    "# Plotting the simulation (from frequency domain)\n",
    "fig, ax = plt.subplots(figsize=(4, 4)) \n",
    "pybammeis.nyquist_plot(sim_f, ax=ax, linestyle=\"-\", label=f\"Simulation\", alpha=0.7\n",
    "    )\n",
    "\n",
    "#ax.set_xlim(0.0475, 0.0550) \n",
    "#ax.set_ylim(0, 0.008)\n",
    "\n",
    "#plt.legend()\n",
    "plt.title('Simulation of the MJ_02 cell')\n",
    "plt.show() "
   ]
  },
  {
   "cell_type": "markdown",
   "metadata": {},
   "source": [
    "Model solved in the time domain (with sinus current)"
   ]
  },
  {
   "cell_type": "code",
   "execution_count": 72,
   "metadata": {},
   "outputs": [
    {
     "data": {
      "text/plain": [
       "'\\n# Time domain\\nI_app = 0.07 # 10% av output current\\nnumber_of_periods = 1 \\nsamples_per_period = 50\\n# Ser ut som man kan putte inn number of periods og samples per period også\\n# Ann_Mari snakket om at jeg bare trengte én periode og 50 samples per periode. \\n\\n\\ndef current_function(t):\\n    return I_app * pybamm.sin(2 * np.pi * pybamm.InputParameter(\"Frequency [Hz]\") * t)\\n\\n\\nparams[\"Current function [A]\"] = current_function\\n# Oppdaterer parametrene til å ha en current function!! \\n\\n\\nsim_t = pybamm.Simulation(model, parameter_values=params)\\n# Så simuleringen avhenger av modellen, parametermodellen, osv. \\n\\nimpedances_time = []\\nfor frequency in frequencies:\\n    # Solve\\n    period = 1 / frequency\\n    dt = period / samples_per_period\\n    t_eval = np.array(range(0, samples_per_period * number_of_periods)) * dt\\n    sol = sim_t.solve(t_eval, inputs={\"Frequency [Hz]\": frequency})\\n    # Extract final two periods of the solution\\n    time = sol[\"Time [s]\"].entries[-5 * samples_per_period :]\\n    current = sol[\"Current [A]\"].entries[-5 * samples_per_period :]\\n    voltage = sol[\"Voltage [V]\"].entries[-5 * samples_per_period :]\\n    # Vet ikke hvorfor man starter listene så langt bak? \\n    # FFT - Fourier transform av current og voltage! \\n    current_fft = fft(current)\\n    voltage_fft = fft(voltage)\\n    # Get index of first harmonic - the fundamental frequency itself (representing the primary sine wave)\\n    # Higher harmonics are multiples of this base frequency and contribute to the overall wave shape. \\n    # Since they only find the first harmonic - are they assuming that the response is pseudo-linear? \\n    idx = np.argmax(np.abs(current_fft))\\n    impedance = -voltage_fft[idx] / current_fft[idx]\\n    impedances_time.append(impedance)\\n\\n\\n# Plotting the simulation (from the time domain)\\nfig, ax = plt.subplots(figsize=(4, 4)) \\npybammeis.nyquist_plot(impedances_time, ax=ax, linestyle=\"-\", label=f\"Simulation\", alpha=0.7\\n    )\\n#ax.set_xlim(0.0475, 0.0550) \\n#ax.set_ylim(0, 0.008)\\n\\n#plt.legend()\\nplt.title(\\'Simulation of the MJ_02 cell\\')\\nplt.show() \\n\\n'"
      ]
     },
     "execution_count": 72,
     "metadata": {},
     "output_type": "execute_result"
    }
   ],
   "source": [
    "'''\n",
    "# Time domain\n",
    "I_app = 0.07 # 10% av output current\n",
    "number_of_periods = 1 \n",
    "samples_per_period = 50\n",
    "# Ser ut som man kan putte inn number of periods og samples per period også\n",
    "# Ann_Mari snakket om at jeg bare trengte én periode og 50 samples per periode. \n",
    "\n",
    "\n",
    "def current_function(t):\n",
    "    return I_app * pybamm.sin(2 * np.pi * pybamm.InputParameter(\"Frequency [Hz]\") * t)\n",
    "\n",
    "\n",
    "params[\"Current function [A]\"] = current_function\n",
    "# Oppdaterer parametrene til å ha en current function!! \n",
    "\n",
    "\n",
    "sim_t = pybamm.Simulation(model, parameter_values=params)\n",
    "# Så simuleringen avhenger av modellen, parametermodellen, osv. \n",
    "\n",
    "impedances_time = []\n",
    "for frequency in frequencies:\n",
    "    # Solve\n",
    "    period = 1 / frequency\n",
    "    dt = period / samples_per_period\n",
    "    t_eval = np.array(range(0, samples_per_period * number_of_periods)) * dt\n",
    "    sol = sim_t.solve(t_eval, inputs={\"Frequency [Hz]\": frequency})\n",
    "    # Extract final two periods of the solution\n",
    "    time = sol[\"Time [s]\"].entries[-5 * samples_per_period :]\n",
    "    current = sol[\"Current [A]\"].entries[-5 * samples_per_period :]\n",
    "    voltage = sol[\"Voltage [V]\"].entries[-5 * samples_per_period :]\n",
    "    # Vet ikke hvorfor man starter listene så langt bak? \n",
    "    # FFT - Fourier transform av current og voltage! \n",
    "    current_fft = fft(current)\n",
    "    voltage_fft = fft(voltage)\n",
    "    # Get index of first harmonic - the fundamental frequency itself (representing the primary sine wave)\n",
    "    # Higher harmonics are multiples of this base frequency and contribute to the overall wave shape. \n",
    "    # Since they only find the first harmonic - are they assuming that the response is pseudo-linear? \n",
    "    idx = np.argmax(np.abs(current_fft))\n",
    "    impedance = -voltage_fft[idx] / current_fft[idx]\n",
    "    impedances_time.append(impedance)\n",
    "\n",
    "\n",
    "# Plotting the simulation (from the time domain)\n",
    "fig, ax = plt.subplots(figsize=(4, 4)) \n",
    "pybammeis.nyquist_plot(impedances_time, ax=ax, linestyle=\"-\", label=f\"Simulation\", alpha=0.7\n",
    "    )\n",
    "#ax.set_xlim(0.0475, 0.0550) \n",
    "#ax.set_ylim(0, 0.008)\n",
    "\n",
    "#plt.legend()\n",
    "plt.title('Simulation of the MJ_02 cell')\n",
    "plt.show() \n",
    "\n",
    "'''"
   ]
  },
  {
   "cell_type": "markdown",
   "metadata": {},
   "source": [
    "Optimization of ECM parameters"
   ]
  },
  {
   "cell_type": "code",
   "execution_count": 58,
   "metadata": {},
   "outputs": [],
   "source": [
    "# Randles components parameters \n",
    "c_elem = {\n",
    "    \"R_el1\": 0.013217154712578262,  # Electrolyte resistance (Ohms)\n",
    "    \"R_ct1\": 0.004924506328399464,  # Charge transfer resistance (Ohms)\n",
    "    \"C_dl1\": 0.320907453,  # Double layer capacitance (Farads)\n",
    "    \"Q1\" : 0.6392422479332148, \n",
    "    \"alpha1\": 0.7466, \n",
    "    \"A1\": 0.002162371149615444,     # Warburg coefficient\n",
    "    \"a_w1\": 0.5854586714053394, \n",
    "    \"L1\": 2.510395438687557e-07,      # Inductance (H)\n",
    "\n",
    "    #\"R_el2\": 0.013217157765118502,  # Electrolyte resistance (Ohms)\n",
    "    \"R_ct2\": 0.004642735798131991,  # Charge transfer resistance (Ohms)\n",
    "    \"C_dl2\": 0.320907453,  # Double layer capacitance (Farads)\n",
    "    \"Q2\" : 2.311905447504065, \n",
    "    \"alpha2\": 0.7679316361779691, \n",
    "    \"A2\": 0.027250693541684783,     # Warburg coefficient\n",
    "    \"a_w2\": 0.74, \n",
    "    #\"L2\": 2.586983862659044e-07      # Inductance (H)\n",
    "    }\n",
    "\n",
    "\n",
    "# Function to convert dictionary to list\n",
    "def dict_to_list(c_elem):\n",
    "    return list(c_elem.values())\n",
    "\n",
    "# Function to convert list back to dictionary\n",
    "def list_to_dict(c_elem, optimized_values):\n",
    "    keys = list(c_elem.keys())\n",
    "    return dict(zip(keys, optimized_values))\n"
   ]
  },
  {
   "cell_type": "code",
   "execution_count": 108,
   "metadata": {},
   "outputs": [
    {
     "name": "stderr",
     "output_type": "stream",
     "text": [
      "  NIT   NF   F                       GTG\n",
      "    0    1  8.563003766407173E-03   4.98567152E+02\n",
      "tnc: fscale = 0.0447827\n",
      "    1    5  9.152915558378307E-04   4.22325285E+04\n",
      "    2   10  8.409696550426754E-06   3.81241176E+02\n",
      "    3   13  3.042985862922541E-06   1.31172106E-01\n",
      "tnc: fscale = 2.76108\n",
      "    4   18  2.919013976558032E-06   8.11967793E-05\n",
      "tnc: fscale = 110.755\n",
      "    5   23  2.799913216041875E-06   1.03929019E-05\n",
      "    6   33  1.603146988420115E-06   3.72232411E+01\n",
      "tnc: fscale = 0.163905\n",
      "    7   38  7.857849580697622E-07   1.23065261E-04\n",
      "tnc: fscale = 90.0354\n",
      "    8   42  5.937817002884114E-07   1.06362669E-01\n",
      "tnc: fscale = 3.06623\n",
      "    9   47  5.296111101558269E-07   8.14995864E-06\n",
      "tnc: fscale = 349.312\n",
      "   10   52  5.012757195922481E-07   3.25908051E-06\n",
      "   11   63  3.556353049222090E-07   3.45889205E+00\n",
      "tnc: fscale = 0.537689\n",
      "   12   66  3.440061987411590E-07   1.73746892E-07\n",
      "tnc: fscale = 2387.95\n",
      "   13   70  3.436443348567455E-07   3.71912511E-07\n",
      "   14   83  3.380038340336742E-07   5.64272583E-02\n",
      "tnc: fscale = 4.20974\n"
     ]
    },
    {
     "name": "stdout",
     "output_type": "stream",
     "text": [
      "Optimized elements: {'R_el1': 0.02561912656748693, 'R_ct1': 0.006543926615781308, 'C_dl1': 0.320907453, 'Q1': 0.6920487403366685, 'alpha1': 0.6881169820273445, 'A1': 0.0021905933984162, 'a_w1': 0.5812017226479287, 'L1': 5.687701770759169e-07, 'R_el2': 0.013217157765118502, 'R_ct2': 0.0038054340179806776, 'C_dl2': 0.320907453, 'Q2': 2.244686345855346, 'alpha2': 0.8144220455565511, 'A2': 0.027250693541684783, 'a_w2': 0.74, 'L2': 2.586983862659044e-07}\n",
      "Final sum of squared difference: 3.322978484659566e-07\n"
     ]
    },
    {
     "name": "stderr",
     "output_type": "stream",
     "text": [
      "   15   88  3.348765595382364E-07   1.60672449E-07\n",
      "tnc: fscale = 2479.32\n",
      "   16   94  3.334463931773502E-07   8.93165150E-05\n",
      "tnc: fscale = 105.809\n",
      "   17   99  3.323353229800025E-07   6.87319522E-08\n",
      "tnc: fscale = 3794\n",
      "tnc: |fn-fn-1] = 3.74745e-11 -> convergence\n",
      "   18  110  3.322978484659566E-07   6.97598306E-04\n",
      "tnc: Converged (|f_n-f_(n-1)| ~= 0)\n"
     ]
    }
   ],
   "source": [
    "\n",
    "# Angular frequencies\n",
    "ang_freq = 2*np.pi*frequencies\n",
    "\n",
    "# Define Warburg impedance\n",
    "def w_imp(omega, A):\n",
    "    return A / np.sqrt(1j*omega)\n",
    "\n",
    "def wni_imp(omega, A, a_w): # Non-Ideal \n",
    "    return A /(1j * omega)** a_w\n",
    "\n",
    "# Define Capacitance impedance\n",
    "def c_imp(omega, C): \n",
    "    return 1/(1j*omega*C)\n",
    "\n",
    "# CPE for non-ideal behaviour\n",
    "def cpe_imp(omega, Q, alpha): \n",
    "    return 1/(Q*(1j*omega)**alpha)\n",
    "\n",
    "# Define Inductance impedance\n",
    "def i_imp(omega, L): \n",
    "    return 1j*omega*L\n",
    "\n",
    "# function for difference between the ECM model and the experimental values\n",
    "def diff_func(comp, exp_real, exp_imag): \n",
    "\n",
    "    # Update c_elem dictionary from the flat parameter list (comp)\n",
    "    c_elem_up = list_to_dict(c_elem, comp)\n",
    "\n",
    "    Z_W1 = wni_imp(ang_freq, c_elem_up[\"A1\"], c_elem_up[\"a_w1\"])\n",
    "    Z_cdl1 = cpe_imp(ang_freq, c_elem_up[\"Q1\"], c_elem_up[\"alpha1\"])\n",
    "    Z_L1 = i_imp(ang_freq, c_elem_up[\"L1\"])\n",
    "\n",
    "    Z_W2 = wni_imp(ang_freq, c_elem_up[\"A2\"], c_elem_up[\"a_w2\"])\n",
    "    Z_cdl2 = cpe_imp(ang_freq, c_elem_up[\"Q2\"], c_elem_up[\"alpha2\"])\n",
    "    Z_L2 = i_imp(ang_freq, c_elem_up[\"L2\"])\n",
    "\n",
    "    Z1 = Z_L1 + c_elem_up[\"R_el1\"] + 1/(1/(c_elem_up[\"R_ct1\"] + Z_W1) + 1/Z_cdl1)\n",
    "    #Z2 = Z_L2 + c_elem_up[\"R_el2\"] + 1/(1/(c_elem_up[\"R_ct2\"]) + 1/Z_cdl2)\n",
    "    Z2 =  1/(1/(c_elem_up[\"R_ct2\"]) + 1/Z_cdl2)\n",
    "    Z = Z1 + Z2\n",
    "\n",
    "    diff_real = Z.real - exp_real \n",
    "    diff_imag = Z.imag - exp_imag \n",
    "    sum_square_diff = np.sum(diff_real**2 + diff_imag**2)\n",
    "    return sum_square_diff\n",
    "\n",
    "# Convert initial dictionary to list for optimization\n",
    "initial_elems = dict_to_list(c_elem)\n",
    "\n",
    "options = {\n",
    "    'maxiter': 10000,    # Maximum number of iterations\n",
    "    'ftol': 1e-10,       # Function value tolerance\n",
    "    'disp': True         # Display convergence messages\n",
    "}\n",
    "\n",
    "# Minimize the difference function (optimize parameters)\n",
    "opt = minimize(diff_func, initial_elems, args=(df_real, df_imag), method='TNC', options=options)\n",
    "\n",
    "# Convert the optimized list back to dictionary\n",
    "opt_elems = list_to_dict(c_elem, opt.x)\n",
    "\n",
    "# Print the optimized elements\n",
    "print(\"Optimized elements:\", opt_elems)\n",
    "\n",
    "# Print the difference after optimization\n",
    "print(\"Final sum of squared difference:\", diff_func(opt.x, df_real, df_imag))\n"
   ]
  },
  {
   "cell_type": "code",
   "execution_count": 106,
   "metadata": {},
   "outputs": [
    {
     "data": {
      "image/png": "[encoded data removed]",
      "text/plain": [
       "<Figure size 640x480 with 1 Axes>"
      ]
     },
     "metadata": {},
     "output_type": "display_data"
    }
   ],
   "source": [
    "Z_W1 = wni_imp(ang_freq, opt_elems[\"A1\"], opt_elems[\"a_w1\"])\n",
    "Z_cdl1 = cpe_imp(ang_freq, opt_elems[\"Q1\"], opt_elems[\"alpha1\"])\n",
    "Z_L1 = i_imp(ang_freq, opt_elems[\"L1\"])\n",
    "\n",
    "Z_W2 = wni_imp(ang_freq, opt_elems[\"A2\"], opt_elems[\"a_w2\"])\n",
    "Z_cdl2 = cpe_imp(ang_freq, opt_elems[\"Q2\"], opt_elems[\"alpha2\"])\n",
    "Z_L2 = i_imp(ang_freq, opt_elems[\"L2\"])\n",
    "\n",
    "# Impedance from the Randles circuit \n",
    "def Z_randles(): \n",
    "    Z1 = Z_L1 + opt_elems[\"R_el1\"] + 1/(1/(opt_elems[\"R_ct1\"] + Z_W1) + 1/Z_cdl1)\n",
    "    #Z2 = Z_L2 + opt_elems[\"R_el2\"] + 1/(1/(opt_elems[\"R_ct2\"]) + 1/Z_cdl2)\n",
    "    Z2 =  1/(1/(opt_elems[\"R_ct2\"]) + 1/Z_cdl2)\n",
    "    Z = Z1 + Z2\n",
    "    return Z  \n",
    "\n",
    "plt.plot(Z_randles().real, -Z_randles().imag)\n",
    "plt.show()"
   ]
  },
  {
   "cell_type": "markdown",
   "metadata": {},
   "source": [
    "Comparing the experimental and the simulated EIS\n",
    "\n",
    "(and also the ECM model)"
   ]
  },
  {
   "cell_type": "code",
   "execution_count": 107,
   "metadata": {},
   "outputs": [
    {
     "data": {
      "image/png": "[encoded data removed]",
      "text/plain": [
       "<Figure size 1000x1000 with 1 Axes>"
      ]
     },
     "metadata": {},
     "output_type": "display_data"
    },
    {
     "name": "stdout",
     "output_type": "stream",
     "text": [
      "┌───────────────────────────────────────────────────────────┬─────────────────────────────────────────────────────────────────────────────────────────────────────────────────────────────────────────────────────────────────────────────────────────────────────────────┐\n",
      "│ Parameter                                                 │ Type of parameter                                                                                                                                                                                           │\n",
      "├───────────────────────────────────────────────────────────┼─────────────────────────────────────────────────────────────────────────────────────────────────────────────────────────────────────────────────────────────────────────────────────────────────────────────┤\n",
      "│ Positive electrode thickness [m]                          │ Parameter                                                                                                                                                                                                   │\n",
      "│ Number of electrodes connected in parallel to make a cell │ Parameter                                                                                                                                                                                                   │\n",
      "│ Initial concentration in electrolyte [mol.m-3]            │ Parameter                                                                                                                                                                                                   │\n",
      "│ Negative electrode thickness [m]                          │ Parameter                                                                                                                                                                                                   │\n",
      "│ Upper voltage cut-off [V]                                 │ Parameter                                                                                                                                                                                                   │\n",
      "│ Faraday constant [C.mol-1]                                │ Parameter                                                                                                                                                                                                   │\n",
      "│ Separator Bruggeman coefficient (electrolyte)             │ Parameter                                                                                                                                                                                                   │\n",
      "│ Nominal cell capacity [A.h]                               │ Parameter                                                                                                                                                                                                   │\n",
      "│ Electrode width [m]                                       │ Parameter                                                                                                                                                                                                   │\n",
      "│ Maximum concentration in positive electrode [mol.m-3]     │ Parameter                                                                                                                                                                                                   │\n",
      "│ Initial temperature [K]                                   │ Parameter                                                                                                                                                                                                   │\n",
      "│ Positive electrode Bruggeman coefficient (electrolyte)    │ Parameter                                                                                                                                                                                                   │\n",
      "│ Negative electrode Bruggeman coefficient (electrode)      │ Parameter                                                                                                                                                                                                   │\n",
      "│ Electrode height [m]                                      │ Parameter                                                                                                                                                                                                   │\n",
      "│ Lower voltage cut-off [V]                                 │ Parameter                                                                                                                                                                                                   │\n",
      "│ Maximum concentration in negative electrode [mol.m-3]     │ Parameter                                                                                                                                                                                                   │\n",
      "│ Separator thickness [m]                                   │ Parameter                                                                                                                                                                                                   │\n",
      "│ Reference temperature [K]                                 │ Parameter                                                                                                                                                                                                   │\n",
      "│ Ideal gas constant [J.K-1.mol-1]                          │ Parameter                                                                                                                                                                                                   │\n",
      "│ Positive electrode Bruggeman coefficient (electrode)      │ Parameter                                                                                                                                                                                                   │\n",
      "│ Number of cells connected in series to make a battery     │ Parameter                                                                                                                                                                                                   │\n",
      "│ Negative electrode Bruggeman coefficient (electrolyte)    │ Parameter                                                                                                                                                                                                   │\n",
      "│ Thermodynamic factor                                      │ FunctionParameter with inputs(s) 'Electrolyte concentration [mol.m-3]', 'Temperature [K]'                                                                                                                   │\n",
      "│ Negative particle radius [m]                              │ FunctionParameter with inputs(s) 'Through-cell distance (x) [m]'                                                                                                                                            │\n",
      "│ Positive electrode active material volume fraction        │ FunctionParameter with inputs(s) 'Through-cell distance (x) [m]'                                                                                                                                            │\n",
      "│ Separator porosity                                        │ FunctionParameter with inputs(s) 'Through-cell distance (x) [m]'                                                                                                                                            │\n",
      "│ Positive electrode OCP entropic change [V.K-1]            │ FunctionParameter with inputs(s) 'Positive particle stoichiometry', 'Maximum positive particle surface concentration [mol.m-3]'                                                                             │\n",
      "│ Negative electrode active material volume fraction        │ FunctionParameter with inputs(s) 'Through-cell distance (x) [m]'                                                                                                                                            │\n",
      "│ Initial concentration in negative electrode [mol.m-3]     │ FunctionParameter with inputs(s) 'Radial distance (r) [m]', 'Through-cell distance (x) [m]'                                                                                                                 │\n",
      "│ Positive electrode OCP [V]                                │ FunctionParameter with inputs(s) 'Positive particle stoichiometry'                                                                                                                                          │\n",
      "│ Positive electrode double-layer capacity [F.m-2]          │ FunctionParameter with inputs(s) 'Temperature [K]'                                                                                                                                                          │\n",
      "│ Cation transference number                                │ FunctionParameter with inputs(s) 'Electrolyte concentration [mol.m-3]', 'Temperature [K]'                                                                                                                   │\n",
      "│ Ambient temperature [K]                                   │ FunctionParameter with inputs(s) 'Distance across electrode width [m]', 'Distance across electrode height [m]', 'Time [s]'                                                                                  │\n",
      "│ Negative electrode porosity                               │ FunctionParameter with inputs(s) 'Through-cell distance (x) [m]'                                                                                                                                            │\n",
      "│ Negative electrode OCP [V]                                │ FunctionParameter with inputs(s) 'Negative particle stoichiometry'                                                                                                                                          │\n",
      "│ Negative electrode OCP entropic change [V.K-1]            │ FunctionParameter with inputs(s) 'Negative particle stoichiometry', 'Maximum negative particle surface concentration [mol.m-3]'                                                                             │\n",
      "│ Positive particle radius [m]                              │ FunctionParameter with inputs(s) 'Through-cell distance (x) [m]'                                                                                                                                            │\n",
      "│ Negative electrode exchange-current density [A.m-2]       │ FunctionParameter with inputs(s) 'Electrolyte concentration [mol.m-3]', 'Negative particle surface concentration [mol.m-3]', 'Maximum negative particle surface concentration [mol.m-3]', 'Temperature [K]' │\n",
      "│ Positive electrode exchange-current density [A.m-2]       │ FunctionParameter with inputs(s) 'Electrolyte concentration [mol.m-3]', 'Positive particle surface concentration [mol.m-3]', 'Maximum positive particle surface concentration [mol.m-3]', 'Temperature [K]' │\n",
      "│ Positive electrode conductivity [S.m-1]                   │ FunctionParameter with inputs(s) 'Temperature [K]'                                                                                                                                                          │\n",
      "│ Current function [A]                                      │ FunctionParameter with inputs(s) 'Time [s]'                                                                                                                                                                 │\n",
      "│ Negative particle diffusivity [m2.s-1]                    │ FunctionParameter with inputs(s) 'Negative particle stoichiometry', 'Temperature [K]'                                                                                                                       │\n",
      "│ Positive electrode porosity                               │ FunctionParameter with inputs(s) 'Through-cell distance (x) [m]'                                                                                                                                            │\n",
      "│ Electrolyte conductivity [S.m-1]                          │ FunctionParameter with inputs(s) 'Electrolyte concentration [mol.m-3]', 'Temperature [K]'                                                                                                                   │\n",
      "│ Initial concentration in positive electrode [mol.m-3]     │ FunctionParameter with inputs(s) 'Radial distance (r) [m]', 'Through-cell distance (x) [m]'                                                                                                                 │\n",
      "│ Electrolyte diffusivity [m2.s-1]                          │ FunctionParameter with inputs(s) 'Electrolyte concentration [mol.m-3]', 'Temperature [K]'                                                                                                                   │\n",
      "│ Positive particle diffusivity [m2.s-1]                    │ FunctionParameter with inputs(s) 'Positive particle stoichiometry', 'Temperature [K]'                                                                                                                       │\n",
      "│ Negative electrode double-layer capacity [F.m-2]          │ FunctionParameter with inputs(s) 'Temperature [K]'                                                                                                                                                          │\n",
      "│ Negative electrode conductivity [S.m-1]                   │ FunctionParameter with inputs(s) 'Temperature [K]'                                                                                                                                                          │\n",
      "└───────────────────────────────────────────────────────────┴─────────────────────────────────────────────────────────────────────────────────────────────────────────────────────────────────────────────────────────────────────────────────────────────────────────────┘\n",
      "\n",
      "Cell cooling surface area [m2]\t0.00531\n"
     ]
    }
   ],
   "source": [
    "names = ['Experimental', 'Simulation f domain', 'Simulation t domain']\n",
    "\n",
    "fig, ax = plt.subplots(figsize=(10, 10)) \n",
    "ax.scatter(df_real, -df_imag, label=f\"{names[0]}\", color = 'red') \n",
    "ax.scatter(Z_randles().real, -Z_randles().imag, label = f'ECM', color = 'green')\n",
    "#pybammeis.nyquist_plot(sim_f, ax=ax, linestyle=\"-\", label=f\"{names[1]}\", alpha=0.7)\n",
    "#pybammeis.nyquist_plot(impedances_time, ax=ax, linestyle=\"-\", label=f\"{names[2]}\", alpha=0.7)\n",
    "\n",
    "#ax.set_xlim(0.016, 0.045) \n",
    "#ax.set_ylim(0, 0.012)\n",
    "\n",
    "plt.legend()\n",
    "plt.title(\"Comparing\") \n",
    "plt.show() \n",
    "\n",
    "model.print_parameter_info()\n",
    "params.search(\"Surface area\")\n"
   ]
  },
  {
   "cell_type": "markdown",
   "metadata": {},
   "source": [
    "Bode plot for the experimental and simulated EIS"
   ]
  },
  {
   "cell_type": "code",
   "execution_count": 38,
   "metadata": {},
   "outputs": [
    {
     "data": {
      "image/png": "[encoded data removed]",
      "text/plain": [
       "<Figure size 400x400 with 1 Axes>"
      ]
     },
     "metadata": {},
     "output_type": "display_data"
    },
    {
     "data": {
      "image/png": "[encoded data removed]",
      "text/plain": [
       "<Figure size 400x400 with 1 Axes>"
      ]
     },
     "metadata": {},
     "output_type": "display_data"
    }
   ],
   "source": [
    "# Magnitude and phase of the simulated EIS: \n",
    "sim_f_mag = np.abs(sim_f)\n",
    "#sim_t_mag = np.abs(impedances_time)\n",
    "\n",
    "sim_f_phz = np.angle(sim_f)*180/np.pi # to convert to degrees \n",
    "#sim_t_phz = np.angle(impedances_time)*180/np.pi # to convert to degrees \n",
    "\n",
    "grense = 32\n",
    "# Magnitude plot\n",
    "fig, ax = plt.subplots(figsize=(4, 4)) \n",
    "ax.scatter(np.log10(freq), 20*np.log10(df_mag), color = 'red', label = 'experimental') \n",
    "ax.scatter(np.log10(frequencies), 20*np.log10(sim_f_mag), color = 'blue', label = 'simulation f domain') \n",
    "ax.set_xlabel('log (frequency)')\n",
    "ax.set_ylabel('log (magnitude [dB])')\n",
    "plt.legend()\n",
    "plt.show() \n",
    "\n",
    "# Phase plot\n",
    "fig, ax = plt.subplots(figsize=(4, 4)) \n",
    "ax.scatter(np.log10(freq), df_phz, color = 'red', label = 'experimental')\n",
    "ax.scatter(np.log10(frequencies), sim_f_phz, color = 'blue', label = 'simulation f domain')\n",
    "ax.set_xlabel('log (frequency)')\n",
    "ax.set_ylabel('Phase [degrees]')\n",
    "plt.legend()\n",
    "plt.show() \n"
   ]
  },
  {
   "cell_type": "code",
   "execution_count": 96,
   "metadata": {},
   "outputs": [
    {
     "ename": "AttributeError",
     "evalue": "'ParameterValues' object has no attribute 'print_parameter_info'",
     "output_type": "error",
     "traceback": [
      "\u001b[0;31m---------------------------------------------------------------------------\u001b[0m",
      "\u001b[0;31mAttributeError\u001b[0m                            Traceback (most recent call last)",
      "Cell \u001b[0;32mIn[96], line 1\u001b[0m\n\u001b[0;32m----> 1\u001b[0m \u001b[43mparams\u001b[49m\u001b[38;5;241;43m.\u001b[39;49m\u001b[43mprint_parameter_info\u001b[49m()\n",
      "\u001b[0;31mAttributeError\u001b[0m: 'ParameterValues' object has no attribute 'print_parameter_info'"
     ]
    }
   ],
   "source": [
    "params.print_parameter_info()"
   ]
  }
 ],
 "metadata": {
  "kernelspec": {
   "display_name": "base",
   "language": "python",
   "name": "python3"
  },
  "language_info": {
   "codemirror_mode": {
    "name": "ipython",
    "version": 3
   },
   "file_extension": ".py",
   "mimetype": "text/x-python",
   "name": "python",
   "nbconvert_exporter": "python",
   "pygments_lexer": "ipython3",
   "version": "3.11.5"
  }
 },
 "nbformat": 4,
 "nbformat_minor": 2
}
