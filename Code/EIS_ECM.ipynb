{
 "cells": [
  {
   "cell_type": "code",
   "execution_count": 34,
   "metadata": {},
   "outputs": [],
   "source": [
    "import pybammeis\n",
    "import pybamm\n",
    "import os\n",
    "import re\n",
    "import numpy as np\n",
    "from gamry_parser import GamryParser, Impedance\n",
    "import pandas as pd\n",
    "import time as timer\n",
    "import matplotlib.pyplot as plt\n",
    "from scipy.fft import fft\n",
    "import random\n",
    "from scipy.optimize import minimize\n",
    "from scipy.optimize import basinhopping\n",
    "from scipy.interpolate import interp1d\n",
    "import pyswarms as ps \n",
    "from pyswarms.single import GlobalBestPSO"
   ]
  },
  {
   "cell_type": "markdown",
   "metadata": {},
   "source": [
    "Uploading experimental data"
   ]
  },
  {
   "cell_type": "code",
   "execution_count": 35,
   "metadata": {},
   "outputs": [],
   "source": [
    "# ved ca. 45% SoC \n",
    "# ved 25 deg C\n",
    "\n",
    "def get_exp_data(i, d): \n",
    "    z_list = []\n",
    "    file = \"/Users/synnemard/Desktop/lithium_ion/EIS_data/MJ1_01_EIS-SoC_01-05/MJ1_01_EIS-SoC_0\"+str(i)+\"/\"+d+\"EISGALV3V587.DTA\"\n",
    "    ca = Impedance(file)\n",
    "    ca.load(filename=file)\n",
    "\n",
    "    # extract EIS curve\n",
    "    res = ca.get_curve_data().iloc[::-1]\n",
    "    df_real = res['Zreal']\n",
    "    df_imag= res['Zimag']\n",
    "    df_freq = res['Freq']\n",
    "    #df_name = res['Vdc']\n",
    "\n",
    "    # Removing the points beneath the y-axis \n",
    "    real = df_real[df_imag <= 0]\n",
    "    imag = df_imag[df_imag <= 0]\n",
    "    freq = df_freq[df_imag <= 0]\n",
    "    \n",
    "    #name = sum(df_name)/len(df_name)\n",
    "    # Adding the impendances to the list \n",
    "    z_list.append(real)\n",
    "    z_list.append(imag)\n",
    "    return[z_list, freq, len(freq)] #, df_name]\n"
   ]
  },
  {
   "cell_type": "code",
   "execution_count": 36,
   "metadata": {},
   "outputs": [
    {
     "data": {
      "text/plain": [
       "3.572173346938775"
      ]
     },
     "execution_count": 36,
     "metadata": {},
     "output_type": "execute_result"
    }
   ],
   "source": [
    "def get_vdc(i, d): \n",
    "    length = get_exp_data(i, d)[2]\n",
    "    file = \"/Users/synnemard/Desktop/lithium_ion/EIS_data/MJ1_01_EIS-SoC_01-05/MJ1_01_EIS-SoC_0\"+str(i)+\"/\"+d+\"EISGALV3V587.DTA\"\n",
    "    df = pd.read_csv(file, delimiter='\\t', skiprows=[i for i in range(0, 60)], encoding='ISO-8859-1')\n",
    "\n",
    "    df_vdc = df['Vdc'][::-1]\n",
    "    vdc = df_vdc[:length+1]\n",
    "    v_list = np.array(vdc)\n",
    "\n",
    "    sum = 0 \n",
    "    for i in v_list: \n",
    "        sum += float(i) \n",
    "    v_avg = sum/len(v_list)\n",
    "\n",
    "    return v_avg #, df_name]\n",
    "\n",
    "get_vdc(1, \"\")"
   ]
  },
  {
   "cell_type": "markdown",
   "metadata": {},
   "source": [
    "Parametre"
   ]
  },
  {
   "cell_type": "code",
   "execution_count": 37,
   "metadata": {},
   "outputs": [],
   "source": [
    "parametre = {\n",
    "    \"R1\": 0.026455095283510706,  # motstand\n",
    "    \"R2\": 5.534820787666664e-07, # motstand \n",
    "    \"C1\": 0.0055426231465975665,  # kapasitans\n",
    "    \"C2\" : 0.6755099612832921, # kapasitans\n",
    "    \"Rs\": 0.6624587164477784, # partikkelstørrelse\n",
    "    \"Ds\": 0.0010503007445281985,     # diffusjonskoeffisient \n",
    "    \"a\": 0.5722885441839765,  # overflateareal, porer \n",
    "    \"L\": 0.005384825939881047,  # tykkelse, elektrode \n",
    "    \"K\" : 2.339974970415867,  # ledningsevne elektrolytt \n",
    "    \"sigma\": 0.8629910852751331, # ledningsevne, fast elektrodematerial\n",
    "    \"ebsilon\": 0.0011934570596558787,     # porositet \n",
    "    }\n",
    "\n",
    "F = 96485 #C/mol "
   ]
  },
  {
   "cell_type": "markdown",
   "metadata": {},
   "source": [
    "Functions to convert list to dictionary or vice versa "
   ]
  },
  {
   "cell_type": "code",
   "execution_count": 38,
   "metadata": {},
   "outputs": [],
   "source": [
    "# Function to convert dictionary to list\n",
    "def dict_to_list(c_elem):\n",
    "    return list(c_elem.values())\n",
    "\n",
    "# Function to convert list back to dictionary\n",
    "def list_to_dict(c_elem, optimized_values):\n",
    "    keys = list(c_elem.keys())\n",
    "    return dict(zip(keys, optimized_values))\n"
   ]
  },
  {
   "cell_type": "markdown",
   "metadata": {},
   "source": [
    "Endring i potensial med SoC"
   ]
  },
  {
   "cell_type": "code",
   "execution_count": 51,
   "metadata": {},
   "outputs": [],
   "source": [
    "p_p = np.array([ 0.74041974, 4.39107343, 0.03434767, 18.16841489, 0.53463176, 17.68283504, 14.59709162, 0.28835348, 17.58474971, 14.69911523, 0.28845641])\n",
    "p_n = np.array([ 1.20912055e+00, 5.62297420e+01, -1.11020020e-01, -2.53458213e-01, 4.92581391e+01, 1.22046522e-02, 4.73538620e-02, 1.79631246e+01, 1.75283209e-01, 1.88038929e-02, 3.03255334e+01, 4.66328034e-01])\n",
    "\n",
    "def calc_U_x(frequencies, p): \n",
    "    x = np.linspace(0,100,len(frequencies)) # the SoC gos from 0 to 100% \n",
    "    p_x = (-p[0] * x + p[1] - p[2] * np.tanh(p[3] * (x - p[4])) - p[5] * np.tanh(p[6] * (x - p[7]))+ p[8] * np.tanh(p[9] * (x - p[10])))\n",
    "    return p_x\n",
    "\n",
    "def dU_dx(frequencies, pn, pp): \n",
    "    pn = calc_U_x(frequencies, pn)\n",
    "    pp = calc_U_x(frequencies, pp)\n",
    "\n",
    "    U = pn - pp \n",
    "    return U*0.0001\n",
    "\n",
    "#dU_dx(freq, p_n, p_p)\n",
    "    \n",
    "\n",
    "\n",
    "\n"
   ]
  },
  {
   "cell_type": "markdown",
   "metadata": {},
   "source": [
    "Calculate impedance"
   ]
  },
  {
   "cell_type": "code",
   "execution_count": 52,
   "metadata": {},
   "outputs": [
    {
     "name": "stderr",
     "output_type": "stream",
     "text": [
      "/var/folders/18/pf3m4tds5qs9rpymkqv73yxc0000gn/T/ipykernel_6052/1778571784.py:46: OptimizeWarning: Unknown solver options: maxiter\n",
      "  opt = minimize(diff_func, initial_elems, args=(exp_real, exp_imag), method='TNC', options=options)\n"
     ]
    },
    {
     "name": "stdout",
     "output_type": "stream",
     "text": [
      "0.0005326401897888739\n"
     ]
    }
   ],
   "source": [
    "# Function to calculate Z \n",
    "def calc_Z(comp, frequencies):\n",
    "    # Update param dictionary from the flat parameter list (comp), where comp is updated values\n",
    "    param = list_to_dict(parametre, comp) \n",
    "    ang_freq = 2 * np.pi * frequencies\n",
    "\n",
    "    R_part = dU_dx(ang_freq, p_n, p_p)*(param['Rs']/(F*param['Ds']))\n",
    "    omega_s = (ang_freq*param['Rs']**2)/param['Ds']\n",
    "    Y_s = (np.sqrt(1j*omega_s) - np.tanh(np.sqrt(1j*omega_s)))/np.tanh(np.sqrt(1j*omega_s))\n",
    "\n",
    "    # For one specific particle: Y = 1/Z\n",
    "    Y = 1/((param['R1'] + R_part/Y_s)/(1 + 1j*ang_freq*param['C1']*(param['R1'] + R_part/Y_s)) + param['R2']/(1+1j*ang_freq*param['R2']*param['C2']))\n",
    "\n",
    "    # The total impedance: \n",
    "    v = param['L']/(((param['K']*param['sigma'])/(param['K'] + param['sigma']))**0.5*(np.abs(param['a']*Y))**(-0.5))\n",
    "    Z = (param['L']/(param['K']+param['sigma']))*(1 + (2 + (param['sigma']/param['K'] + param['K']/param['sigma'])*np.cosh(v))/(v*np.sinh(v)))\n",
    "\n",
    "    return Z \n",
    "\n",
    "# Optimizing the difference function for a given data set\n",
    "def optimize_diff(i):\n",
    "    # Load the experimental data \n",
    "    exp_real = np.array(get_exp_data(i, \"\")[0][0])\n",
    "    exp_imag = np.array(get_exp_data(i, \"\")[0][1])\n",
    "    frequencies = np.array(get_exp_data(i, \"\")[1])\n",
    "\n",
    "    # Difference function for the optimization\n",
    "    def diff_func(comp, exp_real, exp_imag):\n",
    "        Z = calc_Z(comp, frequencies)\n",
    "        diff_real = Z.real - exp_real\n",
    "        diff_imag = Z.imag - exp_imag\n",
    "        sum_square_diff = np.sum(diff_real ** 2 + diff_imag ** 2)\n",
    "        return sum_square_diff\n",
    "\n",
    "    # Convert initial dictionary to list for optimization\n",
    "    initial_elems = dict_to_list(parametre)\n",
    "\n",
    "    # Optimization options\n",
    "    options = {\n",
    "        'maxiter': 10000,    # Maximum number of iterations\n",
    "        'ftol': 1e-10,       # Function value tolerance\n",
    "        #'disp': True\n",
    "    }\n",
    "\n",
    "    # Minimize the difference function (optimize parameters)\n",
    "    opt = minimize(diff_func, initial_elems, args=(exp_real, exp_imag), method='TNC', options=options)\n",
    "    opt_elems = list_to_dict(parametre, opt.x)\n",
    "    final_diff = diff_func(opt.x, exp_real, exp_imag)\n",
    "    \n",
    "    #print(\"Final sum of squared difference for dataset\", i, \":\", final_diff)\n",
    "\n",
    "    return opt_elems, final_diff, frequencies, opt.x \n",
    "\n",
    "# Example usage: optimize for a specific dataset (choose i from 1 to 5)\n",
    "i = 1 # Change i to the desired dataset index\n",
    "dic_elems, final_diff, frequencies, list_elems = optimize_diff(i)\n",
    "print(final_diff)\n",
    "\n"
   ]
  },
  {
   "cell_type": "code",
   "execution_count": 58,
   "metadata": {},
   "outputs": [
    {
     "data": {
      "image/png": "[encoded data removed]",
      "text/plain": [
       "<Figure size 640x480 with 1 Axes>"
      ]
     },
     "metadata": {},
     "output_type": "display_data"
    }
   ],
   "source": [
    "Z_init = calc_Z(dict_to_list(parametre), frequencies)\n",
    "\n",
    "plt.plot(Z_init.real, -Z_init.imag)\n",
    "plt.show()"
   ]
  },
  {
   "cell_type": "markdown",
   "metadata": {},
   "source": [
    "Observe how the parameters are changing with degradation"
   ]
  },
  {
   "cell_type": "code",
   "execution_count": 53,
   "metadata": {},
   "outputs": [],
   "source": [
    "def finding_params(): \n",
    "    dic_list = []\n",
    "    for l in range(1,6):\n",
    "        dic_elems, final_diff, frequencies, list_elems = optimize_diff(l)\n",
    "        dic_list.append(dic_elems)\n",
    "    \n",
    "    combined_dict = {}\n",
    "    \n",
    "    for d in dic_list:\n",
    "        for key, value in d.items():\n",
    "            # If key is not in combined_dict, initialize with empty list\n",
    "            if key not in combined_dict:\n",
    "                combined_dict[key] = []\n",
    "            # Append the value to the list for this key\n",
    "            combined_dict[key].append(value)\n",
    "\n",
    "    return combined_dict"
   ]
  },
  {
   "cell_type": "code",
   "execution_count": 54,
   "metadata": {},
   "outputs": [
    {
     "name": "stderr",
     "output_type": "stream",
     "text": [
      "/var/folders/18/pf3m4tds5qs9rpymkqv73yxc0000gn/T/ipykernel_6052/1778571784.py:46: OptimizeWarning: Unknown solver options: maxiter\n",
      "  opt = minimize(diff_func, initial_elems, args=(exp_real, exp_imag), method='TNC', options=options)\n",
      "/var/folders/18/pf3m4tds5qs9rpymkqv73yxc0000gn/T/ipykernel_6052/1778571784.py:46: OptimizeWarning: Unknown solver options: maxiter\n",
      "  opt = minimize(diff_func, initial_elems, args=(exp_real, exp_imag), method='TNC', options=options)\n",
      "/var/folders/18/pf3m4tds5qs9rpymkqv73yxc0000gn/T/ipykernel_6052/1778571784.py:46: OptimizeWarning: Unknown solver options: maxiter\n",
      "  opt = minimize(diff_func, initial_elems, args=(exp_real, exp_imag), method='TNC', options=options)\n",
      "/var/folders/18/pf3m4tds5qs9rpymkqv73yxc0000gn/T/ipykernel_6052/1778571784.py:46: OptimizeWarning: Unknown solver options: maxiter\n",
      "  opt = minimize(diff_func, initial_elems, args=(exp_real, exp_imag), method='TNC', options=options)\n",
      "/var/folders/18/pf3m4tds5qs9rpymkqv73yxc0000gn/T/ipykernel_6052/1778571784.py:46: OptimizeWarning: Unknown solver options: maxiter\n",
      "  opt = minimize(diff_func, initial_elems, args=(exp_real, exp_imag), method='TNC', options=options)\n"
     ]
    }
   ],
   "source": [
    "combined_dict = finding_params()\n",
    "\n",
    "def plot_change_param(key_list): \n",
    "    x = [1, 2, 3, 4, 5]\n",
    "    fig, ax = plt.subplots(figsize=(6, 6)) \n",
    "    for key in key_list: \n",
    "        ax.scatter(x, combined_dict[key], label = key)\n",
    "\n",
    "    plt.legend()\n",
    "    plt.xlabel(\"Data Set Number\")\n",
    "    plt.ylabel(\"Parameter Value\")\n",
    "    plt.title(\"Change in Parameters\") \n",
    "    plt.show()\n",
    "\n",
    "#plot_change_param(['R1', 'R2'])\n",
    "#plot_change_param(['Rs', 'Ds'])\n",
    "#plot_change_param(['C1', 'C2'])\n",
    "#plot_change_param(['a', 'L'])\n",
    "#plot_change_param(['K', 'sigma'])\n",
    "#plot_change_param(['ebsilon'])\n"
   ]
  },
  {
   "cell_type": "markdown",
   "metadata": {},
   "source": [
    "Comparison plot"
   ]
  },
  {
   "cell_type": "code",
   "execution_count": 55,
   "metadata": {},
   "outputs": [
    {
     "data": {
      "image/png": "[encoded data removed]",
      "text/plain": [
       "<Figure size 640x480 with 1 Axes>"
      ]
     },
     "metadata": {},
     "output_type": "display_data"
    }
   ],
   "source": [
    "Z = calc_Z(list_elems, frequencies)\n",
    "\n",
    "plt.plot(Z.real, -Z.imag)\n",
    "plt.show()"
   ]
  },
  {
   "cell_type": "code",
   "execution_count": 47,
   "metadata": {},
   "outputs": [
    {
     "data": {
      "image/png": "[encoded data removed]",
      "text/plain": [
       "<Figure size 600x600 with 1 Axes>"
      ]
     },
     "metadata": {},
     "output_type": "display_data"
    }
   ],
   "source": [
    "\n",
    "fig, ax = plt.subplots(figsize=(6, 6)) \n",
    "ax.scatter(np.array(get_exp_data(i, \"\")[0][0]), -np.array(get_exp_data(i, \"\")[0][1]), color = 'red', label=f\"Experimental \"+str(np.round(get_vdc(i, \"\"),3))+\" V\") \n",
    "ax.scatter(Z.real, -Z.imag, label = f'ECM', color = 'blue')\n",
    "\n",
    "#ax.set_xlim(0.016, 0.045) \n",
    "#ax.set_ylim(0, 0.012)\n",
    "\n",
    "plt.legend()\n",
    "plt.title(\"Comparing\") \n",
    "plt.show() "
   ]
  },
  {
   "cell_type": "markdown",
   "metadata": {},
   "source": [
    "fig, ax = plt.subplots(figsize=(10, 10)) \n",
    "ax.scatter(np.array(get_exp_data(i, \"\")[0][0]), -np.array(get_exp_data(i, \"\")[0][1]), color = 'red', label=f\"Experimental \"+str(np.round(get_vdc(i, \"\"),3))+\" V\") \n",
    "ax.scatter(Z_randles.real, -Z_randles.imag, label = f'ECM', color = 'blue')\n",
    "\n",
    "#ax.set_xlim(0.016, 0.045) \n",
    "#ax.set_ylim(0, 0.012)\n",
    "\n",
    "plt.legend()\n",
    "plt.title(\"Comparing\") \n",
    "plt.show() "
   ]
  },
  {
   "cell_type": "code",
   "execution_count": 44,
   "metadata": {},
   "outputs": [],
   "source": [
    "def U_n(self, c, c_max):\n",
    "    sto = c/c_max\n",
    "    return self.U_n_sto(sto)\n",
    "\n",
    "\n",
    "def U_p(self, c, c_max):\n",
    "    sto = c/c_max\n",
    "    return self.U_p_sto(sto)\n",
    "\n",
    "\n",
    "def U_n_sto(self, s):\n",
    "    x = s\n",
    "    p = np.array([ 1.20912055e+00, 5.62297420e+01, -1.11020020e-01, -2.53458213e-01, 4.92581391e+01, 1.22046522e-02, 4.73538620e-02, 1.79631246e+01, 1.75283209e-01, 1.88038929e-02, 3.03255334e+01, 4.66328034e-01])\n",
    "    return (p[0] * np.exp(-p[1] * x)+ p[2]- p[3] * np.tanh(p[4] * (x - p[5])) - p[6] * np.tanh(p[7] * (x - p[8])) - p[9] * np.tanh(p[10] * (x - p[11])))\n",
    "\n",
    "\n",
    "def U_p_sto(self, s):\n",
    "    x = s\n",
    "    p = np.array([ 0.74041974, 4.39107343, 0.03434767, 18.16841489, 0.53463176, 17.68283504, 14.59709162, 0.28835348, 17.58474971, 14.69911523, 0.28845641])\n",
    "    return (-p[0] * x + p[1] - p[2] * np.tanh(p[3] * (x - p[4])) - p[5] * np.tanh(p[6] * (x - p[7]))+ p[8] * np.tanh(p[9] * (x - p[10])))"
   ]
  }
 ],
 "metadata": {
  "kernelspec": {
   "display_name": "base",
   "language": "python",
   "name": "python3"
  },
  "language_info": {
   "codemirror_mode": {
    "name": "ipython",
    "version": 3
   },
   "file_extension": ".py",
   "mimetype": "text/x-python",
   "name": "python",
   "nbconvert_exporter": "python",
   "pygments_lexer": "ipython3",
   "version": "3.11.5"
  }
 },
 "nbformat": 4,
 "nbformat_minor": 2
}
