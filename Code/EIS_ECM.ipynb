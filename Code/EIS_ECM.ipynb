{
 "cells": [
  {
   "cell_type": "code",
   "execution_count": 1,
   "metadata": {},
   "outputs": [],
   "source": [
    "import pybammeis\n",
    "import pybamm\n",
    "import os\n",
    "import re\n",
    "import numpy as np\n",
    "from gamry_parser import GamryParser, Impedance\n",
    "import pandas as pd\n",
    "import time as timer\n",
    "import matplotlib.pyplot as plt\n",
    "from scipy.fft import fft\n",
    "import random\n",
    "from scipy.optimize import minimize\n",
    "from scipy.optimize import basinhopping\n",
    "from scipy.interpolate import interp1d\n",
    "import pyswarms as ps \n",
    "from pyswarms.single import GlobalBestPSO"
   ]
  },
  {
   "cell_type": "markdown",
   "metadata": {},
   "source": [
    "Uploading experimental data"
   ]
  },
  {
   "cell_type": "code",
   "execution_count": 2,
   "metadata": {},
   "outputs": [],
   "source": [
    "# ved ca. 45% SoC \n",
    "# ved 25 deg C\n",
    "\n",
    "def get_exp_data(i, d): \n",
    "    z_list = []\n",
    "    file = \"/Users/synnemard/Desktop/lithium_ion/EIS_data/MJ1_01_EIS-SoC_01-05/MJ1_01_EIS-SoC_0\"+str(i)+\"/\"+d+\"EISGALV3V587.DTA\"\n",
    "    ca = Impedance(file)\n",
    "    ca.load(filename=file)\n",
    "\n",
    "    # extract EIS curve\n",
    "    res = ca.get_curve_data().iloc[::-1]\n",
    "    df_real = res['Zreal']\n",
    "    df_imag= res['Zimag']\n",
    "    df_freq = res['Freq']\n",
    "    #df_name = res['Vdc']\n",
    "\n",
    "    # Removing the points beneath the y-axis \n",
    "    real = df_real[df_imag <= 0]\n",
    "    imag = df_imag[df_imag <= 0]\n",
    "    freq = df_freq[df_imag <= 0]\n",
    "    \n",
    "    #name = sum(df_name)/len(df_name)\n",
    "    # Adding the impendances to the list \n",
    "    z_list.append(real)\n",
    "    z_list.append(imag)\n",
    "    return[z_list, freq, len(freq)] #, df_name]\n"
   ]
  },
  {
   "cell_type": "markdown",
   "metadata": {},
   "source": [
    "Function to get detailed information on the V (SOC should be around 45%)"
   ]
  },
  {
   "cell_type": "code",
   "execution_count": 3,
   "metadata": {},
   "outputs": [
    {
     "data": {
      "text/plain": [
       "3.572173346938775"
      ]
     },
     "execution_count": 3,
     "metadata": {},
     "output_type": "execute_result"
    }
   ],
   "source": [
    "def get_vdc(i, d): \n",
    "    length = get_exp_data(i, d)[2]\n",
    "    file = \"/Users/synnemard/Desktop/lithium_ion/EIS_data/MJ1_01_EIS-SoC_01-05/MJ1_01_EIS-SoC_0\"+str(i)+\"/\"+d+\"EISGALV3V587.DTA\"\n",
    "    df = pd.read_csv(file, delimiter='\\t', skiprows=[i for i in range(0, 60)], encoding='ISO-8859-1')\n",
    "\n",
    "    df_vdc = df['Vdc'][::-1]\n",
    "    vdc = df_vdc[:length+1]\n",
    "    v_list = np.array(vdc)\n",
    "\n",
    "    sum = 0 \n",
    "    for i in v_list: \n",
    "        sum += float(i) \n",
    "    v_avg = sum/len(v_list)\n",
    "\n",
    "    return v_avg #, df_name]\n",
    "\n",
    "get_vdc(1, \"\")"
   ]
  },
  {
   "cell_type": "markdown",
   "metadata": {},
   "source": [
    "Defining parameters"
   ]
  },
  {
   "cell_type": "code",
   "execution_count": 4,
   "metadata": {},
   "outputs": [],
   "source": [
    "\n",
    "# OCV curves for the anode and cathode\n",
    "# Simple math model for the individual electrode potentials as a function of the stoichiometry of Lithium\n",
    "def MJ1_ocp_tanh_SiC(sto):\n",
    "    x = sto\n",
    "    p = np.array([ 1.20912055e+00,  5.62297420e+01, -1.11020020e-01, -2.53458213e-01, 4.92581391e+01,  1.22046522e-02,  4.73538620e-02,  1.79631246e+01, 1.75283209e-01,  1.88038929e-02,  3.03255334e+01,  4.66328034e-01])\n",
    "    \n",
    "    return (\n",
    "            p[0] * np.exp(-p[1] * x)\n",
    "            + p[2]\n",
    "            - p[3] * np.tanh(p[4] * (x - p[5]))\n",
    "            - p[6] * np.tanh(p[7] * (x - p[8]))\n",
    "            - p[9] * np.tanh(p[10] * (x - p[11]))\n",
    "        )\n",
    "\n",
    "def MJ1_ocp_tanh_NMC(sto):\n",
    "    x = sto\n",
    "    p = np.array([ 0.74041974,  4.39107343,  0.03434767, 18.16841489,  0.53463176, 17.68283504, 14.59709162,  0.28835348, 17.58474971, 14.69911523,  0.28845641])\n",
    "\n",
    "    return (\n",
    "            -p[0] * x\n",
    "            + p[1]\n",
    "            - p[2] * np.tanh(p[3] * (x - p[4]))\n",
    "            - p[5] * np.tanh(p[6] * (x - p[7]))\n",
    "            + p[8] * np.tanh(p[9] * (x - p[10]))\n",
    "        )\n",
    "\n",
    "# Parameters from literature\n",
    "literature_params = {\n",
    "    'Electrode height [m]': 0.059,\n",
    "    'Electrode width [m]': 0.610*2, # Multiplying by two since the electrode has active material on both sides.\n",
    "    'Lower voltage cut-off [V]': 2.5,\n",
    "    'Upper voltage cut-off [V]': 4.5,\n",
    "    'Nominal cell capacity [A.h]': 3.5,\n",
    "    'EC initial concentration in electrolyte [mol.m-3]': 1,  #4541.0,\n",
    "\n",
    " # From Table 3 in https://doi.org/10.1016/j.jpowsour.2018.11.043\n",
    "    'Maximum concentration in negative electrode [mol.m-3]': 32418.5,\n",
    "    'Negative particle radius [m]': 6.1e-06,\n",
    "    'Negative electrode porosity': 0.216,\n",
    "    'Negative electrode active material volume fraction': 0.7011854763922494,\n",
    "    'Negative electrode conductivity [S.m-1]': 100.0,\n",
    "    'Negative electrode diffusivity [m2.s-1]': 5e-14,\n",
    "    'Negative electrode OCP [V]': MJ1_ocp_tanh_SiC,\n",
    "\n",
    "    # 'Maximum concentration in positive electrode [mol.m-3]': 51081.15,\n",
    "    'Positive particle radius [m]': 3.8e-06,\n",
    "    'Positive electrode porosity': 0.171,\n",
    "    'Positive electrode active material volume fraction': 0.7355902286855152,\n",
    "    'Positive electrode conductivity [S.m-1]': 0.17,\n",
    "    'Positive electrode diffusivity [m2.s-1]': 5e-13,\n",
    "    'Positive electrode OCP [V]': MJ1_ocp_tanh_NMC,\n",
    "\n",
    "    'Separator porosity': 0.45,\n",
    "\n",
    "    # end of section 3 data\n",
    "    \n",
    "    # From Table A-9 and A-10 in https://doi.org/10.1016/j.jpowsour.2018.11.043\n",
    "    'Negative current collector conductivity [S.m-1]': 5.9e7/(1+3.383e-3 * (298.15-293.15)), \n",
    "    'Negative current collector thickness [m]': 11e-06,\n",
    "    'Negative current collector density [kg.m-3]': 8950.0,\n",
    "    'Negative current collector specific heat capacity [J.kg-1.K-1]': 385.0,\n",
    "    'Negative current collector thermal conductivity [W.m-1.K-1]': 398.0,\n",
    "    'Negative electrode density [kg.m-3]': 2242.0,\n",
    "    'Negative electrode specific heat capacity [J.kg-1.K-1]': 867.0,\n",
    "    'Negative electrode thermal conductivity [W.m-1.K-1]': 1.04,\n",
    "    'Negative electrode thickness [m]': 86.7e-6, # 86.7 in Sturm 2019, 85um in Heenan2020, 170um in NASA\n",
    "    'Positive current collector conductivity [S.m-1]': 3.78e7/(1+4.290e-3 * (298.15-293.15)),\n",
    "    'Positive current collector density [kg.m-3]': 2710.0,\n",
    "    'Positive current collector specific heat capacity [J.kg-1.K-1]': 903.0,\n",
    "    'Positive current collector thermal conductivity [W.m-1.K-1]': 238.0,\n",
    "    'Positive current collector thickness [m]': 17.3e-06,\n",
    "    'Positive electrode density [kg.m-3]': 4870.0,\n",
    "    'Positive electrode specific heat capacity [J.kg-1.K-1]': 840.1,\n",
    "    'Positive electrode thermal conductivity [W.m-1.K-1]': 1.58,\n",
    "    'Positive electrode thickness [m]': 66.2e-6, #66.2um in Sturm2019, 72.5um in Heenan2020, 160um in NASA\n",
    "    'Separator density [kg.m-3]': 1009.0,\n",
    "    'Separator specific heat capacity [J.kg-1.K-1]': 1978.2,\n",
    "    'Separator thermal conductivity [W.m-1.K-1]': 0.33,\n",
    "    'Separator thickness [m]': 12e-06,\n",
    "\n",
    "    # end of table data\n",
    "    }\n",
    "\n",
    "# Use default parameters from the Chen2020 publication\n",
    "params = pybamm.ParameterValues(\"Chen2020\")\n",
    "\n",
    "# Overwrite parameters with our own\n",
    "for parameter, value in literature_params.items():\n",
    "    try:\n",
    "        if params[parameter] != value: # Check if the parameter exists in 'params' and has a different value\n",
    "            params[parameter] = value # Update 'params' with the new value from 'literature_params'\n",
    "    except KeyError as e: # This block handles the case where the 'parameter' is not in 'params'\n",
    "        print(f\"Parameter {parameter} not part of default. Skipping.\")\n",
    "\n",
    "#params['Electrolyte conductivity']"
   ]
  },
  {
   "cell_type": "markdown",
   "metadata": {},
   "source": [
    "Finding the -dU/dcs for each the anode and the cathode"
   ]
  },
  {
   "cell_type": "code",
   "execution_count": 13,
   "metadata": {},
   "outputs": [
    {
     "name": "stdout",
     "output_type": "stream",
     "text": [
      "32418.5\n",
      "63104.0\n",
      "1.3786045384026093e-05\n",
      "0.740426330458689\n"
     ]
    }
   ],
   "source": [
    "c_n_max = params[\"Maximum concentration in negative electrode [mol.m-3]\"]\n",
    "c_n_s_max = c_n_max \n",
    "c_p_max = params[\"Maximum concentration in positive electrode [mol.m-3]\"]\n",
    "c_p_s_max = c_p_max\n",
    "print(c_n_max)\n",
    "print(c_p_max)\n",
    "\n",
    "params.set_initial_stoichiometries(0.45) # Setting SOC, this changes the initial concentrations\n",
    "c_n = params['Initial concentration in negative electrode [mol.m-3]'] \n",
    "c_n_s = c_n # for the surface of the particle\n",
    "c_p = params['Initial concentration in positive electrode [mol.m-3]'] \n",
    "c_p_s = c_p\n",
    "\n",
    "def sech_2(z): \n",
    "    return 1/np.cosh(z)**2\n",
    "\n",
    "def _dU_dc_anode(c): \n",
    "    x = c/c_n_max\n",
    "    # Har satt in for x i uttrykket for potensial lenger oppe og derivert med hensyn på c\n",
    "    p = np.array([ 1.20912055e+00,  5.62297420e+01, -1.11020020e-01, -2.53458213e-01, 4.92581391e+01,  1.22046522e-02,  4.73538620e-02,  1.79631246e+01, 1.75283209e-01,  1.88038929e-02,  3.03255334e+01,  4.66328034e-01])\n",
    "    dU_dc = -(p[6]*p[7]*sech_2(p[7]*(c/c_n_max-p[8])))/c_n_max - (p[3]*p[4]*sech_2(p[4]*(c/c_n_max-p[5])))/c_n_max - (p[9]*p[10]*sech_2(p[10]*(c/c_n_max-p[11])))/c_n_max - (p[0]*p[1]*np.exp(-p[1]*c/c_n_max))/c_n_max\n",
    "    return -dU_dc # [V*m^3/mol]\n",
    "\n",
    "print(_dU_dc_anode(c_n))\n",
    "\n",
    "def _dU_dc_cathode(c): \n",
    "    x = c/c_p_max\n",
    "    # Har satt in for x i uttrykket for potensial lenger oppe og derivert med hensyn på c\n",
    "    p = np.array([ 0.74041974,  4.39107343,  0.03434767, 18.16841489,  0.53463176, 17.68283504, 14.59709162,  0.28835348, 17.58474971, 14.69911523,  0.28845641])\n",
    "    dU_dc = -(p[5]*p[6]*sech_2(p[6]*(c/c_p_max-p[7])))/c_p_max - (p[2]*p[3]*sech_2(p[3]*(c/c_p_max-p[4])))/c_p_max + (p[9]*p[8]*sech_2(p[9]*(c/c_p_max-p[10])))/c_p_max - p[0]\n",
    "    return -dU_dc # [V*m^3/mol]\n",
    "\n",
    "print(_dU_dc_cathode(c_p))"
   ]
  },
  {
   "cell_type": "markdown",
   "metadata": {},
   "source": [
    "Diverse utregninger"
   ]
  },
  {
   "cell_type": "code",
   "execution_count": 24,
   "metadata": {},
   "outputs": [],
   "source": [
    "F = 96485 #C/mol \n",
    "R = 8.314 #J/mol*K\n",
    "n = 1 \n",
    "T = 298 # K"
   ]
  },
  {
   "cell_type": "code",
   "execution_count": 25,
   "metadata": {},
   "outputs": [
    {
     "name": "stdout",
     "output_type": "stream",
     "text": [
      "0.0010376311945925836\n",
      "0.010638434262134512\n"
     ]
    }
   ],
   "source": [
    "volume_anode = params['Electrode height [m]']*params['Electrode width [m]']*params['Negative electrode thickness [m]'] # [m^3]\n",
    "volume_cathode = params['Electrode height [m]']*params['Electrode width [m]']*params['Positive electrode thickness [m]'] # [m^3]\n",
    "\n",
    "c_e = params['EC initial concentration in electrolyte [mol.m-3]']\n",
    "i_0_a = params['Negative electrode exchange-current density [A.m-2]'](c_e, c_n_s, c_n_s_max, T)\n",
    "i_0_c = params['Positive electrode exchange-current density [A.m-2]'](c_e, c_p_s, c_p_s_max, T)\n",
    "\n",
    "print(i_0_a*10**(3)*10**(-4))\n",
    "print(i_0_c*10**(3)*10**(-4))\n",
    "\n",
    "# Exhange current densitites er altfor lave i forhold til Meyers paper, setter noen default parametre:\n",
    "#i_0_a = 200 \n",
    "#i_0_c = 200\n",
    "\n",
    "r = params['Positive particle radius [m]']\n",
    "e_a = params['Negative electrode porosity']\n",
    "e_c = params['Positive electrode porosity']"
   ]
  },
  {
   "cell_type": "code",
   "execution_count": 26,
   "metadata": {},
   "outputs": [],
   "source": [
    "\n",
    "def R_ct(i_0): \n",
    "    return (R*T)/(n*F*i_0) # [ohm.m^2]\n",
    "\n",
    "R1_a = R_ct(i_0_a).__dict__['_value']\n",
    "R1_c = R_ct(i_0_c).__dict__['_value']\n",
    "\n",
    "def pore_surface_area(V_electrode, e): \n",
    "    V_particle = (4*np.pi/3)*r**3\n",
    "    V_pores = e*V_electrode \n",
    "    # Number of particles\n",
    "    N = V_pores/V_particle \n",
    "    # Surface area of particle \n",
    "    A_particle = 4*np.pi*r**2\n",
    "    # Total surface area of pores\n",
    "    A_total = N*A_particle # so that A_total = (3*e*V_electrode)/r_particle\n",
    "    return A_total # [m^2]\n"
   ]
  },
  {
   "cell_type": "markdown",
   "metadata": {},
   "source": [
    "Meyers parametre"
   ]
  },
  {
   "cell_type": "code",
   "execution_count": 27,
   "metadata": {},
   "outputs": [
    {
     "name": "stdout",
     "output_type": "stream",
     "text": [
      "{'R1': 24747.05157758315, 'C1': 20.0, 'Rs': 3.8, 'Ds': 5e-10, 'a': 1705.2631578947369, 'L': 86.7, 'K': 32.496269604297744, 'sigma': 1.0, 'ebsilon': 0.216, '-dU_dcs': 13.786045384026092}\n",
      "{'R1': 2413.730447391959, 'C1': 20.0, 'Rs': 3.8, 'Ds': 5e-10, 'a': 1350.0, 'L': 66.2, 'K': 32.496269604297744, 'sigma': 0.0017000000000000001, 'ebsilon': 0.171, '-dU_dcs': 740426.330458689}\n"
     ]
    }
   ],
   "source": [
    "\n",
    "a_parametre = {\n",
    "    \"R1\": R1_a*10**4, #R_ct(i_0_a)*10**4,  # motstand, [ohm.cm^2]\n",
    "    \"C1\": params['Negative electrode double-layer capacity [F.m-2]']*10**6*10**(-4),  # kapasitans, [micro.F/cm^2]\n",
    "    \"Rs\": params['Positive particle radius [m]']*10**6, # partikkelstørrelse, [micro.m]\n",
    "    \"Ds\": params['Negative electrode diffusivity [m2.s-1]']*10**4,     # diffusjonskoeffisient [cm^2.s^-1]\n",
    "    \"a\": (pore_surface_area(volume_anode, e_a)/volume_anode)*10**(-2),  # overflateareal porer/volum electrode [cm^-1]\n",
    "    \"L\": params['Negative electrode thickness [m]']*10**6,  # tykkelse, elektrode, [micro.m]\n",
    "    \"K\" : params['Electrolyte conductivity [S.m-1]'](c_e, T)*10**6*10**(-2),  # ledningsevne elektrolytt [micro.S.cm^-1]\n",
    "    \"sigma\": params['Negative electrode conductivity [S.m-1]']*10**(-2), # ledningsevne, fast elektrodematerial [S.cm-1]\n",
    "    \"ebsilon\": params['Negative electrode porosity'],     # porositet\n",
    "    \"-dU_dcs\": (_dU_dc_anode(c_n))*10**(6), #[V.cm^3.mol-1]\n",
    "    }\n",
    "\n",
    "c_parametre = {\n",
    "    \"R1\": R1_c*10**4, #R_ct(i_0_c)*10**4, # R_ct(i_0_c),  # motstand, [ohm.cm^2]\n",
    "    \"C1\": params['Positive electrode double-layer capacity [F.m-2]']*10**6*10**(-4),  # kapasitans, [micro.F/cm^2]\n",
    "    \"Rs\": params['Positive particle radius [m]']*10**6, # partikkelstørrelse, [micro.m]\n",
    "    \"Ds\": params['Negative electrode diffusivity [m2.s-1]']*10**4,     # diffusjonskoeffisient [cm^2.s^-1]\n",
    "    \"a\": (pore_surface_area(volume_cathode, e_c)/volume_cathode)*10**(-2),  # overflateareal porer/volum electrode [cm^-1]\n",
    "    \"L\": params['Positive electrode thickness [m]']*10**6,  # tykkelse, elektrode, [micro.m]\n",
    "    \"K\" : params['Electrolyte conductivity [S.m-1]'](c_e, T)*10**6*10**(-2),  # ledningsevne elektrolytt [micro.S.cm^-1]\n",
    "    \"sigma\": params['Positive electrode conductivity [S.m-1]']*10**(-2), # ledningsevne, fast elektrodematerial [S.cm-1]\n",
    "    \"ebsilon\": params['Positive electrode porosity'],     # porositet \n",
    "    \"-dU_dcs\": (_dU_dc_cathode(c_p))*10**(6), #[V.cm^3.mol-1]\n",
    "    }\n",
    "\n",
    "print(a_parametre)\n",
    "print(c_parametre)\n",
    "#params.search('Positive particle surface concentration [mol.m-3]')"
   ]
  },
  {
   "cell_type": "markdown",
   "metadata": {},
   "source": [
    "Kommentarer \n",
    "- veldig høy R1? - dette kan komme fra lav exchange current density\n",
    "- Må endre elektrolytkonsentrasjonen for å få et meningsfylt svar for elektrolyttkonduktiviteten\n",
    "- -dU/dc_s veldig høy for kathoden? "
   ]
  },
  {
   "cell_type": "markdown",
   "metadata": {},
   "source": [
    "Functions to convert list to dictionary or vice versa "
   ]
  },
  {
   "cell_type": "code",
   "execution_count": 10,
   "metadata": {},
   "outputs": [],
   "source": [
    "# Function to convert dictionary to list\n",
    "def dict_to_list(c_elem):\n",
    "    return list(c_elem.values())\n",
    "\n",
    "# Function to convert list back to dictionary\n",
    "def list_to_dict(c_elem, optimized_values):\n",
    "    keys = list(c_elem.keys())\n",
    "    return dict(zip(keys, optimized_values))\n"
   ]
  },
  {
   "cell_type": "markdown",
   "metadata": {},
   "source": [
    "Calculate impedance"
   ]
  },
  {
   "cell_type": "code",
   "execution_count": 11,
   "metadata": {},
   "outputs": [
    {
     "name": "stdout",
     "output_type": "stream",
     "text": [
      "1.085909156020089\n",
      "[1.81478352e+09 2.28468817e+09 2.87651472e+09 3.62105664e+09\n",
      " 4.55834367e+09 5.73945635e+09 7.22672562e+09 9.09718057e+09\n",
      " 1.14634343e+10 1.44167241e+10 1.81749269e+10 2.28652272e+10\n",
      " 2.88334300e+10 3.63498357e+10 4.57304362e+10 5.74720462e+10\n",
      " 7.26996715e+10 9.14608905e+10 1.14944074e+11 1.43777250e+11\n",
      " 1.81284373e+11 2.29888185e+11 2.87554573e+11 3.62568746e+11\n",
      " 4.54372901e+11 5.73171352e+11 7.15981646e+11 9.08745984e+11\n",
      " 1.14634252e+12 1.44167150e+12 1.80208869e+12 2.25022741e+12\n",
      " 2.83528737e+12 3.60417920e+12 4.52439462e+12 5.67057474e+12\n",
      " 6.97201791e+12 9.11342291e+12 1.14944092e+13 1.43357228e+13\n",
      " 1.82268422e+13 2.27835527e+13 2.87360231e+13 3.60417920e+13\n",
      " 4.58007876e+13 5.72509936e+13 7.22195870e+13 9.17298844e+13]\n",
      "48\n",
      "[  30121.94408706  +30122.94408706j   33797.58112419  +33798.58112419j\n",
      "   37923.36364959  +37924.36364959j   42549.30342618  +42550.30342618j\n",
      "   47739.67277395  +47740.67277395j   53568.84387325  +53569.84387325j\n",
      "   60110.2535846   +60111.2535846j    67442.23750582  +67443.23750582j\n",
      "   75707.10488186  +75708.10488186j   84901.07315365  +84902.07315365j\n",
      "   95327.18824283  +95328.18824283j  106922.40053413 +106923.40053413j\n",
      "  120068.62554558 +120069.62554558j  134813.38303979 +134814.38303979j\n",
      "  151211.49316985 +151212.49316985j  169516.02891645 +169517.02891645j\n",
      "  190655.32889784 +190656.32889784j  213845.77985465 +213846.77985465j\n",
      "  239732.2624239  +239733.2624239j   268119.54205186 +268120.54205186j\n",
      "  301067.40840059 +301068.40840059j  339033.05783291 +339034.05783291j\n",
      "  379178.75477608 +379179.75477608j  425774.0263622  +425775.0263622j\n",
      "  476639.79845068 +476640.79845068j  535335.97404697 +535336.97404697j\n",
      "  598322.34327952 +598323.34327952j  674070.94884864 +674071.94884864j\n",
      "  757079.74921658 +757080.74921658j  849019.46437808 +849020.46437808j\n",
      "  949232.55710357 +949233.55710357j 1060712.77120647+1060713.77120647j\n",
      " 1190647.43044973+1190648.43044973j 1342418.30824722+1342419.30824722j\n",
      " 1504059.27527514+1504060.27527514j 1683830.15836024+1683831.15836024j\n",
      " 1867084.68555214+1867085.68555214j 2134644.51052069+2134645.51052069j\n",
      " 2397331.81346841+2397332.81346841j 2677285.20436039+2677286.20436039j\n",
      " 3018843.33129441+3018844.33129441j 3375169.56913209+3375170.56913209j\n",
      " 3790515.00000989+3790516.00000989j 4245101.58904886+4245102.58904886j\n",
      " 4785434.59144495+4785435.59144495j 5350279.06615494+5350280.06615494j\n",
      " 6009141.49418147+6009142.49418147j 6772365.07206902+6772366.07206902j]\n",
      "48\n",
      "[0.77885644+1.25678623e+00j 0.77885763+1.58220377e+00j\n",
      " 0.77885869+1.99205489e+00j 0.77885963+2.50766470e+00j\n",
      " 0.77886048+3.15675460e+00j 0.77886123+3.97469891e+00j\n",
      " 0.7788619 +5.00466311e+00j 0.77886249+6.29999143e+00j\n",
      " 0.77886302+7.93867076e+00j 0.7788635 +9.98388480e+00j\n",
      " 0.77886392+1.25865180e+01j 0.77886429+1.58346479e+01j\n",
      " 0.77886463+1.99677520e+01j 0.77886493+2.51730189e+01j\n",
      " 0.7788652 +3.16692793e+01j 0.77886543+3.98005879e+01j\n",
      " 0.77886565+5.03460346e+01j 0.77886583+6.33385684e+01j\n",
      " 0.778866  +7.96011608e+01j 0.77886615+9.95687340e+01j\n",
      " 0.77886628+1.25543196e+02j 0.7788664 +1.59202345e+02j\n",
      " 0.77886651+1.99137517e+02j 0.7788666 +2.51086390e+02j\n",
      " 0.77886668+3.14662675e+02j 0.77886676+3.96933070e+02j\n",
      " 0.77886682+4.95832166e+02j 0.77886689+6.29325474e+02j\n",
      " 0.77886694+7.93866013e+02j 0.77886699+9.98387464e+02j\n",
      " 0.77886703+1.24798386e+03j 0.77886706+1.55832923e+03j\n",
      " 0.7788671 +1.96349541e+03j 0.77886713+2.49596897e+03j\n",
      " 0.77886716+3.13323727e+03j 0.77886718+3.92699082e+03j\n",
      " 0.7788672 +4.82826725e+03j 0.77886722+6.31123470e+03j\n",
      " 0.77886724+7.96011720e+03j 0.77886725+9.92778590e+03j\n",
      " 0.77886727+1.26224669e+04j 0.77886728+1.57780836e+04j\n",
      " 0.77886729+1.99002930e+04j 0.7788673 +2.49596897e+04j\n",
      " 0.77886731+3.17179970e+04j 0.77886731+3.96475025e+04j\n",
      " 0.77886732+5.00135644e+04j 0.77886733+6.35248507e+04j]\n",
      "48\n",
      "[  4419.92819761   4827.09611942   5316.08301863   5890.19819952\n",
      "   6554.39658069   7315.42187015   8180.54030954   9158.26385139\n",
      "  10266.21251599  11502.83297246  12908.15075954  14473.14257191\n",
      "  16248.9732349   18241.80501322  20458.84021122  22934.14656996\n",
      "  25793.17982411  28929.8916543   32431.449824    36271.40722368\n",
      "  40728.37078968  45864.17628847  51294.93379849  57598.1985196\n",
      "  64479.18649274  72419.46774512  80940.12775492  91187.24431445\n",
      " 102416.51137071 114853.93920285 128410.57648609 143491.41058693\n",
      " 161068.72888992 181600.01125472 203466.50171532 227785.57413955\n",
      " 252575.90781658 288770.90665978 324306.75993612 362178.3378326\n",
      " 408383.69079075 456586.84659817 512774.00995954 574269.64480969\n",
      " 647364.89624353 723776.01443495 812905.70786496 916153.18507403]\n",
      "48\n",
      "[nan nan nan nan nan nan nan nan nan nan nan nan nan nan nan nan nan nan\n",
      " nan nan nan nan nan nan nan nan nan nan nan nan nan nan nan nan nan nan\n",
      " nan nan nan nan nan nan nan nan nan nan nan nan]\n"
     ]
    },
    {
     "data": {
      "image/png": "[encoded data removed]",
      "text/plain": [
       "<Figure size 640x480 with 1 Axes>"
      ]
     },
     "metadata": {},
     "output_type": "display_data"
    }
   ],
   "source": [
    "\n",
    "# Function to calculate Z \n",
    "def calc_Z(comp, frequencies):\n",
    "    # Update param dictionary from the flat parameter list (comp), where comp is updated values\n",
    "    param = list_to_dict(a_parametre, comp) \n",
    "    ang_freq = 2 * np.pi * frequencies\n",
    "\n",
    "    # Calculating R_part \n",
    "    R_part = _dU_dc_anode(c_n)*(param['Rs']/(F*param['Ds']))\n",
    "    print(R_part)\n",
    "\n",
    "    #Calculating Y_s\n",
    "    omega_s = (ang_freq*param['Rs']**2)/param['Ds']\n",
    "    Y_s = (np.sqrt(1j*omega_s) - np.tanh(np.sqrt(1j*omega_s)))/np.tanh(np.sqrt(1j*omega_s))\n",
    "    print(omega_s)\n",
    "    print(len(omega_s))\n",
    "    print(Y_s)\n",
    "    print(len(Y_s))\n",
    "\n",
    "    # For one specific particle: Y = 1/Z\n",
    "    Y = 1/((param['R1'] + R_part/Y_s)/(1 + 1j*ang_freq*param['C1']*(param['R1'] + R_part/Y_s)))\n",
    "    print(Y)\n",
    "    print(len(Y))\n",
    "\n",
    "    # The total impedance: \n",
    "    v = param['L']/(((param['K']*param['sigma'])/(param['K'] + param['sigma']))**0.5*(np.abs(param['a']*Y))**(-0.5))\n",
    "    print(v)\n",
    "    print(len(v))\n",
    "    Z = (param['L']/(param['K']+param['sigma']))*(1 + (2 + (param['sigma']/param['K'] + param['K']/param['sigma'])*np.cosh(v))/(v*np.sinh(v)))\n",
    "    print(Z)\n",
    "    return Z \n",
    "\n",
    "frequencies = np.array(get_exp_data(1, \"\")[1])\n",
    "Z_init = calc_Z(dict_to_list(a_parametre), frequencies)\n",
    "\n",
    "plt.plot(Z_init.real, -Z_init.imag)\n",
    "plt.show()"
   ]
  },
  {
   "cell_type": "code",
   "execution_count": 12,
   "metadata": {},
   "outputs": [
    {
     "ename": "NameError",
     "evalue": "name 'parametre' is not defined",
     "output_type": "error",
     "traceback": [
      "\u001b[0;31m---------------------------------------------------------------------------\u001b[0m",
      "\u001b[0;31mNameError\u001b[0m                                 Traceback (most recent call last)",
      "Cell \u001b[0;32mIn[12], line 37\u001b[0m\n\u001b[1;32m     35\u001b[0m \u001b[38;5;66;03m# Example usage: optimize for a specific dataset (choose i from 1 to 5)\u001b[39;00m\n\u001b[1;32m     36\u001b[0m i \u001b[38;5;241m=\u001b[39m \u001b[38;5;241m1\u001b[39m \u001b[38;5;66;03m# Change i to the desired dataset index\u001b[39;00m\n\u001b[0;32m---> 37\u001b[0m dic_elems, final_diff, frequencies, list_elems \u001b[38;5;241m=\u001b[39m \u001b[43moptimize_diff\u001b[49m\u001b[43m(\u001b[49m\u001b[43mi\u001b[49m\u001b[43m)\u001b[49m\n\u001b[1;32m     38\u001b[0m \u001b[38;5;28mprint\u001b[39m(final_diff)\n",
      "Cell \u001b[0;32mIn[12], line 17\u001b[0m, in \u001b[0;36moptimize_diff\u001b[0;34m(i)\u001b[0m\n\u001b[1;32m     14\u001b[0m     \u001b[38;5;28;01mreturn\u001b[39;00m sum_square_diff\n\u001b[1;32m     16\u001b[0m \u001b[38;5;66;03m# Convert initial dictionary to list for optimization\u001b[39;00m\n\u001b[0;32m---> 17\u001b[0m initial_elems \u001b[38;5;241m=\u001b[39m dict_to_list(\u001b[43mparametre\u001b[49m)\n\u001b[1;32m     19\u001b[0m \u001b[38;5;66;03m# Optimization options\u001b[39;00m\n\u001b[1;32m     20\u001b[0m options \u001b[38;5;241m=\u001b[39m {\n\u001b[1;32m     21\u001b[0m     \u001b[38;5;124m'\u001b[39m\u001b[38;5;124mmaxiter\u001b[39m\u001b[38;5;124m'\u001b[39m: \u001b[38;5;241m10000\u001b[39m,    \u001b[38;5;66;03m# Maximum number of iterations\u001b[39;00m\n\u001b[1;32m     22\u001b[0m     \u001b[38;5;124m'\u001b[39m\u001b[38;5;124mftol\u001b[39m\u001b[38;5;124m'\u001b[39m: \u001b[38;5;241m1e-10\u001b[39m,       \u001b[38;5;66;03m# Function value tolerance\u001b[39;00m\n\u001b[1;32m     23\u001b[0m     \u001b[38;5;66;03m#'disp': True\u001b[39;00m\n\u001b[1;32m     24\u001b[0m }\n",
      "\u001b[0;31mNameError\u001b[0m: name 'parametre' is not defined"
     ]
    }
   ],
   "source": [
    "\n",
    "# Optimizing the difference function for a given data set\n",
    "def optimize_diff(i):\n",
    "    # Load the experimental data \n",
    "    exp_real = np.array(get_exp_data(i, \"\")[0][0])\n",
    "    exp_imag = np.array(get_exp_data(i, \"\")[0][1])\n",
    "    frequencies = np.array(get_exp_data(i, \"\")[1])\n",
    "\n",
    "    # Difference function for the optimization\n",
    "    def diff_func(comp, exp_real, exp_imag):\n",
    "        Z = calc_Z(comp, frequencies)\n",
    "        diff_real = Z.real - exp_real\n",
    "        diff_imag = Z.imag - exp_imag\n",
    "        sum_square_diff = np.sum(diff_real ** 2 + diff_imag ** 2)\n",
    "        return sum_square_diff\n",
    "\n",
    "    # Convert initial dictionary to list for optimization\n",
    "    initial_elems = dict_to_list(parametre)\n",
    "\n",
    "    # Optimization options\n",
    "    options = {\n",
    "        'maxiter': 10000,    # Maximum number of iterations\n",
    "        'ftol': 1e-10,       # Function value tolerance\n",
    "        #'disp': True\n",
    "    }\n",
    "\n",
    "    # Minimize the difference function (optimize parameters)\n",
    "    opt = minimize(diff_func, initial_elems, args=(exp_real, exp_imag), method='TNC', options=options)\n",
    "    opt_elems = list_to_dict(parametre, opt.x)\n",
    "    final_diff = diff_func(opt.x, exp_real, exp_imag)\n",
    "    \n",
    "    #print(\"Final sum of squared difference for dataset\", i, \":\", final_diff)\n",
    "\n",
    "    return opt_elems, final_diff, frequencies, opt.x \n",
    "\n",
    "# Example usage: optimize for a specific dataset (choose i from 1 to 5)\n",
    "i = 1 # Change i to the desired dataset index\n",
    "dic_elems, final_diff, frequencies, list_elems = optimize_diff(i)\n",
    "print(final_diff)\n",
    "\n"
   ]
  },
  {
   "cell_type": "code",
   "execution_count": null,
   "metadata": {},
   "outputs": [
    {
     "data": {
      "image/png": "[encoded data removed]",
      "text/plain": [
       "<Figure size 640x480 with 1 Axes>"
      ]
     },
     "metadata": {},
     "output_type": "display_data"
    }
   ],
   "source": [
    "Z_init = calc_Z(dict_to_list(parametre), frequencies)\n",
    "\n",
    "plt.plot(Z_init.real, -Z_init.imag)\n",
    "plt.show()"
   ]
  },
  {
   "cell_type": "markdown",
   "metadata": {},
   "source": [
    "Observe how the parameters are changing with degradation"
   ]
  },
  {
   "cell_type": "code",
   "execution_count": null,
   "metadata": {},
   "outputs": [],
   "source": [
    "def finding_params(): \n",
    "    dic_list = []\n",
    "    for l in range(1,6):\n",
    "        dic_elems, final_diff, frequencies, list_elems = optimize_diff(l)\n",
    "        dic_list.append(dic_elems)\n",
    "    \n",
    "    combined_dict = {}\n",
    "    \n",
    "    for d in dic_list:\n",
    "        for key, value in d.items():\n",
    "            # If key is not in combined_dict, initialize with empty list\n",
    "            if key not in combined_dict:\n",
    "                combined_dict[key] = []\n",
    "            # Append the value to the list for this key\n",
    "            combined_dict[key].append(value)\n",
    "\n",
    "    return combined_dict"
   ]
  },
  {
   "cell_type": "code",
   "execution_count": null,
   "metadata": {},
   "outputs": [
    {
     "name": "stderr",
     "output_type": "stream",
     "text": [
      "/var/folders/18/pf3m4tds5qs9rpymkqv73yxc0000gn/T/ipykernel_12871/1778571784.py:46: OptimizeWarning: Unknown solver options: maxiter\n",
      "  opt = minimize(diff_func, initial_elems, args=(exp_real, exp_imag), method='TNC', options=options)\n",
      "/var/folders/18/pf3m4tds5qs9rpymkqv73yxc0000gn/T/ipykernel_12871/1778571784.py:46: OptimizeWarning: Unknown solver options: maxiter\n",
      "  opt = minimize(diff_func, initial_elems, args=(exp_real, exp_imag), method='TNC', options=options)\n",
      "/var/folders/18/pf3m4tds5qs9rpymkqv73yxc0000gn/T/ipykernel_12871/1778571784.py:46: OptimizeWarning: Unknown solver options: maxiter\n",
      "  opt = minimize(diff_func, initial_elems, args=(exp_real, exp_imag), method='TNC', options=options)\n",
      "/var/folders/18/pf3m4tds5qs9rpymkqv73yxc0000gn/T/ipykernel_12871/1778571784.py:46: OptimizeWarning: Unknown solver options: maxiter\n",
      "  opt = minimize(diff_func, initial_elems, args=(exp_real, exp_imag), method='TNC', options=options)\n",
      "/var/folders/18/pf3m4tds5qs9rpymkqv73yxc0000gn/T/ipykernel_12871/1778571784.py:46: OptimizeWarning: Unknown solver options: maxiter\n",
      "  opt = minimize(diff_func, initial_elems, args=(exp_real, exp_imag), method='TNC', options=options)\n"
     ]
    }
   ],
   "source": [
    "combined_dict = finding_params()\n",
    "\n",
    "def plot_change_param(key_list): \n",
    "    x = [1, 2, 3, 4, 5]\n",
    "    fig, ax = plt.subplots(figsize=(6, 6)) \n",
    "    for key in key_list: \n",
    "        ax.scatter(x, combined_dict[key], label = key)\n",
    "\n",
    "    plt.legend()\n",
    "    plt.xlabel(\"Data Set Number\")\n",
    "    plt.ylabel(\"Parameter Value\")\n",
    "    plt.title(\"Change in Parameters\") \n",
    "    plt.show()\n",
    "\n",
    "#plot_change_param(['R1', 'R2'])\n",
    "#plot_change_param(['Rs', 'Ds'])\n",
    "#plot_change_param(['C1', 'C2'])\n",
    "#plot_change_param(['a', 'L'])\n",
    "#plot_change_param(['K', 'sigma'])\n",
    "#plot_change_param(['ebsilon'])\n"
   ]
  },
  {
   "cell_type": "markdown",
   "metadata": {},
   "source": [
    "Comparison plot"
   ]
  },
  {
   "cell_type": "code",
   "execution_count": null,
   "metadata": {},
   "outputs": [
    {
     "data": {
      "image/png": "[encoded data removed]",
      "text/plain": [
       "<Figure size 640x480 with 1 Axes>"
      ]
     },
     "metadata": {},
     "output_type": "display_data"
    }
   ],
   "source": [
    "Z = calc_Z(list_elems, frequencies)\n",
    "\n",
    "plt.plot(Z.real, -Z.imag)\n",
    "plt.show()"
   ]
  },
  {
   "cell_type": "code",
   "execution_count": null,
   "metadata": {},
   "outputs": [
    {
     "data": {
      "image/png": "[encoded data removed]",
      "text/plain": [
       "<Figure size 600x600 with 1 Axes>"
      ]
     },
     "metadata": {},
     "output_type": "display_data"
    }
   ],
   "source": [
    "\n",
    "fig, ax = plt.subplots(figsize=(6, 6)) \n",
    "ax.scatter(np.array(get_exp_data(i, \"\")[0][0]), -np.array(get_exp_data(i, \"\")[0][1]), color = 'red', label=f\"Experimental \"+str(np.round(get_vdc(i, \"\"),3))+\" V\") \n",
    "ax.scatter(Z.real, -Z.imag, label = f'ECM', color = 'blue')\n",
    "\n",
    "#ax.set_xlim(0.016, 0.045) \n",
    "#ax.set_ylim(0, 0.012)\n",
    "\n",
    "plt.legend()\n",
    "plt.title(\"Comparing\") \n",
    "plt.show() "
   ]
  },
  {
   "cell_type": "markdown",
   "metadata": {},
   "source": [
    "fig, ax = plt.subplots(figsize=(10, 10)) \n",
    "ax.scatter(np.array(get_exp_data(i, \"\")[0][0]), -np.array(get_exp_data(i, \"\")[0][1]), color = 'red', label=f\"Experimental \"+str(np.round(get_vdc(i, \"\"),3))+\" V\") \n",
    "ax.scatter(Z_randles.real, -Z_randles.imag, label = f'ECM', color = 'blue')\n",
    "\n",
    "#ax.set_xlim(0.016, 0.045) \n",
    "#ax.set_ylim(0, 0.012)\n",
    "\n",
    "plt.legend()\n",
    "plt.title(\"Comparing\") \n",
    "plt.show() "
   ]
  }
 ],
 "metadata": {
  "kernelspec": {
   "display_name": "base",
   "language": "python",
   "name": "python3"
  },
  "language_info": {
   "codemirror_mode": {
    "name": "ipython",
    "version": 3
   },
   "file_extension": ".py",
   "mimetype": "text/x-python",
   "name": "python",
   "nbconvert_exporter": "python",
   "pygments_lexer": "ipython3",
   "version": "3.11.5"
  }
 },
 "nbformat": 4,
 "nbformat_minor": 2
}
