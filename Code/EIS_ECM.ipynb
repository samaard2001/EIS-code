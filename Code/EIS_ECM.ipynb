{
 "cells": [
  {
   "cell_type": "code",
   "execution_count": 1,
   "metadata": {},
   "outputs": [],
   "source": [
    "import pybammeis\n",
    "import pybamm\n",
    "import os\n",
    "import re\n",
    "import numpy as np\n",
    "from gamry_parser import GamryParser, Impedance\n",
    "import pandas as pd\n",
    "import time as timer\n",
    "import matplotlib.pyplot as plt\n",
    "from scipy.fft import fft\n",
    "import random\n",
    "from scipy.optimize import minimize\n",
    "from scipy.optimize import basinhopping\n",
    "from scipy.interpolate import interp1d\n",
    "import pyswarms as ps \n",
    "from pyswarms.single import GlobalBestPSO"
   ]
  },
  {
   "cell_type": "markdown",
   "metadata": {},
   "source": [
    "Uploading experimental data"
   ]
  },
  {
   "cell_type": "code",
   "execution_count": 2,
   "metadata": {},
   "outputs": [],
   "source": [
    "# ved ca. 45% SoC \n",
    "# ved 25 deg C\n",
    "\n",
    "def get_exp_data(i, d): \n",
    "    z_list = []\n",
    "    file = \"/Users/synnemard/Desktop/lithium_ion/EIS_data/MJ1_01_EIS-SoC_01-05/MJ1_01_EIS-SoC_0\"+str(i)+\"/\"+d+\"EISGALV3V587.DTA\"\n",
    "    ca = Impedance(file)\n",
    "    ca.load(filename=file)\n",
    "\n",
    "    # extract EIS curve\n",
    "    res = ca.get_curve_data().iloc[::-1]\n",
    "    df_real = res['Zreal']\n",
    "    df_imag= res['Zimag']\n",
    "    df_freq = res['Freq']\n",
    "    #df_name = res['Vdc']\n",
    "\n",
    "    # Removing the points beneath the y-axis \n",
    "    real = df_real[df_imag <= 0]\n",
    "    imag = df_imag[df_imag <= 0]\n",
    "    freq = df_freq[df_imag <= 0]\n",
    "    \n",
    "    #name = sum(df_name)/len(df_name)\n",
    "    # Adding the impendances to the list \n",
    "    z_list.append(real)\n",
    "    z_list.append(imag)\n",
    "    return[z_list, freq, len(freq)] #, df_name]\n"
   ]
  },
  {
   "cell_type": "markdown",
   "metadata": {},
   "source": [
    "Function to get detailed information on the V (SOC should be around 45%)"
   ]
  },
  {
   "cell_type": "code",
   "execution_count": 3,
   "metadata": {},
   "outputs": [
    {
     "data": {
      "text/plain": [
       "3.572173346938775"
      ]
     },
     "execution_count": 3,
     "metadata": {},
     "output_type": "execute_result"
    }
   ],
   "source": [
    "def get_vdc(i, d): \n",
    "    length = get_exp_data(i, d)[2]\n",
    "    file = \"/Users/synnemard/Desktop/lithium_ion/EIS_data/MJ1_01_EIS-SoC_01-05/MJ1_01_EIS-SoC_0\"+str(i)+\"/\"+d+\"EISGALV3V587.DTA\"\n",
    "    df = pd.read_csv(file, delimiter='\\t', skiprows=[i for i in range(0, 60)], encoding='ISO-8859-1')\n",
    "\n",
    "    df_vdc = df['Vdc'][::-1]\n",
    "    vdc = df_vdc[:length+1]\n",
    "    v_list = np.array(vdc)\n",
    "\n",
    "    sum = 0 \n",
    "    for i in v_list: \n",
    "        sum += float(i) \n",
    "    v_avg = sum/len(v_list)\n",
    "\n",
    "    return v_avg #, df_name]\n",
    "\n",
    "get_vdc(1, \"\")"
   ]
  },
  {
   "cell_type": "markdown",
   "metadata": {},
   "source": [
    "Defining parameters"
   ]
  },
  {
   "cell_type": "code",
   "execution_count": 4,
   "metadata": {},
   "outputs": [],
   "source": [
    "\n",
    "# OCV curves for the anode and cathode\n",
    "# Simple math model for the individual electrode potentials as a function of the stoichiometry of Lithium\n",
    "def MJ1_ocp_tanh_SiC(sto):\n",
    "    x = sto\n",
    "    p = np.array([ 1.20912055e+00,  5.62297420e+01, -1.11020020e-01, -2.53458213e-01, 4.92581391e+01,  1.22046522e-02,  4.73538620e-02,  1.79631246e+01, 1.75283209e-01,  1.88038929e-02,  3.03255334e+01,  4.66328034e-01])\n",
    "    \n",
    "    return (\n",
    "            p[0] * np.exp(-p[1] * x)\n",
    "            + p[2]\n",
    "            - p[3] * np.tanh(p[4] * (x - p[5]))\n",
    "            - p[6] * np.tanh(p[7] * (x - p[8]))\n",
    "            - p[9] * np.tanh(p[10] * (x - p[11]))\n",
    "        )\n",
    "\n",
    "def MJ1_ocp_tanh_NMC(sto):\n",
    "    x = sto\n",
    "    p = np.array([ 0.74041974,  4.39107343,  0.03434767, 18.16841489,  0.53463176, 17.68283504, 14.59709162,  0.28835348, 17.58474971, 14.69911523,  0.28845641])\n",
    "\n",
    "    return (\n",
    "            -p[0] * x\n",
    "            + p[1]\n",
    "            - p[2] * np.tanh(p[3] * (x - p[4]))\n",
    "            - p[5] * np.tanh(p[6] * (x - p[7]))\n",
    "            + p[8] * np.tanh(p[9] * (x - p[10]))\n",
    "        )\n",
    "\n",
    "# Parameters from literature\n",
    "literature_params = {\n",
    "    'Electrode height [m]': 0.059,\n",
    "    'Electrode width [m]': 0.610*2, # Multiplying by two since the electrode has active material on both sides.\n",
    "    'Lower voltage cut-off [V]': 2.5,\n",
    "    'Upper voltage cut-off [V]': 4.5,\n",
    "    'Nominal cell capacity [A.h]': 3.5,\n",
    "    'EC initial concentration in electrolyte [mol.m-3]': 1,  #4541.0,\n",
    "\n",
    " # From Table 3 in https://doi.org/10.1016/j.jpowsour.2018.11.043\n",
    "    'Maximum concentration in negative electrode [mol.m-3]': 32418.5,\n",
    "    'Negative particle radius [m]': 6.1e-06,\n",
    "    'Negative electrode porosity': 0.216,\n",
    "    'Negative electrode active material volume fraction': 0.7011854763922494,\n",
    "    'Negative electrode conductivity [S.m-1]': 100.0,\n",
    "    'Negative electrode diffusivity [m2.s-1]': 5e-14,\n",
    "    'Negative electrode OCP [V]': MJ1_ocp_tanh_SiC,\n",
    "\n",
    "    # 'Maximum concentration in positive electrode [mol.m-3]': 51081.15,\n",
    "    'Positive particle radius [m]': 3.8e-06,\n",
    "    'Positive electrode porosity': 0.171,\n",
    "    'Positive electrode active material volume fraction': 0.7355902286855152,\n",
    "    'Positive electrode conductivity [S.m-1]': 0.17,\n",
    "    'Positive electrode diffusivity [m2.s-1]': 5e-13,\n",
    "    'Positive electrode OCP [V]': MJ1_ocp_tanh_NMC,\n",
    "\n",
    "    'Separator porosity': 0.45,\n",
    "\n",
    "    # end of section 3 data\n",
    "    \n",
    "    # From Table A-9 and A-10 in https://doi.org/10.1016/j.jpowsour.2018.11.043\n",
    "    'Negative current collector conductivity [S.m-1]': 5.9e7/(1+3.383e-3 * (298.15-293.15)), \n",
    "    'Negative current collector thickness [m]': 11e-06,\n",
    "    'Negative current collector density [kg.m-3]': 8950.0,\n",
    "    'Negative current collector specific heat capacity [J.kg-1.K-1]': 385.0,\n",
    "    'Negative current collector thermal conductivity [W.m-1.K-1]': 398.0,\n",
    "    'Negative electrode density [kg.m-3]': 2242.0,\n",
    "    'Negative electrode specific heat capacity [J.kg-1.K-1]': 867.0,\n",
    "    'Negative electrode thermal conductivity [W.m-1.K-1]': 1.04,\n",
    "    'Negative electrode thickness [m]': 86.7e-6, # 86.7 in Sturm 2019, 85um in Heenan2020, 170um in NASA\n",
    "    'Positive current collector conductivity [S.m-1]': 3.78e7/(1+4.290e-3 * (298.15-293.15)),\n",
    "    'Positive current collector density [kg.m-3]': 2710.0,\n",
    "    'Positive current collector specific heat capacity [J.kg-1.K-1]': 903.0,\n",
    "    'Positive current collector thermal conductivity [W.m-1.K-1]': 238.0,\n",
    "    'Positive current collector thickness [m]': 17.3e-06,\n",
    "    'Positive electrode density [kg.m-3]': 4870.0,\n",
    "    'Positive electrode specific heat capacity [J.kg-1.K-1]': 840.1,\n",
    "    'Positive electrode thermal conductivity [W.m-1.K-1]': 1.58,\n",
    "    'Positive electrode thickness [m]': 66.2e-6, #66.2um in Sturm2019, 72.5um in Heenan2020, 160um in NASA\n",
    "    'Separator density [kg.m-3]': 1009.0,\n",
    "    'Separator specific heat capacity [J.kg-1.K-1]': 1978.2,\n",
    "    'Separator thermal conductivity [W.m-1.K-1]': 0.33,\n",
    "    'Separator thickness [m]': 12e-06,\n",
    "\n",
    "    # end of table data\n",
    "    }\n",
    "\n",
    "# Use default parameters from the Chen2020 publication\n",
    "params = pybamm.ParameterValues(\"Chen2020\")\n",
    "\n",
    "# Overwrite parameters with our own\n",
    "for parameter, value in literature_params.items():\n",
    "    try:\n",
    "        if params[parameter] != value: # Check if the parameter exists in 'params' and has a different value\n",
    "            params[parameter] = value # Update 'params' with the new value from 'literature_params'\n",
    "    except KeyError as e: # This block handles the case where the 'parameter' is not in 'params'\n",
    "        print(f\"Parameter {parameter} not part of default. Skipping.\")\n",
    "\n",
    "#params['Electrolyte conductivity']\n"
   ]
  },
  {
   "cell_type": "markdown",
   "metadata": {},
   "source": [
    "Finding the -dU/dcs for each the anode and the cathode"
   ]
  },
  {
   "cell_type": "code",
   "execution_count": 5,
   "metadata": {},
   "outputs": [
    {
     "name": "stdout",
     "output_type": "stream",
     "text": [
      "32418.5\n",
      "63104.0\n",
      "1.3786045384026093e-05\n",
      "0.740426330458689\n"
     ]
    }
   ],
   "source": [
    "c_n_max = params[\"Maximum concentration in negative electrode [mol.m-3]\"]\n",
    "c_n_s_max = c_n_max \n",
    "c_p_max = params[\"Maximum concentration in positive electrode [mol.m-3]\"]\n",
    "c_p_s_max = c_p_max\n",
    "print(c_n_max)\n",
    "print(c_p_max)\n",
    "\n",
    "params.set_initial_stoichiometries(0.45) # Setting SOC, this changes the initial concentrations\n",
    "c_n = params['Initial concentration in negative electrode [mol.m-3]'] \n",
    "c_n_s = c_n # for the surface of the particle\n",
    "c_p = params['Initial concentration in positive electrode [mol.m-3]'] \n",
    "c_p_s = c_p\n",
    "\n",
    "def sech_2(z): \n",
    "    return 1/np.cosh(z)**2\n",
    "\n",
    "def _dU_dc_anode(c): \n",
    "    x = c/c_n_max\n",
    "    # Har satt in for x i uttrykket for potensial lenger oppe og derivert med hensyn på c\n",
    "    p = np.array([ 1.20912055e+00,  5.62297420e+01, -1.11020020e-01, -2.53458213e-01, 4.92581391e+01,  1.22046522e-02,  4.73538620e-02,  1.79631246e+01, 1.75283209e-01,  1.88038929e-02,  3.03255334e+01,  4.66328034e-01])\n",
    "    dU_dc = -(p[6]*p[7]*sech_2(p[7]*(c/c_n_max-p[8])))/c_n_max - (p[3]*p[4]*sech_2(p[4]*(c/c_n_max-p[5])))/c_n_max - (p[9]*p[10]*sech_2(p[10]*(c/c_n_max-p[11])))/c_n_max - (p[0]*p[1]*np.exp(-p[1]*c/c_n_max))/c_n_max\n",
    "    return -dU_dc # [V*m^3/mol]\n",
    "\n",
    "print(_dU_dc_anode(c_n))\n",
    "\n",
    "def _dU_dc_cathode(c): \n",
    "    x = c/c_p_max\n",
    "    # Har satt in for x i uttrykket for potensial lenger oppe og derivert med hensyn på c\n",
    "    p = np.array([ 0.74041974,  4.39107343,  0.03434767, 18.16841489,  0.53463176, 17.68283504, 14.59709162,  0.28835348, 17.58474971, 14.69911523,  0.28845641])\n",
    "    dU_dc = -(p[5]*p[6]*sech_2(p[6]*(c/c_p_max-p[7])))/c_p_max - (p[2]*p[3]*sech_2(p[3]*(c/c_p_max-p[4])))/c_p_max + (p[9]*p[8]*sech_2(p[9]*(c/c_p_max-p[10])))/c_p_max - p[0]\n",
    "    return -dU_dc # [V*m^3/mol]\n",
    "\n",
    "print(_dU_dc_cathode(c_p))"
   ]
  },
  {
   "cell_type": "markdown",
   "metadata": {},
   "source": [
    "Diverse utregninger"
   ]
  },
  {
   "cell_type": "code",
   "execution_count": 6,
   "metadata": {},
   "outputs": [],
   "source": [
    "F = 96485 #C/mol \n",
    "R = 8.314 #J/mol*K\n",
    "n = 1 \n",
    "T = 298 # K"
   ]
  },
  {
   "cell_type": "code",
   "execution_count": 7,
   "metadata": {},
   "outputs": [
    {
     "name": "stdout",
     "output_type": "stream",
     "text": [
      "0.0010376311945925836\n",
      "0.010638434262134512\n"
     ]
    }
   ],
   "source": [
    "volume_anode = params['Electrode height [m]']*params['Electrode width [m]']*params['Negative electrode thickness [m]'] # [m^3]\n",
    "volume_cathode = params['Electrode height [m]']*params['Electrode width [m]']*params['Positive electrode thickness [m]'] # [m^3]\n",
    "\n",
    "c_e = params['EC initial concentration in electrolyte [mol.m-3]']\n",
    "i_0_a = params['Negative electrode exchange-current density [A.m-2]'](c_e, c_n_s, c_n_s_max, T)\n",
    "i_0_c = params['Positive electrode exchange-current density [A.m-2]'](c_e, c_p_s, c_p_s_max, T)\n",
    "\n",
    "print(i_0_a*10**(3)*10**(-4))\n",
    "print(i_0_c*10**(3)*10**(-4))\n",
    "\n",
    "# Exhange current densitites er altfor lave i forhold til Meyers paper, setter noen default parametre:\n",
    "#i_0_a = 200 \n",
    "#i_0_c = 200\n",
    "\n",
    "r = params['Positive particle radius [m]']\n",
    "e_a = params['Negative electrode porosity']\n",
    "e_c = params['Positive electrode porosity']"
   ]
  },
  {
   "cell_type": "code",
   "execution_count": 8,
   "metadata": {},
   "outputs": [],
   "source": [
    "\n",
    "def R_ct(i_0): \n",
    "    return (R*T)/(n*F*i_0) # [ohm.m^2]\n",
    "\n",
    "R1_a = R_ct(i_0_a).__dict__['_value']\n",
    "R1_c = R_ct(i_0_c).__dict__['_value']\n",
    "\n",
    "def pore_surface_area(V_electrode, e): \n",
    "    V_particle = (4*np.pi/3)*r**3\n",
    "    V_pores = e*V_electrode \n",
    "    # Number of particles\n",
    "    N = V_pores/V_particle \n",
    "    # Surface area of particle \n",
    "    A_particle = 4*np.pi*r**2\n",
    "    # Total surface area of pores\n",
    "    A_total = N*A_particle # so that A_total = (3*e*V_electrode)/r_particle\n",
    "    return A_total # [m^2]\n"
   ]
  },
  {
   "cell_type": "markdown",
   "metadata": {},
   "source": [
    "Meyers parametre"
   ]
  },
  {
   "cell_type": "code",
   "execution_count": null,
   "metadata": {},
   "outputs": [
    {
     "name": "stdout",
     "output_type": "stream",
     "text": [
      "{'R1': 24747.05157758315, 'C1': 20.0, 'Rs': 3.8, 'Ds': 5e-10, 'a': 1705.2631578947369, 'L': 86.7, 'K': 32.496269604297744, 'sigma': 1.0, 'ebsilon': 0.216, '-dU_dcs': 13.786045384026092}\n",
      "{'R1': 2413.730447391959, 'C1': 20.0, 'Rs': 3.8, 'Ds': 5e-10, 'a': 1350.0, 'L': 66.2, 'K': 32.496269604297744, 'sigma': 0.0017000000000000001, 'ebsilon': 0.171, '-dU_dcs': 740426.330458689}\n"
     ]
    }
   ],
   "source": [
    "\n",
    "\n",
    "a_parametre = {\n",
    "    \"R1\": R1_a*10**4, #R_ct(i_0_a)*10**4,  # motstand, [ohm.cm^2]\n",
    "    \"C1\": params['Negative electrode double-layer capacity [F.m-2]']*10**6*10**(-4),  # kapasitans, [micro.F/cm^2]\n",
    "    \"Rs\": params['Positive particle radius [m]']*10**6, # partikkelstørrelse, [micro.m]\n",
    "    \"Ds\": params['Negative electrode diffusivity [m2.s-1]']*10**4,     # diffusjonskoeffisient [cm^2.s^-1]\n",
    "    \"a\": (pore_surface_area(volume_anode, e_a)/volume_anode)*10**(-2),  # overflateareal porer/volum electrode [cm^-1]\n",
    "    \"L\": params['Negative electrode thickness [m]']*10**6,  # tykkelse, elektrode, [micro.m]\n",
    "    \"K\" : params['Electrolyte conductivity [S.m-1]'](c_e, T)*10**6*10**(-2),  # ledningsevne elektrolytt [micro.S.cm^-1]\n",
    "    \"sigma\": params['Negative electrode conductivity [S.m-1]']*10**(-2), # ledningsevne, fast elektrodematerial [S.cm-1]\n",
    "    \"ebsilon\": params['Negative electrode porosity'],     # porositet\n",
    "    \"-dU_dcs\": (_dU_dc_anode(c_n))*10**(6), #[V.cm^3.mol-1]\n",
    "    }\n",
    "\n",
    "c_parametre = {\n",
    "    \"R1\": R1_c*10**4, #R_ct(i_0_c)*10**4, # R_ct(i_0_c),  # motstand, [ohm.cm^2]\n",
    "    \"C1\": params['Positive electrode double-layer capacity [F.m-2]']*10**6*10**(-4),  # kapasitans, [micro.F/cm^2]\n",
    "    \"Rs\": params['Positive particle radius [m]']*10**6, # partikkelstørrelse, [micro.m]\n",
    "    \"Ds\": params['Negative electrode diffusivity [m2.s-1]']*10**4,     # diffusjonskoeffisient [cm^2.s^-1]\n",
    "    \"a\": (pore_surface_area(volume_cathode, e_c)/volume_cathode)*10**(-2),  # overflateareal porer/volum electrode [cm^-1]\n",
    "    \"L\": params['Positive electrode thickness [m]']*10**6,  # tykkelse, elektrode, [micro.m]\n",
    "    \"K\" : params['Electrolyte conductivity [S.m-1]'](c_e, T)*10**6*10**(-2),  # ledningsevne elektrolytt [micro.S.cm^-1]\n",
    "    \"sigma\": params['Positive electrode conductivity [S.m-1]']*10**(-2), # ledningsevne, fast elektrodematerial [S.cm-1]\n",
    "    \"ebsilon\": params['Positive electrode porosity'],     # porositet \n",
    "    \"-dU_dcs\": (_dU_dc_cathode(c_p))*10**(6), #[V.cm^3.mol-1]\n",
    "    }\n"
   ]
  },
  {
   "cell_type": "markdown",
   "metadata": {},
   "source": [
    "Originale enheter (ser om dette funker)"
   ]
  },
  {
   "cell_type": "code",
   "execution_count": 9,
   "metadata": {},
   "outputs": [
    {
     "name": "stdout",
     "output_type": "stream",
     "text": [
      "{'R1': 2.474705157758315, 'C1': 0.2, 'Rs': 3.8e-06, 'Ds': 5e-14, 'a': 170526.31578947368, 'L': 8.67e-05, 'K': 0.003249626960429774, 'sigma': 100.0, 'ebsilon': 0.216, '-dU_dcs': 1.3786045384026093e-05}\n",
      "{'R1': 0.2413730447391959, 'C1': 0.2, 'Rs': 3.8e-06, 'Ds': 5e-14, 'a': 135000.0, 'L': 6.62e-05, 'K': 0.003249626960429774, 'sigma': 0.17, 'ebsilon': 0.171, '-dU_dcs': 0.740426330458689}\n"
     ]
    }
   ],
   "source": [
    "\n",
    "\n",
    "a_parametre = {\n",
    "    \"R1\": R1_a,  # motstand, [ohm.m^2]\n",
    "    \"C1\": params['Negative electrode double-layer capacity [F.m-2]'],  # kapasitans\n",
    "    \"Rs\": params['Positive particle radius [m]'], # partikkelstørrelse\n",
    "    \"Ds\": params['Negative electrode diffusivity [m2.s-1]'],     # diffusjonskoeffisient [m^2.s^-1]\n",
    "    \"a\": (pore_surface_area(volume_anode, e_a)/volume_anode),  # overflateareal porer/volum electrode [m^-1]\n",
    "    \"L\": params['Negative electrode thickness [m]'],  # tykkelse, elektrode, [m]\n",
    "    \"K\" : params['Electrolyte conductivity [S.m-1]'](c_e, T),  # ledningsevne elektrolytt [S.m^-1]\n",
    "    \"sigma\": params['Negative electrode conductivity [S.m-1]'], # ledningsevne, fast elektrodematerial [S.cm-1]\n",
    "    \"ebsilon\": params['Negative electrode porosity'],     # porositet\n",
    "    \"-dU_dcs\": (_dU_dc_anode(c_n)), #[V.m^3.mol-1]\n",
    "    }\n",
    "\n",
    "c_parametre = {\n",
    "    \"R1\": R1_c, #R_ct(i_0_c)*10**4, # R_ct(i_0_c),  # motstand, [ohm.cm^2]\n",
    "    \"C1\": params['Positive electrode double-layer capacity [F.m-2]'],  # kapasitans, [micro.F/cm^2]\n",
    "    \"Rs\": params['Positive particle radius [m]'], # partikkelstørrelse, [micro.m]\n",
    "    \"Ds\": params['Negative electrode diffusivity [m2.s-1]'],     # diffusjonskoeffisient [cm^2.s^-1]\n",
    "    \"a\": (pore_surface_area(volume_cathode, e_c)/volume_cathode),  # overflateareal porer/volum electrode [cm^-1]\n",
    "    \"L\": params['Positive electrode thickness [m]'],  # tykkelse, elektrode, [micro.m]\n",
    "    \"K\" : params['Electrolyte conductivity [S.m-1]'](c_e, T),  # ledningsevne elektrolytt [micro.S.cm^-1]\n",
    "    \"sigma\": params['Positive electrode conductivity [S.m-1]'], # ledningsevne, fast elektrodematerial [S.cm-1]\n",
    "    \"ebsilon\": params['Positive electrode porosity'],     # porositet \n",
    "    \"-dU_dcs\": (_dU_dc_cathode(c_p)), #[V.cm^3.mol-1]\n",
    "    }\n",
    "\n",
    "print(a_parametre)\n",
    "print(c_parametre)\n",
    "#params.search('Positive particle surface concentration [mol.m-3]')"
   ]
  },
  {
   "cell_type": "code",
   "execution_count": 10,
   "metadata": {},
   "outputs": [
    {
     "name": "stdout",
     "output_type": "stream",
     "text": [
      "{'R1': 44.06, 'R2': 4.4, 'C1': 10, 'C2': 10, 'Rs': 2.0, 'Ds': 1e-09, 'a': 7500, 'L': 100, 'K': 55, 'sigma': 1, 'ebsilon': 0.5, '-dU_dcs': 20.27}\n"
     ]
    }
   ],
   "source": [
    "test_parametre = {\n",
    "    \"R1\": 44.06,  # motstand, [ohm.cm^2]\n",
    "    \"R2\": 4.4,\n",
    "    \"C1\": 10,  # kapasitans, [micro.F/cm^2]\n",
    "    \"C2\": 10, \n",
    "    \"Rs\": 2.0, # partikkelstørrelse, [micro.m]\n",
    "    \"Ds\": 1.0*10**(-9),     # diffusjonskoeffisient [cm^2.s^-1]\n",
    "    \"a\": 7500,  # overflateareal porer/volum electrode [cm^-1]\n",
    "    \"L\": 100,  # tykkelse, elektrode, [micro.m]\n",
    "    \"K\" : 55,  # ledningsevne elektrolytt [micro.S.cm^-1]\n",
    "    \"sigma\": 1, # ledningsevne, fast elektrodematerial [S.cm-1]\n",
    "    \"ebsilon\": 0.5,     # porositet\n",
    "    \"-dU_dcs\": 20.27, #[V.cm^3.mol-1]\n",
    "    }\n",
    "\n",
    "print(test_parametre)"
   ]
  },
  {
   "cell_type": "markdown",
   "metadata": {},
   "source": [
    "Kommentarer \n",
    "- veldig høy R1? - dette kan komme fra lav exchange current density\n",
    "- Må endre elektrolytkonsentrasjonen for å få et meningsfylt svar for elektrolyttkonduktiviteten\n",
    "- -dU/dc_s veldig høy for kathoden? "
   ]
  },
  {
   "cell_type": "markdown",
   "metadata": {},
   "source": [
    "Functions to convert list to dictionary or vice versa "
   ]
  },
  {
   "cell_type": "code",
   "execution_count": 11,
   "metadata": {},
   "outputs": [],
   "source": [
    "# Function to convert dictionary to list\n",
    "def dict_to_list(c_elem):\n",
    "    return list(c_elem.values())\n",
    "\n",
    "# Function to convert list back to dictionary\n",
    "def list_to_dict(c_elem, optimized_values):\n",
    "    keys = list(c_elem.keys())\n",
    "    return dict(zip(keys, optimized_values))\n"
   ]
  },
  {
   "cell_type": "markdown",
   "metadata": {},
   "source": [
    "Calculate impedance"
   ]
  },
  {
   "cell_type": "code",
   "execution_count": 12,
   "metadata": {},
   "outputs": [],
   "source": [
    "def R_part(param): \n",
    "    R_part = param['-dU_dcs']*(param['Rs']/(F*param['Ds']))\n",
    "    return R_part \n",
    "\n",
    "def Y_s(param, ang_freq):\n",
    "    omega_s = (ang_freq*param['Rs']**2)/param['Ds']\n",
    "    Y_s = (np.sqrt(1j*omega_s) - np.tanh(np.sqrt(1j*omega_s)))/np.tanh(np.sqrt(1j*omega_s))\n",
    "    return Y_s\n",
    "\n",
    "def Y_particle(param, ang_freq, R_part, Y_s): \n",
    "    Y = 1/((param['R1'] + R_part/Y_s)/(1 + 1j*ang_freq*param['C1']*(param['R1'] + R_part/Y_s)))\n",
    "    return Y\n",
    "\n",
    "def v(param, Y): \n",
    "    v = param['L']/ (((param['K']*param['sigma'])/(param['K'] + param['sigma']))**0.5*((param['a']*Y))**(-0.5))\n",
    "    #v = param['L']/ (((param['K']*param['sigma'])/(param['K'] + param['sigma']))**0.5*(np.abs(Y))**(-0.5))\n",
    "    return v\n",
    "\n",
    "#frequencies = np.array(get_exp_data(1, \"\")[1])\n",
    "#ang_freq = 2 * np.pi * frequencies\n",
    "#_dU_dc_a = _dU_dc_anode(c_n) \n",
    "#print(_dU_dc_a.__dict__['value'])\n",
    "#print(R_part(a_parametre))\n",
    "#Rp = R_part(a_parametre)\n",
    "#print(Y_s(a_parametre, ang_freq))\n",
    "#Ys = Y_s(a_parametre, ang_freq)\n",
    "#Y = Y_particle(a_parametre, ang_freq, Rp, Ys)\n",
    "#print(v(a_parametre, Y))\n",
    "\n"
   ]
  },
  {
   "cell_type": "code",
   "execution_count": 13,
   "metadata": {},
   "outputs": [
    {
     "data": {
      "image/png": "[encoded data removed]",
      "text/plain": [
       "<Figure size 640x480 with 1 Axes>"
      ]
     },
     "metadata": {},
     "output_type": "display_data"
    }
   ],
   "source": [
    "\n",
    "# Function to calculate Z \n",
    "def calc_Z(comp, frequencies):\n",
    "    # Update param dictionary from the flat parameter list (comp), where comp is updated values\n",
    "    param = list_to_dict(a_parametre, comp) \n",
    "    ang_freq = 2 * np.pi * frequencies\n",
    "\n",
    "    Rp = R_part(param)\n",
    "    Ys = Y_s(param, ang_freq)\n",
    "    Y = Y_particle(param, ang_freq, Rp, Ys)\n",
    "    v_calc = v(param, Y)\n",
    "\n",
    "    # The total impedance: \n",
    "    Z = (param['L']/(param['K']+param['sigma']))*(1 + (2 + (param['sigma']/param['K'] + param['K']/param['sigma'])*np.cosh(v_calc))/(v_calc*np.sinh(v_calc)))\n",
    "    \n",
    "    return Z, 1/Y \n",
    "\n",
    "frequencies = np.array(get_exp_data(1, \"\")[1])\n",
    "Z_init, Z_particle = calc_Z(dict_to_list(a_parametre), frequencies)\n",
    "\n",
    "plt.plot(Z_init.real, -Z_init.imag)\n",
    "plt.show()"
   ]
  },
  {
   "cell_type": "markdown",
   "metadata": {},
   "source": [
    "Test cell (from Meyers paper)"
   ]
  },
  {
   "cell_type": "code",
   "execution_count": 14,
   "metadata": {},
   "outputs": [
    {
     "name": "stdout",
     "output_type": "stream",
     "text": [
      "4.4\n",
      "420168.93817691866\n",
      "[  11209.59896488  +11210.59896488j   12577.52942495  +12578.52942495j\n",
      "   14112.98668885  +14113.98668885j   15834.58320747  +15835.58320747j\n",
      "   17766.23866151  +17767.23866151j   19935.63151046  +19936.63151046j\n",
      "   22370.09212384  +22371.09212384j   25098.77399239  +25099.77399239j\n",
      "   28174.63913303  +28175.63913303j   31596.27982302  +31597.27982302j\n",
      "   35476.47807617  +35477.47807617j   39791.76925537  +39792.76925537j\n",
      "   44684.28759885  +44685.28759885j   50171.71813101  +50172.71813101j\n",
      "   56274.46280028  +56275.46280028j   63086.70561759  +63087.70561759j\n",
      "   70953.938442    +70954.938442j     79584.53061586  +79585.53061586j\n",
      "   89218.48186101  +89219.48186101j   99783.13340015  +99784.13340015j\n",
      "  112045.059569   +112046.059569j    126174.41123518 +126175.41123518j\n",
      "  141115.09257412 +141116.09257412j  158456.05705294 +158457.05705294j\n",
      "  177386.33724981 +177387.33724981j  199230.79187816 +199231.79187816j\n",
      "  222671.89125008 +222672.89125008j  250862.60317816 +250863.60317816j\n",
      "  281755.27982992 +281756.27982992j  315971.69880416 +315972.69880416j\n",
      "  353267.15008303 +353268.15008303j  394755.78974634 +394756.78974634j\n",
      "  443112.46272638 +443113.46272638j  499595.73476703 +499596.73476703j\n",
      "  559752.27366334 +559753.27366334j  626656.06865775 +626657.06865775j\n",
      "  694856.34174224 +694857.34174224j  794431.79785189 +794432.79785189j\n",
      "  892193.88903397 +892194.88903397j  996381.75277917 +996382.75277917j\n",
      " 1123496.52526571+1123497.52526571j 1256107.41952345+1256108.41952345j\n",
      " 1410682.98305426+1410683.98305426j 1579862.59344685+1579863.59344685j\n",
      " 1780953.71454852+1780954.71454852j 1991167.06106598+1991168.06106598j\n",
      " 2236370.26671156+2236371.26671156j 2520412.67065143+2520413.67065143j]\n",
      "4.4\n",
      "[0.05917068+3.23995263e-01j 0.05986057+4.03558354e-01j\n",
      " 0.06034392+5.04553439e-01j 0.06069174+6.32264754e-01j\n",
      " 0.06095131+7.93573753e-01j 0.06115281+9.97280868e-01j\n",
      " 0.06131502+1.25414232e+00j 0.06144976+1.57746505e+00j\n",
      " 0.06156519+1.98671954e+00j 0.0616647 +2.49768746e+00j\n",
      " 0.06175327+3.14806837e+00j 0.0618312 +3.95987519e+00j\n",
      " 0.06190146+4.99296329e+00j 0.06196424+6.29412474e+00j\n",
      " 0.06201999+7.91806193e+00j 0.06206979+9.95078263e+00j\n",
      " 0.06211567+1.25870526e+01j 0.06215579+1.58351107e+01j\n",
      " 0.06219157+1.99006954e+01j 0.06222301+2.48925358e+01j\n",
      " 0.06225216+3.13861046e+01j 0.06227882+3.98008511e+01j\n",
      " 0.06230125+4.97846111e+01j 0.06232204+6.27718000e+01j\n",
      " 0.06234011+7.86658465e+01j 0.06235673+9.92334232e+01j\n",
      " 0.06237095+1.23958179e+02j 0.06238455+1.57331489e+02j\n",
      " 0.06239634+1.98466609e+02j 0.06240671+2.49596960e+02j\n",
      " 0.06241573+3.11996048e+02j 0.06242376+3.89582381e+02j\n",
      " 0.06243123+4.90873917e+02j 0.06243813+6.23992301e+02j\n",
      " 0.06244394+7.83309369e+02j 0.0624491 +9.81747749e+02j\n",
      " 0.06245333+1.20706685e+03j 0.06245821+1.57780871e+03j\n",
      " 0.06246194+1.99002933e+03j 0.06246511+2.48194650e+03j\n",
      " 0.06246818+3.15561675e+03j 0.06247073+3.94452093e+03j\n",
      " 0.06247308+4.97507327e+03j 0.06247514+6.23992245e+03j\n",
      " 0.06247707+7.92949925e+03j 0.06247868+9.91187563e+03j\n",
      " 0.06248017+1.25033911e+04j 0.06248153+1.58812127e+04j]\n",
      "[   5015.04476472    5581.60944649    6229.29506867    6964.47900226\n",
      "    7796.06697716    8734.93192884    9792.10176102   10979.63255961\n",
      "   12320.14424546   13812.6976703    15506.26313255   17390.43789407\n",
      "   19527.1639997    21924.08594221   24590.04980616   27566.15187793\n",
      "   31003.3032285    34774.07011679   38983.28985855   43599.2029076\n",
      "   48956.73386655   55130.22257592   61658.22666136   69235.00036226\n",
      "   77506.20610625   87050.71245892   97292.84913402  109610.24386684\n",
      "  123108.21547661  138058.43709705  154353.98667827  172481.67345567\n",
      "  193610.22085173  218289.53568813  244573.81713481  273806.18745839\n",
      "  303605.03030987  347112.67732199  389828.00859874  435350.96220417\n",
      "  490891.40335419  548833.27310046  616372.19768498  690292.08969832\n",
      "  778155.12436023  870003.94624526  977140.93799807 1101247.99695446]\n",
      "1.7857142857142858\n",
      "[nan nan nan nan nan nan nan nan nan nan nan nan nan nan nan nan nan nan\n",
      " nan nan nan nan nan nan nan nan nan nan nan nan nan nan nan nan nan nan\n",
      " nan nan nan nan nan nan nan nan nan nan nan nan]\n"
     ]
    },
    {
     "data": {
      "image/png": "[encoded data removed]",
      "text/plain": [
       "<Figure size 640x480 with 1 Axes>"
      ]
     },
     "metadata": {},
     "output_type": "display_data"
    }
   ],
   "source": [
    "param = test_parametre\n",
    "print(param['R2'])\n",
    "\n",
    "def R_part(param): \n",
    "    R_part = param['-dU_dcs']*(param['Rs']/(F*param['Ds']))\n",
    "    return R_part \n",
    "\n",
    "def Y_s(param, ang_freq):\n",
    "    omega_s = (ang_freq*param['Rs']**2)/param['Ds']\n",
    "    Y_s = (np.sqrt(1j*omega_s) - np.tanh(np.sqrt(1j*omega_s)))/np.tanh(np.sqrt(1j*omega_s))\n",
    "    return Y_s\n",
    "\n",
    "def Y_particle(param, ang_freq, R_part, Y_s): \n",
    "    print(param['R2'])\n",
    "    Y = 1/((param['R1'] + R_part/Y_s)/(1 + 1j*ang_freq*param['C1']*(param['R1'] + R_part/Y_s)) + (param['R2'])/(1 + 1j*ang_freq*param['R2']*param['C2']))\n",
    "    return Y\n",
    "\n",
    "def v(param, Y): \n",
    "    v = param['L']/ (((param['K']*param['sigma'])/(param['K'] + param['sigma']))**0.5*(np.abs(param['a']*Y))**(-0.5))\n",
    "    #v = param['L']/ (((param['K']*param['sigma'])/(param['K'] + param['sigma']))**0.5*(np.abs(Y))**(-0.5))\n",
    "    return v\n",
    "\n",
    "# Function to calculate Z \n",
    "def calc_Z(comp, frequencies):\n",
    "    # Update param dictionary from the flat parameter list (comp), where comp is updated values\n",
    "    param = list_to_dict(test_parametre, comp) \n",
    "    ang_freq = 2 * np.pi * frequencies\n",
    "\n",
    "    Rp = R_part(param)\n",
    "    print(Rp)\n",
    "    Ys = Y_s(param, ang_freq)\n",
    "    print(Ys)\n",
    "    Y = Y_particle(param, ang_freq, Rp, Ys)\n",
    "    print(Y)\n",
    "    v_calc = v(param, Y)\n",
    "    print(v_calc)\n",
    "\n",
    "    # The total impedance: \n",
    "    # Break down expression and handle large v_calc values\n",
    "    term1 = param['L'] / (param['K'] + param['sigma'])\n",
    "\n",
    "    # Handle large values for cosh and sinh to avoid overflow\n",
    "    large_v_calc = v_calc > 700  # Adjust threshold if needed\n",
    "    safe_cosh = np.where(large_v_calc, np.exp(v_calc) / 2, np.cosh(v_calc))\n",
    "    safe_sinh = np.where(large_v_calc, np.exp(v_calc) / 2, np.sinh(v_calc))\n",
    "\n",
    "    # Calculate Z with the safe terms\n",
    "    Z = term1 * (1 + (2 + (param['sigma'] / param['K'] + param['K'] / param['sigma']) * safe_cosh) / (v_calc * safe_sinh))\n",
    "    print(term1)\n",
    "\n",
    "    print(Z)\n",
    "    return Z \n",
    "\n",
    "frequencies = np.array(get_exp_data(1, \"\")[1])\n",
    "Z_init = calc_Z(dict_to_list(test_parametre), frequencies)\n",
    "\n",
    "plt.plot(Z_init.real, -Z_init.imag)\n",
    "plt.show()"
   ]
  },
  {
   "cell_type": "code",
   "execution_count": null,
   "metadata": {},
   "outputs": [
    {
     "name": "stdout",
     "output_type": "stream",
     "text": [
      "1.085909156020089\n",
      "[1.81478352e+09 2.28468817e+09 2.87651472e+09 3.62105664e+09\n",
      " 4.55834367e+09 5.73945635e+09 7.22672562e+09 9.09718057e+09\n",
      " 1.14634343e+10 1.44167241e+10 1.81749269e+10 2.28652272e+10\n",
      " 2.88334300e+10 3.63498357e+10 4.57304362e+10 5.74720462e+10\n",
      " 7.26996715e+10 9.14608905e+10 1.14944074e+11 1.43777250e+11\n",
      " 1.81284373e+11 2.29888185e+11 2.87554573e+11 3.62568746e+11\n",
      " 4.54372901e+11 5.73171352e+11 7.15981646e+11 9.08745984e+11\n",
      " 1.14634252e+12 1.44167150e+12 1.80208869e+12 2.25022741e+12\n",
      " 2.83528737e+12 3.60417920e+12 4.52439462e+12 5.67057474e+12\n",
      " 6.97201791e+12 9.11342291e+12 1.14944092e+13 1.43357228e+13\n",
      " 1.82268422e+13 2.27835527e+13 2.87360231e+13 3.60417920e+13\n",
      " 4.58007876e+13 5.72509936e+13 7.22195870e+13 9.17298844e+13]\n",
      "48\n",
      "[  30121.94408706  +30122.94408706j   33797.58112419  +33798.58112419j\n",
      "   37923.36364959  +37924.36364959j   42549.30342618  +42550.30342618j\n",
      "   47739.67277395  +47740.67277395j   53568.84387325  +53569.84387325j\n",
      "   60110.2535846   +60111.2535846j    67442.23750582  +67443.23750582j\n",
      "   75707.10488186  +75708.10488186j   84901.07315365  +84902.07315365j\n",
      "   95327.18824283  +95328.18824283j  106922.40053413 +106923.40053413j\n",
      "  120068.62554558 +120069.62554558j  134813.38303979 +134814.38303979j\n",
      "  151211.49316985 +151212.49316985j  169516.02891645 +169517.02891645j\n",
      "  190655.32889784 +190656.32889784j  213845.77985465 +213846.77985465j\n",
      "  239732.2624239  +239733.2624239j   268119.54205186 +268120.54205186j\n",
      "  301067.40840059 +301068.40840059j  339033.05783291 +339034.05783291j\n",
      "  379178.75477608 +379179.75477608j  425774.0263622  +425775.0263622j\n",
      "  476639.79845068 +476640.79845068j  535335.97404697 +535336.97404697j\n",
      "  598322.34327952 +598323.34327952j  674070.94884864 +674071.94884864j\n",
      "  757079.74921658 +757080.74921658j  849019.46437808 +849020.46437808j\n",
      "  949232.55710357 +949233.55710357j 1060712.77120647+1060713.77120647j\n",
      " 1190647.43044973+1190648.43044973j 1342418.30824722+1342419.30824722j\n",
      " 1504059.27527514+1504060.27527514j 1683830.15836024+1683831.15836024j\n",
      " 1867084.68555214+1867085.68555214j 2134644.51052069+2134645.51052069j\n",
      " 2397331.81346841+2397332.81346841j 2677285.20436039+2677286.20436039j\n",
      " 3018843.33129441+3018844.33129441j 3375169.56913209+3375170.56913209j\n",
      " 3790515.00000989+3790516.00000989j 4245101.58904886+4245102.58904886j\n",
      " 4785434.59144495+4785435.59144495j 5350279.06615494+5350280.06615494j\n",
      " 6009141.49418147+6009142.49418147j 6772365.07206902+6772366.07206902j]\n",
      "48\n",
      "[4.04088542e-05+1.25677529e+00j 4.04088542e-05+1.58219402e+00j\n",
      " 4.04088542e-05+1.99204620e+00j 4.04088542e-05+2.50765696e+00j\n",
      " 4.04088542e-05+3.15674770e+00j 4.04088542e-05+3.97469276e+00j\n",
      " 4.04088542e-05+5.00465763e+00j 4.04088542e-05+6.29998654e+00j\n",
      " 4.04088542e-05+7.93866641e+00j 4.04088542e-05+9.98388092e+00j\n",
      " 4.04088542e-05+1.25865145e+01j 4.04088542e-05+1.58346449e+01j\n",
      " 4.04088542e-05+1.99677493e+01j 4.04088542e-05+2.51730164e+01j\n",
      " 4.04088542e-05+3.16692771e+01j 4.04088542e-05+3.98005860e+01j\n",
      " 4.04088542e-05+5.03460329e+01j 4.04088542e-05+6.33385668e+01j\n",
      " 4.04088542e-05+7.96011594e+01j 4.04088542e-05+9.95687328e+01j\n",
      " 4.04088542e-05+1.25543195e+02j 4.04088542e-05+1.59202344e+02j\n",
      " 4.04088542e-05+1.99137516e+02j 4.04088542e-05+2.51086389e+02j\n",
      " 4.04088542e-05+3.14662674e+02j 4.04088542e-05+3.96933069e+02j\n",
      " 4.04088542e-05+4.95832165e+02j 4.04088542e-05+6.29325474e+02j\n",
      " 4.04088542e-05+7.93866012e+02j 4.04088542e-05+9.98387464e+02j\n",
      " 4.04088542e-05+1.24798386e+03j 4.04088542e-05+1.55832923e+03j\n",
      " 4.04088542e-05+1.96349541e+03j 4.04088542e-05+2.49596897e+03j\n",
      " 4.04088542e-05+3.13323727e+03j 4.04088542e-05+3.92699082e+03j\n",
      " 4.04088542e-05+4.82826725e+03j 4.04088542e-05+6.31123470e+03j\n",
      " 4.04088542e-05+7.96011720e+03j 4.04088542e-05+9.92778590e+03j\n",
      " 4.04088542e-05+1.26224669e+04j 4.04088542e-05+1.57780836e+04j\n",
      " 4.04088542e-05+1.99002930e+04j 4.04088542e-05+2.49596897e+04j\n",
      " 4.04088542e-05+3.17179970e+04j 4.04088542e-05+3.96475025e+04j\n",
      " 4.04088542e-05+5.00135644e+04j 4.04088542e-05+6.35248507e+04j]\n",
      "48\n",
      "[  4074.97629065   4572.20968599   5130.33793241   5756.12652889\n",
      "   6458.27011625   7246.82962579   8131.73946049   9123.59671545\n",
      "  10241.65272272  11485.39578468  12895.8213944   14464.40031627\n",
      "  16242.7973768   18237.4409618   20455.74704042  22931.95085847\n",
      "  25791.63635115  28928.79776276  32430.67335585  36270.85216027\n",
      "  40727.97872054  45863.90171692  51294.73751769  57598.05987462\n",
      "  64479.08765907  72419.39798044  80940.07778014  91187.20936103\n",
      " 102416.48669691 114853.92170566 128410.56396423 143491.40161127\n",
      " 161068.72254253 181600.00682496 203466.49856501 227785.57189375\n",
      " 252575.90616882 288770.90555676 324306.7591571  362178.33727306\n",
      " 408383.69040026 456586.84631861 512774.00976205 574269.644669\n",
      " 647364.89614524 723776.01436456 812905.70781522 916153.18503925]\n",
      "48\n",
      "[nan nan nan nan nan nan nan nan nan nan nan nan nan nan nan nan nan nan\n",
      " nan nan nan nan nan nan nan nan nan nan nan nan nan nan nan nan nan nan\n",
      " nan nan nan nan nan nan nan nan nan nan nan nan]\n"
     ]
    },
    {
     "data": {
      "image/png": "[encoded data removed]",
      "text/plain": [
       "<Figure size 640x480 with 1 Axes>"
      ]
     },
     "metadata": {},
     "output_type": "display_data"
    }
   ],
   "source": [
    "\n",
    "# Function to calculate Z \n",
    "def calc_Z(comp, frequencies):\n",
    "    # Update param dictionary from the flat parameter list (comp), where comp is updated values\n",
    "    param = list_to_dict(a_parametre, comp) \n",
    "    ang_freq = 2 * np.pi * frequencies\n",
    "\n",
    "    # Calculating R_part \n",
    "    R_part = _dU_dc_anode(c_n)*(param['Rs']/(F*param['Ds']))\n",
    "    print(R_part)\n",
    "\n",
    "    #Calculating Y_s\n",
    "    omega_s = (ang_freq*param['Rs']**2)/param['Ds']\n",
    "    Y_s = (np.sqrt(1j*omega_s) - np.tanh(np.sqrt(1j*omega_s)))/np.tanh(np.sqrt(1j*omega_s))\n",
    "    print(omega_s)\n",
    "    print(len(omega_s))\n",
    "    print(Y_s)\n",
    "    print(len(Y_s))\n",
    "\n",
    "    # For one specific particle: Y = 1/Z\n",
    "    Y = 1/((param['R1'] + R_part/Y_s)/(1 + 1j*ang_freq*param['C1']*(param['R1'] + R_part/Y_s)))\n",
    "    print(Y)\n",
    "    print(len(Y))\n",
    "\n",
    "    # The total impedance: \n",
    "    v = param['L']/(((param['K']*param['sigma'])/(param['K'] + param['sigma']))**0.5*(np.abs(param['a']*Y))**(-0.5))\n",
    "    print(v)\n",
    "    print(len(v))\n",
    "    Z = (param['L']/(param['K']+param['sigma']))*(1 + (2 + (param['sigma']/param['K'] + param['K']/param['sigma'])*np.cosh(v))/(v*np.sinh(v)))\n",
    "    print(Z)\n",
    "    return Z \n",
    "\n",
    "frequencies = np.array(get_exp_data(1, \"\")[1])\n",
    "Z_init = calc_Z(dict_to_list(a_parametre), frequencies)\n",
    "\n",
    "plt.plot(Z_init.real, -Z_init.imag)\n",
    "plt.show()"
   ]
  },
  {
   "cell_type": "code",
   "execution_count": 39,
   "metadata": {},
   "outputs": [
    {
     "ename": "KeyError",
     "evalue": "'-dU_dcs'",
     "output_type": "error",
     "traceback": [
      "\u001b[0;31m---------------------------------------------------------------------------\u001b[0m",
      "\u001b[0;31mKeyError\u001b[0m                                  Traceback (most recent call last)",
      "Cell \u001b[0;32mIn[39], line 37\u001b[0m\n\u001b[1;32m     35\u001b[0m \u001b[38;5;66;03m# Example usage: optimize for a specific dataset (choose i from 1 to 5)\u001b[39;00m\n\u001b[1;32m     36\u001b[0m i \u001b[38;5;241m=\u001b[39m \u001b[38;5;241m1\u001b[39m \u001b[38;5;66;03m# Change i to the desired dataset index\u001b[39;00m\n\u001b[0;32m---> 37\u001b[0m dic_elems, final_diff, frequencies, list_elems \u001b[38;5;241m=\u001b[39m \u001b[43moptimize_diff\u001b[49m\u001b[43m(\u001b[49m\u001b[43mi\u001b[49m\u001b[43m)\u001b[49m\n\u001b[1;32m     38\u001b[0m \u001b[38;5;28mprint\u001b[39m(final_diff)\n",
      "Cell \u001b[0;32mIn[39], line 27\u001b[0m, in \u001b[0;36moptimize_diff\u001b[0;34m(i)\u001b[0m\n\u001b[1;32m     20\u001b[0m options \u001b[38;5;241m=\u001b[39m {\n\u001b[1;32m     21\u001b[0m     \u001b[38;5;124m'\u001b[39m\u001b[38;5;124mmaxiter\u001b[39m\u001b[38;5;124m'\u001b[39m: \u001b[38;5;241m10000\u001b[39m,    \u001b[38;5;66;03m# Maximum number of iterations\u001b[39;00m\n\u001b[1;32m     22\u001b[0m     \u001b[38;5;124m'\u001b[39m\u001b[38;5;124mftol\u001b[39m\u001b[38;5;124m'\u001b[39m: \u001b[38;5;241m1e-10\u001b[39m,       \u001b[38;5;66;03m# Function value tolerance\u001b[39;00m\n\u001b[1;32m     23\u001b[0m     \u001b[38;5;66;03m#'disp': True\u001b[39;00m\n\u001b[1;32m     24\u001b[0m }\n\u001b[1;32m     26\u001b[0m \u001b[38;5;66;03m# Minimize the difference function (optimize parameters)\u001b[39;00m\n\u001b[0;32m---> 27\u001b[0m opt \u001b[38;5;241m=\u001b[39m \u001b[43mminimize\u001b[49m\u001b[43m(\u001b[49m\u001b[43mdiff_func\u001b[49m\u001b[43m,\u001b[49m\u001b[43m \u001b[49m\u001b[43minitial_elems\u001b[49m\u001b[43m,\u001b[49m\u001b[43m \u001b[49m\u001b[43margs\u001b[49m\u001b[38;5;241;43m=\u001b[39;49m\u001b[43m(\u001b[49m\u001b[43mexp_real\u001b[49m\u001b[43m,\u001b[49m\u001b[43m \u001b[49m\u001b[43mexp_imag\u001b[49m\u001b[43m)\u001b[49m\u001b[43m,\u001b[49m\u001b[43m \u001b[49m\u001b[43mmethod\u001b[49m\u001b[38;5;241;43m=\u001b[39;49m\u001b[38;5;124;43m'\u001b[39;49m\u001b[38;5;124;43mTNC\u001b[39;49m\u001b[38;5;124;43m'\u001b[39;49m\u001b[43m,\u001b[49m\u001b[43m \u001b[49m\u001b[43moptions\u001b[49m\u001b[38;5;241;43m=\u001b[39;49m\u001b[43moptions\u001b[49m\u001b[43m)\u001b[49m\n\u001b[1;32m     28\u001b[0m opt_elems \u001b[38;5;241m=\u001b[39m list_to_dict(parametre, opt\u001b[38;5;241m.\u001b[39mx)\n\u001b[1;32m     29\u001b[0m final_diff \u001b[38;5;241m=\u001b[39m diff_func(opt\u001b[38;5;241m.\u001b[39mx, exp_real, exp_imag)\n",
      "File \u001b[0;32m~/anaconda3/lib/python3.11/site-packages/scipy/optimize/_minimize.py:713\u001b[0m, in \u001b[0;36mminimize\u001b[0;34m(fun, x0, args, method, jac, hess, hessp, bounds, constraints, tol, callback, options)\u001b[0m\n\u001b[1;32m    710\u001b[0m     res \u001b[38;5;241m=\u001b[39m _minimize_lbfgsb(fun, x0, args, jac, bounds,\n\u001b[1;32m    711\u001b[0m                            callback\u001b[38;5;241m=\u001b[39mcallback, \u001b[38;5;241m*\u001b[39m\u001b[38;5;241m*\u001b[39moptions)\n\u001b[1;32m    712\u001b[0m \u001b[38;5;28;01melif\u001b[39;00m meth \u001b[38;5;241m==\u001b[39m \u001b[38;5;124m'\u001b[39m\u001b[38;5;124mtnc\u001b[39m\u001b[38;5;124m'\u001b[39m:\n\u001b[0;32m--> 713\u001b[0m     res \u001b[38;5;241m=\u001b[39m \u001b[43m_minimize_tnc\u001b[49m\u001b[43m(\u001b[49m\u001b[43mfun\u001b[49m\u001b[43m,\u001b[49m\u001b[43m \u001b[49m\u001b[43mx0\u001b[49m\u001b[43m,\u001b[49m\u001b[43m \u001b[49m\u001b[43margs\u001b[49m\u001b[43m,\u001b[49m\u001b[43m \u001b[49m\u001b[43mjac\u001b[49m\u001b[43m,\u001b[49m\u001b[43m \u001b[49m\u001b[43mbounds\u001b[49m\u001b[43m,\u001b[49m\u001b[43m \u001b[49m\u001b[43mcallback\u001b[49m\u001b[38;5;241;43m=\u001b[39;49m\u001b[43mcallback\u001b[49m\u001b[43m,\u001b[49m\n\u001b[1;32m    714\u001b[0m \u001b[43m                        \u001b[49m\u001b[38;5;241;43m*\u001b[39;49m\u001b[38;5;241;43m*\u001b[39;49m\u001b[43moptions\u001b[49m\u001b[43m)\u001b[49m\n\u001b[1;32m    715\u001b[0m \u001b[38;5;28;01melif\u001b[39;00m meth \u001b[38;5;241m==\u001b[39m \u001b[38;5;124m'\u001b[39m\u001b[38;5;124mcobyla\u001b[39m\u001b[38;5;124m'\u001b[39m:\n\u001b[1;32m    716\u001b[0m     res \u001b[38;5;241m=\u001b[39m _minimize_cobyla(fun, x0, args, constraints, callback\u001b[38;5;241m=\u001b[39mcallback,\n\u001b[1;32m    717\u001b[0m                            bounds\u001b[38;5;241m=\u001b[39mbounds, \u001b[38;5;241m*\u001b[39m\u001b[38;5;241m*\u001b[39moptions)\n",
      "File \u001b[0;32m~/anaconda3/lib/python3.11/site-packages/scipy/optimize/_tnc.py:374\u001b[0m, in \u001b[0;36m_minimize_tnc\u001b[0;34m(fun, x0, args, jac, bounds, eps, scale, offset, mesg_num, maxCGit, eta, stepmx, accuracy, minfev, ftol, xtol, gtol, rescale, disp, callback, finite_diff_rel_step, maxfun, **unknown_options)\u001b[0m\n\u001b[1;32m    371\u001b[0m \u001b[38;5;28;01melse\u001b[39;00m:\n\u001b[1;32m    372\u001b[0m     messages \u001b[38;5;241m=\u001b[39m MSG_NONE\n\u001b[0;32m--> 374\u001b[0m sf \u001b[38;5;241m=\u001b[39m \u001b[43m_prepare_scalar_function\u001b[49m\u001b[43m(\u001b[49m\u001b[43mfun\u001b[49m\u001b[43m,\u001b[49m\u001b[43m \u001b[49m\u001b[43mx0\u001b[49m\u001b[43m,\u001b[49m\u001b[43m \u001b[49m\u001b[43mjac\u001b[49m\u001b[38;5;241;43m=\u001b[39;49m\u001b[43mjac\u001b[49m\u001b[43m,\u001b[49m\u001b[43m \u001b[49m\u001b[43margs\u001b[49m\u001b[38;5;241;43m=\u001b[39;49m\u001b[43margs\u001b[49m\u001b[43m,\u001b[49m\u001b[43m \u001b[49m\u001b[43mepsilon\u001b[49m\u001b[38;5;241;43m=\u001b[39;49m\u001b[43meps\u001b[49m\u001b[43m,\u001b[49m\n\u001b[1;32m    375\u001b[0m \u001b[43m                              \u001b[49m\u001b[43mfinite_diff_rel_step\u001b[49m\u001b[38;5;241;43m=\u001b[39;49m\u001b[43mfinite_diff_rel_step\u001b[49m\u001b[43m,\u001b[49m\n\u001b[1;32m    376\u001b[0m \u001b[43m                              \u001b[49m\u001b[43mbounds\u001b[49m\u001b[38;5;241;43m=\u001b[39;49m\u001b[43mnew_bounds\u001b[49m\u001b[43m)\u001b[49m\n\u001b[1;32m    377\u001b[0m func_and_grad \u001b[38;5;241m=\u001b[39m sf\u001b[38;5;241m.\u001b[39mfun_and_grad\n\u001b[1;32m    379\u001b[0m \u001b[38;5;250m\u001b[39m\u001b[38;5;124;03m\"\"\"\u001b[39;00m\n\u001b[1;32m    380\u001b[0m \u001b[38;5;124;03mlow, up   : the bounds (lists of floats)\u001b[39;00m\n\u001b[1;32m    381\u001b[0m \u001b[38;5;124;03m            if low is None, the lower bounds are removed.\u001b[39;00m\n\u001b[1;32m    382\u001b[0m \u001b[38;5;124;03m            if up is None, the upper bounds are removed.\u001b[39;00m\n\u001b[1;32m    383\u001b[0m \u001b[38;5;124;03m            low and up defaults to None\u001b[39;00m\n\u001b[1;32m    384\u001b[0m \u001b[38;5;124;03m\"\"\"\u001b[39;00m\n",
      "File \u001b[0;32m~/anaconda3/lib/python3.11/site-packages/scipy/optimize/_optimize.py:383\u001b[0m, in \u001b[0;36m_prepare_scalar_function\u001b[0;34m(fun, x0, jac, args, bounds, epsilon, finite_diff_rel_step, hess)\u001b[0m\n\u001b[1;32m    379\u001b[0m     bounds \u001b[38;5;241m=\u001b[39m (\u001b[38;5;241m-\u001b[39mnp\u001b[38;5;241m.\u001b[39minf, np\u001b[38;5;241m.\u001b[39minf)\n\u001b[1;32m    381\u001b[0m \u001b[38;5;66;03m# ScalarFunction caches. Reuse of fun(x) during grad\u001b[39;00m\n\u001b[1;32m    382\u001b[0m \u001b[38;5;66;03m# calculation reduces overall function evaluations.\u001b[39;00m\n\u001b[0;32m--> 383\u001b[0m sf \u001b[38;5;241m=\u001b[39m \u001b[43mScalarFunction\u001b[49m\u001b[43m(\u001b[49m\u001b[43mfun\u001b[49m\u001b[43m,\u001b[49m\u001b[43m \u001b[49m\u001b[43mx0\u001b[49m\u001b[43m,\u001b[49m\u001b[43m \u001b[49m\u001b[43margs\u001b[49m\u001b[43m,\u001b[49m\u001b[43m \u001b[49m\u001b[43mgrad\u001b[49m\u001b[43m,\u001b[49m\u001b[43m \u001b[49m\u001b[43mhess\u001b[49m\u001b[43m,\u001b[49m\n\u001b[1;32m    384\u001b[0m \u001b[43m                    \u001b[49m\u001b[43mfinite_diff_rel_step\u001b[49m\u001b[43m,\u001b[49m\u001b[43m \u001b[49m\u001b[43mbounds\u001b[49m\u001b[43m,\u001b[49m\u001b[43m \u001b[49m\u001b[43mepsilon\u001b[49m\u001b[38;5;241;43m=\u001b[39;49m\u001b[43mepsilon\u001b[49m\u001b[43m)\u001b[49m\n\u001b[1;32m    386\u001b[0m \u001b[38;5;28;01mreturn\u001b[39;00m sf\n",
      "File \u001b[0;32m~/anaconda3/lib/python3.11/site-packages/scipy/optimize/_differentiable_functions.py:158\u001b[0m, in \u001b[0;36mScalarFunction.__init__\u001b[0;34m(self, fun, x0, args, grad, hess, finite_diff_rel_step, finite_diff_bounds, epsilon)\u001b[0m\n\u001b[1;32m    155\u001b[0m     \u001b[38;5;28mself\u001b[39m\u001b[38;5;241m.\u001b[39mf \u001b[38;5;241m=\u001b[39m fun_wrapped(\u001b[38;5;28mself\u001b[39m\u001b[38;5;241m.\u001b[39mx)\n\u001b[1;32m    157\u001b[0m \u001b[38;5;28mself\u001b[39m\u001b[38;5;241m.\u001b[39m_update_fun_impl \u001b[38;5;241m=\u001b[39m update_fun\n\u001b[0;32m--> 158\u001b[0m \u001b[38;5;28;43mself\u001b[39;49m\u001b[38;5;241;43m.\u001b[39;49m\u001b[43m_update_fun\u001b[49m\u001b[43m(\u001b[49m\u001b[43m)\u001b[49m\n\u001b[1;32m    160\u001b[0m \u001b[38;5;66;03m# Gradient evaluation\u001b[39;00m\n\u001b[1;32m    161\u001b[0m \u001b[38;5;28;01mif\u001b[39;00m \u001b[38;5;28mcallable\u001b[39m(grad):\n",
      "File \u001b[0;32m~/anaconda3/lib/python3.11/site-packages/scipy/optimize/_differentiable_functions.py:251\u001b[0m, in \u001b[0;36mScalarFunction._update_fun\u001b[0;34m(self)\u001b[0m\n\u001b[1;32m    249\u001b[0m \u001b[38;5;28;01mdef\u001b[39;00m \u001b[38;5;21m_update_fun\u001b[39m(\u001b[38;5;28mself\u001b[39m):\n\u001b[1;32m    250\u001b[0m     \u001b[38;5;28;01mif\u001b[39;00m \u001b[38;5;129;01mnot\u001b[39;00m \u001b[38;5;28mself\u001b[39m\u001b[38;5;241m.\u001b[39mf_updated:\n\u001b[0;32m--> 251\u001b[0m         \u001b[38;5;28;43mself\u001b[39;49m\u001b[38;5;241;43m.\u001b[39;49m\u001b[43m_update_fun_impl\u001b[49m\u001b[43m(\u001b[49m\u001b[43m)\u001b[49m\n\u001b[1;32m    252\u001b[0m         \u001b[38;5;28mself\u001b[39m\u001b[38;5;241m.\u001b[39mf_updated \u001b[38;5;241m=\u001b[39m \u001b[38;5;28;01mTrue\u001b[39;00m\n",
      "File \u001b[0;32m~/anaconda3/lib/python3.11/site-packages/scipy/optimize/_differentiable_functions.py:155\u001b[0m, in \u001b[0;36mScalarFunction.__init__.<locals>.update_fun\u001b[0;34m()\u001b[0m\n\u001b[1;32m    154\u001b[0m \u001b[38;5;28;01mdef\u001b[39;00m \u001b[38;5;21mupdate_fun\u001b[39m():\n\u001b[0;32m--> 155\u001b[0m     \u001b[38;5;28mself\u001b[39m\u001b[38;5;241m.\u001b[39mf \u001b[38;5;241m=\u001b[39m \u001b[43mfun_wrapped\u001b[49m\u001b[43m(\u001b[49m\u001b[38;5;28;43mself\u001b[39;49m\u001b[38;5;241;43m.\u001b[39;49m\u001b[43mx\u001b[49m\u001b[43m)\u001b[49m\n",
      "File \u001b[0;32m~/anaconda3/lib/python3.11/site-packages/scipy/optimize/_differentiable_functions.py:137\u001b[0m, in \u001b[0;36mScalarFunction.__init__.<locals>.fun_wrapped\u001b[0;34m(x)\u001b[0m\n\u001b[1;32m    133\u001b[0m \u001b[38;5;28mself\u001b[39m\u001b[38;5;241m.\u001b[39mnfev \u001b[38;5;241m+\u001b[39m\u001b[38;5;241m=\u001b[39m \u001b[38;5;241m1\u001b[39m\n\u001b[1;32m    134\u001b[0m \u001b[38;5;66;03m# Send a copy because the user may overwrite it.\u001b[39;00m\n\u001b[1;32m    135\u001b[0m \u001b[38;5;66;03m# Overwriting results in undefined behaviour because\u001b[39;00m\n\u001b[1;32m    136\u001b[0m \u001b[38;5;66;03m# fun(self.x) will change self.x, with the two no longer linked.\u001b[39;00m\n\u001b[0;32m--> 137\u001b[0m fx \u001b[38;5;241m=\u001b[39m \u001b[43mfun\u001b[49m\u001b[43m(\u001b[49m\u001b[43mnp\u001b[49m\u001b[38;5;241;43m.\u001b[39;49m\u001b[43mcopy\u001b[49m\u001b[43m(\u001b[49m\u001b[43mx\u001b[49m\u001b[43m)\u001b[49m\u001b[43m,\u001b[49m\u001b[43m \u001b[49m\u001b[38;5;241;43m*\u001b[39;49m\u001b[43margs\u001b[49m\u001b[43m)\u001b[49m\n\u001b[1;32m    138\u001b[0m \u001b[38;5;66;03m# Make sure the function returns a true scalar\u001b[39;00m\n\u001b[1;32m    139\u001b[0m \u001b[38;5;28;01mif\u001b[39;00m \u001b[38;5;129;01mnot\u001b[39;00m np\u001b[38;5;241m.\u001b[39misscalar(fx):\n",
      "Cell \u001b[0;32mIn[39], line 10\u001b[0m, in \u001b[0;36moptimize_diff.<locals>.diff_func\u001b[0;34m(comp, exp_real, exp_imag)\u001b[0m\n\u001b[1;32m      9\u001b[0m \u001b[38;5;28;01mdef\u001b[39;00m \u001b[38;5;21mdiff_func\u001b[39m(comp, exp_real, exp_imag):\n\u001b[0;32m---> 10\u001b[0m     Z \u001b[38;5;241m=\u001b[39m \u001b[43mcalc_Z\u001b[49m\u001b[43m(\u001b[49m\u001b[43mcomp\u001b[49m\u001b[43m,\u001b[49m\u001b[43m \u001b[49m\u001b[43mfrequencies\u001b[49m\u001b[43m)\u001b[49m\n\u001b[1;32m     11\u001b[0m     diff_real \u001b[38;5;241m=\u001b[39m Z\u001b[38;5;241m.\u001b[39mreal \u001b[38;5;241m-\u001b[39m exp_real\n\u001b[1;32m     12\u001b[0m     diff_imag \u001b[38;5;241m=\u001b[39m Z\u001b[38;5;241m.\u001b[39mimag \u001b[38;5;241m-\u001b[39m exp_imag\n",
      "Cell \u001b[0;32mIn[38], line 29\u001b[0m, in \u001b[0;36mcalc_Z\u001b[0;34m(comp, frequencies)\u001b[0m\n\u001b[1;32m     26\u001b[0m param \u001b[38;5;241m=\u001b[39m list_to_dict(test_parametre, comp) \n\u001b[1;32m     27\u001b[0m ang_freq \u001b[38;5;241m=\u001b[39m \u001b[38;5;241m2\u001b[39m \u001b[38;5;241m*\u001b[39m np\u001b[38;5;241m.\u001b[39mpi \u001b[38;5;241m*\u001b[39m frequencies\n\u001b[0;32m---> 29\u001b[0m Rp \u001b[38;5;241m=\u001b[39m \u001b[43mR_part\u001b[49m\u001b[43m(\u001b[49m\u001b[43mparam\u001b[49m\u001b[43m)\u001b[49m\n\u001b[1;32m     30\u001b[0m \u001b[38;5;28mprint\u001b[39m(Rp)\n\u001b[1;32m     31\u001b[0m Ys \u001b[38;5;241m=\u001b[39m Y_s(param, ang_freq)\n",
      "Cell \u001b[0;32mIn[38], line 5\u001b[0m, in \u001b[0;36mR_part\u001b[0;34m(param)\u001b[0m\n\u001b[1;32m      4\u001b[0m \u001b[38;5;28;01mdef\u001b[39;00m \u001b[38;5;21mR_part\u001b[39m(param): \n\u001b[0;32m----> 5\u001b[0m     R_part \u001b[38;5;241m=\u001b[39m \u001b[43mparam\u001b[49m\u001b[43m[\u001b[49m\u001b[38;5;124;43m'\u001b[39;49m\u001b[38;5;124;43m-dU_dcs\u001b[39;49m\u001b[38;5;124;43m'\u001b[39;49m\u001b[43m]\u001b[49m\u001b[38;5;241m*\u001b[39m(param[\u001b[38;5;124m'\u001b[39m\u001b[38;5;124mRs\u001b[39m\u001b[38;5;124m'\u001b[39m]\u001b[38;5;241m/\u001b[39m(F\u001b[38;5;241m*\u001b[39mparam[\u001b[38;5;124m'\u001b[39m\u001b[38;5;124mDs\u001b[39m\u001b[38;5;124m'\u001b[39m]))\n\u001b[1;32m      6\u001b[0m     \u001b[38;5;28;01mreturn\u001b[39;00m R_part\n",
      "\u001b[0;31mKeyError\u001b[0m: '-dU_dcs'"
     ]
    }
   ],
   "source": [
    "\n",
    "# Optimizing the difference function for a given data set\n",
    "def optimize_diff(i):\n",
    "    # Load the experimental data \n",
    "    exp_real = np.array(get_exp_data(i, \"\")[0][0])\n",
    "    exp_imag = np.array(get_exp_data(i, \"\")[0][1])\n",
    "    frequencies = np.array(get_exp_data(i, \"\")[1])\n",
    "\n",
    "    # Difference function for the optimization\n",
    "    def diff_func(comp, exp_real, exp_imag):\n",
    "        Z = calc_Z(comp, frequencies)\n",
    "        diff_real = Z.real - exp_real\n",
    "        diff_imag = Z.imag - exp_imag\n",
    "        sum_square_diff = np.sum(diff_real ** 2 + diff_imag ** 2)\n",
    "        return sum_square_diff\n",
    "\n",
    "    # Convert initial dictionary to list for optimization\n",
    "    initial_elems = dict_to_list(a_parametre)\n",
    "\n",
    "    # Optimization options\n",
    "    options = {\n",
    "        'maxiter': 10000,    # Maximum number of iterations\n",
    "        'ftol': 1e-10,       # Function value tolerance\n",
    "        #'disp': True\n",
    "    }\n",
    "\n",
    "    # Minimize the difference function (optimize parameters)\n",
    "    opt = minimize(diff_func, initial_elems, args=(exp_real, exp_imag), method='TNC', options=options)\n",
    "    opt_elems = list_to_dict(parametre, opt.x)\n",
    "    final_diff = diff_func(opt.x, exp_real, exp_imag)\n",
    "    \n",
    "    #print(\"Final sum of squared difference for dataset\", i, \":\", final_diff)\n",
    "\n",
    "    return opt_elems, final_diff, frequencies, opt.x \n",
    "\n",
    "# Example usage: optimize for a specific dataset (choose i from 1 to 5)\n",
    "i = 1 # Change i to the desired dataset index\n",
    "dic_elems, final_diff, frequencies, list_elems = optimize_diff(i)\n",
    "print(final_diff)\n",
    "\n"
   ]
  },
  {
   "cell_type": "code",
   "execution_count": 40,
   "metadata": {},
   "outputs": [
    {
     "ename": "KeyError",
     "evalue": "'-dU_dcs'",
     "output_type": "error",
     "traceback": [
      "\u001b[0;31m---------------------------------------------------------------------------\u001b[0m",
      "\u001b[0;31mKeyError\u001b[0m                                  Traceback (most recent call last)",
      "Cell \u001b[0;32mIn[40], line 1\u001b[0m\n\u001b[0;32m----> 1\u001b[0m Z_init \u001b[38;5;241m=\u001b[39m \u001b[43mcalc_Z\u001b[49m\u001b[43m(\u001b[49m\u001b[43mdict_to_list\u001b[49m\u001b[43m(\u001b[49m\u001b[43ma_parametre\u001b[49m\u001b[43m)\u001b[49m\u001b[43m,\u001b[49m\u001b[43m \u001b[49m\u001b[43mfrequencies\u001b[49m\u001b[43m)\u001b[49m\n\u001b[1;32m      3\u001b[0m plt\u001b[38;5;241m.\u001b[39mplot(Z_init\u001b[38;5;241m.\u001b[39mreal, \u001b[38;5;241m-\u001b[39mZ_init\u001b[38;5;241m.\u001b[39mimag)\n\u001b[1;32m      4\u001b[0m plt\u001b[38;5;241m.\u001b[39mshow()\n",
      "Cell \u001b[0;32mIn[38], line 29\u001b[0m, in \u001b[0;36mcalc_Z\u001b[0;34m(comp, frequencies)\u001b[0m\n\u001b[1;32m     26\u001b[0m param \u001b[38;5;241m=\u001b[39m list_to_dict(test_parametre, comp) \n\u001b[1;32m     27\u001b[0m ang_freq \u001b[38;5;241m=\u001b[39m \u001b[38;5;241m2\u001b[39m \u001b[38;5;241m*\u001b[39m np\u001b[38;5;241m.\u001b[39mpi \u001b[38;5;241m*\u001b[39m frequencies\n\u001b[0;32m---> 29\u001b[0m Rp \u001b[38;5;241m=\u001b[39m \u001b[43mR_part\u001b[49m\u001b[43m(\u001b[49m\u001b[43mparam\u001b[49m\u001b[43m)\u001b[49m\n\u001b[1;32m     30\u001b[0m \u001b[38;5;28mprint\u001b[39m(Rp)\n\u001b[1;32m     31\u001b[0m Ys \u001b[38;5;241m=\u001b[39m Y_s(param, ang_freq)\n",
      "Cell \u001b[0;32mIn[38], line 5\u001b[0m, in \u001b[0;36mR_part\u001b[0;34m(param)\u001b[0m\n\u001b[1;32m      4\u001b[0m \u001b[38;5;28;01mdef\u001b[39;00m \u001b[38;5;21mR_part\u001b[39m(param): \n\u001b[0;32m----> 5\u001b[0m     R_part \u001b[38;5;241m=\u001b[39m \u001b[43mparam\u001b[49m\u001b[43m[\u001b[49m\u001b[38;5;124;43m'\u001b[39;49m\u001b[38;5;124;43m-dU_dcs\u001b[39;49m\u001b[38;5;124;43m'\u001b[39;49m\u001b[43m]\u001b[49m\u001b[38;5;241m*\u001b[39m(param[\u001b[38;5;124m'\u001b[39m\u001b[38;5;124mRs\u001b[39m\u001b[38;5;124m'\u001b[39m]\u001b[38;5;241m/\u001b[39m(F\u001b[38;5;241m*\u001b[39mparam[\u001b[38;5;124m'\u001b[39m\u001b[38;5;124mDs\u001b[39m\u001b[38;5;124m'\u001b[39m]))\n\u001b[1;32m      6\u001b[0m     \u001b[38;5;28;01mreturn\u001b[39;00m R_part\n",
      "\u001b[0;31mKeyError\u001b[0m: '-dU_dcs'"
     ]
    }
   ],
   "source": [
    "Z_init = calc_Z(dict_to_list(a_parametre), frequencies)\n",
    "\n",
    "plt.plot(Z_init.real, -Z_init.imag)\n",
    "plt.show()"
   ]
  },
  {
   "cell_type": "markdown",
   "metadata": {},
   "source": [
    "Observe how the parameters are changing with degradation"
   ]
  },
  {
   "cell_type": "code",
   "execution_count": 41,
   "metadata": {},
   "outputs": [],
   "source": [
    "def finding_params(): \n",
    "    dic_list = []\n",
    "    for l in range(1,6):\n",
    "        dic_elems, final_diff, frequencies, list_elems = optimize_diff(l)\n",
    "        dic_list.append(dic_elems)\n",
    "    \n",
    "    combined_dict = {}\n",
    "    \n",
    "    for d in dic_list:\n",
    "        for key, value in d.items():\n",
    "            # If key is not in combined_dict, initialize with empty list\n",
    "            if key not in combined_dict:\n",
    "                combined_dict[key] = []\n",
    "            # Append the value to the list for this key\n",
    "            combined_dict[key].append(value)\n",
    "\n",
    "    return combined_dict"
   ]
  },
  {
   "cell_type": "code",
   "execution_count": 42,
   "metadata": {},
   "outputs": [
    {
     "ename": "KeyError",
     "evalue": "'-dU_dcs'",
     "output_type": "error",
     "traceback": [
      "\u001b[0;31m---------------------------------------------------------------------------\u001b[0m",
      "\u001b[0;31mKeyError\u001b[0m                                  Traceback (most recent call last)",
      "Cell \u001b[0;32mIn[42], line 1\u001b[0m\n\u001b[0;32m----> 1\u001b[0m combined_dict \u001b[38;5;241m=\u001b[39m \u001b[43mfinding_params\u001b[49m\u001b[43m(\u001b[49m\u001b[43m)\u001b[49m\n\u001b[1;32m      3\u001b[0m \u001b[38;5;28;01mdef\u001b[39;00m \u001b[38;5;21mplot_change_param\u001b[39m(key_list): \n\u001b[1;32m      4\u001b[0m     x \u001b[38;5;241m=\u001b[39m [\u001b[38;5;241m1\u001b[39m, \u001b[38;5;241m2\u001b[39m, \u001b[38;5;241m3\u001b[39m, \u001b[38;5;241m4\u001b[39m, \u001b[38;5;241m5\u001b[39m]\n",
      "Cell \u001b[0;32mIn[41], line 4\u001b[0m, in \u001b[0;36mfinding_params\u001b[0;34m()\u001b[0m\n\u001b[1;32m      2\u001b[0m dic_list \u001b[38;5;241m=\u001b[39m []\n\u001b[1;32m      3\u001b[0m \u001b[38;5;28;01mfor\u001b[39;00m l \u001b[38;5;129;01min\u001b[39;00m \u001b[38;5;28mrange\u001b[39m(\u001b[38;5;241m1\u001b[39m,\u001b[38;5;241m6\u001b[39m):\n\u001b[0;32m----> 4\u001b[0m     dic_elems, final_diff, frequencies, list_elems \u001b[38;5;241m=\u001b[39m \u001b[43moptimize_diff\u001b[49m\u001b[43m(\u001b[49m\u001b[43ml\u001b[49m\u001b[43m)\u001b[49m\n\u001b[1;32m      5\u001b[0m     dic_list\u001b[38;5;241m.\u001b[39mappend(dic_elems)\n\u001b[1;32m      7\u001b[0m combined_dict \u001b[38;5;241m=\u001b[39m {}\n",
      "Cell \u001b[0;32mIn[39], line 27\u001b[0m, in \u001b[0;36moptimize_diff\u001b[0;34m(i)\u001b[0m\n\u001b[1;32m     20\u001b[0m options \u001b[38;5;241m=\u001b[39m {\n\u001b[1;32m     21\u001b[0m     \u001b[38;5;124m'\u001b[39m\u001b[38;5;124mmaxiter\u001b[39m\u001b[38;5;124m'\u001b[39m: \u001b[38;5;241m10000\u001b[39m,    \u001b[38;5;66;03m# Maximum number of iterations\u001b[39;00m\n\u001b[1;32m     22\u001b[0m     \u001b[38;5;124m'\u001b[39m\u001b[38;5;124mftol\u001b[39m\u001b[38;5;124m'\u001b[39m: \u001b[38;5;241m1e-10\u001b[39m,       \u001b[38;5;66;03m# Function value tolerance\u001b[39;00m\n\u001b[1;32m     23\u001b[0m     \u001b[38;5;66;03m#'disp': True\u001b[39;00m\n\u001b[1;32m     24\u001b[0m }\n\u001b[1;32m     26\u001b[0m \u001b[38;5;66;03m# Minimize the difference function (optimize parameters)\u001b[39;00m\n\u001b[0;32m---> 27\u001b[0m opt \u001b[38;5;241m=\u001b[39m \u001b[43mminimize\u001b[49m\u001b[43m(\u001b[49m\u001b[43mdiff_func\u001b[49m\u001b[43m,\u001b[49m\u001b[43m \u001b[49m\u001b[43minitial_elems\u001b[49m\u001b[43m,\u001b[49m\u001b[43m \u001b[49m\u001b[43margs\u001b[49m\u001b[38;5;241;43m=\u001b[39;49m\u001b[43m(\u001b[49m\u001b[43mexp_real\u001b[49m\u001b[43m,\u001b[49m\u001b[43m \u001b[49m\u001b[43mexp_imag\u001b[49m\u001b[43m)\u001b[49m\u001b[43m,\u001b[49m\u001b[43m \u001b[49m\u001b[43mmethod\u001b[49m\u001b[38;5;241;43m=\u001b[39;49m\u001b[38;5;124;43m'\u001b[39;49m\u001b[38;5;124;43mTNC\u001b[39;49m\u001b[38;5;124;43m'\u001b[39;49m\u001b[43m,\u001b[49m\u001b[43m \u001b[49m\u001b[43moptions\u001b[49m\u001b[38;5;241;43m=\u001b[39;49m\u001b[43moptions\u001b[49m\u001b[43m)\u001b[49m\n\u001b[1;32m     28\u001b[0m opt_elems \u001b[38;5;241m=\u001b[39m list_to_dict(parametre, opt\u001b[38;5;241m.\u001b[39mx)\n\u001b[1;32m     29\u001b[0m final_diff \u001b[38;5;241m=\u001b[39m diff_func(opt\u001b[38;5;241m.\u001b[39mx, exp_real, exp_imag)\n",
      "File \u001b[0;32m~/anaconda3/lib/python3.11/site-packages/scipy/optimize/_minimize.py:713\u001b[0m, in \u001b[0;36mminimize\u001b[0;34m(fun, x0, args, method, jac, hess, hessp, bounds, constraints, tol, callback, options)\u001b[0m\n\u001b[1;32m    710\u001b[0m     res \u001b[38;5;241m=\u001b[39m _minimize_lbfgsb(fun, x0, args, jac, bounds,\n\u001b[1;32m    711\u001b[0m                            callback\u001b[38;5;241m=\u001b[39mcallback, \u001b[38;5;241m*\u001b[39m\u001b[38;5;241m*\u001b[39moptions)\n\u001b[1;32m    712\u001b[0m \u001b[38;5;28;01melif\u001b[39;00m meth \u001b[38;5;241m==\u001b[39m \u001b[38;5;124m'\u001b[39m\u001b[38;5;124mtnc\u001b[39m\u001b[38;5;124m'\u001b[39m:\n\u001b[0;32m--> 713\u001b[0m     res \u001b[38;5;241m=\u001b[39m \u001b[43m_minimize_tnc\u001b[49m\u001b[43m(\u001b[49m\u001b[43mfun\u001b[49m\u001b[43m,\u001b[49m\u001b[43m \u001b[49m\u001b[43mx0\u001b[49m\u001b[43m,\u001b[49m\u001b[43m \u001b[49m\u001b[43margs\u001b[49m\u001b[43m,\u001b[49m\u001b[43m \u001b[49m\u001b[43mjac\u001b[49m\u001b[43m,\u001b[49m\u001b[43m \u001b[49m\u001b[43mbounds\u001b[49m\u001b[43m,\u001b[49m\u001b[43m \u001b[49m\u001b[43mcallback\u001b[49m\u001b[38;5;241;43m=\u001b[39;49m\u001b[43mcallback\u001b[49m\u001b[43m,\u001b[49m\n\u001b[1;32m    714\u001b[0m \u001b[43m                        \u001b[49m\u001b[38;5;241;43m*\u001b[39;49m\u001b[38;5;241;43m*\u001b[39;49m\u001b[43moptions\u001b[49m\u001b[43m)\u001b[49m\n\u001b[1;32m    715\u001b[0m \u001b[38;5;28;01melif\u001b[39;00m meth \u001b[38;5;241m==\u001b[39m \u001b[38;5;124m'\u001b[39m\u001b[38;5;124mcobyla\u001b[39m\u001b[38;5;124m'\u001b[39m:\n\u001b[1;32m    716\u001b[0m     res \u001b[38;5;241m=\u001b[39m _minimize_cobyla(fun, x0, args, constraints, callback\u001b[38;5;241m=\u001b[39mcallback,\n\u001b[1;32m    717\u001b[0m                            bounds\u001b[38;5;241m=\u001b[39mbounds, \u001b[38;5;241m*\u001b[39m\u001b[38;5;241m*\u001b[39moptions)\n",
      "File \u001b[0;32m~/anaconda3/lib/python3.11/site-packages/scipy/optimize/_tnc.py:374\u001b[0m, in \u001b[0;36m_minimize_tnc\u001b[0;34m(fun, x0, args, jac, bounds, eps, scale, offset, mesg_num, maxCGit, eta, stepmx, accuracy, minfev, ftol, xtol, gtol, rescale, disp, callback, finite_diff_rel_step, maxfun, **unknown_options)\u001b[0m\n\u001b[1;32m    371\u001b[0m \u001b[38;5;28;01melse\u001b[39;00m:\n\u001b[1;32m    372\u001b[0m     messages \u001b[38;5;241m=\u001b[39m MSG_NONE\n\u001b[0;32m--> 374\u001b[0m sf \u001b[38;5;241m=\u001b[39m \u001b[43m_prepare_scalar_function\u001b[49m\u001b[43m(\u001b[49m\u001b[43mfun\u001b[49m\u001b[43m,\u001b[49m\u001b[43m \u001b[49m\u001b[43mx0\u001b[49m\u001b[43m,\u001b[49m\u001b[43m \u001b[49m\u001b[43mjac\u001b[49m\u001b[38;5;241;43m=\u001b[39;49m\u001b[43mjac\u001b[49m\u001b[43m,\u001b[49m\u001b[43m \u001b[49m\u001b[43margs\u001b[49m\u001b[38;5;241;43m=\u001b[39;49m\u001b[43margs\u001b[49m\u001b[43m,\u001b[49m\u001b[43m \u001b[49m\u001b[43mepsilon\u001b[49m\u001b[38;5;241;43m=\u001b[39;49m\u001b[43meps\u001b[49m\u001b[43m,\u001b[49m\n\u001b[1;32m    375\u001b[0m \u001b[43m                              \u001b[49m\u001b[43mfinite_diff_rel_step\u001b[49m\u001b[38;5;241;43m=\u001b[39;49m\u001b[43mfinite_diff_rel_step\u001b[49m\u001b[43m,\u001b[49m\n\u001b[1;32m    376\u001b[0m \u001b[43m                              \u001b[49m\u001b[43mbounds\u001b[49m\u001b[38;5;241;43m=\u001b[39;49m\u001b[43mnew_bounds\u001b[49m\u001b[43m)\u001b[49m\n\u001b[1;32m    377\u001b[0m func_and_grad \u001b[38;5;241m=\u001b[39m sf\u001b[38;5;241m.\u001b[39mfun_and_grad\n\u001b[1;32m    379\u001b[0m \u001b[38;5;250m\u001b[39m\u001b[38;5;124;03m\"\"\"\u001b[39;00m\n\u001b[1;32m    380\u001b[0m \u001b[38;5;124;03mlow, up   : the bounds (lists of floats)\u001b[39;00m\n\u001b[1;32m    381\u001b[0m \u001b[38;5;124;03m            if low is None, the lower bounds are removed.\u001b[39;00m\n\u001b[1;32m    382\u001b[0m \u001b[38;5;124;03m            if up is None, the upper bounds are removed.\u001b[39;00m\n\u001b[1;32m    383\u001b[0m \u001b[38;5;124;03m            low and up defaults to None\u001b[39;00m\n\u001b[1;32m    384\u001b[0m \u001b[38;5;124;03m\"\"\"\u001b[39;00m\n",
      "File \u001b[0;32m~/anaconda3/lib/python3.11/site-packages/scipy/optimize/_optimize.py:383\u001b[0m, in \u001b[0;36m_prepare_scalar_function\u001b[0;34m(fun, x0, jac, args, bounds, epsilon, finite_diff_rel_step, hess)\u001b[0m\n\u001b[1;32m    379\u001b[0m     bounds \u001b[38;5;241m=\u001b[39m (\u001b[38;5;241m-\u001b[39mnp\u001b[38;5;241m.\u001b[39minf, np\u001b[38;5;241m.\u001b[39minf)\n\u001b[1;32m    381\u001b[0m \u001b[38;5;66;03m# ScalarFunction caches. Reuse of fun(x) during grad\u001b[39;00m\n\u001b[1;32m    382\u001b[0m \u001b[38;5;66;03m# calculation reduces overall function evaluations.\u001b[39;00m\n\u001b[0;32m--> 383\u001b[0m sf \u001b[38;5;241m=\u001b[39m \u001b[43mScalarFunction\u001b[49m\u001b[43m(\u001b[49m\u001b[43mfun\u001b[49m\u001b[43m,\u001b[49m\u001b[43m \u001b[49m\u001b[43mx0\u001b[49m\u001b[43m,\u001b[49m\u001b[43m \u001b[49m\u001b[43margs\u001b[49m\u001b[43m,\u001b[49m\u001b[43m \u001b[49m\u001b[43mgrad\u001b[49m\u001b[43m,\u001b[49m\u001b[43m \u001b[49m\u001b[43mhess\u001b[49m\u001b[43m,\u001b[49m\n\u001b[1;32m    384\u001b[0m \u001b[43m                    \u001b[49m\u001b[43mfinite_diff_rel_step\u001b[49m\u001b[43m,\u001b[49m\u001b[43m \u001b[49m\u001b[43mbounds\u001b[49m\u001b[43m,\u001b[49m\u001b[43m \u001b[49m\u001b[43mepsilon\u001b[49m\u001b[38;5;241;43m=\u001b[39;49m\u001b[43mepsilon\u001b[49m\u001b[43m)\u001b[49m\n\u001b[1;32m    386\u001b[0m \u001b[38;5;28;01mreturn\u001b[39;00m sf\n",
      "File \u001b[0;32m~/anaconda3/lib/python3.11/site-packages/scipy/optimize/_differentiable_functions.py:158\u001b[0m, in \u001b[0;36mScalarFunction.__init__\u001b[0;34m(self, fun, x0, args, grad, hess, finite_diff_rel_step, finite_diff_bounds, epsilon)\u001b[0m\n\u001b[1;32m    155\u001b[0m     \u001b[38;5;28mself\u001b[39m\u001b[38;5;241m.\u001b[39mf \u001b[38;5;241m=\u001b[39m fun_wrapped(\u001b[38;5;28mself\u001b[39m\u001b[38;5;241m.\u001b[39mx)\n\u001b[1;32m    157\u001b[0m \u001b[38;5;28mself\u001b[39m\u001b[38;5;241m.\u001b[39m_update_fun_impl \u001b[38;5;241m=\u001b[39m update_fun\n\u001b[0;32m--> 158\u001b[0m \u001b[38;5;28;43mself\u001b[39;49m\u001b[38;5;241;43m.\u001b[39;49m\u001b[43m_update_fun\u001b[49m\u001b[43m(\u001b[49m\u001b[43m)\u001b[49m\n\u001b[1;32m    160\u001b[0m \u001b[38;5;66;03m# Gradient evaluation\u001b[39;00m\n\u001b[1;32m    161\u001b[0m \u001b[38;5;28;01mif\u001b[39;00m \u001b[38;5;28mcallable\u001b[39m(grad):\n",
      "File \u001b[0;32m~/anaconda3/lib/python3.11/site-packages/scipy/optimize/_differentiable_functions.py:251\u001b[0m, in \u001b[0;36mScalarFunction._update_fun\u001b[0;34m(self)\u001b[0m\n\u001b[1;32m    249\u001b[0m \u001b[38;5;28;01mdef\u001b[39;00m \u001b[38;5;21m_update_fun\u001b[39m(\u001b[38;5;28mself\u001b[39m):\n\u001b[1;32m    250\u001b[0m     \u001b[38;5;28;01mif\u001b[39;00m \u001b[38;5;129;01mnot\u001b[39;00m \u001b[38;5;28mself\u001b[39m\u001b[38;5;241m.\u001b[39mf_updated:\n\u001b[0;32m--> 251\u001b[0m         \u001b[38;5;28;43mself\u001b[39;49m\u001b[38;5;241;43m.\u001b[39;49m\u001b[43m_update_fun_impl\u001b[49m\u001b[43m(\u001b[49m\u001b[43m)\u001b[49m\n\u001b[1;32m    252\u001b[0m         \u001b[38;5;28mself\u001b[39m\u001b[38;5;241m.\u001b[39mf_updated \u001b[38;5;241m=\u001b[39m \u001b[38;5;28;01mTrue\u001b[39;00m\n",
      "File \u001b[0;32m~/anaconda3/lib/python3.11/site-packages/scipy/optimize/_differentiable_functions.py:155\u001b[0m, in \u001b[0;36mScalarFunction.__init__.<locals>.update_fun\u001b[0;34m()\u001b[0m\n\u001b[1;32m    154\u001b[0m \u001b[38;5;28;01mdef\u001b[39;00m \u001b[38;5;21mupdate_fun\u001b[39m():\n\u001b[0;32m--> 155\u001b[0m     \u001b[38;5;28mself\u001b[39m\u001b[38;5;241m.\u001b[39mf \u001b[38;5;241m=\u001b[39m \u001b[43mfun_wrapped\u001b[49m\u001b[43m(\u001b[49m\u001b[38;5;28;43mself\u001b[39;49m\u001b[38;5;241;43m.\u001b[39;49m\u001b[43mx\u001b[49m\u001b[43m)\u001b[49m\n",
      "File \u001b[0;32m~/anaconda3/lib/python3.11/site-packages/scipy/optimize/_differentiable_functions.py:137\u001b[0m, in \u001b[0;36mScalarFunction.__init__.<locals>.fun_wrapped\u001b[0;34m(x)\u001b[0m\n\u001b[1;32m    133\u001b[0m \u001b[38;5;28mself\u001b[39m\u001b[38;5;241m.\u001b[39mnfev \u001b[38;5;241m+\u001b[39m\u001b[38;5;241m=\u001b[39m \u001b[38;5;241m1\u001b[39m\n\u001b[1;32m    134\u001b[0m \u001b[38;5;66;03m# Send a copy because the user may overwrite it.\u001b[39;00m\n\u001b[1;32m    135\u001b[0m \u001b[38;5;66;03m# Overwriting results in undefined behaviour because\u001b[39;00m\n\u001b[1;32m    136\u001b[0m \u001b[38;5;66;03m# fun(self.x) will change self.x, with the two no longer linked.\u001b[39;00m\n\u001b[0;32m--> 137\u001b[0m fx \u001b[38;5;241m=\u001b[39m \u001b[43mfun\u001b[49m\u001b[43m(\u001b[49m\u001b[43mnp\u001b[49m\u001b[38;5;241;43m.\u001b[39;49m\u001b[43mcopy\u001b[49m\u001b[43m(\u001b[49m\u001b[43mx\u001b[49m\u001b[43m)\u001b[49m\u001b[43m,\u001b[49m\u001b[43m \u001b[49m\u001b[38;5;241;43m*\u001b[39;49m\u001b[43margs\u001b[49m\u001b[43m)\u001b[49m\n\u001b[1;32m    138\u001b[0m \u001b[38;5;66;03m# Make sure the function returns a true scalar\u001b[39;00m\n\u001b[1;32m    139\u001b[0m \u001b[38;5;28;01mif\u001b[39;00m \u001b[38;5;129;01mnot\u001b[39;00m np\u001b[38;5;241m.\u001b[39misscalar(fx):\n",
      "Cell \u001b[0;32mIn[39], line 10\u001b[0m, in \u001b[0;36moptimize_diff.<locals>.diff_func\u001b[0;34m(comp, exp_real, exp_imag)\u001b[0m\n\u001b[1;32m      9\u001b[0m \u001b[38;5;28;01mdef\u001b[39;00m \u001b[38;5;21mdiff_func\u001b[39m(comp, exp_real, exp_imag):\n\u001b[0;32m---> 10\u001b[0m     Z \u001b[38;5;241m=\u001b[39m \u001b[43mcalc_Z\u001b[49m\u001b[43m(\u001b[49m\u001b[43mcomp\u001b[49m\u001b[43m,\u001b[49m\u001b[43m \u001b[49m\u001b[43mfrequencies\u001b[49m\u001b[43m)\u001b[49m\n\u001b[1;32m     11\u001b[0m     diff_real \u001b[38;5;241m=\u001b[39m Z\u001b[38;5;241m.\u001b[39mreal \u001b[38;5;241m-\u001b[39m exp_real\n\u001b[1;32m     12\u001b[0m     diff_imag \u001b[38;5;241m=\u001b[39m Z\u001b[38;5;241m.\u001b[39mimag \u001b[38;5;241m-\u001b[39m exp_imag\n",
      "Cell \u001b[0;32mIn[38], line 29\u001b[0m, in \u001b[0;36mcalc_Z\u001b[0;34m(comp, frequencies)\u001b[0m\n\u001b[1;32m     26\u001b[0m param \u001b[38;5;241m=\u001b[39m list_to_dict(test_parametre, comp) \n\u001b[1;32m     27\u001b[0m ang_freq \u001b[38;5;241m=\u001b[39m \u001b[38;5;241m2\u001b[39m \u001b[38;5;241m*\u001b[39m np\u001b[38;5;241m.\u001b[39mpi \u001b[38;5;241m*\u001b[39m frequencies\n\u001b[0;32m---> 29\u001b[0m Rp \u001b[38;5;241m=\u001b[39m \u001b[43mR_part\u001b[49m\u001b[43m(\u001b[49m\u001b[43mparam\u001b[49m\u001b[43m)\u001b[49m\n\u001b[1;32m     30\u001b[0m \u001b[38;5;28mprint\u001b[39m(Rp)\n\u001b[1;32m     31\u001b[0m Ys \u001b[38;5;241m=\u001b[39m Y_s(param, ang_freq)\n",
      "Cell \u001b[0;32mIn[38], line 5\u001b[0m, in \u001b[0;36mR_part\u001b[0;34m(param)\u001b[0m\n\u001b[1;32m      4\u001b[0m \u001b[38;5;28;01mdef\u001b[39;00m \u001b[38;5;21mR_part\u001b[39m(param): \n\u001b[0;32m----> 5\u001b[0m     R_part \u001b[38;5;241m=\u001b[39m \u001b[43mparam\u001b[49m\u001b[43m[\u001b[49m\u001b[38;5;124;43m'\u001b[39;49m\u001b[38;5;124;43m-dU_dcs\u001b[39;49m\u001b[38;5;124;43m'\u001b[39;49m\u001b[43m]\u001b[49m\u001b[38;5;241m*\u001b[39m(param[\u001b[38;5;124m'\u001b[39m\u001b[38;5;124mRs\u001b[39m\u001b[38;5;124m'\u001b[39m]\u001b[38;5;241m/\u001b[39m(F\u001b[38;5;241m*\u001b[39mparam[\u001b[38;5;124m'\u001b[39m\u001b[38;5;124mDs\u001b[39m\u001b[38;5;124m'\u001b[39m]))\n\u001b[1;32m      6\u001b[0m     \u001b[38;5;28;01mreturn\u001b[39;00m R_part\n",
      "\u001b[0;31mKeyError\u001b[0m: '-dU_dcs'"
     ]
    }
   ],
   "source": [
    "combined_dict = finding_params()\n",
    "\n",
    "def plot_change_param(key_list): \n",
    "    x = [1, 2, 3, 4, 5]\n",
    "    fig, ax = plt.subplots(figsize=(6, 6)) \n",
    "    for key in key_list: \n",
    "        ax.scatter(x, combined_dict[key], label = key)\n",
    "\n",
    "    plt.legend()\n",
    "    plt.xlabel(\"Data Set Number\")\n",
    "    plt.ylabel(\"Parameter Value\")\n",
    "    plt.title(\"Change in Parameters\") \n",
    "    plt.show()\n",
    "\n",
    "#plot_change_param(['R1', 'R2'])\n",
    "#plot_change_param(['Rs', 'Ds'])\n",
    "#plot_change_param(['C1', 'C2'])\n",
    "#plot_change_param(['a', 'L'])\n",
    "#plot_change_param(['K', 'sigma'])\n",
    "#plot_change_param(['ebsilon'])\n"
   ]
  },
  {
   "cell_type": "markdown",
   "metadata": {},
   "source": [
    "Comparison plot"
   ]
  },
  {
   "cell_type": "code",
   "execution_count": 43,
   "metadata": {},
   "outputs": [
    {
     "ename": "NameError",
     "evalue": "name 'list_elems' is not defined",
     "output_type": "error",
     "traceback": [
      "\u001b[0;31m---------------------------------------------------------------------------\u001b[0m",
      "\u001b[0;31mNameError\u001b[0m                                 Traceback (most recent call last)",
      "Cell \u001b[0;32mIn[43], line 1\u001b[0m\n\u001b[0;32m----> 1\u001b[0m Z \u001b[38;5;241m=\u001b[39m calc_Z(\u001b[43mlist_elems\u001b[49m, frequencies)\n\u001b[1;32m      3\u001b[0m plt\u001b[38;5;241m.\u001b[39mplot(Z\u001b[38;5;241m.\u001b[39mreal, \u001b[38;5;241m-\u001b[39mZ\u001b[38;5;241m.\u001b[39mimag)\n\u001b[1;32m      4\u001b[0m plt\u001b[38;5;241m.\u001b[39mshow()\n",
      "\u001b[0;31mNameError\u001b[0m: name 'list_elems' is not defined"
     ]
    }
   ],
   "source": [
    "Z = calc_Z(list_elems, frequencies)\n",
    "\n",
    "plt.plot(Z.real, -Z.imag)\n",
    "plt.show()"
   ]
  },
  {
   "cell_type": "code",
   "execution_count": 15,
   "metadata": {},
   "outputs": [
    {
     "ename": "NameError",
     "evalue": "name 'i' is not defined",
     "output_type": "error",
     "traceback": [
      "\u001b[0;31m---------------------------------------------------------------------------\u001b[0m",
      "\u001b[0;31mNameError\u001b[0m                                 Traceback (most recent call last)",
      "Cell \u001b[0;32mIn[15], line 2\u001b[0m\n\u001b[1;32m      1\u001b[0m fig, ax \u001b[38;5;241m=\u001b[39m plt\u001b[38;5;241m.\u001b[39msubplots(figsize\u001b[38;5;241m=\u001b[39m(\u001b[38;5;241m6\u001b[39m, \u001b[38;5;241m6\u001b[39m)) \n\u001b[0;32m----> 2\u001b[0m ax\u001b[38;5;241m.\u001b[39mscatter(np\u001b[38;5;241m.\u001b[39marray(get_exp_data(\u001b[43mi\u001b[49m, \u001b[38;5;124m\"\u001b[39m\u001b[38;5;124m\"\u001b[39m)[\u001b[38;5;241m0\u001b[39m][\u001b[38;5;241m0\u001b[39m]), \u001b[38;5;241m-\u001b[39mnp\u001b[38;5;241m.\u001b[39marray(get_exp_data(i, \u001b[38;5;124m\"\u001b[39m\u001b[38;5;124m\"\u001b[39m)[\u001b[38;5;241m0\u001b[39m][\u001b[38;5;241m1\u001b[39m]), color \u001b[38;5;241m=\u001b[39m \u001b[38;5;124m'\u001b[39m\u001b[38;5;124mred\u001b[39m\u001b[38;5;124m'\u001b[39m, label\u001b[38;5;241m=\u001b[39m\u001b[38;5;124mf\u001b[39m\u001b[38;5;124m\"\u001b[39m\u001b[38;5;124mExperimental \u001b[39m\u001b[38;5;124m\"\u001b[39m\u001b[38;5;241m+\u001b[39m\u001b[38;5;28mstr\u001b[39m(np\u001b[38;5;241m.\u001b[39mround(get_vdc(i, \u001b[38;5;124m\"\u001b[39m\u001b[38;5;124m\"\u001b[39m),\u001b[38;5;241m3\u001b[39m))\u001b[38;5;241m+\u001b[39m\u001b[38;5;124m\"\u001b[39m\u001b[38;5;124m V\u001b[39m\u001b[38;5;124m\"\u001b[39m) \n\u001b[1;32m      3\u001b[0m ax\u001b[38;5;241m.\u001b[39mscatter(Z_init\u001b[38;5;241m.\u001b[39mreal, \u001b[38;5;241m-\u001b[39mZ_init\u001b[38;5;241m.\u001b[39mimag, label \u001b[38;5;241m=\u001b[39m \u001b[38;5;124mf\u001b[39m\u001b[38;5;124m'\u001b[39m\u001b[38;5;124mECM\u001b[39m\u001b[38;5;124m'\u001b[39m, color \u001b[38;5;241m=\u001b[39m \u001b[38;5;124m'\u001b[39m\u001b[38;5;124mblue\u001b[39m\u001b[38;5;124m'\u001b[39m)\n\u001b[1;32m      5\u001b[0m \u001b[38;5;66;03m#ax.set_xlim(0.016, 0.045) \u001b[39;00m\n\u001b[1;32m      6\u001b[0m \u001b[38;5;66;03m#ax.set_ylim(0, 0.012)\u001b[39;00m\n",
      "\u001b[0;31mNameError\u001b[0m: name 'i' is not defined"
     ]
    },
    {
     "data": {
      "image/png": "[encoded data removed]",
      "text/plain": [
       "<Figure size 600x600 with 1 Axes>"
      ]
     },
     "metadata": {},
     "output_type": "display_data"
    }
   ],
   "source": [
    "\n",
    "fig, ax = plt.subplots(figsize=(6, 6)) \n",
    "ax.scatter(np.array(get_exp_data(i, \"\")[0][0]), -np.array(get_exp_data(i, \"\")[0][1]), color = 'red', label=f\"Experimental \"+str(np.round(get_vdc(i, \"\"),3))+\" V\") \n",
    "ax.scatter(Z_init.real, -Z_init.imag, label = f'ECM', color = 'blue')\n",
    "\n",
    "#ax.set_xlim(0.016, 0.045) \n",
    "#ax.set_ylim(0, 0.012)\n",
    "\n",
    "plt.legend()\n",
    "plt.title(\"Comparing\") \n",
    "plt.show() "
   ]
  },
  {
   "cell_type": "code",
   "execution_count": null,
   "metadata": {},
   "outputs": [
    {
     "data": {
      "image/png": "[encoded data removed]",
      "text/plain": [
       "<Figure size 600x600 with 1 Axes>"
      ]
     },
     "metadata": {},
     "output_type": "display_data"
    }
   ],
   "source": [
    "fig, ax = plt.subplots(figsize=(6, 6)) \n",
    "ax.scatter(np.array(get_exp_data(1, \"\")[0][0]), -np.array(get_exp_data(1, \"\")[0][1]), color = 'red', label=f\"Experimental \"+str(np.round(get_vdc(1, \"\"),3))+\" V\") \n",
    "ax.scatter(Z_init.real, -Z_init.imag, label = f'ECM', color = 'blue')\n",
    "\n",
    "#ax.set_xlim(0.016, 0.045) \n",
    "#ax.set_ylim(0, 0.012)\n",
    "\n",
    "plt.legend()\n",
    "plt.title(\"Comparing\") \n",
    "plt.show() "
   ]
  },
  {
   "cell_type": "markdown",
   "metadata": {},
   "source": [
    "fig, ax = plt.subplots(figsize=(10, 10)) \n",
    "ax.scatter(np.array(get_exp_data(i, \"\")[0][0]), -np.array(get_exp_data(i, \"\")[0][1]), color = 'red', label=f\"Experimental \"+str(np.round(get_vdc(i, \"\"),3))+\" V\") \n",
    "ax.scatter(Z_randles.real, -Z_randles.imag, label = f'ECM', color = 'blue')\n",
    "\n",
    "#ax.set_xlim(0.016, 0.045) \n",
    "#ax.set_ylim(0, 0.012)\n",
    "\n",
    "plt.legend()\n",
    "plt.title(\"Comparing\") \n",
    "plt.show() "
   ]
  }
 ],
 "metadata": {
  "kernelspec": {
   "display_name": "base",
   "language": "python",
   "name": "python3"
  },
  "language_info": {
   "codemirror_mode": {
    "name": "ipython",
    "version": 3
   },
   "file_extension": ".py",
   "mimetype": "text/x-python",
   "name": "python",
   "nbconvert_exporter": "python",
   "pygments_lexer": "ipython3",
   "version": "3.11.5"
  }
 },
 "nbformat": 4,
 "nbformat_minor": 2
}
