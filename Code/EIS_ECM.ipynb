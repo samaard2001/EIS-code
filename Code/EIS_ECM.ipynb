{
 "cells": [
  {
   "cell_type": "code",
   "execution_count": null,
   "metadata": {},
   "outputs": [],
   "source": [
    "import pybammeis\n",
    "import pybamm\n",
    "import os\n",
    "import re\n",
    "import numpy as np\n",
    "from gamry_parser import GamryParser, Impedance\n",
    "import pandas as pd\n",
    "import time as timer\n",
    "import matplotlib.pyplot as plt\n",
    "from scipy.fft import fft\n",
    "import random\n",
    "from scipy.optimize import minimize\n",
    "from scipy.optimize import basinhopping\n",
    "from scipy.interpolate import interp1d\n",
    "import pyswarms as ps \n",
    "from pyswarms.single import GlobalBestPSO"
   ]
  },
  {
   "cell_type": "markdown",
   "metadata": {},
   "source": [
    "Parametre"
   ]
  },
  {
   "cell_type": "code",
   "execution_count": 1,
   "metadata": {},
   "outputs": [],
   "source": [
    "parametre = {\n",
    "    \"R1\": 0.026455095283510706,  # motstand\n",
    "    \"R2\": 5.534820787666664e-07, # motstand \n",
    "    \"C1\": 0.0055426231465975665,  # kapasitans\n",
    "    \"C2\" : 0.6755099612832921, # kapasitans\n",
    "    \"Rs\": 0.6624587164477784, # partikkelstørrelse\n",
    "    \"Ds\": 0.0010503007445281985,     # diffusjonskoeffisient \n",
    "    \"a\": 0.5722885441839765,  # overflateareal, porer \n",
    "    \"L\": 0.005384825939881047,  # tykkelse, elektrode \n",
    "    \"K\" : 2.339974970415867,  # ledningsevne elektrolytt \n",
    "    \"sigma\": 0.8629910852751331, # ledningsevne, fast elektrodematerial\n",
    "    \"ebsilon\": 0.0011934570596558787,     # porositet \n",
    "    \"-dU/dcs\": 0.5860161540205311,  # endring i potensial med SOC\n",
    "    }"
   ]
  },
  {
   "cell_type": "code",
   "execution_count": 3,
   "metadata": {},
   "outputs": [],
   "source": [
    "def U_n(self, c, c_max):\n",
    "    sto = c/c_max\n",
    "    return self.U_n_sto(sto)\n",
    "\n",
    "\n",
    "def U_p(self, c, c_max):\n",
    "    sto = c/c_max\n",
    "    return self.U_p_sto(sto)\n",
    "\n",
    "\n",
    "def U_n_sto(self, s):\n",
    "    x = s\n",
    "    p = np.array([ 1.20912055e+00, 5.62297420e+01, -1.11020020e-01, -2.53458213e-01, 4.92581391e+01, 1.22046522e-02, 4.73538620e-02, 1.79631246e+01, 1.75283209e-01, 1.88038929e-02, 3.03255334e+01, 4.66328034e-01])\n",
    "    return (p[0] * np.exp(-p[1] * x)+ p[2]- p[3] * np.tanh(p[4] * (x - p[5])) - p[6] * np.tanh(p[7] * (x - p[8])) - p[9] * np.tanh(p[10] * (x - p[11])))\n",
    "\n",
    "\n",
    "def U_p_sto(self, s):\n",
    "    x = s\n",
    "    p = np.array([ 0.74041974, 4.39107343, 0.03434767, 18.16841489, 0.53463176, 17.68283504, 14.59709162, 0.28835348, 17.58474971, 14.69911523, 0.28845641])\n",
    "    return (-p[0] * x + p[1] - p[2] * np.tanh(p[3] * (x - p[4])) - p[5] * np.tanh(p[6] * (x - p[7]))+ p[8] * np.tanh(p[9] * (x - p[10])))"
   ]
  }
 ],
 "metadata": {
  "kernelspec": {
   "display_name": "base",
   "language": "python",
   "name": "python3"
  },
  "language_info": {
   "codemirror_mode": {
    "name": "ipython",
    "version": 3
   },
   "file_extension": ".py",
   "mimetype": "text/x-python",
   "name": "python",
   "nbconvert_exporter": "python",
   "pygments_lexer": "ipython3",
   "version": "3.11.5"
  }
 },
 "nbformat": 4,
 "nbformat_minor": 2
}
