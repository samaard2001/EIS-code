{
 "cells": [
  {
   "cell_type": "markdown",
   "metadata": {},
   "source": [
    "Importing libraries"
   ]
  },
  {
   "cell_type": "code",
   "execution_count": 1,
   "metadata": {},
   "outputs": [],
   "source": [
    "import pybammeis\n",
    "import pybamm\n",
    "import os\n",
    "import re\n",
    "import numpy as np\n",
    "from gamry_parser import GamryParser, Impedance\n",
    "import pandas as pd\n",
    "import time as timer\n",
    "import matplotlib.pyplot as plt\n",
    "from scipy.fft import fft\n",
    "import random\n",
    "from scipy.optimize import minimize\n",
    "from scipy.optimize import basinhopping\n",
    "from scipy.interpolate import interp1d\n",
    "import pyswarms as ps \n",
    "from pyswarms.single import GlobalBestPSO"
   ]
  },
  {
   "cell_type": "code",
   "execution_count": 2,
   "metadata": {},
   "outputs": [
    {
     "ename": "ModuleNotFoundError",
     "evalue": "No module named 'parameters'",
     "output_type": "error",
     "traceback": [
      "\u001b[0;31m---------------------------------------------------------------------------\u001b[0m",
      "\u001b[0;31mModuleNotFoundError\u001b[0m                       Traceback (most recent call last)",
      "Cell \u001b[0;32mIn[2], line 4\u001b[0m\n\u001b[1;32m      2\u001b[0m \u001b[38;5;28;01mfrom\u001b[39;00m \u001b[38;5;21;01mutils\u001b[39;00m\u001b[38;5;21;01m.\u001b[39;00m\u001b[38;5;21;01mparameters\u001b[39;00m \u001b[38;5;28;01mimport\u001b[39;00m params \n\u001b[1;32m      3\u001b[0m params \u001b[38;5;241m=\u001b[39m params()\n\u001b[0;32m----> 4\u001b[0m \u001b[38;5;28;01mfrom\u001b[39;00m \u001b[38;5;21;01mutils\u001b[39;00m\u001b[38;5;21;01m.\u001b[39;00m\u001b[38;5;21;01mpotential_gradient\u001b[39;00m \u001b[38;5;28;01mimport\u001b[39;00m _dU_dc_anode\n",
      "File \u001b[0;32m~/Desktop/lithium_ion/Code/utils/potential_gradient.py:2\u001b[0m\n\u001b[1;32m      1\u001b[0m \u001b[38;5;28;01mimport\u001b[39;00m \u001b[38;5;21;01mnumpy\u001b[39;00m \u001b[38;5;28;01mas\u001b[39;00m \u001b[38;5;21;01mnp\u001b[39;00m\n\u001b[0;32m----> 2\u001b[0m \u001b[38;5;28;01mfrom\u001b[39;00m \u001b[38;5;21;01mparameters\u001b[39;00m \u001b[38;5;28;01mimport\u001b[39;00m params\n\u001b[1;32m      3\u001b[0m params \u001b[38;5;241m=\u001b[39m params()\n\u001b[1;32m      5\u001b[0m c_n_max \u001b[38;5;241m=\u001b[39m params[\u001b[38;5;124m\"\u001b[39m\u001b[38;5;124mMaximum concentration in negative electrode [mol.m-3]\u001b[39m\u001b[38;5;124m\"\u001b[39m]\n",
      "\u001b[0;31mModuleNotFoundError\u001b[0m: No module named 'parameters'"
     ]
    }
   ],
   "source": [
    "\n",
    "from utils.load_data import get_exp_data\n",
    "from utils.parameters import params \n",
    "params = params()\n",
    "from utils.potential_gradient import _dU_dc_anode\n"
   ]
  },
  {
   "cell_type": "markdown",
   "metadata": {},
   "source": [
    "Uploading experimental data"
   ]
  },
  {
   "cell_type": "code",
   "execution_count": 29,
   "metadata": {},
   "outputs": [
    {
     "data": {
      "text/plain": [
       "'\\n# at ca. 45% SoC (3.587 V)\\n# at 25 deg C\\n\\ndef get_exp_data(i, d): \\n    z_list = []\\n    file = \"/Users/synnemard/Desktop/lithium_ion/EIS_data/MJ1_02_EIS-SoC/MJ1_02_EIS-SoC_0\"+str(i)+\"/\"+d+\"EISGALV3V587.DTA\"\\n    ca = Impedance(file)\\n    ca.load(filename=file)\\n\\n    # extract EIS curve\\n    res = ca.get_curve_data().iloc[::-1]\\n    df_real = res[\\'Zreal\\']\\n    df_imag= res[\\'Zimag\\']\\n    df_freq = res[\\'Freq\\']\\n    #df_name = res[\\'Vdc\\']\\n\\n    # Removing the points beneath the y-axis \\n    real = df_real[df_imag <= 0]\\n    imag = df_imag[df_imag <= 0]\\n    freq = df_freq[df_imag <= 0]\\n    \\n    #name = sum(df_name)/len(df_name)\\n    # Adding the impendances to the list \\n    z_list.append(real)\\n    z_list.append(imag)\\n    return[z_list, freq, len(freq)] #, df_name]\\n\\n'"
      ]
     },
     "execution_count": 29,
     "metadata": {},
     "output_type": "execute_result"
    }
   ],
   "source": [
    "'''\n",
    "# at ca. 45% SoC (3.587 V)\n",
    "# at 25 deg C\n",
    "\n",
    "def get_exp_data(i, d): \n",
    "    z_list = []\n",
    "    file = \"/Users/synnemard/Desktop/lithium_ion/EIS_data/MJ1_02_EIS-SoC/MJ1_02_EIS-SoC_0\"+str(i)+\"/\"+d+\"EISGALV3V587.DTA\"\n",
    "    ca = Impedance(file)\n",
    "    ca.load(filename=file)\n",
    "\n",
    "    # extract EIS curve\n",
    "    res = ca.get_curve_data().iloc[::-1]\n",
    "    df_real = res['Zreal']\n",
    "    df_imag= res['Zimag']\n",
    "    df_freq = res['Freq']\n",
    "    #df_name = res['Vdc']\n",
    "\n",
    "    # Removing the points beneath the y-axis \n",
    "    real = df_real[df_imag <= 0]\n",
    "    imag = df_imag[df_imag <= 0]\n",
    "    freq = df_freq[df_imag <= 0]\n",
    "    \n",
    "    #name = sum(df_name)/len(df_name)\n",
    "    # Adding the impendances to the list \n",
    "    z_list.append(real)\n",
    "    z_list.append(imag)\n",
    "    return[z_list, freq, len(freq)] #, df_name]\n",
    "\n",
    "'''\n"
   ]
  },
  {
   "cell_type": "markdown",
   "metadata": {},
   "source": [
    "Function to get detailed information on V (SOC should be around 45%)"
   ]
  },
  {
   "cell_type": "code",
   "execution_count": 30,
   "metadata": {},
   "outputs": [
    {
     "data": {
      "text/plain": [
       "'\\'\\ndef get_vdc(i, d): \\n    length = get_exp_data(i, d)[2]\\n    file = \"/Users/synnemard/Desktop/lithium_ion/EIS_data/MJ1_01_EIS-SoC_01-05/MJ1_01_EIS-SoC_0\"+str(i)+\"/\"+d+\"EISGALV3V587.DTA\"\\n    df = pd.read_csv(file, delimiter=\\'\\t\\', skiprows=[i for i in range(0, 60)], encoding=\\'ISO-8859-1\\')\\n\\n    df_vdc = df[\\'Vdc\\'][::-1]\\n    vdc = df_vdc[:length+1]\\n    v_list = np.array(vdc)\\n\\n    sum = 0 \\n    for i in v_list: \\n        sum += float(i) \\n    v_avg = sum/len(v_list)\\n\\n    return v_avg #, df_name]\\n\\nget_vdc(1, \"\")\\n\\n'"
      ]
     },
     "execution_count": 30,
     "metadata": {},
     "output_type": "execute_result"
    }
   ],
   "source": [
    "''''\n",
    "def get_vdc(i, d): \n",
    "    length = get_exp_data(i, d)[2]\n",
    "    file = \"/Users/synnemard/Desktop/lithium_ion/EIS_data/MJ1_01_EIS-SoC_01-05/MJ1_01_EIS-SoC_0\"+str(i)+\"/\"+d+\"EISGALV3V587.DTA\"\n",
    "    df = pd.read_csv(file, delimiter='\\t', skiprows=[i for i in range(0, 60)], encoding='ISO-8859-1')\n",
    "\n",
    "    df_vdc = df['Vdc'][::-1]\n",
    "    vdc = df_vdc[:length+1]\n",
    "    v_list = np.array(vdc)\n",
    "\n",
    "    sum = 0 \n",
    "    for i in v_list: \n",
    "        sum += float(i) \n",
    "    v_avg = sum/len(v_list)\n",
    "\n",
    "    return v_avg #, df_name]\n",
    "\n",
    "get_vdc(1, \"\")\n",
    "\n",
    "'''"
   ]
  },
  {
   "cell_type": "markdown",
   "metadata": {},
   "source": [
    "## Parameters from Amund\n",
    "\n",
    "(I have only changed the electrolyte conductivity)"
   ]
  },
  {
   "cell_type": "code",
   "execution_count": 31,
   "metadata": {},
   "outputs": [
    {
     "data": {
      "text/plain": [
       "'\\n# OCV curves for the anode and cathode\\n# Simple math model for the individual electrode potentials as a function of the stoichiometry of Lithium\\ndef MJ1_ocp_tanh_SiC(sto):\\n    x = sto\\n    p = np.array([ 1.20912055e+00,  5.62297420e+01, -1.11020020e-01, -2.53458213e-01, 4.92581391e+01,  1.22046522e-02,  4.73538620e-02,  1.79631246e+01, 1.75283209e-01,  1.88038929e-02,  3.03255334e+01,  4.66328034e-01])\\n    \\n    return (\\n            p[0] * np.exp(-p[1] * x)\\n            + p[2]\\n            - p[3] * np.tanh(p[4] * (x - p[5]))\\n            - p[6] * np.tanh(p[7] * (x - p[8]))\\n            - p[9] * np.tanh(p[10] * (x - p[11]))\\n        )\\n\\ndef MJ1_ocp_tanh_NMC(sto):\\n    x = sto\\n    p = np.array([ 0.74041974,  4.39107343,  0.03434767, 18.16841489,  0.53463176, 17.68283504, 14.59709162,  0.28835348, 17.58474971, 14.69911523,  0.28845641])\\n\\n    return (\\n            -p[0] * x\\n            + p[1]\\n            - p[2] * np.tanh(p[3] * (x - p[4]))\\n            - p[5] * np.tanh(p[6] * (x - p[7]))\\n            + p[8] * np.tanh(p[9] * (x - p[10]))\\n        )\\n\\n# Parameters from literature\\nliterature_params = {\\n    \\'Electrode height [m]\\': 0.059,\\n    \\'Electrode width [m]\\': 0.610*2, # Multiplying by two since the electrode has active material on both sides.\\n    \\'Lower voltage cut-off [V]\\': 2.5,\\n    \\'Upper voltage cut-off [V]\\': 4.5,\\n    \\'Nominal cell capacity [A.h]\\': 3.5,\\n    \\'EC initial concentration in electrolyte [mol.m-3]\\': 1000,  #4541.0,\\n\\n # From Table 3 in https://doi.org/10.1016/j.jpowsour.2018.11.043\\n    \\'Maximum concentration in negative electrode [mol.m-3]\\': 32418.5,\\n    \\'Negative particle radius [m]\\': 6.1e-06,\\n    \\'Negative electrode porosity\\': 0.216,\\n    \\'Negative electrode active material volume fraction\\': 0.7011854763922494,\\n    \\'Negative electrode conductivity [S.m-1]\\': 100.0,\\n    \\'Negative electrode diffusivity [m2.s-1]\\': 5e-14,\\n    \\'Negative electrode OCP [V]\\': MJ1_ocp_tanh_SiC,\\n\\n    # \\'Maximum concentration in positive electrode [mol.m-3]\\': 51081.15,\\n    \\'Positive particle radius [m]\\': 3.8e-06,\\n    \\'Positive electrode porosity\\': 0.171,\\n    \\'Positive electrode active material volume fraction\\': 0.7355902286855152,\\n    \\'Positive electrode conductivity [S.m-1]\\': 0.17,\\n    \\'Positive electrode diffusivity [m2.s-1]\\': 5e-13,\\n    \\'Positive electrode OCP [V]\\': MJ1_ocp_tanh_NMC,\\n\\n    \\'Separator porosity\\': 0.45,\\n\\n    # end of section 3 data\\n    \\n    # From Table A-9 and A-10 in https://doi.org/10.1016/j.jpowsour.2018.11.043\\n    \\'Negative current collector conductivity [S.m-1]\\': 5.9e7/(1+3.383e-3 * (298.15-293.15)), \\n    \\'Negative current collector thickness [m]\\': 11e-06,\\n    \\'Negative current collector density [kg.m-3]\\': 8950.0,\\n    \\'Negative current collector specific heat capacity [J.kg-1.K-1]\\': 385.0,\\n    \\'Negative current collector thermal conductivity [W.m-1.K-1]\\': 398.0,\\n    \\'Negative electrode density [kg.m-3]\\': 2242.0,\\n    \\'Negative electrode specific heat capacity [J.kg-1.K-1]\\': 867.0,\\n    \\'Negative electrode thermal conductivity [W.m-1.K-1]\\': 1.04,\\n    \\'Negative electrode thickness [m]\\': 86.7e-6, # 86.7 in Sturm 2019, 85um in Heenan2020, 170um in NASA\\n    \\'Positive current collector conductivity [S.m-1]\\': 3.78e7/(1+4.290e-3 * (298.15-293.15)),\\n    \\'Positive current collector density [kg.m-3]\\': 2710.0,\\n    \\'Positive current collector specific heat capacity [J.kg-1.K-1]\\': 903.0,\\n    \\'Positive current collector thermal conductivity [W.m-1.K-1]\\': 238.0,\\n    \\'Positive current collector thickness [m]\\': 17.3e-06,\\n    \\'Positive electrode density [kg.m-3]\\': 4870.0,\\n    \\'Positive electrode specific heat capacity [J.kg-1.K-1]\\': 840.1,\\n    \\'Positive electrode thermal conductivity [W.m-1.K-1]\\': 1.58,\\n    \\'Positive electrode thickness [m]\\': 66.2e-6, #66.2um in Sturm2019, 72.5um in Heenan2020, 160um in NASA\\n    \\'Separator density [kg.m-3]\\': 1009.0,\\n    \\'Separator specific heat capacity [J.kg-1.K-1]\\': 1978.2,\\n    \\'Separator thermal conductivity [W.m-1.K-1]\\': 0.33,\\n    \\'Separator thickness [m]\\': 12e-06,\\n\\n    # end of table data\\n    }\\n\\n# Use default parameters from the Chen2020 publication\\nparams = pybamm.ParameterValues(\"Chen2020\")\\n\\n# Overwrite parameters with our own\\nfor parameter, value in literature_params.items():\\n    try:\\n        if params[parameter] != value: # Check if the parameter exists in \\'params\\' and has a different value\\n            params[parameter] = value # Update \\'params\\' with the new value from \\'literature_params\\'\\n    except KeyError as e: # This block handles the case where the \\'parameter\\' is not in \\'params\\'\\n        print(f\"Parameter {parameter} not part of default. Skipping.\")\\n\\n#params[\\'Electrolyte conductivity\\']\\n\\n'"
      ]
     },
     "execution_count": 31,
     "metadata": {},
     "output_type": "execute_result"
    }
   ],
   "source": [
    "'''\n",
    "# OCV curves for the anode and cathode\n",
    "# Simple math model for the individual electrode potentials as a function of the stoichiometry of Lithium\n",
    "def MJ1_ocp_tanh_SiC(sto):\n",
    "    x = sto\n",
    "    p = np.array([ 1.20912055e+00,  5.62297420e+01, -1.11020020e-01, -2.53458213e-01, 4.92581391e+01,  1.22046522e-02,  4.73538620e-02,  1.79631246e+01, 1.75283209e-01,  1.88038929e-02,  3.03255334e+01,  4.66328034e-01])\n",
    "    \n",
    "    return (\n",
    "            p[0] * np.exp(-p[1] * x)\n",
    "            + p[2]\n",
    "            - p[3] * np.tanh(p[4] * (x - p[5]))\n",
    "            - p[6] * np.tanh(p[7] * (x - p[8]))\n",
    "            - p[9] * np.tanh(p[10] * (x - p[11]))\n",
    "        )\n",
    "\n",
    "def MJ1_ocp_tanh_NMC(sto):\n",
    "    x = sto\n",
    "    p = np.array([ 0.74041974,  4.39107343,  0.03434767, 18.16841489,  0.53463176, 17.68283504, 14.59709162,  0.28835348, 17.58474971, 14.69911523,  0.28845641])\n",
    "\n",
    "    return (\n",
    "            -p[0] * x\n",
    "            + p[1]\n",
    "            - p[2] * np.tanh(p[3] * (x - p[4]))\n",
    "            - p[5] * np.tanh(p[6] * (x - p[7]))\n",
    "            + p[8] * np.tanh(p[9] * (x - p[10]))\n",
    "        )\n",
    "\n",
    "# Parameters from literature\n",
    "literature_params = {\n",
    "    'Electrode height [m]': 0.059,\n",
    "    'Electrode width [m]': 0.610*2, # Multiplying by two since the electrode has active material on both sides.\n",
    "    'Lower voltage cut-off [V]': 2.5,\n",
    "    'Upper voltage cut-off [V]': 4.5,\n",
    "    'Nominal cell capacity [A.h]': 3.5,\n",
    "    'EC initial concentration in electrolyte [mol.m-3]': 1000,  #4541.0,\n",
    "\n",
    " # From Table 3 in https://doi.org/10.1016/j.jpowsour.2018.11.043\n",
    "    'Maximum concentration in negative electrode [mol.m-3]': 32418.5,\n",
    "    'Negative particle radius [m]': 6.1e-06,\n",
    "    'Negative electrode porosity': 0.216,\n",
    "    'Negative electrode active material volume fraction': 0.7011854763922494,\n",
    "    'Negative electrode conductivity [S.m-1]': 100.0,\n",
    "    'Negative electrode diffusivity [m2.s-1]': 5e-14,\n",
    "    'Negative electrode OCP [V]': MJ1_ocp_tanh_SiC,\n",
    "\n",
    "    # 'Maximum concentration in positive electrode [mol.m-3]': 51081.15,\n",
    "    'Positive particle radius [m]': 3.8e-06,\n",
    "    'Positive electrode porosity': 0.171,\n",
    "    'Positive electrode active material volume fraction': 0.7355902286855152,\n",
    "    'Positive electrode conductivity [S.m-1]': 0.17,\n",
    "    'Positive electrode diffusivity [m2.s-1]': 5e-13,\n",
    "    'Positive electrode OCP [V]': MJ1_ocp_tanh_NMC,\n",
    "\n",
    "    'Separator porosity': 0.45,\n",
    "\n",
    "    # end of section 3 data\n",
    "    \n",
    "    # From Table A-9 and A-10 in https://doi.org/10.1016/j.jpowsour.2018.11.043\n",
    "    'Negative current collector conductivity [S.m-1]': 5.9e7/(1+3.383e-3 * (298.15-293.15)), \n",
    "    'Negative current collector thickness [m]': 11e-06,\n",
    "    'Negative current collector density [kg.m-3]': 8950.0,\n",
    "    'Negative current collector specific heat capacity [J.kg-1.K-1]': 385.0,\n",
    "    'Negative current collector thermal conductivity [W.m-1.K-1]': 398.0,\n",
    "    'Negative electrode density [kg.m-3]': 2242.0,\n",
    "    'Negative electrode specific heat capacity [J.kg-1.K-1]': 867.0,\n",
    "    'Negative electrode thermal conductivity [W.m-1.K-1]': 1.04,\n",
    "    'Negative electrode thickness [m]': 86.7e-6, # 86.7 in Sturm 2019, 85um in Heenan2020, 170um in NASA\n",
    "    'Positive current collector conductivity [S.m-1]': 3.78e7/(1+4.290e-3 * (298.15-293.15)),\n",
    "    'Positive current collector density [kg.m-3]': 2710.0,\n",
    "    'Positive current collector specific heat capacity [J.kg-1.K-1]': 903.0,\n",
    "    'Positive current collector thermal conductivity [W.m-1.K-1]': 238.0,\n",
    "    'Positive current collector thickness [m]': 17.3e-06,\n",
    "    'Positive electrode density [kg.m-3]': 4870.0,\n",
    "    'Positive electrode specific heat capacity [J.kg-1.K-1]': 840.1,\n",
    "    'Positive electrode thermal conductivity [W.m-1.K-1]': 1.58,\n",
    "    'Positive electrode thickness [m]': 66.2e-6, #66.2um in Sturm2019, 72.5um in Heenan2020, 160um in NASA\n",
    "    'Separator density [kg.m-3]': 1009.0,\n",
    "    'Separator specific heat capacity [J.kg-1.K-1]': 1978.2,\n",
    "    'Separator thermal conductivity [W.m-1.K-1]': 0.33,\n",
    "    'Separator thickness [m]': 12e-06,\n",
    "\n",
    "    # end of table data\n",
    "    }\n",
    "\n",
    "# Use default parameters from the Chen2020 publication\n",
    "params = pybamm.ParameterValues(\"Chen2020\")\n",
    "\n",
    "# Overwrite parameters with our own\n",
    "for parameter, value in literature_params.items():\n",
    "    try:\n",
    "        if params[parameter] != value: # Check if the parameter exists in 'params' and has a different value\n",
    "            params[parameter] = value # Update 'params' with the new value from 'literature_params'\n",
    "    except KeyError as e: # This block handles the case where the 'parameter' is not in 'params'\n",
    "        print(f\"Parameter {parameter} not part of default. Skipping.\")\n",
    "\n",
    "#params['Electrolyte conductivity']\n",
    "\n",
    "'''\n"
   ]
  },
  {
   "cell_type": "markdown",
   "metadata": {},
   "source": [
    "### Finding the $-\\frac{\\partial U}{\\partial c_s}$ for each the anode and the cathode"
   ]
  },
  {
   "cell_type": "code",
   "execution_count": null,
   "metadata": {},
   "outputs": [],
   "source": [
    "'''\n",
    "c_n_max = params[\"Maximum concentration in negative electrode [mol.m-3]\"]\n",
    "c_n_s_max = c_n_max \n",
    "c_p_max = params[\"Maximum concentration in positive electrode [mol.m-3]\"]\n",
    "c_p_s_max = c_p_max\n",
    "\n",
    "params.set_initial_stoichiometries(0.45) # Setting SOC, this changes the initial concentrations\n",
    "c_n = params['Initial concentration in negative electrode [mol.m-3]'] \n",
    "c_n_s = c_n # for the surface of the particle\n",
    "c_p = params['Initial concentration in positive electrode [mol.m-3]'] \n",
    "c_p_s = c_p\n",
    "\n",
    "'''\n"
   ]
  },
  {
   "cell_type": "code",
   "execution_count": null,
   "metadata": {},
   "outputs": [],
   "source": [
    "'''\n",
    "def sech_2(z): \n",
    "    return 1/np.cosh(z)**2\n",
    "\n",
    "def _dU_dc_anode(c): \n",
    "    x = c/c_n_max\n",
    "    # Har satt in for x i uttrykket for potensial lenger oppe og derivert med hensyn på c\n",
    "    p = np.array([ 1.20912055e+00,  5.62297420e+01, -1.11020020e-01, -2.53458213e-01, 4.92581391e+01,  1.22046522e-02,  4.73538620e-02,  1.79631246e+01, 1.75283209e-01,  1.88038929e-02,  3.03255334e+01,  4.66328034e-01])\n",
    "    dU_dc = -(p[6]*p[7]*sech_2(p[7]*(c/c_n_max-p[8])))/c_n_max - (p[3]*p[4]*sech_2(p[4]*(c/c_n_max-p[5])))/c_n_max - (p[9]*p[10]*sech_2(p[10]*(c/c_n_max-p[11])))/c_n_max - (p[0]*p[1]*np.exp(-p[1]*c/c_n_max))/c_n_max\n",
    "    return -dU_dc # [V*m^3/mol]\n",
    "\n",
    "_dU_dc_a = _dU_dc_anode(c_n)\n",
    "\n",
    "def _dU_dc_cathode(c): \n",
    "    x = c/c_p_max\n",
    "    # Har satt in for x i uttrykket for potensial lenger oppe og derivert med hensyn på c\n",
    "    p = np.array([ 0.74041974,  4.39107343,  0.03434767, 18.16841489,  0.53463176, 17.68283504, 14.59709162,  0.28835348, 17.58474971, 14.69911523,  0.28845641])\n",
    "    dU_dc = -(p[5]*p[6]*sech_2(p[6]*(c/c_p_max-p[7])))/c_p_max - (p[2]*p[3]*sech_2(p[3]*(c/c_p_max-p[4])))/c_p_max + (p[9]*p[8]*sech_2(p[9]*(c/c_p_max-p[10])))/c_p_max - p[0]\n",
    "    return -dU_dc # [V*m^3/mol]\n",
    "\n",
    "_dU_dc_c = _dU_dc_cathode(c_p)\n",
    "'''\n"
   ]
  },
  {
   "cell_type": "markdown",
   "metadata": {},
   "source": [
    "### Diverse utregninger "
   ]
  },
  {
   "cell_type": "code",
   "execution_count": null,
   "metadata": {},
   "outputs": [],
   "source": [
    "'''\n",
    "F = 96485 #C/mol \n",
    "R = 8.314 #J/mol*K\n",
    "n = 1 \n",
    "T = 298 # K\n",
    "\n",
    "'''"
   ]
  },
  {
   "cell_type": "code",
   "execution_count": null,
   "metadata": {},
   "outputs": [],
   "source": [
    "'''\n",
    "volume_anode = params['Electrode height [m]']*params['Electrode width [m]']*params['Negative electrode thickness [m]'] # [m^3]\n",
    "volume_cathode = params['Electrode height [m]']*params['Electrode width [m]']*params['Positive electrode thickness [m]'] # [m^3]\n",
    "area_electrode = params['Electrode height [m]']*params['Electrode width [m]'] #[m^2]\n",
    "\n",
    "c_e = params['EC initial concentration in electrolyte [mol.m-3]']\n",
    "i_0_a = params['Negative electrode exchange-current density [A.m-2]'](c_e, c_n_s, c_n_s_max, T)\n",
    "i_0_c = params['Positive electrode exchange-current density [A.m-2]'](c_e, c_p_s, c_p_s_max, T)\n",
    "\n",
    "r_a = params['Negative particle radius [m]']\n",
    "r_c = params['Positive particle radius [m]']\n",
    "e_a = 1 - params['Negative electrode porosity']\n",
    "e_c = 1 - params['Positive electrode porosity']\n",
    "'''"
   ]
  },
  {
   "cell_type": "markdown",
   "metadata": {},
   "source": [
    "Functions to convert list to dictionary or vice versa "
   ]
  },
  {
   "cell_type": "code",
   "execution_count": null,
   "metadata": {},
   "outputs": [],
   "source": [
    "'''\n",
    "# Function to convert dictionary to list\n",
    "def dict_to_list(c_elem):\n",
    "    return list(c_elem.values())\n",
    "\n",
    "# Function to convert list back to dictionary\n",
    "def list_to_dict(c_elem, optimized_values):\n",
    "    keys = list(c_elem.keys())\n",
    "    return dict(zip(keys, optimized_values))\n",
    "'''"
   ]
  },
  {
   "cell_type": "markdown",
   "metadata": {},
   "source": [
    "#### Equation for finding $R_{ct}$ from the given exchange current density parameter: \n",
    "\n",
    "The charge transfer resistances (= $R_{ct}$), $R1$ and $R2$, are found from the Butler-Volmer equation: \n",
    "\n",
    "$$R_{ct} = \\frac{RT}{n\\cdot i_0(\\alpha_a + \\alpha_c)F}, $$\n",
    "\n",
    "at small overpotentials and assuming a symmetrical charge transfer process $(\\alpha_a + \\alpha_c = 1)$. This equation is also written as equation $(20)$ in the Meyers paper. "
   ]
  },
  {
   "cell_type": "code",
   "execution_count": null,
   "metadata": {},
   "outputs": [],
   "source": [
    "'''\n",
    "def R_ct(i_0): \n",
    "    return (R*T)/(n*F*i_0) # [ohm.m^2]\n",
    "\n",
    "R1_a = R_ct(i_0_a).__dict__['_value']\n",
    "R1_c = R_ct(i_0_c).__dict__['_value']\n",
    "'''"
   ]
  },
  {
   "cell_type": "markdown",
   "metadata": {},
   "source": [
    "#### Equation for finding the pore surface volume divided by the electrode volume (=$a$):\n",
    "\n",
    "The pore surface area can be found from the following calculations: \n",
    "\n",
    "$$V_{particle} = \\frac{4\\pi r^3}{3}$$\n",
    "$$V_{active} = \\epsilon \\cdot V_{electrode}, $$\n",
    "\n",
    "where $\\epsilon$ is the fraction of active electrode material and then $V_{active}$ is the volume of the active electrode material. This gives the number of particles $N = \\frac{V_{active}}{V_{particle}}$. Further, the surface area of one particle is \n",
    "\n",
    "$$A_{particle} = 4 \\pi r^2, $$\n",
    "\n",
    "so that $A_{total} = N\\cdot A_{particle}$, where $A_{total}$ is the total pore/particle surface area. \n",
    "\n",
    "Then $a$ is calculated from \n",
    "\n",
    "$$a = \\frac{A_{total}}{V_{electrode}}$$\n",
    "\n",
    "\n"
   ]
  },
  {
   "cell_type": "code",
   "execution_count": null,
   "metadata": {},
   "outputs": [
    {
     "name": "stdout",
     "output_type": "stream",
     "text": [
      "385573.7704918033\n",
      "385573.77049180336\n"
     ]
    }
   ],
   "source": [
    "'''\n",
    "N = e_a*volume_anode/((4*np.pi/3)*r_a**3)\n",
    "\n",
    "def a(V_electrode, e): \n",
    "    V_particle = (4*np.pi/3)*r_a**3\n",
    "    V_active = e*V_electrode \n",
    "    # Number of particles\n",
    "    N = V_active/V_particle \n",
    "    # Surface area of particle \n",
    "    A_particle = 4*np.pi*r_a**2\n",
    "    # Total surface area of particles\n",
    "    A_total = N*A_particle # so that A_total = (3*e)/r_particle\n",
    "    return A_total/V_electrode # [m^-1]\n",
    "\n",
    "\n",
    "print(a(volume_anode, e_a))\n",
    "\n",
    "print(3*e_a/r_a)\n",
    "'''"
   ]
  },
  {
   "cell_type": "markdown",
   "metadata": {},
   "source": [
    "## Meyers parametre"
   ]
  },
  {
   "cell_type": "markdown",
   "metadata": {},
   "source": [
    "+ $R1$ - resistance \n",
    "+ $R2$ - resistance \n",
    "+ $C1$ - capicitance \n",
    "+ $C2$ - capicitance \n",
    "+ $R_s$ - particle size (assuming radius)\n",
    "+ $D_s$ - diffusion coefficient \n",
    "+ $a$ - surface area of pores per volume electrode\n",
    "+ $L$ - electrode thickness\n",
    "+ $K$ - electrolyte conductivity \n",
    "+ $\\sigma$ - electrode conductivity \n",
    "+ $\\epsilon$ - porosity \n",
    "+ $\\left(-\\frac{\\partial U}{\\partial c_s}\\right)$\n",
    "\n",
    "These parameters are defined from the given parameters by Amund (above). If the Meyer parameter does not have an equivalent in the parameter list above, it is calculated from relations (for example, the resistances $R1$ and $R2$ are calculated from the exhange current density $i$). \n",
    "\n",
    "Fra Ann-Mari sine anbefalinger har jeg ikke inkludert R1 og R2 i førsteomgang. "
   ]
  },
  {
   "cell_type": "code",
   "execution_count": null,
   "metadata": {},
   "outputs": [
    {
     "name": "stdout",
     "output_type": "stream",
     "text": [
      "{'R1': 0.07825704835882585, 'C1': 0.2, 'Rs': 6.1e-06, 'Ds': 5e-14, 'a': 385573.7704918033, 'L': 8.67e-05, 'K': 0.9487000000000005, 'sigma': 100.0, 'ebsilon': 0.784, '-dU_dcs': 1.3786045384026093e-05}\n",
      "{'R1': 0.0076328858714558205, 'C1': 0.2, 'Rs': 3.8e-06, 'Ds': 5e-13, 'a': 407704.9180327869, 'L': 6.62e-05, 'K': 0.9487000000000005, 'sigma': 0.17, 'ebsilon': 0.829, '-dU_dcs': 0.740426330458689}\n"
     ]
    }
   ],
   "source": [
    "'''\n",
    "a_parametre = {\n",
    "    \"R1\": R1_a,  # motstand, [ohm.m^2]\n",
    "    \"C1\": params['Negative electrode double-layer capacity [F.m-2]'],  # kapasitans\n",
    "    \"Rs\": params['Negative particle radius [m]'], # partikkelstørrelse, [F.m^-2]\n",
    "    \"Ds\": params['Negative electrode diffusivity [m2.s-1]'],     # diffusjonskoeffisient [m^2.s^-1]\n",
    "    \"a\": a(volume_anode, e_a),  # overflateareal porer/volum electrode [m^-1]\n",
    "    \"L\": params['Negative electrode thickness [m]'],  # tykkelse, elektrode, [m]\n",
    "    \"K\" : params['Electrolyte conductivity [S.m-1]'](c_e, T),  # ledningsevne elektrolytt [S.m^-1]\n",
    "    \"sigma\": params['Negative electrode conductivity [S.m-1]'], # ledningsevne, fast elektrodematerial [S.m^-1]\n",
    "    \"ebsilon\": e_a,     # volume fraction anode\n",
    "    \"-dU_dcs\": _dU_dc_a, #[V.m^3.mol-1]\n",
    "    }\n",
    "\n",
    "c_parametre = {\n",
    "    \"R1\": R1_c,  # motstand\n",
    "    \"C1\": params['Positive electrode double-layer capacity [F.m-2]'],  # kapasitans\n",
    "    \"Rs\": params['Positive particle radius [m]'], # partikkelstørrelse\n",
    "    \"Ds\": params['Positive electrode diffusivity [m2.s-1]'],     # diffusjonskoeffisient \n",
    "    \"a\": a(volume_cathode, e_c),  # overflateareal porer/volum electrode \n",
    "    \"L\": params['Positive electrode thickness [m]'],  # tykkelse, elektrode\n",
    "    \"K\" : params['Electrolyte conductivity [S.m-1]'](c_e, T),  # ledningsevne elektrolytt \n",
    "    \"sigma\": params['Positive electrode conductivity [S.m-1]'], # ledningsevne, fast elektrodematerial \n",
    "    \"ebsilon\": e_c,     # volume fraction cathode\n",
    "    \"-dU_dcs\": _dU_dc_c, \n",
    "    }\n",
    "\n",
    "print(a_parametre)\n",
    "print(c_parametre)\n",
    "#params.search('Positive particle surface concentration [mol.m-3]')\n",
    "\n",
    "'''"
   ]
  },
  {
   "cell_type": "markdown",
   "metadata": {},
   "source": [
    "## Calculate impedance (from Meyers paper)"
   ]
  },
  {
   "cell_type": "markdown",
   "metadata": {},
   "source": [
    "$$R_{part} = \\left(-\\frac{\\partial U}{\\partial c_s}\\right)\\frac{R_s}{FD_s}$$\n",
    "\n",
    "$$Y_s = \\frac{\\sqrt{j\\Omega_s}-\\tanh(\\sqrt{j\\Omega_s})}{\\tanh(\\sqrt{j\\Omega_s})},$$\n",
    "\n",
    "where $Y_s$ is the admittance for the diffusion effect and $\\Omega_s$ is the dimensionless frequency: \n",
    "\n",
    "$$\\Omega_s = \\frac{\\omega R_s^2}{D_s^{a}}$$\n",
    "\n",
    "Further, \n",
    "\n",
    "$$Y(\\omega) = \\frac{1}{\\frac{R1 + \\frac{R_{part}}{Y_s}}{1 + j\\omega C1\\left(R1 + \\frac{R_{part}}{Y_s}\\right)} + \\frac{R2}{1+j\\omega R2\\cdot C2}}, $$\n",
    "\n",
    "where $Y(\\omega)$ is the admittance (intercalation, BV-kinetics and double-layer capacitance) of a single particle at a given frequency. $\\overline{aY}$ is the average admittance in the porous electrode. \n",
    "\n",
    "$$v = \\frac{L}{\\left(\\frac{K\\sigma}{K + \\sigma}\\right)^{\\frac{1}{2}}\\left({\\overline{aY}}\\right)^{-\\frac{1}{2}}}, $$\n",
    "\n",
    "where the parameter $v$ is a function of frequency $\\omega$ and is determined for set values of $\\sigma$ and $K$. \n",
    "Finally, the total impedance is given by\n",
    "\n",
    "$$Z = \\frac{L}{K+\\sigma}\\left[1 + \\frac{2 + (\\frac{\\sigma}{K} + \\frac{K}{\\sigma})\\cosh v}{v\\cdot \\sinh v}\\right]$$\n",
    "\n",
    "\n"
   ]
  },
  {
   "cell_type": "code",
   "execution_count": null,
   "metadata": {},
   "outputs": [],
   "source": [
    "'''\n",
    "def R_part(param): \n",
    "    R_part = _dU_dc_a*(param['Rs']/(F*param['Ds']))\n",
    "    return R_part \n",
    "\n",
    "def Y_s(param, ang_freq):\n",
    "    omega_s = (ang_freq*param['Rs']**2)/param['Ds']\n",
    "    Y_s = (np.sqrt(1j*omega_s) - np.tanh(np.sqrt(1j*omega_s)))/np.tanh(np.sqrt(1j*omega_s))\n",
    "    return Y_s\n",
    "\n",
    "def Y_particle(param, ang_freq, R_part, Y_s): \n",
    "    Y = 1/((param['R1'] + R_part/Y_s)/(1 + 1j*ang_freq*param['C1']*(param['R1'] + R_part/Y_s)))\n",
    "    return Y\n",
    "\n",
    "def v(param, Y): \n",
    "    v = param['L']/ (((param['K']*param['sigma'])/(param['K'] + param['sigma']))**0.5*((param['a']*Y))**(-0.5))\n",
    "    return v\n",
    "\n",
    "'''"
   ]
  },
  {
   "cell_type": "code",
   "execution_count": null,
   "metadata": {},
   "outputs": [
    {
     "data": {
      "image/png": "[encoded data removed]",
      "text/plain": [
       "<Figure size 640x480 with 1 Axes>"
      ]
     },
     "metadata": {},
     "output_type": "display_data"
    }
   ],
   "source": [
    "'''\n",
    "# Function to calculate Z \n",
    "def calc_Z(comp, frequencies):\n",
    "    # Update param dictionary from the flat parameter list (comp), where comp is updated values\n",
    "    param = list_to_dict(a_parametre, comp) \n",
    "    ang_freq = 2 * np.pi * frequencies\n",
    "\n",
    "    Rp = R_part(param)\n",
    "    Ys = Y_s(param, ang_freq)\n",
    "    Y = Y_particle(param, ang_freq, Rp, Ys)\n",
    "    v_calc = v(param, Y)\n",
    "\n",
    "    # The total impedance: \n",
    "    Z = (param['L']/(param['K']+param['sigma']))*(1 + (2 + (param['sigma']/param['K'] + param['K']/param['sigma'])*np.cosh(v_calc))/(v_calc*np.sinh(v_calc)))\n",
    "    \n",
    "    return Z/area_electrode\n",
    "\n",
    "frequencies = np.array(get_exp_data(1, \"\")[1])\n",
    "Z_init = calc_Z(dict_to_list(a_parametre), frequencies)\n",
    "plt.plot(Z_init.real, -Z_init.imag)\n",
    "plt.show()\n",
    "\n",
    "'''"
   ]
  },
  {
   "cell_type": "code",
   "execution_count": null,
   "metadata": {},
   "outputs": [
    {
     "name": "stdout",
     "output_type": "stream",
     "text": [
      "0.019025233831010006\n",
      "{'R1': 0.07825704835882585, 'C1': 0.2, 'Rs': 6.099999999997029e-06, 'Ds': 2.1576496441636004e-14, 'a': 385573.7704918033, 'L': 8.669999999972467e-05, 'K': 0.9487000000000005, 'sigma': 100.0, 'ebsilon': 0.784, '-dU_dcs': 1.3786045384026093e-05}\n",
      "{'R1': 0.07825704835882585, 'C1': 0.2, 'Rs': 6.1e-06, 'Ds': 5e-14, 'a': 385573.7704918033, 'L': 8.67e-05, 'K': 0.9487000000000005, 'sigma': 100.0, 'ebsilon': 0.784, '-dU_dcs': 1.3786045384026093e-05}\n"
     ]
    }
   ],
   "source": [
    "'''\n",
    "# Optimizing the difference function for a given data set\n",
    "def optimize_diff(i, parametre):\n",
    "    # Load the experimental data \n",
    "    exp_real = np.array(get_exp_data(i, \"\")[0][0])\n",
    "    exp_imag = np.array(get_exp_data(i, \"\")[0][1])\n",
    "    frequencies = np.array(get_exp_data(i, \"\")[1])\n",
    "\n",
    "    # Difference function for the optimization\n",
    "    def diff_func(comp, exp_real, exp_imag, frequencies):\n",
    "        Z = calc_Z(comp, frequencies)\n",
    "        diff_real = Z.real - exp_real\n",
    "        diff_imag = Z.imag - exp_imag\n",
    "        sum_square_diff = np.sum(diff_real ** 2 + diff_imag ** 2)\n",
    "        return sum_square_diff\n",
    "    \n",
    "    #print(diff_func(dict_to_list(a_number_parametre), exp_real, exp_imag, frequencies))\n",
    "\n",
    "    # Convert initial dictionary to list for optimization\n",
    "    initial_elems = dict_to_list(parametre)\n",
    "\n",
    "    # Optimization options\n",
    "    options = {\n",
    "        'maxiter': 10000,    # Maximum number of iterations\n",
    "        'ftol': 1e-4,       # Function value tolerance\n",
    "        #'disp': True\n",
    "    }\n",
    "\n",
    "    # Minimize the difference function (optimize parameters)\n",
    "    opt = minimize(diff_func, initial_elems, args=(exp_real, exp_imag, frequencies), method='TNC', options=options)\n",
    "    opt_elems = list_to_dict(parametre, opt.x)\n",
    "    final_diff = diff_func(opt.x, exp_real, exp_imag, frequencies)\n",
    "    \n",
    "    #print(\"Final sum of squared difference for dataset\", i, \":\", final_diff)\n",
    "\n",
    "    return opt_elems, final_diff, frequencies, opt.x \n",
    "\n",
    "# Example usage: optimize for a specific dataset (choose i from 1 to 5)\n",
    "i = 1 # Change i to the desired dataset index\n",
    "dic_elems, final_diff, frequencies, list_elems = optimize_diff(i, a_parametre)\n",
    "\n",
    "print(final_diff)\n",
    "print(dic_elems)\n",
    "print(a_parametre)\n",
    "\n",
    "'''"
   ]
  },
  {
   "cell_type": "code",
   "execution_count": 8,
   "metadata": {},
   "outputs": [
    {
     "data": {
      "text/plain": [
       "({'R_el': 0.026311026572117147,\n",
       "  'L': 4.708712711878579e-07,\n",
       "  'R_ct1': 0.006056965817144911,\n",
       "  'Q1': 0.6843045310832762,\n",
       "  'alpha1': 0.680805468634486,\n",
       "  'A1': 0.002195440372399166,\n",
       "  'a_w1': 0.5880856046008839,\n",
       "  'R_ct2': 0.0035155345043565234,\n",
       "  'Q2': 2.3792865699710406,\n",
       "  'alpha2': 0.8549206996738854},\n",
       " 3.270192154328697e-06,\n",
       " array([1.000110e-02, 1.259070e-02, 1.585220e-02, 1.995530e-02,\n",
       "        2.512060e-02, 3.162960e-02, 3.982580e-02, 5.013370e-02,\n",
       "        6.317390e-02, 7.944920e-02, 1.001603e-01, 1.260081e-01,\n",
       "        1.588983e-01, 2.003205e-01, 2.520161e-01, 3.167230e-01,\n",
       "        4.006410e-01, 5.040323e-01, 6.334459e-01, 7.923428e-01,\n",
       "        9.990410e-01, 1.266892e+00, 1.584686e+00, 1.998082e+00,\n",
       "        2.504006e+00, 3.158693e+00, 3.945707e+00, 5.008013e+00,\n",
       "        6.317385e+00, 7.944915e+00, 9.931140e+00, 1.240079e+01,\n",
       "        1.562500e+01, 1.986229e+01, 2.493351e+01, 3.125000e+01,\n",
       "        3.842213e+01, 5.022321e+01, 6.334460e+01, 7.900281e+01,\n",
       "        1.004464e+02, 1.255580e+02, 1.583615e+02, 1.986229e+02,\n",
       "        2.524038e+02, 3.155048e+02, 3.979953e+02, 5.055147e+02,\n",
       "        6.277902e+02]),\n",
       " array([2.63110266e-02, 4.70871271e-07, 6.05696582e-03, 6.84304531e-01,\n",
       "        6.80805469e-01, 2.19544037e-03, 5.88085605e-01, 3.51553450e-03,\n",
       "        2.37928657e+00, 8.54920700e-01]))"
      ]
     },
     "execution_count": 8,
     "metadata": {},
     "output_type": "execute_result"
    }
   ],
   "source": [
    "from utils.convertion import dict_to_list, list_to_dict\n",
    "from utils.ecm_randles import calc_Z, c_elem\n",
    "from utils.ecm_meyers import calculate_Z, a_fitting\n",
    "from utils.optimize import optimize_diff\n",
    "\n",
    "optimize_diff(1, c_elem, calc_Z)"
   ]
  },
  {
   "cell_type": "markdown",
   "metadata": {},
   "source": [
    "PSO"
   ]
  },
  {
   "cell_type": "code",
   "execution_count": 47,
   "metadata": {},
   "outputs": [
    {
     "name": "stderr",
     "output_type": "stream",
     "text": [
      "2024-11-26 20:21:56,068 - pyswarms.single.global_best - INFO - Optimize for 100 iters with {'c1': 0.5, 'c2': 0.3, 'w': 0.9}\n",
      "pyswarms.single.global_best: 100%|██████████|100/100, best_cost=0.000901\n",
      "2024-11-26 20:21:58,340 - pyswarms.single.global_best - INFO - Optimization finished | best cost: 0.0009009492374866769, best pos: [3.77682828e-05 2.58627533e+00 4.96012055e+00 3.48467423e+00\n",
      " 4.40574882e+00 9.55792123e-03 3.41442422e+00 4.41872780e+00\n",
      " 2.91200900e+00 2.09835158e+00]\n"
     ]
    },
    {
     "name": "stdout",
     "output_type": "stream",
     "text": [
      "0.0009009492374866769\n",
      "[3.77682828e-05 2.58627533e+00 4.96012055e+00 3.48467423e+00\n",
      " 4.40574882e+00 9.55792123e-03 3.41442422e+00 4.41872780e+00\n",
      " 2.91200900e+00 2.09835158e+00]\n"
     ]
    }
   ],
   "source": [
    "\n",
    "i = 1\n",
    "exp_real = np.array(get_exp_data(i, \"\")[0][0])\n",
    "exp_imag = np.array(get_exp_data(i, \"\")[0][1])\n",
    "frequencies = np.array(get_exp_data(i, \"\")[1])\n",
    "\n",
    "# Difference function for the optimization\n",
    "def diff_func(comp, exp_real, exp_imag, frequencies):\n",
    "    Z = calc_Z(comp, frequencies)\n",
    "    diff_real = Z.real - exp_real\n",
    "    diff_imag = Z.imag - exp_imag\n",
    "    sum_square_diff = np.sum(diff_real ** 2 + diff_imag ** 2)\n",
    "    return sum_square_diff\n",
    "\n",
    "def wrapped_diff_func(comp):\n",
    "  return np.array([diff_func(par, exp_real, exp_imag, frequencies) for par in comp])\n",
    "\n",
    "n_dim = len(a_parametre) #changing \n",
    "\n",
    "options = {\n",
    "    'c1': 0.5, \n",
    "    'c2': 0.3, \n",
    "    'w': 0.9,\n",
    "}\n",
    "\n",
    "optimizer = ps.single.GlobalBestPSO(n_particles = 100, dimensions = n_dim, options = options)\n",
    "\n",
    "best_cost, best_params = optimizer.optimize(wrapped_diff_func, iters =100)\n",
    "\n",
    "print(best_cost)\n",
    "print(best_params)"
   ]
  },
  {
   "cell_type": "code",
   "execution_count": 48,
   "metadata": {},
   "outputs": [
    {
     "data": {
      "image/png": "[encoded data removed]",
      "text/plain": [
       "<Figure size 640x480 with 1 Axes>"
      ]
     },
     "metadata": {},
     "output_type": "display_data"
    }
   ],
   "source": [
    "frequencies = np.array(get_exp_data(1, \"\")[1])\n",
    "Z_opt = calc_Z(best_params, frequencies)\n",
    "\n",
    "plt.plot(Z_opt.real, -Z_opt.imag)\n",
    "plt.show()"
   ]
  },
  {
   "cell_type": "markdown",
   "metadata": {},
   "source": [
    "Observe how the parameters are changing with degradation"
   ]
  },
  {
   "cell_type": "code",
   "execution_count": 49,
   "metadata": {},
   "outputs": [],
   "source": [
    "def finding_params(): \n",
    "    dic_list = []\n",
    "    for l in range(1,5):\n",
    "        dic_elems, final_diff, frequencies, list_elems = optimize_diff(l)\n",
    "        dic_list.append(dic_elems)\n",
    "    \n",
    "    combined_dict = {}\n",
    "    \n",
    "    for d in dic_list:\n",
    "        for key, value in d.items():\n",
    "            # If key is not in combined_dict, initialize with empty list\n",
    "            if key not in combined_dict:\n",
    "                combined_dict[key] = []\n",
    "            # Append the value to the list for this key\n",
    "            combined_dict[key].append(value)\n",
    "\n",
    "    return combined_dict"
   ]
  },
  {
   "cell_type": "code",
   "execution_count": 46,
   "metadata": {},
   "outputs": [
    {
     "ename": "TypeError",
     "evalue": "optimize_diff() missing 1 required positional argument: 'parametre'",
     "output_type": "error",
     "traceback": [
      "\u001b[0;31m---------------------------------------------------------------------------\u001b[0m",
      "\u001b[0;31mTypeError\u001b[0m                                 Traceback (most recent call last)",
      "Cell \u001b[0;32mIn[46], line 1\u001b[0m\n\u001b[0;32m----> 1\u001b[0m combined_dict \u001b[38;5;241m=\u001b[39m \u001b[43mfinding_params\u001b[49m\u001b[43m(\u001b[49m\u001b[43m)\u001b[49m\n\u001b[1;32m      3\u001b[0m \u001b[38;5;28;01mdef\u001b[39;00m \u001b[38;5;21mplot_change_param\u001b[39m(key_list): \n\u001b[1;32m      4\u001b[0m     x \u001b[38;5;241m=\u001b[39m [\u001b[38;5;241m1\u001b[39m, \u001b[38;5;241m2\u001b[39m, \u001b[38;5;241m3\u001b[39m, \u001b[38;5;241m4\u001b[39m]\n",
      "Cell \u001b[0;32mIn[45], line 4\u001b[0m, in \u001b[0;36mfinding_params\u001b[0;34m()\u001b[0m\n\u001b[1;32m      2\u001b[0m dic_list \u001b[38;5;241m=\u001b[39m []\n\u001b[1;32m      3\u001b[0m \u001b[38;5;28;01mfor\u001b[39;00m l \u001b[38;5;129;01min\u001b[39;00m \u001b[38;5;28mrange\u001b[39m(\u001b[38;5;241m1\u001b[39m,\u001b[38;5;241m5\u001b[39m):\n\u001b[0;32m----> 4\u001b[0m     dic_elems, final_diff, frequencies, list_elems \u001b[38;5;241m=\u001b[39m \u001b[43moptimize_diff\u001b[49m\u001b[43m(\u001b[49m\u001b[43ml\u001b[49m\u001b[43m)\u001b[49m\n\u001b[1;32m      5\u001b[0m     dic_list\u001b[38;5;241m.\u001b[39mappend(dic_elems)\n\u001b[1;32m      7\u001b[0m combined_dict \u001b[38;5;241m=\u001b[39m {}\n",
      "\u001b[0;31mTypeError\u001b[0m: optimize_diff() missing 1 required positional argument: 'parametre'"
     ]
    }
   ],
   "source": [
    "combined_dict = finding_params()\n",
    "\n",
    "def plot_change_param(key_list): \n",
    "    x = [1, 2, 3, 4]\n",
    "    fig, ax = plt.subplots(figsize=(6, 6)) \n",
    "    for key in key_list: \n",
    "        ax.scatter(x, combined_dict[key], label = key)\n",
    "\n",
    "    plt.legend()\n",
    "    plt.xlabel(\"Data Set Number\")\n",
    "    plt.ylabel(\"Parameter Value\")\n",
    "    plt.title(\"Change in Parameters\") \n",
    "    plt.show()\n",
    "\n",
    "#plot_change_param(['R1', 'R2'])\n",
    "#plot_change_param(['Rs', 'Ds'])\n",
    "#plot_change_param(['C1', 'C2'])\n",
    "#plot_change_param(['a', 'L'])\n",
    "#plot_change_param(['K', 'sigma'])\n",
    "#plot_change_param(['ebsilon'])\n"
   ]
  },
  {
   "cell_type": "markdown",
   "metadata": {},
   "source": [
    "Comparison plot"
   ]
  },
  {
   "cell_type": "code",
   "execution_count": null,
   "metadata": {},
   "outputs": [
    {
     "data": {
      "image/png": "[encoded data removed]",
      "text/plain": [
       "<Figure size 600x600 with 1 Axes>"
      ]
     },
     "metadata": {},
     "output_type": "display_data"
    }
   ],
   "source": [
    "frequencies = np.array(get_exp_data(1, \"\")[1])\n",
    "Z = calc_Z(dict_to_list(a_parametre), frequencies)\n",
    "Z_scipy = calc_Z(list_elems, frequencies)\n",
    "Z_pso = calc_Z(best_params, frequencies)\n",
    "\n",
    "fig, ax = plt.subplots(figsize=(6, 6)) \n",
    "ax.scatter(np.array(get_exp_data(i, \"\")[0][0]), -np.array(get_exp_data(i, \"\")[0][1]), color = 'red', label=f\"Experimental \"+str(np.round(get_vdc(i, \"\"),3))+\" V\") \n",
    "ax.plot(Z.real, -Z.imag, label = f'Meyers', color = 'blue')\n",
    "ax.plot(Z_pso.real, -Z_pso.imag, label = f'PSO optimized', color = 'grey')\n",
    "ax.plot(Z_scipy.real, -Z_scipy.imag, label = f'scipy optimized', color = 'grey')\n",
    "\n",
    "\n",
    "#ax.set_xlim(0.016, 0.045) \n",
    "#ax.set_ylim(0, 0.012)\n",
    "\n",
    "plt.legend()\n",
    "plt.title(\"Comparing\") \n",
    "plt.show() "
   ]
  },
  {
   "cell_type": "markdown",
   "metadata": {},
   "source": [
    "# Dataset 1: Fitting R1, C1, Ds and a to experimental data"
   ]
  },
  {
   "cell_type": "code",
   "execution_count": null,
   "metadata": {},
   "outputs": [],
   "source": [
    "'''\n",
    "a_fitting = {\n",
    "    \"Rel\": 0.002, # motstand elektrolytt, [ohm.m^2]\n",
    "    \"R1\": 0.02,  # motstand, [ohm.m^2]\n",
    "    \"Q1\": 0.75,  # kapasitans\n",
    "    \"alpha\": 0.8,\n",
    "    \"Ds\": 2e-16,     # diffusjonskoeffisient [m^2.s^-1]\n",
    "    \"alpha2\": 0.8, #ikke-ideell diffusjon\n",
    "    \"a\": 618947,  # overflateareal porer/volum electrode [m^-1]\n",
    "    }\n",
    "'''\n",
    "\n",
    "\n",
    "a_fitting = {\n",
    "    \"Rel\": 0.00202, # motstand elektrolytt, [ohm.m^2]\n",
    "    \"R1\": 0.01,  # motstand, [ohm.m^2]\n",
    "    \"R2\": 0.008, \n",
    "    \"Q1\": 0.9,  # kapasitans\n",
    "    \"Q2\": 0.9, \n",
    "    \"alpha_q1\": 0.75,\n",
    "    \"alpha_q2\": 0.8,\n",
    "    \"Ds\": 4.1e-15,     # diffusjonskoeffisient [m^2.s^-1]\n",
    "    \"alpha\": 0.93, #ikke-ideell diffusjon\n",
    "    \"a\": 428947,  # overflateareal porer/volum electrode [m^-1]\n",
    "    }\n",
    "\n",
    "\n",
    "Rs_a = params['Negative particle radius [m]']\n",
    "L_a = params['Negative electrode thickness [m]'] \n",
    "sigma_a = params['Negative electrode conductivity [S.m-1]'] \n",
    "epsilon_a = e_a # volume fraction anode\n",
    "K_a = (params['Electrolyte conductivity [S.m-1]'](c_e, T)*epsilon_a)/params['Negative electrode Bruggeman coefficient (electrolyte)']\n",
    "\n",
    "i = 1\n"
   ]
  },
  {
   "cell_type": "markdown",
   "metadata": {},
   "source": [
    "### Regner ut impedansen "
   ]
  },
  {
   "cell_type": "code",
   "execution_count": null,
   "metadata": {},
   "outputs": [
    {
     "data": {
      "image/png": "[encoded data removed]",
      "text/plain": [
       "<Figure size 640x480 with 1 Axes>"
      ]
     },
     "metadata": {},
     "output_type": "display_data"
    }
   ],
   "source": [
    "def R_part(Ds): \n",
    "    R_part = _dU_dc_a*(Rs_a/(F*Ds))\n",
    "    return R_part \n",
    "\n",
    "def Y_s(omega, Ds, alpha):\n",
    "    omega_s = (omega*Rs_a**2)/Ds**alpha\n",
    "    Y_s = (np.sqrt(1j*omega_s) - np.tanh(np.sqrt(1j*omega_s)))/np.tanh(np.sqrt(1j*omega_s))\n",
    "    return Y_s\n",
    "\n",
    "def Y_particle(omega, R1, R2, Q1, Q2, alpha_q1, alpha_q2, R_part, Y_s): \n",
    "    Y = 1/((R1 + R_part/Y_s)/(1 + (1j*omega)**alpha_q1*Q1*(R1 + R_part/Y_s)) + R2/(1 + (1j*omega)**alpha_q2*Q2*R2))\n",
    "    return Y\n",
    "\n",
    "def v(a, Y): \n",
    "    v = L_a/ (((K_a*sigma_a)/(K_a + sigma_a))**0.5*((a*Y))**(-0.5))\n",
    "    return v\n",
    "\n",
    "# Function to calculate Z \n",
    "def calculate_Z(comp, frequencies):\n",
    "    # Update param dictionary from the flat parameter list (comp), where comp is updated values\n",
    "    param = list_to_dict(a_fitting, comp) \n",
    "    ang_freq = 2 * np.pi * frequencies\n",
    "\n",
    "    Rp = R_part(param['Ds'])\n",
    "    Ys = Y_s(ang_freq, param['Ds'], param['alpha'])\n",
    "    Y = Y_particle(ang_freq, param['R1'], param['R2'], param['Q1'], param['Q2'], param['alpha_q1'], param['alpha_q2'], Rp, Ys)\n",
    "    v_calc = v(param['a'], Y)\n",
    "\n",
    "    # The total impedance: \n",
    "    Z = param['Rel'] + (L_a/(K_a+sigma_a))*(1 + (2 + (sigma_a/K_a + K_a/sigma_a)*np.cosh(v_calc))/(v_calc*np.sinh(v_calc)))\n",
    "    \n",
    "    return Z/area_electrode\n",
    "\n",
    "frequencies = np.array(get_exp_data(1, \"\")[1])\n",
    "Z_init = calculate_Z(dict_to_list(a_fitting), frequencies)\n",
    "plt.plot(Z_init.real, -Z_init.imag)\n",
    "plt.show()"
   ]
  },
  {
   "cell_type": "markdown",
   "metadata": {},
   "source": [
    "### Prøver én kalkuleringsfunksjon"
   ]
  },
  {
   "cell_type": "code",
   "execution_count": null,
   "metadata": {},
   "outputs": [
    {
     "data": {
      "image/png": "[encoded data removed]",
      "text/plain": [
       "<Figure size 640x480 with 1 Axes>"
      ]
     },
     "metadata": {},
     "output_type": "display_data"
    }
   ],
   "source": [
    "def calc_Zen(comp_a, frequencies):\n",
    "    # Update param dictionary from the flat parameter list (comp), where comp is updated values\n",
    "    param_a = list_to_dict(a_fitting, comp_a) \n",
    "    ang_freq = 2 * np.pi * frequencies\n",
    "\n",
    "    Rp_a = _dU_dc_a*(Rs_a/(F*param_a['Ds']))\n",
    "    omegas_a = (ang_freq*Rs_a**2)/param_a['Ds']**param_a['alpha']\n",
    "    Ys_a = (np.sqrt(1j*omegas_a) - np.tanh(np.sqrt(1j*omegas_a)))/np.tanh(np.sqrt(1j*omegas_a))\n",
    "    Y_a = 1/((param_a['R1'] + Rp_a/Ys_a)/(1 + (1j*ang_freq)**param_a['alpha_q1']*param_a['Q1']*(param_a['R1'] + Rp_a/Ys_a)) + param_a['R2']/(1 + (1j*ang_freq)**param_a['alpha_q2']*param_a['Q2']*param_a['R2']))\n",
    "    v_calc_a = L_a/(((K_a*sigma_a)/(K_a + sigma_a))**0.5*((param_a['a']*Y_a))**(-0.5))\n",
    "\n",
    "    # The total impedance: \n",
    "    Z_a = param_a['Rel'] + (L_a/(K_a+sigma_a))*(1 + (2 + (sigma_a/K_a + K_a/sigma_a)*np.cosh(v_calc_a))/(v_calc_a*np.sinh(v_calc_a)))\n",
    "    \n",
    "    return Z_a/area_electrode\n",
    "\n",
    "frequencies = np.array(get_exp_data(i, \"\")[1])\n",
    "Z_init = calc_Zen(dict_to_list(a_fitting), frequencies)\n",
    "plt.plot(Z_init.real, -Z_init.imag)\n",
    "plt.show()"
   ]
  },
  {
   "cell_type": "markdown",
   "metadata": {},
   "source": [
    "## Code for fitting the parameters"
   ]
  },
  {
   "cell_type": "markdown",
   "metadata": {},
   "source": [
    "Scipy.minimize"
   ]
  },
  {
   "cell_type": "code",
   "execution_count": null,
   "metadata": {},
   "outputs": [
    {
     "name": "stdout",
     "output_type": "stream",
     "text": [
      "7.899820011817472e-06\n",
      "{'Rel': 0.00202, 'R1': 0.01, 'R2': 0.008, 'Q1': 0.9, 'Q2': 0.9, 'alpha_q1': 0.75, 'alpha_q2': 0.8, 'Ds': 4.1e-15, 'alpha': 0.93, 'a': 428947.0}\n",
      "{'Rel': 0.00202, 'R1': 0.01, 'R2': 0.008, 'Q1': 0.9, 'Q2': 0.9, 'alpha_q1': 0.75, 'alpha_q2': 0.8, 'Ds': 4.1e-15, 'alpha': 0.93, 'a': 428947}\n"
     ]
    },
    {
     "data": {
      "image/png": "[encoded data removed]",
      "text/plain": [
       "<Figure size 600x600 with 1 Axes>"
      ]
     },
     "metadata": {},
     "output_type": "display_data"
    }
   ],
   "source": [
    "# Optimizing the difference function for a given data set\n",
    "def optimize_diff(i):\n",
    "    # Load the experimental data \n",
    "    exp_real = np.array(get_exp_data(i, \"\")[0][0])\n",
    "    exp_imag = np.array(get_exp_data(i, \"\")[0][1])\n",
    "    frequencies = np.array(get_exp_data(i, \"\")[1])\n",
    "\n",
    "    # Difference function for the optimization\n",
    "    def diff_func(comp, exp_real, exp_imag, frequencies):\n",
    "        Z = calculate_Z(comp, frequencies)\n",
    "        diff_real = Z.real - exp_real\n",
    "        diff_imag = Z.imag - exp_imag\n",
    "        sum_square_diff = np.sum(diff_real ** 2 + diff_imag ** 2)\n",
    "        return sum_square_diff\n",
    "    \n",
    "    #print(diff_func(dict_to_list(a_number_parametre), exp_real, exp_imag, frequencies))\n",
    "\n",
    "    # Convert initial dictionary to list for optimization\n",
    "    initial_elems = dict_to_list(a_fitting)\n",
    "\n",
    "    # Optimization options\n",
    "    options = {\n",
    "        'maxiter': 10000,    # Maximum number of iterations\n",
    "        'ftol': 1e-4,       # Function value tolerance\n",
    "        #'disp': True\n",
    "    }\n",
    "\n",
    "    # Minimize the difference function (optimize parameters)\n",
    "    opt = minimize(diff_func, initial_elems, args=(exp_real, exp_imag, frequencies), method='TNC', options=options)\n",
    "    opt_elems = list_to_dict(a_fitting, opt.x)\n",
    "    final_diff = diff_func(opt.x, exp_real, exp_imag, frequencies)\n",
    "    \n",
    "    #print(\"Final sum of squared difference for dataset\", i, \":\", final_diff)\n",
    "\n",
    "    return opt_elems, final_diff, frequencies, opt.x \n",
    "\n",
    "dic_elems, final_diff, frequencies, list_elems = optimize_diff(i)\n",
    "\n",
    "print(final_diff)\n",
    "print(dic_elems)\n",
    "print(a_fitting)\n",
    "\n",
    "i = 1 \n",
    "\n",
    "frequencies = np.array(get_exp_data(i, \"\")[1])\n",
    "Z = calculate_Z(dict_to_list(a_fitting), frequencies)\n",
    "Z_scipy = calculate_Z(list_elems, frequencies)\n",
    "\n",
    "fig, ax = plt.subplots(figsize=(6, 6)) \n",
    "ax.scatter(np.array(get_exp_data(i, \"\")[0][0]), -np.array(get_exp_data(i, \"\")[0][1]), color = 'red', label=f\"Experimental \"+str(np.round(get_vdc(i, \"\"),3))+\" V\") \n",
    "ax.scatter(Z.real, -Z.imag, label = f'Meyers', color = 'blue')\n",
    "ax.plot(Z_scipy.real, -Z_scipy.imag, label = f'scipy', color = 'green')\n",
    "\n",
    "#ax.set_xlim(0.016, 0.045) \n",
    "#ax.set_ylim(0, 0.012)\n",
    "\n",
    "plt.legend()\n",
    "plt.title(\"Comparing\") \n",
    "plt.show() "
   ]
  },
  {
   "cell_type": "markdown",
   "metadata": {},
   "source": [
    "PSO"
   ]
  },
  {
   "cell_type": "code",
   "execution_count": null,
   "metadata": {},
   "outputs": [
    {
     "name": "stderr",
     "output_type": "stream",
     "text": [
      "2024-11-26 19:08:44,829 - pyswarms.single.global_best - INFO - Optimize for 200 iters with {'c1': 0.5, 'c2': 0.3, 'w': 0.9}\n",
      "pyswarms.single.global_best: 100%|██████████|200/200, best_cost=0.000153\n",
      "2024-11-26 19:08:50,466 - pyswarms.single.global_best - INFO - Optimization finished | best cost: 0.0001530787431442297, best pos: [1.91262621e-03 6.04939373e-03 2.35278865e-02 3.09927782e-01\n",
      " 1.61932352e+00 1.26642372e-01 5.33694358e-01 5.89070553e-16\n",
      " 4.93832595e-01 4.72824368e+07]\n"
     ]
    },
    {
     "name": "stdout",
     "output_type": "stream",
     "text": [
      "[1.91262621e-03 6.04939373e-03 2.35278865e-02 3.09927782e-01\n",
      " 1.61932352e+00 1.26642372e-01 5.33694358e-01 5.89070553e-16\n",
      " 4.93832595e-01 4.72824368e+07]\n"
     ]
    }
   ],
   "source": [
    "import pyswarms as ps \n",
    "from pyswarms.single import GlobalBestPSO\n",
    "\n",
    "exp_real = np.array(get_exp_data(1, \"\")[0][0])\n",
    "exp_imag = np.array(get_exp_data(1, \"\")[0][1])\n",
    "frequencies = np.array(get_exp_data(1, \"\")[1])\n",
    "\n",
    "lower_bounds = [0, 0, 0, 0, 0, 0, 0, 1e-20, 0, 1e4, ] \n",
    "upper_bounds = [0.002, 0.03, 0.03, 3, 3, 1, 1, 1e-15, 1, 1e8] \n",
    "bounds = (lower_bounds, upper_bounds)\n",
    "\n",
    "initial_elems = dict_to_list(a_fitting)\n",
    "\n",
    "def diff_func(comp, exp_real, exp_imag, frequencies):\n",
    "        Z = calculate_Z(comp, frequencies)\n",
    "        diff_real = Z.real - exp_real\n",
    "        diff_imag = Z.imag - exp_imag\n",
    "        sum_square_diff = np.sum(diff_real ** 2 + diff_imag ** 2)\n",
    "        return sum_square_diff\n",
    "\n",
    "def wrapped_diff_function(params):\n",
    "    return np.array([diff_func(param_set, exp_real, exp_imag, frequencies) for param_set in params])\n",
    "\n",
    "n_dim = 10 # changing 10 parameters\n",
    "\n",
    "options = {'c1': 0.5,      # Cognitive parameter (influence of personal best)\n",
    "    'c2': 0.3,      # Social parameter (influence of global best)\n",
    "    'w': 0.9,       # Inertia parameter (how much particles retain velocity)\n",
    "    }\n",
    "\n",
    "optimizer = ps.single.GlobalBestPSO(n_particles=200, dimensions=n_dim, options=options, bounds=bounds)\n",
    "\n",
    "best_cost, best_params = optimizer.optimize(wrapped_diff_function, iters=200)\n",
    "print(best_params)\n"
   ]
  },
  {
   "cell_type": "markdown",
   "metadata": {},
   "source": [
    "Fredrik's basinhopping"
   ]
  },
  {
   "cell_type": "code",
   "execution_count": null,
   "metadata": {},
   "outputs": [
    {
     "name": "stdout",
     "output_type": "stream",
     "text": [
      "basinhopping step 0: f 7.89982e-06\n",
      "warning: basinhopping: local minimization failure\n",
      "basinhopping step 1: f 7.89982e-06 trial_f 40.6432 accepted 0  lowest_f 7.89982e-06\n",
      "warning: basinhopping: local minimization failure\n",
      "basinhopping step 2: f 7.89982e-06 trial_f 7.19252 accepted 0  lowest_f 7.89982e-06\n",
      "warning: basinhopping: local minimization failure\n",
      "basinhopping step 3: f 7.89982e-06 trial_f 7.24631 accepted 0  lowest_f 7.89982e-06\n",
      "warning: basinhopping: local minimization failure\n",
      "basinhopping step 4: f 7.89982e-06 trial_f 7.45532 accepted 0  lowest_f 7.89982e-06\n",
      "warning: basinhopping: local minimization failure\n",
      "basinhopping step 5: f 7.89982e-06 trial_f 2.75285 accepted 0  lowest_f 7.89982e-06\n",
      "warning: basinhopping: local minimization failure\n",
      "basinhopping step 6: f 7.89982e-06 trial_f 28.5554 accepted 0  lowest_f 7.89982e-06\n",
      "warning: basinhopping: local minimization failure\n",
      "basinhopping step 7: f 7.89982e-06 trial_f 85.5858 accepted 0  lowest_f 7.89982e-06\n",
      "warning: basinhopping: local minimization failure\n",
      "basinhopping step 8: f 7.89982e-06 trial_f 12.1099 accepted 0  lowest_f 7.89982e-06\n",
      "warning: basinhopping: local minimization failure\n",
      "basinhopping step 9: f 7.89982e-06 trial_f 0.0156283 accepted 0  lowest_f 7.89982e-06\n",
      "warning: basinhopping: local minimization failure\n",
      "basinhopping step 10: f 7.89982e-06 trial_f 80.534 accepted 0  lowest_f 7.89982e-06\n",
      "warning: basinhopping: local minimization failure\n",
      "basinhopping step 11: f 7.89982e-06 trial_f 0.0211077 accepted 0  lowest_f 7.89982e-06\n",
      "warning: basinhopping: local minimization failure\n",
      "basinhopping step 12: f 7.89982e-06 trial_f 53.4677 accepted 0  lowest_f 7.89982e-06\n",
      "warning: basinhopping: local minimization failure\n",
      "basinhopping step 13: f 7.89982e-06 trial_f 0.0190842 accepted 0  lowest_f 7.89982e-06\n",
      "warning: basinhopping: local minimization failure\n",
      "basinhopping step 14: f 7.89982e-06 trial_f 9.05738 accepted 0  lowest_f 7.89982e-06\n",
      "warning: basinhopping: local minimization failure\n",
      "basinhopping step 15: f 7.89982e-06 trial_f 17.3531 accepted 0  lowest_f 7.89982e-06\n",
      "warning: basinhopping: local minimization failure\n",
      "basinhopping step 16: f 7.89982e-06 trial_f 0.0304738 accepted 0  lowest_f 7.89982e-06\n",
      "warning: basinhopping: local minimization failure\n",
      "basinhopping step 17: f 7.89982e-06 trial_f 6.61365 accepted 0  lowest_f 7.89982e-06\n",
      "warning: basinhopping: local minimization failure\n",
      "basinhopping step 18: f 7.89982e-06 trial_f 79.2653 accepted 0  lowest_f 7.89982e-06\n",
      "warning: basinhopping: local minimization failure\n",
      "basinhopping step 19: f 7.89982e-06 trial_f 74.1393 accepted 0  lowest_f 7.89982e-06\n",
      "warning: basinhopping: local minimization failure\n",
      "basinhopping step 20: f 7.89982e-06 trial_f 0.0532254 accepted 0  lowest_f 7.89982e-06\n",
      "warning: basinhopping: local minimization failure\n",
      "basinhopping step 21: f 7.89982e-06 trial_f 33.1356 accepted 0  lowest_f 7.89982e-06\n",
      "warning: basinhopping: local minimization failure\n",
      "basinhopping step 22: f 7.89982e-06 trial_f 0.0621242 accepted 0  lowest_f 7.89982e-06\n",
      "warning: basinhopping: local minimization failure\n",
      "basinhopping step 23: f 7.89982e-06 trial_f 7.87293 accepted 0  lowest_f 7.89982e-06\n",
      "warning: basinhopping: local minimization failure\n",
      "basinhopping step 24: f 7.89982e-06 trial_f 0.0611601 accepted 0  lowest_f 7.89982e-06\n",
      "warning: basinhopping: local minimization failure\n",
      "basinhopping step 25: f 7.89982e-06 trial_f 7.86134 accepted 0  lowest_f 7.89982e-06\n",
      "warning: basinhopping: local minimization failure\n",
      "basinhopping step 26: f 7.89982e-06 trial_f 0.0422071 accepted 0  lowest_f 7.89982e-06\n",
      "warning: basinhopping: local minimization failure\n",
      "basinhopping step 27: f 7.89982e-06 trial_f 0.0616761 accepted 0  lowest_f 7.89982e-06\n",
      "warning: basinhopping: local minimization failure\n",
      "basinhopping step 28: f 7.89982e-06 trial_f 23.6554 accepted 0  lowest_f 7.89982e-06\n",
      "warning: basinhopping: local minimization failure\n",
      "basinhopping step 29: f 7.89982e-06 trial_f 0.00907002 accepted 0  lowest_f 7.89982e-06\n",
      "warning: basinhopping: local minimization failure\n",
      "basinhopping step 30: f 7.89982e-06 trial_f 121.891 accepted 0  lowest_f 7.89982e-06\n",
      "warning: basinhopping: local minimization failure\n",
      "basinhopping step 31: f 7.89982e-06 trial_f 28.0221 accepted 0  lowest_f 7.89982e-06\n",
      "warning: basinhopping: local minimization failure\n",
      "basinhopping step 32: f 7.89982e-06 trial_f 0.0269675 accepted 0  lowest_f 7.89982e-06\n",
      "warning: basinhopping: local minimization failure\n",
      "basinhopping step 33: f 7.89982e-06 trial_f 7.12927 accepted 0  lowest_f 7.89982e-06\n",
      "warning: basinhopping: local minimization failure\n",
      "basinhopping step 34: f 7.89982e-06 trial_f 6.58524 accepted 0  lowest_f 7.89982e-06\n",
      "warning: basinhopping: local minimization failure\n",
      "basinhopping step 35: f 7.89982e-06 trial_f 7.12927 accepted 0  lowest_f 7.89982e-06\n",
      "warning: basinhopping: local minimization failure\n",
      "basinhopping step 36: f 7.89982e-06 trial_f 18.1626 accepted 0  lowest_f 7.89982e-06\n",
      "warning: basinhopping: local minimization failure\n",
      "basinhopping step 37: f 7.89982e-06 trial_f 13.2854 accepted 0  lowest_f 7.89982e-06\n",
      "warning: basinhopping: local minimization failure\n",
      "basinhopping step 38: f 7.89982e-06 trial_f 17.2819 accepted 0  lowest_f 7.89982e-06\n",
      "warning: basinhopping: local minimization failure\n",
      "basinhopping step 39: f 7.89982e-06 trial_f 27.0927 accepted 0  lowest_f 7.89982e-06\n",
      "warning: basinhopping: local minimization failure\n",
      "basinhopping step 40: f 7.89982e-06 trial_f 0.0621246 accepted 0  lowest_f 7.89982e-06\n",
      "warning: basinhopping: local minimization failure\n",
      "basinhopping step 41: f 7.89982e-06 trial_f 46.8831 accepted 0  lowest_f 7.89982e-06\n",
      "warning: basinhopping: local minimization failure\n",
      "basinhopping step 42: f 7.89982e-06 trial_f 7.8187 accepted 0  lowest_f 7.89982e-06\n",
      "warning: basinhopping: local minimization failure\n",
      "basinhopping step 43: f 7.89982e-06 trial_f 0.104629 accepted 0  lowest_f 7.89982e-06\n",
      "warning: basinhopping: local minimization failure\n",
      "basinhopping step 44: f 7.89982e-06 trial_f 5.41301 accepted 0  lowest_f 7.89982e-06\n",
      "warning: basinhopping: local minimization failure\n",
      "basinhopping step 45: f 7.89982e-06 trial_f 46.4935 accepted 0  lowest_f 7.89982e-06\n",
      "warning: basinhopping: local minimization failure\n",
      "basinhopping step 46: f 7.89982e-06 trial_f 34.7147 accepted 0  lowest_f 7.89982e-06\n",
      "warning: basinhopping: local minimization failure\n",
      "basinhopping step 47: f 7.89982e-06 trial_f 14.4303 accepted 0  lowest_f 7.89982e-06\n",
      "warning: basinhopping: local minimization failure\n",
      "basinhopping step 48: f 7.89982e-06 trial_f 114.985 accepted 0  lowest_f 7.89982e-06\n",
      "warning: basinhopping: local minimization failure\n",
      "basinhopping step 49: f 7.89982e-06 trial_f 8.36036 accepted 0  lowest_f 7.89982e-06\n",
      "adaptive stepsize: acceptance rate 0.000000 target 0.500000 new stepsize 0.18 old stepsize 0.2\n",
      "warning: basinhopping: local minimization failure\n",
      "basinhopping step 50: f 7.89982e-06 trial_f 0.0621242 accepted 0  lowest_f 7.89982e-06\n",
      "warning: basinhopping: local minimization failure\n",
      "basinhopping step 51: f 7.89982e-06 trial_f 30.8207 accepted 0  lowest_f 7.89982e-06\n",
      "warning: basinhopping: local minimization failure\n",
      "basinhopping step 52: f 7.89982e-06 trial_f 8.44736 accepted 0  lowest_f 7.89982e-06\n",
      "warning: basinhopping: local minimization failure\n",
      "basinhopping step 53: f 7.89982e-06 trial_f 0.00530801 accepted 0  lowest_f 7.89982e-06\n",
      "warning: basinhopping: local minimization failure\n",
      "basinhopping step 54: f 7.89982e-06 trial_f 0.0644134 accepted 0  lowest_f 7.89982e-06\n",
      "warning: basinhopping: local minimization failure\n",
      "basinhopping step 55: f 7.89982e-06 trial_f 7.77934 accepted 0  lowest_f 7.89982e-06\n",
      "warning: basinhopping: local minimization failure\n",
      "basinhopping step 56: f 7.89982e-06 trial_f 40.5192 accepted 0  lowest_f 7.89982e-06\n",
      "warning: basinhopping: local minimization failure\n",
      "basinhopping step 57: f 7.89982e-06 trial_f 41.7056 accepted 0  lowest_f 7.89982e-06\n",
      "warning: basinhopping: local minimization failure\n",
      "basinhopping step 58: f 7.89982e-06 trial_f 0.0155021 accepted 0  lowest_f 7.89982e-06\n",
      "warning: basinhopping: local minimization failure\n",
      "basinhopping step 59: f 7.89982e-06 trial_f 0.022176 accepted 0  lowest_f 7.89982e-06\n",
      "warning: basinhopping: local minimization failure\n",
      "basinhopping step 60: f 7.89982e-06 trial_f 19.2703 accepted 0  lowest_f 7.89982e-06\n",
      "warning: basinhopping: local minimization failure\n",
      "basinhopping step 61: f 7.89982e-06 trial_f 6.99656 accepted 0  lowest_f 7.89982e-06\n",
      "warning: basinhopping: local minimization failure\n",
      "basinhopping step 62: f 7.89982e-06 trial_f 26.0849 accepted 0  lowest_f 7.89982e-06\n",
      "warning: basinhopping: local minimization failure\n",
      "basinhopping step 63: f 7.89982e-06 trial_f 7.14516 accepted 0  lowest_f 7.89982e-06\n",
      "warning: basinhopping: local minimization failure\n",
      "basinhopping step 64: f 7.89982e-06 trial_f 33.7201 accepted 0  lowest_f 7.89982e-06\n",
      "warning: basinhopping: local minimization failure\n",
      "basinhopping step 65: f 7.89982e-06 trial_f 27.2496 accepted 0  lowest_f 7.89982e-06\n",
      "warning: basinhopping: local minimization failure\n",
      "basinhopping step 66: f 7.89982e-06 trial_f 7.91622 accepted 0  lowest_f 7.89982e-06\n",
      "warning: basinhopping: local minimization failure\n",
      "basinhopping step 67: f 7.89982e-06 trial_f 7.91077 accepted 0  lowest_f 7.89982e-06\n",
      "warning: basinhopping: local minimization failure\n",
      "basinhopping step 68: f 7.89982e-06 trial_f 95.9135 accepted 0  lowest_f 7.89982e-06\n",
      "warning: basinhopping: local minimization failure\n",
      "basinhopping step 69: f 7.89982e-06 trial_f 0.019536 accepted 0  lowest_f 7.89982e-06\n",
      "warning: basinhopping: local minimization failure\n",
      "basinhopping step 70: f 7.89982e-06 trial_f 46.5587 accepted 0  lowest_f 7.89982e-06\n",
      "warning: basinhopping: local minimization failure\n",
      "basinhopping step 71: f 7.89982e-06 trial_f 0.0442791 accepted 0  lowest_f 7.89982e-06\n",
      "warning: basinhopping: local minimization failure\n",
      "basinhopping step 72: f 7.89982e-06 trial_f 7.88539 accepted 0  lowest_f 7.89982e-06\n",
      "warning: basinhopping: local minimization failure\n",
      "basinhopping step 73: f 7.89982e-06 trial_f 30.1154 accepted 0  lowest_f 7.89982e-06\n",
      "warning: basinhopping: local minimization failure\n",
      "basinhopping step 74: f 7.89982e-06 trial_f 0.0161679 accepted 0  lowest_f 7.89982e-06\n",
      "warning: basinhopping: local minimization failure\n",
      "basinhopping step 75: f 7.89982e-06 trial_f 19.362 accepted 0  lowest_f 7.89982e-06\n",
      "warning: basinhopping: local minimization failure\n",
      "basinhopping step 76: f 7.89982e-06 trial_f 7.57503 accepted 0  lowest_f 7.89982e-06\n",
      "warning: basinhopping: local minimization failure\n",
      "basinhopping step 77: f 7.89982e-06 trial_f 28.1636 accepted 0  lowest_f 7.89982e-06\n",
      "warning: basinhopping: local minimization failure\n",
      "basinhopping step 78: f 7.89982e-06 trial_f 25.7782 accepted 0  lowest_f 7.89982e-06\n",
      "warning: basinhopping: local minimization failure\n",
      "basinhopping step 79: f 7.89982e-06 trial_f 0.0621246 accepted 0  lowest_f 7.89982e-06\n",
      "warning: basinhopping: local minimization failure\n",
      "basinhopping step 80: f 7.89982e-06 trial_f 0.0389383 accepted 0  lowest_f 7.89982e-06\n",
      "warning: basinhopping: local minimization failure\n",
      "basinhopping step 81: f 7.89982e-06 trial_f 13.4319 accepted 0  lowest_f 7.89982e-06\n",
      "warning: basinhopping: local minimization failure\n",
      "basinhopping step 82: f 7.89982e-06 trial_f 35.5774 accepted 0  lowest_f 7.89982e-06\n",
      "warning: basinhopping: local minimization failure\n",
      "basinhopping step 83: f 7.89982e-06 trial_f 0.0248847 accepted 0  lowest_f 7.89982e-06\n",
      "warning: basinhopping: local minimization failure\n",
      "basinhopping step 84: f 7.89982e-06 trial_f 7.12927 accepted 0  lowest_f 7.89982e-06\n",
      "warning: basinhopping: local minimization failure\n",
      "basinhopping step 85: f 7.89982e-06 trial_f 0.0199895 accepted 0  lowest_f 7.89982e-06\n",
      "warning: basinhopping: local minimization failure\n",
      "basinhopping step 86: f 7.89982e-06 trial_f 37.5614 accepted 0  lowest_f 7.89982e-06\n",
      "warning: basinhopping: local minimization failure\n",
      "basinhopping step 87: f 7.89982e-06 trial_f 19.6912 accepted 0  lowest_f 7.89982e-06\n",
      "warning: basinhopping: local minimization failure\n",
      "basinhopping step 88: f 7.89982e-06 trial_f 7.13014 accepted 0  lowest_f 7.89982e-06\n",
      "warning: basinhopping: local minimization failure\n",
      "basinhopping step 89: f 7.89982e-06 trial_f 49.116 accepted 0  lowest_f 7.89982e-06\n",
      "warning: basinhopping: local minimization failure\n",
      "basinhopping step 90: f 7.89982e-06 trial_f 0.0621242 accepted 0  lowest_f 7.89982e-06\n",
      "warning: basinhopping: local minimization failure\n",
      "basinhopping step 91: f 7.89982e-06 trial_f 0.0170728 accepted 0  lowest_f 7.89982e-06\n",
      "warning: basinhopping: local minimization failure\n",
      "basinhopping step 92: f 7.89982e-06 trial_f 5.82137 accepted 0  lowest_f 7.89982e-06\n",
      "warning: basinhopping: local minimization failure\n",
      "basinhopping step 93: f 7.89982e-06 trial_f 7.60807 accepted 0  lowest_f 7.89982e-06\n",
      "warning: basinhopping: local minimization failure\n",
      "basinhopping step 94: f 7.89982e-06 trial_f 0.0262143 accepted 0  lowest_f 7.89982e-06\n",
      "warning: basinhopping: local minimization failure\n",
      "basinhopping step 95: f 7.89982e-06 trial_f 5.98319 accepted 0  lowest_f 7.89982e-06\n",
      "warning: basinhopping: local minimization failure\n",
      "basinhopping step 96: f 7.89982e-06 trial_f 0.02065 accepted 0  lowest_f 7.89982e-06\n",
      "warning: basinhopping: local minimization failure\n",
      "basinhopping step 97: f 7.89982e-06 trial_f 80.9099 accepted 0  lowest_f 7.89982e-06\n",
      "warning: basinhopping: local minimization failure\n",
      "basinhopping step 98: f 7.89982e-06 trial_f 53.8304 accepted 0  lowest_f 7.89982e-06\n",
      "warning: basinhopping: local minimization failure\n",
      "basinhopping step 99: f 7.89982e-06 trial_f 0.0610509 accepted 0  lowest_f 7.89982e-06\n",
      "adaptive stepsize: acceptance rate 0.000000 target 0.500000 new stepsize 0.162 old stepsize 0.18\n",
      "warning: basinhopping: local minimization failure\n",
      "basinhopping step 100: f 7.89982e-06 trial_f 0.0306105 accepted 0  lowest_f 7.89982e-06\n",
      "warning: basinhopping: local minimization failure\n",
      "basinhopping step 101: f 7.89982e-06 trial_f 31.8697 accepted 0  lowest_f 7.89982e-06\n",
      "warning: basinhopping: local minimization failure\n",
      "basinhopping step 102: f 7.89982e-06 trial_f 0.0615929 accepted 0  lowest_f 7.89982e-06\n",
      "warning: basinhopping: local minimization failure\n",
      "basinhopping step 103: f 7.89982e-06 trial_f 5.23916 accepted 0  lowest_f 7.89982e-06\n",
      "warning: basinhopping: local minimization failure\n",
      "basinhopping step 104: f 7.89982e-06 trial_f 7.31998 accepted 0  lowest_f 7.89982e-06\n",
      "warning: basinhopping: local minimization failure\n",
      "basinhopping step 105: f 7.89982e-06 trial_f 2.23298 accepted 0  lowest_f 7.89982e-06\n",
      "warning: basinhopping: local minimization failure\n",
      "basinhopping step 106: f 7.89982e-06 trial_f 0.011757 accepted 0  lowest_f 7.89982e-06\n",
      "warning: basinhopping: local minimization failure\n",
      "basinhopping step 107: f 7.89982e-06 trial_f 23.376 accepted 0  lowest_f 7.89982e-06\n",
      "warning: basinhopping: local minimization failure\n",
      "basinhopping step 108: f 7.89982e-06 trial_f 65.7735 accepted 0  lowest_f 7.89982e-06\n",
      "warning: basinhopping: local minimization failure\n",
      "basinhopping step 109: f 7.89982e-06 trial_f 0.0132875 accepted 0  lowest_f 7.89982e-06\n",
      "warning: basinhopping: local minimization failure\n",
      "basinhopping step 110: f 7.89982e-06 trial_f 28.4118 accepted 0  lowest_f 7.89982e-06\n",
      "warning: basinhopping: local minimization failure\n",
      "basinhopping step 111: f 7.89982e-06 trial_f 15.7206 accepted 0  lowest_f 7.89982e-06\n",
      "warning: basinhopping: local minimization failure\n",
      "basinhopping step 112: f 7.89982e-06 trial_f 0.0611448 accepted 0  lowest_f 7.89982e-06\n",
      "warning: basinhopping: local minimization failure\n",
      "basinhopping step 113: f 7.89982e-06 trial_f 30.3566 accepted 0  lowest_f 7.89982e-06\n",
      "warning: basinhopping: local minimization failure\n",
      "basinhopping step 114: f 7.89982e-06 trial_f 7.0518 accepted 0  lowest_f 7.89982e-06\n",
      "warning: basinhopping: local minimization failure\n",
      "basinhopping step 115: f 7.89982e-06 trial_f 35.8824 accepted 0  lowest_f 7.89982e-06\n",
      "warning: basinhopping: local minimization failure\n",
      "basinhopping step 116: f 7.89982e-06 trial_f 0.0269827 accepted 0  lowest_f 7.89982e-06\n",
      "warning: basinhopping: local minimization failure\n",
      "basinhopping step 117: f 7.89982e-06 trial_f 7.13245 accepted 0  lowest_f 7.89982e-06\n",
      "warning: basinhopping: local minimization failure\n",
      "basinhopping step 118: f 7.89982e-06 trial_f 0.0247228 accepted 0  lowest_f 7.89982e-06\n",
      "warning: basinhopping: local minimization failure\n",
      "basinhopping step 119: f 7.89982e-06 trial_f 20.5052 accepted 0  lowest_f 7.89982e-06\n",
      "warning: basinhopping: local minimization failure\n",
      "basinhopping step 120: f 7.89982e-06 trial_f 47.8816 accepted 0  lowest_f 7.89982e-06\n",
      "warning: basinhopping: local minimization failure\n",
      "basinhopping step 121: f 7.89982e-06 trial_f 37.3628 accepted 0  lowest_f 7.89982e-06\n",
      "warning: basinhopping: local minimization failure\n",
      "basinhopping step 122: f 7.89982e-06 trial_f 33.7654 accepted 0  lowest_f 7.89982e-06\n",
      "warning: basinhopping: local minimization failure\n",
      "basinhopping step 123: f 7.89982e-06 trial_f 20.645 accepted 0  lowest_f 7.89982e-06\n",
      "warning: basinhopping: local minimization failure\n",
      "basinhopping step 124: f 7.89982e-06 trial_f 7.62716 accepted 0  lowest_f 7.89982e-06\n",
      "warning: basinhopping: local minimization failure\n",
      "basinhopping step 125: f 7.89982e-06 trial_f 0.061173 accepted 0  lowest_f 7.89982e-06\n",
      "warning: basinhopping: local minimization failure\n",
      "basinhopping step 126: f 7.89982e-06 trial_f 36.8397 accepted 0  lowest_f 7.89982e-06\n",
      "warning: basinhopping: local minimization failure\n",
      "basinhopping step 127: f 7.89982e-06 trial_f 8.45459 accepted 0  lowest_f 7.89982e-06\n",
      "warning: basinhopping: local minimization failure\n",
      "basinhopping step 128: f 7.89982e-06 trial_f 7.56251 accepted 0  lowest_f 7.89982e-06\n",
      "warning: basinhopping: local minimization failure\n",
      "basinhopping step 129: f 7.89982e-06 trial_f 7.66557 accepted 0  lowest_f 7.89982e-06\n",
      "warning: basinhopping: local minimization failure\n",
      "basinhopping step 130: f 7.89982e-06 trial_f 7.13551 accepted 0  lowest_f 7.89982e-06\n",
      "warning: basinhopping: local minimization failure\n",
      "basinhopping step 131: f 7.89982e-06 trial_f 68.658 accepted 0  lowest_f 7.89982e-06\n",
      "warning: basinhopping: local minimization failure\n",
      "basinhopping step 132: f 7.89982e-06 trial_f 0.0218258 accepted 0  lowest_f 7.89982e-06\n",
      "warning: basinhopping: local minimization failure\n",
      "basinhopping step 133: f 7.89982e-06 trial_f 0.0185243 accepted 0  lowest_f 7.89982e-06\n",
      "warning: basinhopping: local minimization failure\n",
      "basinhopping step 134: f 7.89982e-06 trial_f 19.994 accepted 0  lowest_f 7.89982e-06\n",
      "warning: basinhopping: local minimization failure\n",
      "basinhopping step 135: f 7.89982e-06 trial_f 0.0165948 accepted 0  lowest_f 7.89982e-06\n",
      "warning: basinhopping: local minimization failure\n",
      "basinhopping step 136: f 7.89982e-06 trial_f 0.0240903 accepted 0  lowest_f 7.89982e-06\n",
      "warning: basinhopping: local minimization failure\n",
      "basinhopping step 137: f 7.89982e-06 trial_f 7.65589 accepted 0  lowest_f 7.89982e-06\n",
      "warning: basinhopping: local minimization failure\n",
      "basinhopping step 138: f 7.89982e-06 trial_f 0.0621246 accepted 0  lowest_f 7.89982e-06\n",
      "warning: basinhopping: local minimization failure\n",
      "basinhopping step 139: f 7.89982e-06 trial_f 8.2471 accepted 0  lowest_f 7.89982e-06\n",
      "warning: basinhopping: local minimization failure\n",
      "basinhopping step 140: f 7.89982e-06 trial_f 44.776 accepted 0  lowest_f 7.89982e-06\n",
      "warning: basinhopping: local minimization failure\n",
      "basinhopping step 141: f 7.89982e-06 trial_f 63.0435 accepted 0  lowest_f 7.89982e-06\n",
      "warning: basinhopping: local minimization failure\n",
      "basinhopping step 142: f 7.89982e-06 trial_f 9.74848 accepted 0  lowest_f 7.89982e-06\n",
      "warning: basinhopping: local minimization failure\n",
      "basinhopping step 143: f 7.89982e-06 trial_f 0.0190584 accepted 0  lowest_f 7.89982e-06\n",
      "warning: basinhopping: local minimization failure\n",
      "basinhopping step 144: f 7.89982e-06 trial_f 7.12927 accepted 0  lowest_f 7.89982e-06\n",
      "warning: basinhopping: local minimization failure\n",
      "basinhopping step 145: f 7.89982e-06 trial_f 0.0621126 accepted 0  lowest_f 7.89982e-06\n",
      "warning: basinhopping: local minimization failure\n",
      "basinhopping step 146: f 7.89982e-06 trial_f 24.2917 accepted 0  lowest_f 7.89982e-06\n",
      "warning: basinhopping: local minimization failure\n",
      "basinhopping step 147: f 7.89982e-06 trial_f 61.4954 accepted 0  lowest_f 7.89982e-06\n",
      "warning: basinhopping: local minimization failure\n",
      "basinhopping step 148: f 7.89982e-06 trial_f 51.7379 accepted 0  lowest_f 7.89982e-06\n",
      "warning: basinhopping: local minimization failure\n",
      "basinhopping step 149: f 7.89982e-06 trial_f 35.9445 accepted 0  lowest_f 7.89982e-06\n",
      "adaptive stepsize: acceptance rate 0.000000 target 0.500000 new stepsize 0.1458 old stepsize 0.162\n",
      "warning: basinhopping: local minimization failure\n",
      "basinhopping step 150: f 7.89982e-06 trial_f 7.41815 accepted 0  lowest_f 7.89982e-06\n",
      "warning: basinhopping: local minimization failure\n",
      "basinhopping step 151: f 7.89982e-06 trial_f 0.0538764 accepted 0  lowest_f 7.89982e-06\n",
      "warning: basinhopping: local minimization failure\n",
      "basinhopping step 152: f 7.89982e-06 trial_f 8.45302 accepted 0  lowest_f 7.89982e-06\n",
      "warning: basinhopping: local minimization failure\n",
      "basinhopping step 153: f 7.89982e-06 trial_f 0.0617501 accepted 0  lowest_f 7.89982e-06\n",
      "warning: basinhopping: local minimization failure\n",
      "basinhopping step 154: f 7.89982e-06 trial_f 0.0169253 accepted 0  lowest_f 7.89982e-06\n",
      "warning: basinhopping: local minimization failure\n",
      "basinhopping step 155: f 7.89982e-06 trial_f 15.2891 accepted 0  lowest_f 7.89982e-06\n",
      "warning: basinhopping: local minimization failure\n",
      "basinhopping step 156: f 7.89982e-06 trial_f 8.42366 accepted 0  lowest_f 7.89982e-06\n",
      "warning: basinhopping: local minimization failure\n",
      "basinhopping step 157: f 7.89982e-06 trial_f 0.0465831 accepted 0  lowest_f 7.89982e-06\n",
      "warning: basinhopping: local minimization failure\n",
      "basinhopping step 158: f 7.89982e-06 trial_f 7.87802 accepted 0  lowest_f 7.89982e-06\n",
      "warning: basinhopping: local minimization failure\n",
      "basinhopping step 159: f 7.89982e-06 trial_f 41.0446 accepted 0  lowest_f 7.89982e-06\n",
      "warning: basinhopping: local minimization failure\n",
      "basinhopping step 160: f 7.89982e-06 trial_f 26.3241 accepted 0  lowest_f 7.89982e-06\n",
      "warning: basinhopping: local minimization failure\n",
      "basinhopping step 161: f 7.89982e-06 trial_f 7.70099 accepted 0  lowest_f 7.89982e-06\n",
      "warning: basinhopping: local minimization failure\n",
      "basinhopping step 162: f 7.89982e-06 trial_f 21.818 accepted 0  lowest_f 7.89982e-06\n",
      "warning: basinhopping: local minimization failure\n",
      "basinhopping step 163: f 7.89982e-06 trial_f 13.9452 accepted 0  lowest_f 7.89982e-06\n",
      "warning: basinhopping: local minimization failure\n",
      "basinhopping step 164: f 7.89982e-06 trial_f 22.6632 accepted 0  lowest_f 7.89982e-06\n",
      "warning: basinhopping: local minimization failure\n",
      "basinhopping step 165: f 7.89982e-06 trial_f 18.567 accepted 0  lowest_f 7.89982e-06\n",
      "warning: basinhopping: local minimization failure\n",
      "basinhopping step 166: f 7.89982e-06 trial_f 31.705 accepted 0  lowest_f 7.89982e-06\n",
      "warning: basinhopping: local minimization failure\n",
      "basinhopping step 167: f 7.89982e-06 trial_f 0.0163178 accepted 0  lowest_f 7.89982e-06\n",
      "warning: basinhopping: local minimization failure\n",
      "basinhopping step 168: f 7.89982e-06 trial_f 0.0247826 accepted 0  lowest_f 7.89982e-06\n",
      "warning: basinhopping: local minimization failure\n",
      "basinhopping step 169: f 7.89982e-06 trial_f 55.3585 accepted 0  lowest_f 7.89982e-06\n",
      "warning: basinhopping: local minimization failure\n",
      "basinhopping step 170: f 7.89982e-06 trial_f 0.0615448 accepted 0  lowest_f 7.89982e-06\n",
      "warning: basinhopping: local minimization failure\n",
      "basinhopping step 171: f 7.89982e-06 trial_f 0.0271334 accepted 0  lowest_f 7.89982e-06\n",
      "warning: basinhopping: local minimization failure\n",
      "basinhopping step 172: f 7.89982e-06 trial_f 7.12927 accepted 0  lowest_f 7.89982e-06\n",
      "warning: basinhopping: local minimization failure\n",
      "basinhopping step 173: f 7.89982e-06 trial_f 0.0207553 accepted 0  lowest_f 7.89982e-06\n",
      "warning: basinhopping: local minimization failure\n",
      "basinhopping step 174: f 7.89982e-06 trial_f 8.00206 accepted 0  lowest_f 7.89982e-06\n",
      "warning: basinhopping: local minimization failure\n",
      "basinhopping step 175: f 7.89982e-06 trial_f 0.0373822 accepted 0  lowest_f 7.89982e-06\n",
      "warning: basinhopping: local minimization failure\n",
      "basinhopping step 176: f 7.89982e-06 trial_f 0.052794 accepted 0  lowest_f 7.89982e-06\n",
      "warning: basinhopping: local minimization failure\n",
      "basinhopping step 177: f 7.89982e-06 trial_f 24.9972 accepted 0  lowest_f 7.89982e-06\n",
      "warning: basinhopping: local minimization failure\n",
      "basinhopping step 178: f 7.89982e-06 trial_f 23.6551 accepted 0  lowest_f 7.89982e-06\n",
      "warning: basinhopping: local minimization failure\n",
      "basinhopping step 179: f 7.89982e-06 trial_f 7.13133 accepted 0  lowest_f 7.89982e-06\n",
      "warning: basinhopping: local minimization failure\n",
      "basinhopping step 180: f 7.89982e-06 trial_f 16.7686 accepted 0  lowest_f 7.89982e-06\n",
      "warning: basinhopping: local minimization failure\n",
      "basinhopping step 181: f 7.89982e-06 trial_f 5.50357 accepted 0  lowest_f 7.89982e-06\n",
      "warning: basinhopping: local minimization failure\n",
      "basinhopping step 182: f 7.89982e-06 trial_f 7.1334 accepted 0  lowest_f 7.89982e-06\n",
      "warning: basinhopping: local minimization failure\n",
      "basinhopping step 183: f 7.89982e-06 trial_f 23.0786 accepted 0  lowest_f 7.89982e-06\n",
      "warning: basinhopping: local minimization failure\n",
      "basinhopping step 184: f 7.89982e-06 trial_f 0.0142577 accepted 0  lowest_f 7.89982e-06\n",
      "warning: basinhopping: local minimization failure\n",
      "basinhopping step 185: f 7.89982e-06 trial_f 0.0167774 accepted 0  lowest_f 7.89982e-06\n",
      "warning: basinhopping: local minimization failure\n",
      "basinhopping step 186: f 7.89982e-06 trial_f 0.0163231 accepted 0  lowest_f 7.89982e-06\n",
      "warning: basinhopping: local minimization failure\n",
      "basinhopping step 187: f 7.89982e-06 trial_f 19.5294 accepted 0  lowest_f 7.89982e-06\n",
      "warning: basinhopping: local minimization failure\n",
      "basinhopping step 188: f 7.89982e-06 trial_f 7.13177 accepted 0  lowest_f 7.89982e-06\n",
      "warning: basinhopping: local minimization failure\n",
      "basinhopping step 189: f 7.89982e-06 trial_f 7.88647 accepted 0  lowest_f 7.89982e-06\n",
      "warning: basinhopping: local minimization failure\n",
      "basinhopping step 190: f 7.89982e-06 trial_f 0.0621246 accepted 0  lowest_f 7.89982e-06\n",
      "warning: basinhopping: local minimization failure\n",
      "basinhopping step 191: f 7.89982e-06 trial_f 28.929 accepted 0  lowest_f 7.89982e-06\n",
      "warning: basinhopping: local minimization failure\n",
      "basinhopping step 192: f 7.89982e-06 trial_f 0.0437825 accepted 0  lowest_f 7.89982e-06\n",
      "warning: basinhopping: local minimization failure\n",
      "basinhopping step 193: f 7.89982e-06 trial_f 0.0619353 accepted 0  lowest_f 7.89982e-06\n",
      "warning: basinhopping: local minimization failure\n",
      "basinhopping step 194: f 7.89982e-06 trial_f 7.9843 accepted 0  lowest_f 7.89982e-06\n",
      "warning: basinhopping: local minimization failure\n",
      "basinhopping step 195: f 7.89982e-06 trial_f 7.12927 accepted 0  lowest_f 7.89982e-06\n",
      "warning: basinhopping: local minimization failure\n",
      "basinhopping step 196: f 7.89982e-06 trial_f 0.00205822 accepted 0  lowest_f 7.89982e-06\n",
      "warning: basinhopping: local minimization failure\n",
      "basinhopping step 197: f 7.89982e-06 trial_f 0.0150172 accepted 0  lowest_f 7.89982e-06\n",
      "warning: basinhopping: local minimization failure\n",
      "basinhopping step 198: f 7.89982e-06 trial_f 0.197099 accepted 0  lowest_f 7.89982e-06\n",
      "warning: basinhopping: local minimization failure\n",
      "basinhopping step 199: f 7.89982e-06 trial_f 53.5891 accepted 0  lowest_f 7.89982e-06\n",
      "adaptive stepsize: acceptance rate 0.000000 target 0.500000 new stepsize 0.13122 old stepsize 0.1458\n",
      "warning: basinhopping: local minimization failure\n",
      "basinhopping step 200: f 7.89982e-06 trial_f 1.12888 accepted 0  lowest_f 7.89982e-06\n",
      "{'Rel': 0.00202, 'R1': 0.01, 'R2': 0.008, 'Q1': 0.9, 'Q2': 0.9, 'alpha_q1': 0.75, 'alpha_q2': 0.8, 'Ds': 4.1e-15, 'alpha': 0.93, 'a': 428947.0}\n"
     ]
    }
   ],
   "source": [
    "exp_real = np.array(get_exp_data(1, \"\")[0][0])\n",
    "exp_imag = np.array(get_exp_data(1, \"\")[0][1])\n",
    "frequencies = np.array(get_exp_data(1, \"\")[1])\n",
    "\n",
    "lower_bounds = [0, 0, 0, 0, 0, 0, 0, 1e-20, 0, 1e3] \n",
    "upper_bounds = [0.03, 0.1, 0.1,  5, 5, 1, 1, 1e-10, 1, 1e8] \n",
    "bounds = list(zip(lower_bounds, upper_bounds))\n",
    "#bounds_values = (lower_bounds, upper_bounds)\n",
    "#bounds = [bounds_values] * len(dict_to_list(a_fitting)),\n",
    "#bounds = tuple(bounds)\n",
    "\n",
    "\n",
    "initial_elems = dict_to_list(a_fitting)\n",
    "\n",
    "def diff_func(x0, exp_real, exp_imag, frequencies):\n",
    "        Z = calculate_Z(x0, frequencies)\n",
    "        diff_real = Z.real - exp_real\n",
    "        diff_imag = Z.imag - exp_imag\n",
    "        sum_square_diff = np.sum(diff_real ** 2 + diff_imag ** 2)\n",
    "        return sum_square_diff\n",
    "\n",
    "sol = basinhopping(diff_func, x0=initial_elems, niter=200, T=1, stepsize=0.2, minimizer_kwargs={'method':'slsqp', 'args':(exp_real, exp_imag, frequencies), 'bounds':bounds, 'tol':10**-6}, take_step=None, accept_test=None, callback=None, interval=50, disp=True, niter_success=None, seed=None)\n",
    "sol_elems = list_to_dict(a_fitting, sol.x)\n",
    "print(sol_elems)"
   ]
  },
  {
   "cell_type": "code",
   "execution_count": null,
   "metadata": {},
   "outputs": [
    {
     "data": {
      "image/png": "[encoded data removed]",
      "text/plain": [
       "<Figure size 600x600 with 1 Axes>"
      ]
     },
     "metadata": {},
     "output_type": "display_data"
    }
   ],
   "source": [
    "frequencies = np.array(get_exp_data(i, \"\")[1])\n",
    "Z = calculate_Z(dict_to_list(a_fitting), frequencies)\n",
    "Z_pso = calculate_Z(best_params, frequencies)\n",
    "Z_Fbasin = calculate_Z(sol.x, frequencies)\n",
    "\n",
    "fig, ax = plt.subplots(figsize=(6, 6)) \n",
    "ax.scatter(np.array(get_exp_data(i, \"\")[0][0]), -np.array(get_exp_data(i, \"\")[0][1]), color = 'red', label=f\"Experimental \"+str(np.round(get_vdc(i, \"\"),3))+\" V\") \n",
    "ax.scatter(Z.real, -Z.imag, label = f'Meyers', color = 'blue')\n",
    "#ax.plot(Z_Fbasin.real, -Z_Fbasin.imag, label = f'Fredrik basinhopping', color = 'green')\n",
    "#ax.plot(Z_pso.real, -Z_pso.imag, label = f'pso', color = 'grey')\n",
    "\n",
    "\n",
    "#ax.set_xlim(0.016, 0.045) \n",
    "#ax.set_ylim(0, 0.012)\n",
    "\n",
    "plt.legend()\n",
    "plt.title(\"Comparing\") \n",
    "plt.show() "
   ]
  }
 ],
 "metadata": {
  "kernelspec": {
   "display_name": "base",
   "language": "python",
   "name": "python3"
  },
  "language_info": {
   "codemirror_mode": {
    "name": "ipython",
    "version": 3
   },
   "file_extension": ".py",
   "mimetype": "text/x-python",
   "name": "python",
   "nbconvert_exporter": "python",
   "pygments_lexer": "ipython3",
   "version": "3.11.5"
  }
 },
 "nbformat": 4,
 "nbformat_minor": 2
}
