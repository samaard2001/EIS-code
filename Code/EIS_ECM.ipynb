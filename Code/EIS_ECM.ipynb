{
 "cells": [
  {
   "cell_type": "markdown",
   "metadata": {},
   "source": [
    "Importing libraries"
   ]
  },
  {
   "cell_type": "code",
   "execution_count": 180,
   "metadata": {},
   "outputs": [],
   "source": [
    "import pybammeis\n",
    "import pybamm\n",
    "import os\n",
    "import re\n",
    "import numpy as np\n",
    "from gamry_parser import GamryParser, Impedance\n",
    "import pandas as pd\n",
    "import time as timer\n",
    "import matplotlib.pyplot as plt\n",
    "from scipy.fft import fft\n",
    "import random\n",
    "from scipy.optimize import minimize\n",
    "from scipy.optimize import basinhopping\n",
    "from scipy.interpolate import interp1d\n",
    "import pyswarms as ps \n",
    "from pyswarms.single import GlobalBestPSO"
   ]
  },
  {
   "cell_type": "code",
   "execution_count": 181,
   "metadata": {},
   "outputs": [
    {
     "name": "stdout",
     "output_type": "stream",
     "text": [
      "The autoreload extension is already loaded. To reload it, use:\n",
      "  %reload_ext autoreload\n"
     ]
    }
   ],
   "source": [
    "%load_ext autoreload\n",
    "%autoreload 2\n",
    "\n",
    "from utils.load_data import get_exp_data\n",
    "from utils.parameters import params \n",
    "params = params()\n",
    "from utils.potential_gradient import _dU_dc_anode\n",
    "from utils.check_SOC import get_vdc\n",
    "from utils.convertion import dict_to_list, list_to_dict\n",
    "from utils.ecm_randles import calc_randles_Z, a_randles\n",
    "from utils.ecm_meyers import calc_meyers_Z, a_meyers\n",
    "from utils.ecm_meyers_K import calc_meyers_K_Z, a_meyers_K\n",
    "from utils.ecm_meyers_all_params import calc_meyers_all_Z, a_meyers_all\n",
    "from utils.optimize import optimize_diff\n",
    "from utils.optimize_from_Randles import optimize_randles \n",
    "from utils.optimizing_plot import optimizing_plot\n"
   ]
  },
  {
   "cell_type": "markdown",
   "metadata": {},
   "source": [
    "Uploading experimental data"
   ]
  },
  {
   "cell_type": "code",
   "execution_count": 3,
   "metadata": {},
   "outputs": [
    {
     "data": {
      "text/plain": [
       "'\\n# at ca. 45% SoC (3.587 V)\\n# at 25 deg C\\n\\ndef get_exp_data(i, d): \\n    z_list = []\\n    file = \"/Users/synnemard/Desktop/lithium_ion/EIS_data/MJ1_02_EIS-SoC/MJ1_02_EIS-SoC_0\"+str(i)+\"/\"+d+\"EISGALV3V587.DTA\"\\n    ca = Impedance(file)\\n    ca.load(filename=file)\\n\\n    # extract EIS curve\\n    res = ca.get_curve_data().iloc[::-1]\\n    df_real = res[\\'Zreal\\']\\n    df_imag= res[\\'Zimag\\']\\n    df_freq = res[\\'Freq\\']\\n    #df_name = res[\\'Vdc\\']\\n\\n    # Removing the points beneath the y-axis \\n    real = df_real[df_imag <= 0]\\n    imag = df_imag[df_imag <= 0]\\n    freq = df_freq[df_imag <= 0]\\n    \\n    #name = sum(df_name)/len(df_name)\\n    # Adding the impendances to the list \\n    z_list.append(real)\\n    z_list.append(imag)\\n    return[z_list, freq, len(freq)] #, df_name]\\n\\n'"
      ]
     },
     "execution_count": 3,
     "metadata": {},
     "output_type": "execute_result"
    }
   ],
   "source": [
    "'''\n",
    "# at ca. 45% SoC (3.587 V)\n",
    "# at 25 deg C\n",
    "\n",
    "def get_exp_data(i, d): \n",
    "    z_list = []\n",
    "    file = \"/Users/synnemard/Desktop/lithium_ion/EIS_data/MJ1_02_EIS-SoC/MJ1_02_EIS-SoC_0\"+str(i)+\"/\"+d+\"EISGALV3V587.DTA\"\n",
    "    ca = Impedance(file)\n",
    "    ca.load(filename=file)\n",
    "\n",
    "    # extract EIS curve\n",
    "    res = ca.get_curve_data().iloc[::-1]\n",
    "    df_real = res['Zreal']\n",
    "    df_imag= res['Zimag']\n",
    "    df_freq = res['Freq']\n",
    "    #df_name = res['Vdc']\n",
    "\n",
    "    # Removing the points beneath the y-axis \n",
    "    real = df_real[df_imag <= 0]\n",
    "    imag = df_imag[df_imag <= 0]\n",
    "    freq = df_freq[df_imag <= 0]\n",
    "    \n",
    "    #name = sum(df_name)/len(df_name)\n",
    "    # Adding the impendances to the list \n",
    "    z_list.append(real)\n",
    "    z_list.append(imag)\n",
    "    return[z_list, freq, len(freq)] #, df_name]\n",
    "\n",
    "'''\n"
   ]
  },
  {
   "cell_type": "markdown",
   "metadata": {},
   "source": [
    "Function to get detailed information on V (SOC should be around 45%)"
   ]
  },
  {
   "cell_type": "code",
   "execution_count": 4,
   "metadata": {},
   "outputs": [
    {
     "data": {
      "text/plain": [
       "'\\'\\ndef get_vdc(i, d): \\n    length = get_exp_data(i, d)[2]\\n    file = \"/Users/synnemard/Desktop/lithium_ion/EIS_data/MJ1_01_EIS-SoC_01-05/MJ1_01_EIS-SoC_0\"+str(i)+\"/\"+d+\"EISGALV3V587.DTA\"\\n    df = pd.read_csv(file, delimiter=\\'\\t\\', skiprows=[i for i in range(0, 60)], encoding=\\'ISO-8859-1\\')\\n\\n    df_vdc = df[\\'Vdc\\'][::-1]\\n    vdc = df_vdc[:length+1]\\n    v_list = np.array(vdc)\\n\\n    sum = 0 \\n    for i in v_list: \\n        sum += float(i) \\n    v_avg = sum/len(v_list)\\n\\n    return v_avg #, df_name]\\n\\nget_vdc(1, \"\")\\n\\n'"
      ]
     },
     "execution_count": 4,
     "metadata": {},
     "output_type": "execute_result"
    }
   ],
   "source": [
    "''''\n",
    "def get_vdc(i, d): \n",
    "    length = get_exp_data(i, d)[2]\n",
    "    file = \"/Users/synnemard/Desktop/lithium_ion/EIS_data/MJ1_01_EIS-SoC_01-05/MJ1_01_EIS-SoC_0\"+str(i)+\"/\"+d+\"EISGALV3V587.DTA\"\n",
    "    df = pd.read_csv(file, delimiter='\\t', skiprows=[i for i in range(0, 60)], encoding='ISO-8859-1')\n",
    "\n",
    "    df_vdc = df['Vdc'][::-1]\n",
    "    vdc = df_vdc[:length+1]\n",
    "    v_list = np.array(vdc)\n",
    "\n",
    "    sum = 0 \n",
    "    for i in v_list: \n",
    "        sum += float(i) \n",
    "    v_avg = sum/len(v_list)\n",
    "\n",
    "    return v_avg #, df_name]\n",
    "\n",
    "get_vdc(1, \"\")\n",
    "\n",
    "'''"
   ]
  },
  {
   "cell_type": "markdown",
   "metadata": {},
   "source": [
    "## Parameters from Amund\n",
    "\n",
    "(I have only changed the electrolyte conductivity)"
   ]
  },
  {
   "cell_type": "code",
   "execution_count": 5,
   "metadata": {},
   "outputs": [
    {
     "data": {
      "text/plain": [
       "'\\n# OCV curves for the anode and cathode\\n# Simple math model for the individual electrode potentials as a function of the stoichiometry of Lithium\\ndef MJ1_ocp_tanh_SiC(sto):\\n    x = sto\\n    p = np.array([ 1.20912055e+00,  5.62297420e+01, -1.11020020e-01, -2.53458213e-01, 4.92581391e+01,  1.22046522e-02,  4.73538620e-02,  1.79631246e+01, 1.75283209e-01,  1.88038929e-02,  3.03255334e+01,  4.66328034e-01])\\n    \\n    return (\\n            p[0] * np.exp(-p[1] * x)\\n            + p[2]\\n            - p[3] * np.tanh(p[4] * (x - p[5]))\\n            - p[6] * np.tanh(p[7] * (x - p[8]))\\n            - p[9] * np.tanh(p[10] * (x - p[11]))\\n        )\\n\\ndef MJ1_ocp_tanh_NMC(sto):\\n    x = sto\\n    p = np.array([ 0.74041974,  4.39107343,  0.03434767, 18.16841489,  0.53463176, 17.68283504, 14.59709162,  0.28835348, 17.58474971, 14.69911523,  0.28845641])\\n\\n    return (\\n            -p[0] * x\\n            + p[1]\\n            - p[2] * np.tanh(p[3] * (x - p[4]))\\n            - p[5] * np.tanh(p[6] * (x - p[7]))\\n            + p[8] * np.tanh(p[9] * (x - p[10]))\\n        )\\n\\n# Parameters from literature\\nliterature_params = {\\n    \\'Electrode height [m]\\': 0.059,\\n    \\'Electrode width [m]\\': 0.610*2, # Multiplying by two since the electrode has active material on both sides.\\n    \\'Lower voltage cut-off [V]\\': 2.5,\\n    \\'Upper voltage cut-off [V]\\': 4.5,\\n    \\'Nominal cell capacity [A.h]\\': 3.5,\\n    \\'EC initial concentration in electrolyte [mol.m-3]\\': 1000,  #4541.0,\\n\\n # From Table 3 in https://doi.org/10.1016/j.jpowsour.2018.11.043\\n    \\'Maximum concentration in negative electrode [mol.m-3]\\': 32418.5,\\n    \\'Negative particle radius [m]\\': 6.1e-06,\\n    \\'Negative electrode porosity\\': 0.216,\\n    \\'Negative electrode active material volume fraction\\': 0.7011854763922494,\\n    \\'Negative electrode conductivity [S.m-1]\\': 100.0,\\n    \\'Negative electrode diffusivity [m2.s-1]\\': 5e-14,\\n    \\'Negative electrode OCP [V]\\': MJ1_ocp_tanh_SiC,\\n\\n    # \\'Maximum concentration in positive electrode [mol.m-3]\\': 51081.15,\\n    \\'Positive particle radius [m]\\': 3.8e-06,\\n    \\'Positive electrode porosity\\': 0.171,\\n    \\'Positive electrode active material volume fraction\\': 0.7355902286855152,\\n    \\'Positive electrode conductivity [S.m-1]\\': 0.17,\\n    \\'Positive electrode diffusivity [m2.s-1]\\': 5e-13,\\n    \\'Positive electrode OCP [V]\\': MJ1_ocp_tanh_NMC,\\n\\n    \\'Separator porosity\\': 0.45,\\n\\n    # end of section 3 data\\n    \\n    # From Table A-9 and A-10 in https://doi.org/10.1016/j.jpowsour.2018.11.043\\n    \\'Negative current collector conductivity [S.m-1]\\': 5.9e7/(1+3.383e-3 * (298.15-293.15)), \\n    \\'Negative current collector thickness [m]\\': 11e-06,\\n    \\'Negative current collector density [kg.m-3]\\': 8950.0,\\n    \\'Negative current collector specific heat capacity [J.kg-1.K-1]\\': 385.0,\\n    \\'Negative current collector thermal conductivity [W.m-1.K-1]\\': 398.0,\\n    \\'Negative electrode density [kg.m-3]\\': 2242.0,\\n    \\'Negative electrode specific heat capacity [J.kg-1.K-1]\\': 867.0,\\n    \\'Negative electrode thermal conductivity [W.m-1.K-1]\\': 1.04,\\n    \\'Negative electrode thickness [m]\\': 86.7e-6, # 86.7 in Sturm 2019, 85um in Heenan2020, 170um in NASA\\n    \\'Positive current collector conductivity [S.m-1]\\': 3.78e7/(1+4.290e-3 * (298.15-293.15)),\\n    \\'Positive current collector density [kg.m-3]\\': 2710.0,\\n    \\'Positive current collector specific heat capacity [J.kg-1.K-1]\\': 903.0,\\n    \\'Positive current collector thermal conductivity [W.m-1.K-1]\\': 238.0,\\n    \\'Positive current collector thickness [m]\\': 17.3e-06,\\n    \\'Positive electrode density [kg.m-3]\\': 4870.0,\\n    \\'Positive electrode specific heat capacity [J.kg-1.K-1]\\': 840.1,\\n    \\'Positive electrode thermal conductivity [W.m-1.K-1]\\': 1.58,\\n    \\'Positive electrode thickness [m]\\': 66.2e-6, #66.2um in Sturm2019, 72.5um in Heenan2020, 160um in NASA\\n    \\'Separator density [kg.m-3]\\': 1009.0,\\n    \\'Separator specific heat capacity [J.kg-1.K-1]\\': 1978.2,\\n    \\'Separator thermal conductivity [W.m-1.K-1]\\': 0.33,\\n    \\'Separator thickness [m]\\': 12e-06,\\n\\n    # end of table data\\n    }\\n\\n# Use default parameters from the Chen2020 publication\\nparams = pybamm.ParameterValues(\"Chen2020\")\\n\\n# Overwrite parameters with our own\\nfor parameter, value in literature_params.items():\\n    try:\\n        if params[parameter] != value: # Check if the parameter exists in \\'params\\' and has a different value\\n            params[parameter] = value # Update \\'params\\' with the new value from \\'literature_params\\'\\n    except KeyError as e: # This block handles the case where the \\'parameter\\' is not in \\'params\\'\\n        print(f\"Parameter {parameter} not part of default. Skipping.\")\\n\\n#params[\\'Electrolyte conductivity\\']\\n\\n'"
      ]
     },
     "execution_count": 5,
     "metadata": {},
     "output_type": "execute_result"
    }
   ],
   "source": [
    "'''\n",
    "# OCV curves for the anode and cathode\n",
    "# Simple math model for the individual electrode potentials as a function of the stoichiometry of Lithium\n",
    "def MJ1_ocp_tanh_SiC(sto):\n",
    "    x = sto\n",
    "    p = np.array([ 1.20912055e+00,  5.62297420e+01, -1.11020020e-01, -2.53458213e-01, 4.92581391e+01,  1.22046522e-02,  4.73538620e-02,  1.79631246e+01, 1.75283209e-01,  1.88038929e-02,  3.03255334e+01,  4.66328034e-01])\n",
    "    \n",
    "    return (\n",
    "            p[0] * np.exp(-p[1] * x)\n",
    "            + p[2]\n",
    "            - p[3] * np.tanh(p[4] * (x - p[5]))\n",
    "            - p[6] * np.tanh(p[7] * (x - p[8]))\n",
    "            - p[9] * np.tanh(p[10] * (x - p[11]))\n",
    "        )\n",
    "\n",
    "def MJ1_ocp_tanh_NMC(sto):\n",
    "    x = sto\n",
    "    p = np.array([ 0.74041974,  4.39107343,  0.03434767, 18.16841489,  0.53463176, 17.68283504, 14.59709162,  0.28835348, 17.58474971, 14.69911523,  0.28845641])\n",
    "\n",
    "    return (\n",
    "            -p[0] * x\n",
    "            + p[1]\n",
    "            - p[2] * np.tanh(p[3] * (x - p[4]))\n",
    "            - p[5] * np.tanh(p[6] * (x - p[7]))\n",
    "            + p[8] * np.tanh(p[9] * (x - p[10]))\n",
    "        )\n",
    "\n",
    "# Parameters from literature\n",
    "literature_params = {\n",
    "    'Electrode height [m]': 0.059,\n",
    "    'Electrode width [m]': 0.610*2, # Multiplying by two since the electrode has active material on both sides.\n",
    "    'Lower voltage cut-off [V]': 2.5,\n",
    "    'Upper voltage cut-off [V]': 4.5,\n",
    "    'Nominal cell capacity [A.h]': 3.5,\n",
    "    'EC initial concentration in electrolyte [mol.m-3]': 1000,  #4541.0,\n",
    "\n",
    " # From Table 3 in https://doi.org/10.1016/j.jpowsour.2018.11.043\n",
    "    'Maximum concentration in negative electrode [mol.m-3]': 32418.5,\n",
    "    'Negative particle radius [m]': 6.1e-06,\n",
    "    'Negative electrode porosity': 0.216,\n",
    "    'Negative electrode active material volume fraction': 0.7011854763922494,\n",
    "    'Negative electrode conductivity [S.m-1]': 100.0,\n",
    "    'Negative electrode diffusivity [m2.s-1]': 5e-14,\n",
    "    'Negative electrode OCP [V]': MJ1_ocp_tanh_SiC,\n",
    "\n",
    "    # 'Maximum concentration in positive electrode [mol.m-3]': 51081.15,\n",
    "    'Positive particle radius [m]': 3.8e-06,\n",
    "    'Positive electrode porosity': 0.171,\n",
    "    'Positive electrode active material volume fraction': 0.7355902286855152,\n",
    "    'Positive electrode conductivity [S.m-1]': 0.17,\n",
    "    'Positive electrode diffusivity [m2.s-1]': 5e-13,\n",
    "    'Positive electrode OCP [V]': MJ1_ocp_tanh_NMC,\n",
    "\n",
    "    'Separator porosity': 0.45,\n",
    "\n",
    "    # end of section 3 data\n",
    "    \n",
    "    # From Table A-9 and A-10 in https://doi.org/10.1016/j.jpowsour.2018.11.043\n",
    "    'Negative current collector conductivity [S.m-1]': 5.9e7/(1+3.383e-3 * (298.15-293.15)), \n",
    "    'Negative current collector thickness [m]': 11e-06,\n",
    "    'Negative current collector density [kg.m-3]': 8950.0,\n",
    "    'Negative current collector specific heat capacity [J.kg-1.K-1]': 385.0,\n",
    "    'Negative current collector thermal conductivity [W.m-1.K-1]': 398.0,\n",
    "    'Negative electrode density [kg.m-3]': 2242.0,\n",
    "    'Negative electrode specific heat capacity [J.kg-1.K-1]': 867.0,\n",
    "    'Negative electrode thermal conductivity [W.m-1.K-1]': 1.04,\n",
    "    'Negative electrode thickness [m]': 86.7e-6, # 86.7 in Sturm 2019, 85um in Heenan2020, 170um in NASA\n",
    "    'Positive current collector conductivity [S.m-1]': 3.78e7/(1+4.290e-3 * (298.15-293.15)),\n",
    "    'Positive current collector density [kg.m-3]': 2710.0,\n",
    "    'Positive current collector specific heat capacity [J.kg-1.K-1]': 903.0,\n",
    "    'Positive current collector thermal conductivity [W.m-1.K-1]': 238.0,\n",
    "    'Positive current collector thickness [m]': 17.3e-06,\n",
    "    'Positive electrode density [kg.m-3]': 4870.0,\n",
    "    'Positive electrode specific heat capacity [J.kg-1.K-1]': 840.1,\n",
    "    'Positive electrode thermal conductivity [W.m-1.K-1]': 1.58,\n",
    "    'Positive electrode thickness [m]': 66.2e-6, #66.2um in Sturm2019, 72.5um in Heenan2020, 160um in NASA\n",
    "    'Separator density [kg.m-3]': 1009.0,\n",
    "    'Separator specific heat capacity [J.kg-1.K-1]': 1978.2,\n",
    "    'Separator thermal conductivity [W.m-1.K-1]': 0.33,\n",
    "    'Separator thickness [m]': 12e-06,\n",
    "\n",
    "    # end of table data\n",
    "    }\n",
    "\n",
    "# Use default parameters from the Chen2020 publication\n",
    "params = pybamm.ParameterValues(\"Chen2020\")\n",
    "\n",
    "# Overwrite parameters with our own\n",
    "for parameter, value in literature_params.items():\n",
    "    try:\n",
    "        if params[parameter] != value: # Check if the parameter exists in 'params' and has a different value\n",
    "            params[parameter] = value # Update 'params' with the new value from 'literature_params'\n",
    "    except KeyError as e: # This block handles the case where the 'parameter' is not in 'params'\n",
    "        print(f\"Parameter {parameter} not part of default. Skipping.\")\n",
    "\n",
    "#params['Electrolyte conductivity']\n",
    "\n",
    "'''\n"
   ]
  },
  {
   "cell_type": "markdown",
   "metadata": {},
   "source": [
    "### Finding the $-\\frac{\\partial U}{\\partial c_s}$ for each the anode and the cathode"
   ]
  },
  {
   "cell_type": "code",
   "execution_count": 6,
   "metadata": {},
   "outputs": [
    {
     "data": {
      "text/plain": [
       "'\\nc_n_max = params[\"Maximum concentration in negative electrode [mol.m-3]\"]\\nc_n_s_max = c_n_max \\nc_p_max = params[\"Maximum concentration in positive electrode [mol.m-3]\"]\\nc_p_s_max = c_p_max\\n\\nparams.set_initial_stoichiometries(0.45) # Setting SOC, this changes the initial concentrations\\nc_n = params[\\'Initial concentration in negative electrode [mol.m-3]\\'] \\nc_n_s = c_n # for the surface of the particle\\nc_p = params[\\'Initial concentration in positive electrode [mol.m-3]\\'] \\nc_p_s = c_p\\n\\n'"
      ]
     },
     "execution_count": 6,
     "metadata": {},
     "output_type": "execute_result"
    }
   ],
   "source": [
    "'''\n",
    "c_n_max = params[\"Maximum concentration in negative electrode [mol.m-3]\"]\n",
    "c_n_s_max = c_n_max \n",
    "c_p_max = params[\"Maximum concentration in positive electrode [mol.m-3]\"]\n",
    "c_p_s_max = c_p_max\n",
    "\n",
    "params.set_initial_stoichiometries(0.45) # Setting SOC, this changes the initial concentrations\n",
    "c_n = params['Initial concentration in negative electrode [mol.m-3]'] \n",
    "c_n_s = c_n # for the surface of the particle\n",
    "c_p = params['Initial concentration in positive electrode [mol.m-3]'] \n",
    "c_p_s = c_p\n",
    "\n",
    "'''\n"
   ]
  },
  {
   "cell_type": "code",
   "execution_count": 7,
   "metadata": {},
   "outputs": [
    {
     "data": {
      "text/plain": [
       "'\\ndef sech_2(z): \\n    return 1/np.cosh(z)**2\\n\\ndef _dU_dc_anode(c): \\n    x = c/c_n_max\\n    # Har satt in for x i uttrykket for potensial lenger oppe og derivert med hensyn på c\\n    p = np.array([ 1.20912055e+00,  5.62297420e+01, -1.11020020e-01, -2.53458213e-01, 4.92581391e+01,  1.22046522e-02,  4.73538620e-02,  1.79631246e+01, 1.75283209e-01,  1.88038929e-02,  3.03255334e+01,  4.66328034e-01])\\n    dU_dc = -(p[6]*p[7]*sech_2(p[7]*(c/c_n_max-p[8])))/c_n_max - (p[3]*p[4]*sech_2(p[4]*(c/c_n_max-p[5])))/c_n_max - (p[9]*p[10]*sech_2(p[10]*(c/c_n_max-p[11])))/c_n_max - (p[0]*p[1]*np.exp(-p[1]*c/c_n_max))/c_n_max\\n    return -dU_dc # [V*m^3/mol]\\n\\n_dU_dc_a = _dU_dc_anode(c_n)\\n\\ndef _dU_dc_cathode(c): \\n    x = c/c_p_max\\n    # Har satt in for x i uttrykket for potensial lenger oppe og derivert med hensyn på c\\n    p = np.array([ 0.74041974,  4.39107343,  0.03434767, 18.16841489,  0.53463176, 17.68283504, 14.59709162,  0.28835348, 17.58474971, 14.69911523,  0.28845641])\\n    dU_dc = -(p[5]*p[6]*sech_2(p[6]*(c/c_p_max-p[7])))/c_p_max - (p[2]*p[3]*sech_2(p[3]*(c/c_p_max-p[4])))/c_p_max + (p[9]*p[8]*sech_2(p[9]*(c/c_p_max-p[10])))/c_p_max - p[0]\\n    return -dU_dc # [V*m^3/mol]\\n\\n_dU_dc_c = _dU_dc_cathode(c_p)\\n'"
      ]
     },
     "execution_count": 7,
     "metadata": {},
     "output_type": "execute_result"
    }
   ],
   "source": [
    "'''\n",
    "def sech_2(z): \n",
    "    return 1/np.cosh(z)**2\n",
    "\n",
    "def _dU_dc_anode(c): \n",
    "    x = c/c_n_max\n",
    "    # Har satt in for x i uttrykket for potensial lenger oppe og derivert med hensyn på c\n",
    "    p = np.array([ 1.20912055e+00,  5.62297420e+01, -1.11020020e-01, -2.53458213e-01, 4.92581391e+01,  1.22046522e-02,  4.73538620e-02,  1.79631246e+01, 1.75283209e-01,  1.88038929e-02,  3.03255334e+01,  4.66328034e-01])\n",
    "    dU_dc = -(p[6]*p[7]*sech_2(p[7]*(c/c_n_max-p[8])))/c_n_max - (p[3]*p[4]*sech_2(p[4]*(c/c_n_max-p[5])))/c_n_max - (p[9]*p[10]*sech_2(p[10]*(c/c_n_max-p[11])))/c_n_max - (p[0]*p[1]*np.exp(-p[1]*c/c_n_max))/c_n_max\n",
    "    return -dU_dc # [V*m^3/mol]\n",
    "\n",
    "_dU_dc_a = _dU_dc_anode(c_n)\n",
    "\n",
    "def _dU_dc_cathode(c): \n",
    "    x = c/c_p_max\n",
    "    # Har satt in for x i uttrykket for potensial lenger oppe og derivert med hensyn på c\n",
    "    p = np.array([ 0.74041974,  4.39107343,  0.03434767, 18.16841489,  0.53463176, 17.68283504, 14.59709162,  0.28835348, 17.58474971, 14.69911523,  0.28845641])\n",
    "    dU_dc = -(p[5]*p[6]*sech_2(p[6]*(c/c_p_max-p[7])))/c_p_max - (p[2]*p[3]*sech_2(p[3]*(c/c_p_max-p[4])))/c_p_max + (p[9]*p[8]*sech_2(p[9]*(c/c_p_max-p[10])))/c_p_max - p[0]\n",
    "    return -dU_dc # [V*m^3/mol]\n",
    "\n",
    "_dU_dc_c = _dU_dc_cathode(c_p)\n",
    "'''\n"
   ]
  },
  {
   "cell_type": "markdown",
   "metadata": {},
   "source": [
    "### Diverse utregninger "
   ]
  },
  {
   "cell_type": "code",
   "execution_count": 8,
   "metadata": {},
   "outputs": [
    {
     "data": {
      "text/plain": [
       "'\\nF = 96485 #C/mol \\nR = 8.314 #J/mol*K\\nn = 1 \\nT = 298 # K\\n\\n'"
      ]
     },
     "execution_count": 8,
     "metadata": {},
     "output_type": "execute_result"
    }
   ],
   "source": [
    "'''\n",
    "F = 96485 #C/mol \n",
    "R = 8.314 #J/mol*K\n",
    "n = 1 \n",
    "T = 298 # K\n",
    "\n",
    "'''"
   ]
  },
  {
   "cell_type": "code",
   "execution_count": 9,
   "metadata": {},
   "outputs": [
    {
     "data": {
      "text/plain": [
       "\"\\nvolume_anode = params['Electrode height [m]']*params['Electrode width [m]']*params['Negative electrode thickness [m]'] # [m^3]\\nvolume_cathode = params['Electrode height [m]']*params['Electrode width [m]']*params['Positive electrode thickness [m]'] # [m^3]\\narea_electrode = params['Electrode height [m]']*params['Electrode width [m]'] #[m^2]\\n\\nc_e = params['EC initial concentration in electrolyte [mol.m-3]']\\ni_0_a = params['Negative electrode exchange-current density [A.m-2]'](c_e, c_n_s, c_n_s_max, T)\\ni_0_c = params['Positive electrode exchange-current density [A.m-2]'](c_e, c_p_s, c_p_s_max, T)\\n\\nr_a = params['Negative particle radius [m]']\\nr_c = params['Positive particle radius [m]']\\ne_a = 1 - params['Negative electrode porosity']\\ne_c = 1 - params['Positive electrode porosity']\\n\""
      ]
     },
     "execution_count": 9,
     "metadata": {},
     "output_type": "execute_result"
    }
   ],
   "source": [
    "'''\n",
    "volume_anode = params['Electrode height [m]']*params['Electrode width [m]']*params['Negative electrode thickness [m]'] # [m^3]\n",
    "volume_cathode = params['Electrode height [m]']*params['Electrode width [m]']*params['Positive electrode thickness [m]'] # [m^3]\n",
    "area_electrode = params['Electrode height [m]']*params['Electrode width [m]'] #[m^2]\n",
    "\n",
    "c_e = params['EC initial concentration in electrolyte [mol.m-3]']\n",
    "i_0_a = params['Negative electrode exchange-current density [A.m-2]'](c_e, c_n_s, c_n_s_max, T)\n",
    "i_0_c = params['Positive electrode exchange-current density [A.m-2]'](c_e, c_p_s, c_p_s_max, T)\n",
    "\n",
    "r_a = params['Negative particle radius [m]']\n",
    "r_c = params['Positive particle radius [m]']\n",
    "e_a = 1 - params['Negative electrode porosity']\n",
    "e_c = 1 - params['Positive electrode porosity']\n",
    "'''"
   ]
  },
  {
   "cell_type": "markdown",
   "metadata": {},
   "source": [
    "Functions to convert list to dictionary or vice versa "
   ]
  },
  {
   "cell_type": "code",
   "execution_count": 10,
   "metadata": {},
   "outputs": [
    {
     "data": {
      "text/plain": [
       "'\\n# Function to convert dictionary to list\\ndef dict_to_list(c_elem):\\n    return list(c_elem.values())\\n\\n# Function to convert list back to dictionary\\ndef list_to_dict(c_elem, optimized_values):\\n    keys = list(c_elem.keys())\\n    return dict(zip(keys, optimized_values))\\n'"
      ]
     },
     "execution_count": 10,
     "metadata": {},
     "output_type": "execute_result"
    }
   ],
   "source": [
    "'''\n",
    "# Function to convert dictionary to list\n",
    "def dict_to_list(c_elem):\n",
    "    return list(c_elem.values())\n",
    "\n",
    "# Function to convert list back to dictionary\n",
    "def list_to_dict(c_elem, optimized_values):\n",
    "    keys = list(c_elem.keys())\n",
    "    return dict(zip(keys, optimized_values))\n",
    "'''"
   ]
  },
  {
   "cell_type": "markdown",
   "metadata": {},
   "source": [
    "#### Equation for finding $R_{ct}$ from the given exchange current density parameter: \n",
    "\n",
    "The charge transfer resistances (= $R_{ct}$), $R1$ and $R2$, are found from the Butler-Volmer equation: \n",
    "\n",
    "$$R_{ct} = \\frac{RT}{n\\cdot i_0(\\alpha_a + \\alpha_c)F}, $$\n",
    "\n",
    "at small overpotentials and assuming a symmetrical charge transfer process $(\\alpha_a + \\alpha_c = 1)$. This equation is also written as equation $(20)$ in the Meyers paper. "
   ]
  },
  {
   "cell_type": "code",
   "execution_count": 11,
   "metadata": {},
   "outputs": [
    {
     "data": {
      "text/plain": [
       "\"\\ndef R_ct(i_0): \\n    return (R*T)/(n*F*i_0) # [ohm.m^2]\\n\\nR1_a = R_ct(i_0_a).__dict__['_value']\\nR1_c = R_ct(i_0_c).__dict__['_value']\\n\\n\""
      ]
     },
     "execution_count": 11,
     "metadata": {},
     "output_type": "execute_result"
    }
   ],
   "source": [
    "'''\n",
    "def R_ct(i_0): \n",
    "    return (R*T)/(n*F*i_0) # [ohm.m^2]\n",
    "\n",
    "R1_a = R_ct(i_0_a).__dict__['_value']\n",
    "R1_c = R_ct(i_0_c).__dict__['_value']\n",
    "\n",
    "'''"
   ]
  },
  {
   "cell_type": "markdown",
   "metadata": {},
   "source": [
    "#### Equation for finding the pore surface volume divided by the electrode volume (=$a$):\n",
    "\n",
    "The pore surface area can be found from the following calculations: \n",
    "\n",
    "$$V_{particle} = \\frac{4\\pi r^3}{3}$$\n",
    "$$V_{active} = \\epsilon \\cdot V_{electrode}, $$\n",
    "\n",
    "where $\\epsilon$ is the fraction of active electrode material and then $V_{active}$ is the volume of the active electrode material. This gives the number of particles $N = \\frac{V_{active}}{V_{particle}}$. Further, the surface area of one particle is \n",
    "\n",
    "$$A_{particle} = 4 \\pi r^2, $$\n",
    "\n",
    "so that $A_{total} = N\\cdot A_{particle}$, where $A_{total}$ is the total pore/particle surface area. \n",
    "\n",
    "Then $a$ is calculated from \n",
    "\n",
    "$$a = \\frac{A_{total}}{V_{electrode}}$$\n",
    "\n",
    "\n"
   ]
  },
  {
   "cell_type": "code",
   "execution_count": 12,
   "metadata": {},
   "outputs": [
    {
     "data": {
      "text/plain": [
       "'\\nN = e_a*volume_anode/((4*np.pi/3)*r_a**3)\\n\\ndef a(V_electrode, e): \\n    V_particle = (4*np.pi/3)*r_a**3\\n    V_active = e*V_electrode \\n    # Number of particles\\n    N = V_active/V_particle \\n    # Surface area of particle \\n    A_particle = 4*np.pi*r_a**2\\n    # Total surface area of particles\\n    A_total = N*A_particle # so that A_total = (3*e)/r_particle\\n    return A_total/V_electrode # [m^-1]\\n\\n\\nprint(a(volume_anode, e_a))\\n\\nprint(3*e_a/r_a)\\n'"
      ]
     },
     "execution_count": 12,
     "metadata": {},
     "output_type": "execute_result"
    }
   ],
   "source": [
    "'''\n",
    "N = e_a*volume_anode/((4*np.pi/3)*r_a**3)\n",
    "\n",
    "def a(V_electrode, e): \n",
    "    V_particle = (4*np.pi/3)*r_a**3\n",
    "    V_active = e*V_electrode \n",
    "    # Number of particles\n",
    "    N = V_active/V_particle \n",
    "    # Surface area of particle \n",
    "    A_particle = 4*np.pi*r_a**2\n",
    "    # Total surface area of particles\n",
    "    A_total = N*A_particle # so that A_total = (3*e)/r_particle\n",
    "    return A_total/V_electrode # [m^-1]\n",
    "\n",
    "\n",
    "print(a(volume_anode, e_a))\n",
    "\n",
    "print(3*e_a/r_a)\n",
    "'''"
   ]
  },
  {
   "cell_type": "markdown",
   "metadata": {},
   "source": [
    "## Meyers parametre"
   ]
  },
  {
   "cell_type": "markdown",
   "metadata": {},
   "source": [
    "+ $R1$ - resistance \n",
    "+ $R2$ - resistance \n",
    "+ $C1$ - capicitance \n",
    "+ $C2$ - capicitance \n",
    "+ $R_s$ - particle size (assuming radius)\n",
    "+ $D_s$ - diffusion coefficient \n",
    "+ $a$ - surface area of pores per volume electrode\n",
    "+ $L$ - electrode thickness\n",
    "+ $K$ - electrolyte conductivity \n",
    "+ $\\sigma$ - electrode conductivity \n",
    "+ $\\epsilon$ - porosity \n",
    "+ $\\left(-\\frac{\\partial U}{\\partial c_s}\\right)$\n",
    "\n",
    "These parameters are defined from the given parameters by Amund (above). If the Meyer parameter does not have an equivalent in the parameter list above, it is calculated from relations (for example, the resistances $R1$ and $R2$ are calculated from the exhange current density $i$). \n",
    "\n",
    "Fra Ann-Mari sine anbefalinger har jeg ikke inkludert R1 og R2 i førsteomgang. "
   ]
  },
  {
   "cell_type": "code",
   "execution_count": 13,
   "metadata": {},
   "outputs": [
    {
     "data": {
      "text/plain": [
       "'\\na_parametre = {\\n    \"R1\": R1_a,  # motstand, [ohm.m^2]\\n    \"C1\": params[\\'Negative electrode double-layer capacity [F.m-2]\\'],  # kapasitans\\n    \"Rs\": params[\\'Negative particle radius [m]\\'], # partikkelstørrelse, [F.m^-2]\\n    \"Ds\": params[\\'Negative electrode diffusivity [m2.s-1]\\'],     # diffusjonskoeffisient [m^2.s^-1]\\n    \"a\": a(volume_anode, e_a),  # overflateareal porer/volum electrode [m^-1]\\n    \"L\": params[\\'Negative electrode thickness [m]\\'],  # tykkelse, elektrode, [m]\\n    \"K\" : params[\\'Electrolyte conductivity [S.m-1]\\'](c_e, T),  # ledningsevne elektrolytt [S.m^-1]\\n    \"sigma\": params[\\'Negative electrode conductivity [S.m-1]\\'], # ledningsevne, fast elektrodematerial [S.m^-1]\\n    \"ebsilon\": e_a,     # volume fraction anode\\n    \"-dU_dcs\": _dU_dc_a, #[V.m^3.mol-1]\\n    }\\n\\nc_parametre = {\\n    \"R1\": R1_c,  # motstand\\n    \"C1\": params[\\'Positive electrode double-layer capacity [F.m-2]\\'],  # kapasitans\\n    \"Rs\": params[\\'Positive particle radius [m]\\'], # partikkelstørrelse\\n    \"Ds\": params[\\'Positive electrode diffusivity [m2.s-1]\\'],     # diffusjonskoeffisient \\n    \"a\": a(volume_cathode, e_c),  # overflateareal porer/volum electrode \\n    \"L\": params[\\'Positive electrode thickness [m]\\'],  # tykkelse, elektrode\\n    \"K\" : params[\\'Electrolyte conductivity [S.m-1]\\'](c_e, T),  # ledningsevne elektrolytt \\n    \"sigma\": params[\\'Positive electrode conductivity [S.m-1]\\'], # ledningsevne, fast elektrodematerial \\n    \"ebsilon\": e_c,     # volume fraction cathode\\n    \"-dU_dcs\": _dU_dc_c, \\n    }\\n\\nprint(a_parametre)\\nprint(c_parametre)\\n#params.search(\\'Positive particle surface concentration [mol.m-3]\\')\\n\\n'"
      ]
     },
     "execution_count": 13,
     "metadata": {},
     "output_type": "execute_result"
    }
   ],
   "source": [
    "a_parametre = {\n",
    "    \"R1\": 0.02,  # motstand, [ohm.m^2]\n",
    "    \"C1\": 0.2,  # kapasitans\n",
    "    \"Rs\": 0.02, # partikkelstørrelse, [F.m^-2]\n",
    "    \"Ds\": 6*10**(-14),     # diffusjonskoeffisient [m^2.s^-1]\n",
    "    \"a\": 30000,  # overflateareal porer/volum electrode [m^-1]\n",
    "    \"L\": 8*10**(-4),  # tykkelse, elektrode, [m]\n",
    "    \"K\" : 9*10**(-6),  # ledningsevne elektrolytt [S.m^-1]\n",
    "    \"sigma\": 0.8, # ledningsevne, fast elektrodematerial [S.m^-1]\n",
    "    \"ebsilon\": 0.4,     # volume fraction anode\n",
    "    \"-dU_dcs\": 17.1, #[V.m^3.mol-1]\n",
    "    }\n",
    "\n",
    "\n",
    "\n",
    "'''\n",
    "a_parametre = {\n",
    "    \"R1\": R1_a,  # motstand, [ohm.m^2]\n",
    "    \"C1\": params['Negative electrode double-layer capacity [F.m-2]'],  # kapasitans\n",
    "    \"Rs\": params['Negative particle radius [m]'], # partikkelstørrelse, [F.m^-2]\n",
    "    \"Ds\": params['Negative electrode diffusivity [m2.s-1]'],     # diffusjonskoeffisient [m^2.s^-1]\n",
    "    \"a\": a(volume_anode, e_a),  # overflateareal porer/volum electrode [m^-1]\n",
    "    \"L\": params['Negative electrode thickness [m]'],  # tykkelse, elektrode, [m]\n",
    "    \"K\" : params['Electrolyte conductivity [S.m-1]'](c_e, T),  # ledningsevne elektrolytt [S.m^-1]\n",
    "    \"sigma\": params['Negative electrode conductivity [S.m-1]'], # ledningsevne, fast elektrodematerial [S.m^-1]\n",
    "    \"ebsilon\": e_a,     # volume fraction anode\n",
    "    \"-dU_dcs\": _dU_dc_a, #[V.m^3.mol-1]\n",
    "    }\n",
    "\n",
    "c_parametre = {\n",
    "    \"R1\": R1_c,  # motstand\n",
    "    \"C1\": params['Positive electrode double-layer capacity [F.m-2]'],  # kapasitans\n",
    "    \"Rs\": params['Positive particle radius [m]'], # partikkelstørrelse\n",
    "    \"Ds\": params['Positive electrode diffusivity [m2.s-1]'],     # diffusjonskoeffisient \n",
    "    \"a\": a(volume_cathode, e_c),  # overflateareal porer/volum electrode \n",
    "    \"L\": params['Positive electrode thickness [m]'],  # tykkelse, elektrode\n",
    "    \"K\" : params['Electrolyte conductivity [S.m-1]'](c_e, T),  # ledningsevne elektrolytt \n",
    "    \"sigma\": params['Positive electrode conductivity [S.m-1]'], # ledningsevne, fast elektrodematerial \n",
    "    \"ebsilon\": e_c,     # volume fraction cathode\n",
    "    \"-dU_dcs\": _dU_dc_c, \n",
    "    }\n",
    "\n",
    "print(a_parametre)\n",
    "print(c_parametre)\n",
    "#params.search('Positive particle surface concentration [mol.m-3]')\n",
    "\n",
    "'''"
   ]
  },
  {
   "cell_type": "markdown",
   "metadata": {},
   "source": [
    "## Calculate impedance (from Meyers paper)"
   ]
  },
  {
   "cell_type": "markdown",
   "metadata": {},
   "source": [
    "$$R_{part} = \\left(-\\frac{\\partial U}{\\partial c_s}\\right)\\frac{R_s}{FD_s}$$\n",
    "\n",
    "$$Y_s = \\frac{\\sqrt{j\\Omega_s}-\\tanh(\\sqrt{j\\Omega_s})}{\\tanh(\\sqrt{j\\Omega_s})},$$\n",
    "\n",
    "where $Y_s$ is the admittance for the diffusion effect and $\\Omega_s$ is the dimensionless frequency: \n",
    "\n",
    "$$\\Omega_s = \\frac{\\omega R_s^2}{D_s^{a}}$$\n",
    "\n",
    "Further, \n",
    "\n",
    "$$Y(\\omega) = \\frac{1}{\\frac{R1 + \\frac{R_{part}}{Y_s}}{1 + j\\omega C1\\left(R1 + \\frac{R_{part}}{Y_s}\\right)} + \\frac{R2}{1+j\\omega R2\\cdot C2}}, $$\n",
    "\n",
    "where $Y(\\omega)$ is the admittance (intercalation, BV-kinetics and double-layer capacitance) of a single particle at a given frequency. $\\overline{aY}$ is the average admittance in the porous electrode. \n",
    "\n",
    "$$v = \\frac{L}{\\left(\\frac{K\\sigma}{K + \\sigma}\\right)^{\\frac{1}{2}}\\left({\\overline{aY}}\\right)^{-\\frac{1}{2}}}, $$\n",
    "\n",
    "where the parameter $v$ is a function of frequency $\\omega$ and is determined for set values of $\\sigma$ and $K$. \n",
    "Finally, the total impedance is given by\n",
    "\n",
    "$$Z = \\frac{L}{K+\\sigma}\\left[1 + \\frac{2 + (\\frac{\\sigma}{K} + \\frac{K}{\\sigma})\\cosh v}{v\\cdot \\sinh v}\\right]$$\n",
    "\n",
    "\n"
   ]
  },
  {
   "cell_type": "code",
   "execution_count": 14,
   "metadata": {},
   "outputs": [
    {
     "data": {
      "text/plain": [
       "\"\\ndef R_part(param): \\n    R_part = _dU_dc_a*(param['Rs']/(F*param['Ds']))\\n    return R_part \\n\\ndef Y_s(param, ang_freq):\\n    omega_s = (ang_freq*param['Rs']**2)/param['Ds']\\n    Y_s = (np.sqrt(1j*omega_s) - np.tanh(np.sqrt(1j*omega_s)))/np.tanh(np.sqrt(1j*omega_s))\\n    return Y_s\\n\\ndef Y_particle(param, ang_freq, R_part, Y_s): \\n    Y = 1/((param['R1'] + R_part/Y_s)/(1 + 1j*ang_freq*param['C1']*(param['R1'] + R_part/Y_s)))\\n    return Y\\n\\ndef v(param, Y): \\n    v = param['L']/ (((param['K']*param['sigma'])/(param['K'] + param['sigma']))**0.5*((param['a']*Y))**(-0.5))\\n    return v\\n\\n\""
      ]
     },
     "execution_count": 14,
     "metadata": {},
     "output_type": "execute_result"
    }
   ],
   "source": [
    "'''\n",
    "def R_part(param): \n",
    "    R_part = _dU_dc_a*(param['Rs']/(F*param['Ds']))\n",
    "    return R_part \n",
    "\n",
    "def Y_s(param, ang_freq):\n",
    "    omega_s = (ang_freq*param['Rs']**2)/param['Ds']\n",
    "    Y_s = (np.sqrt(1j*omega_s) - np.tanh(np.sqrt(1j*omega_s)))/np.tanh(np.sqrt(1j*omega_s))\n",
    "    return Y_s\n",
    "\n",
    "def Y_particle(param, ang_freq, R_part, Y_s): \n",
    "    Y = 1/((param['R1'] + R_part/Y_s)/(1 + 1j*ang_freq*param['C1']*(param['R1'] + R_part/Y_s)))\n",
    "    return Y\n",
    "\n",
    "def v(param, Y): \n",
    "    v = param['L']/ (((param['K']*param['sigma'])/(param['K'] + param['sigma']))**0.5*((param['a']*Y))**(-0.5))\n",
    "    return v\n",
    "\n",
    "'''"
   ]
  },
  {
   "cell_type": "code",
   "execution_count": 15,
   "metadata": {},
   "outputs": [
    {
     "data": {
      "text/plain": [
       "'\\n# Function to calculate Z \\ndef calc_Z(comp, frequencies):\\n    # Update param dictionary from the flat parameter list (comp), where comp is updated values\\n    param = list_to_dict(a_parametre, comp) \\n    ang_freq = 2 * np.pi * frequencies\\n\\n    Rp = R_part(param)\\n    Ys = Y_s(param, ang_freq)\\n    Y = Y_particle(param, ang_freq, Rp, Ys)\\n    v_calc = v(param, Y)\\n\\n    # The total impedance: \\n    Z = (param[\\'L\\']/(param[\\'K\\']+param[\\'sigma\\']))*(1 + (2 + (param[\\'sigma\\']/param[\\'K\\'] + param[\\'K\\']/param[\\'sigma\\'])*np.cosh(v_calc))/(v_calc*np.sinh(v_calc)))\\n    \\n    return Z/area_electrode\\n\\nfrequencies = np.array(get_exp_data(1, \"\")[1])\\nZ_init = calc_Z(dict_to_list(a_parametre), frequencies)\\nplt.plot(Z_init.real, -Z_init.imag)\\nplt.show()\\n\\n'"
      ]
     },
     "execution_count": 15,
     "metadata": {},
     "output_type": "execute_result"
    }
   ],
   "source": [
    "'''\n",
    "# Function to calculate Z \n",
    "def calc_Z(comp, frequencies):\n",
    "    # Update param dictionary from the flat parameter list (comp), where comp is updated values\n",
    "    param = list_to_dict(a_parametre, comp) \n",
    "    ang_freq = 2 * np.pi * frequencies\n",
    "\n",
    "    Rp = R_part(param)\n",
    "    Ys = Y_s(param, ang_freq)\n",
    "    Y = Y_particle(param, ang_freq, Rp, Ys)\n",
    "    v_calc = v(param, Y)\n",
    "\n",
    "    # The total impedance: \n",
    "    Z = (param['L']/(param['K']+param['sigma']))*(1 + (2 + (param['sigma']/param['K'] + param['K']/param['sigma'])*np.cosh(v_calc))/(v_calc*np.sinh(v_calc)))\n",
    "    \n",
    "    return Z/area_electrode\n",
    "\n",
    "frequencies = np.array(get_exp_data(1, \"\")[1])\n",
    "Z_init = calc_Z(dict_to_list(a_parametre), frequencies)\n",
    "plt.plot(Z_init.real, -Z_init.imag)\n",
    "plt.show()\n",
    "\n",
    "'''"
   ]
  },
  {
   "cell_type": "code",
   "execution_count": 16,
   "metadata": {},
   "outputs": [
    {
     "data": {
      "text/plain": [
       "'\\n# Optimizing the difference function for a given data set\\ndef optimize_diff(i, parametre):\\n    # Load the experimental data \\n    exp_real = np.array(get_exp_data(i, \"\")[0][0])\\n    exp_imag = np.array(get_exp_data(i, \"\")[0][1])\\n    frequencies = np.array(get_exp_data(i, \"\")[1])\\n\\n    # Difference function for the optimization\\n    def diff_func(comp, exp_real, exp_imag, frequencies):\\n        Z = calc_Z(comp, frequencies)\\n        diff_real = Z.real - exp_real\\n        diff_imag = Z.imag - exp_imag\\n        sum_square_diff = np.sum(diff_real ** 2 + diff_imag ** 2)\\n        return sum_square_diff\\n    \\n    #print(diff_func(dict_to_list(a_number_parametre), exp_real, exp_imag, frequencies))\\n\\n    # Convert initial dictionary to list for optimization\\n    initial_elems = dict_to_list(parametre)\\n\\n    # Optimization options\\n    options = {\\n        \\'maxiter\\': 10000,    # Maximum number of iterations\\n        \\'ftol\\': 1e-4,       # Function value tolerance\\n        #\\'disp\\': True\\n    }\\n\\n    # Minimize the difference function (optimize parameters)\\n    opt = minimize(diff_func, initial_elems, args=(exp_real, exp_imag, frequencies), method=\\'TNC\\', options=options)\\n    opt_elems = list_to_dict(parametre, opt.x)\\n    final_diff = diff_func(opt.x, exp_real, exp_imag, frequencies)\\n    \\n    #print(\"Final sum of squared difference for dataset\", i, \":\", final_diff)\\n\\n    return opt_elems, final_diff, frequencies, opt.x \\n\\n# Example usage: optimize for a specific dataset (choose i from 1 to 5)\\ni = 1 # Change i to the desired dataset index\\ndic_elems, final_diff, frequencies, list_elems = optimize_diff(i, a_parametre)\\n\\nprint(final_diff)\\nprint(dic_elems)\\nprint(a_parametre)\\n\\n'"
      ]
     },
     "execution_count": 16,
     "metadata": {},
     "output_type": "execute_result"
    }
   ],
   "source": [
    "'''\n",
    "# Optimizing the difference function for a given data set\n",
    "def optimize_diff(i, parametre):\n",
    "    # Load the experimental data \n",
    "    exp_real = np.array(get_exp_data(i, \"\")[0][0])\n",
    "    exp_imag = np.array(get_exp_data(i, \"\")[0][1])\n",
    "    frequencies = np.array(get_exp_data(i, \"\")[1])\n",
    "\n",
    "    # Difference function for the optimization\n",
    "    def diff_func(comp, exp_real, exp_imag, frequencies):\n",
    "        Z = calc_Z(comp, frequencies)\n",
    "        diff_real = Z.real - exp_real\n",
    "        diff_imag = Z.imag - exp_imag\n",
    "        sum_square_diff = np.sum(diff_real ** 2 + diff_imag ** 2)\n",
    "        return sum_square_diff\n",
    "    \n",
    "    #print(diff_func(dict_to_list(a_number_parametre), exp_real, exp_imag, frequencies))\n",
    "\n",
    "    # Convert initial dictionary to list for optimization\n",
    "    initial_elems = dict_to_list(parametre)\n",
    "\n",
    "    # Optimization options\n",
    "    options = {\n",
    "        'maxiter': 10000,    # Maximum number of iterations\n",
    "        'ftol': 1e-4,       # Function value tolerance\n",
    "        #'disp': True\n",
    "    }\n",
    "\n",
    "    # Minimize the difference function (optimize parameters)\n",
    "    opt = minimize(diff_func, initial_elems, args=(exp_real, exp_imag, frequencies), method='TNC', options=options)\n",
    "    opt_elems = list_to_dict(parametre, opt.x)\n",
    "    final_diff = diff_func(opt.x, exp_real, exp_imag, frequencies)\n",
    "    \n",
    "    #print(\"Final sum of squared difference for dataset\", i, \":\", final_diff)\n",
    "\n",
    "    return opt_elems, final_diff, frequencies, opt.x \n",
    "\n",
    "# Example usage: optimize for a specific dataset (choose i from 1 to 5)\n",
    "i = 1 # Change i to the desired dataset index\n",
    "dic_elems, final_diff, frequencies, list_elems = optimize_diff(i, a_parametre)\n",
    "\n",
    "print(final_diff)\n",
    "print(dic_elems)\n",
    "print(a_parametre)\n",
    "\n",
    "'''"
   ]
  },
  {
   "cell_type": "markdown",
   "metadata": {},
   "source": [
    "PSO"
   ]
  },
  {
   "cell_type": "code",
   "execution_count": 22,
   "metadata": {},
   "outputs": [
    {
     "ename": "NameError",
     "evalue": "name 'a_fitting' is not defined",
     "output_type": "error",
     "traceback": [
      "\u001b[0;31m---------------------------------------------------------------------------\u001b[0m",
      "\u001b[0;31mNameError\u001b[0m                                 Traceback (most recent call last)",
      "Cell \u001b[0;32mIn[22], line 17\u001b[0m\n\u001b[1;32m     14\u001b[0m \u001b[38;5;28;01mdef\u001b[39;00m \u001b[38;5;21mwrapped_diff_func\u001b[39m(comp):\n\u001b[1;32m     15\u001b[0m   \u001b[38;5;28;01mreturn\u001b[39;00m np\u001b[38;5;241m.\u001b[39marray([diff_func(par, exp_real, exp_imag, frequencies) \u001b[38;5;28;01mfor\u001b[39;00m par \u001b[38;5;129;01min\u001b[39;00m comp])\n\u001b[0;32m---> 17\u001b[0m n_dim \u001b[38;5;241m=\u001b[39m \u001b[38;5;28mlen\u001b[39m(\u001b[43ma_fitting\u001b[49m) \u001b[38;5;66;03m#changing \u001b[39;00m\n\u001b[1;32m     19\u001b[0m options \u001b[38;5;241m=\u001b[39m {\n\u001b[1;32m     20\u001b[0m     \u001b[38;5;124m'\u001b[39m\u001b[38;5;124mc1\u001b[39m\u001b[38;5;124m'\u001b[39m: \u001b[38;5;241m0.5\u001b[39m, \n\u001b[1;32m     21\u001b[0m     \u001b[38;5;124m'\u001b[39m\u001b[38;5;124mc2\u001b[39m\u001b[38;5;124m'\u001b[39m: \u001b[38;5;241m0.3\u001b[39m, \n\u001b[1;32m     22\u001b[0m     \u001b[38;5;124m'\u001b[39m\u001b[38;5;124mw\u001b[39m\u001b[38;5;124m'\u001b[39m: \u001b[38;5;241m0.9\u001b[39m,\n\u001b[1;32m     23\u001b[0m }\n\u001b[1;32m     25\u001b[0m optimizer \u001b[38;5;241m=\u001b[39m ps\u001b[38;5;241m.\u001b[39msingle\u001b[38;5;241m.\u001b[39mGlobalBestPSO(n_particles \u001b[38;5;241m=\u001b[39m \u001b[38;5;241m100\u001b[39m, dimensions \u001b[38;5;241m=\u001b[39m n_dim, options \u001b[38;5;241m=\u001b[39m options)\n",
      "\u001b[0;31mNameError\u001b[0m: name 'a_fitting' is not defined"
     ]
    }
   ],
   "source": [
    "\n",
    "i = 1\n",
    "exp_real = np.array(get_exp_data(i, \"\")[0][0])\n",
    "exp_imag = np.array(get_exp_data(i, \"\")[0][1])\n",
    "frequencies = np.array(get_exp_data(i, \"\")[1])\n",
    "\n",
    "# Difference function for the optimization\n",
    "def diff_func(comp, exp_real, exp_imag, frequencies):\n",
    "    Z = calc_Z(comp, frequencies)\n",
    "    diff_real = Z.real - exp_real\n",
    "    diff_imag = Z.imag - exp_imag\n",
    "    sum_square_diff = np.sum(diff_real ** 2 + diff_imag ** 2)\n",
    "    return sum_square_diff\n",
    "\n",
    "def wrapped_diff_func(comp):\n",
    "  return np.array([diff_func(par, exp_real, exp_imag, frequencies) for par in comp])\n",
    "\n",
    "n_dim = len(a_fitting) #changing \n",
    "\n",
    "options = {\n",
    "    'c1': 0.5, \n",
    "    'c2': 0.3, \n",
    "    'w': 0.9,\n",
    "}\n",
    "\n",
    "optimizer = ps.single.GlobalBestPSO(n_particles = 100, dimensions = n_dim, options = options)\n",
    "\n",
    "best_cost, best_params = optimizer.optimize(wrapped_diff_func, iters =100)\n",
    "\n",
    "print(best_cost)\n",
    "print(best_params)"
   ]
  },
  {
   "cell_type": "code",
   "execution_count": 23,
   "metadata": {},
   "outputs": [
    {
     "ename": "NameError",
     "evalue": "name 'calc_Z' is not defined",
     "output_type": "error",
     "traceback": [
      "\u001b[0;31m---------------------------------------------------------------------------\u001b[0m",
      "\u001b[0;31mNameError\u001b[0m                                 Traceback (most recent call last)",
      "Cell \u001b[0;32mIn[23], line 2\u001b[0m\n\u001b[1;32m      1\u001b[0m frequencies \u001b[38;5;241m=\u001b[39m np\u001b[38;5;241m.\u001b[39marray(get_exp_data(\u001b[38;5;241m1\u001b[39m, \u001b[38;5;124m\"\u001b[39m\u001b[38;5;124m\"\u001b[39m)[\u001b[38;5;241m1\u001b[39m])\n\u001b[0;32m----> 2\u001b[0m Z_opt \u001b[38;5;241m=\u001b[39m \u001b[43mcalc_Z\u001b[49m(best_params, frequencies)\n\u001b[1;32m      4\u001b[0m plt\u001b[38;5;241m.\u001b[39mplot(Z_opt\u001b[38;5;241m.\u001b[39mreal, \u001b[38;5;241m-\u001b[39mZ_opt\u001b[38;5;241m.\u001b[39mimag)\n\u001b[1;32m      5\u001b[0m plt\u001b[38;5;241m.\u001b[39mshow()\n",
      "\u001b[0;31mNameError\u001b[0m: name 'calc_Z' is not defined"
     ]
    }
   ],
   "source": [
    "frequencies = np.array(get_exp_data(1, \"\")[1])\n",
    "Z_opt = calc_Z(best_params, frequencies)\n",
    "\n",
    "plt.plot(Z_opt.real, -Z_opt.imag)\n",
    "plt.show()"
   ]
  },
  {
   "cell_type": "markdown",
   "metadata": {},
   "source": [
    "Observe how the parameters are changing with degradation"
   ]
  },
  {
   "cell_type": "code",
   "execution_count": null,
   "metadata": {},
   "outputs": [],
   "source": [
    "def finding_params(): \n",
    "    dic_list = []\n",
    "    for l in range(1,5):\n",
    "        dic_elems, final_diff, frequencies, list_elems = optimize_diff(l)\n",
    "        dic_list.append(dic_elems)\n",
    "    \n",
    "    combined_dict = {}\n",
    "    \n",
    "    for d in dic_list:\n",
    "        for key, value in d.items():\n",
    "            # If key is not in combined_dict, initialize with empty list\n",
    "            if key not in combined_dict:\n",
    "                combined_dict[key] = []\n",
    "            # Append the value to the list for this key\n",
    "            combined_dict[key].append(value)\n",
    "\n",
    "    return combined_dict"
   ]
  },
  {
   "cell_type": "code",
   "execution_count": null,
   "metadata": {},
   "outputs": [
    {
     "ename": "TypeError",
     "evalue": "optimize_diff() missing 2 required positional arguments: 'parametre' and 'calc_func'",
     "output_type": "error",
     "traceback": [
      "\u001b[0;31m---------------------------------------------------------------------------\u001b[0m",
      "\u001b[0;31mTypeError\u001b[0m                                 Traceback (most recent call last)",
      "Cell \u001b[0;32mIn[42], line 1\u001b[0m\n\u001b[0;32m----> 1\u001b[0m combined_dict \u001b[38;5;241m=\u001b[39m \u001b[43mfinding_params\u001b[49m\u001b[43m(\u001b[49m\u001b[43m)\u001b[49m\n\u001b[1;32m      3\u001b[0m \u001b[38;5;28;01mdef\u001b[39;00m \u001b[38;5;21mplot_change_param\u001b[39m(key_list): \n\u001b[1;32m      4\u001b[0m     x \u001b[38;5;241m=\u001b[39m [\u001b[38;5;241m1\u001b[39m, \u001b[38;5;241m2\u001b[39m, \u001b[38;5;241m3\u001b[39m, \u001b[38;5;241m4\u001b[39m]\n",
      "Cell \u001b[0;32mIn[41], line 4\u001b[0m, in \u001b[0;36mfinding_params\u001b[0;34m()\u001b[0m\n\u001b[1;32m      2\u001b[0m dic_list \u001b[38;5;241m=\u001b[39m []\n\u001b[1;32m      3\u001b[0m \u001b[38;5;28;01mfor\u001b[39;00m l \u001b[38;5;129;01min\u001b[39;00m \u001b[38;5;28mrange\u001b[39m(\u001b[38;5;241m1\u001b[39m,\u001b[38;5;241m5\u001b[39m):\n\u001b[0;32m----> 4\u001b[0m     dic_elems, final_diff, frequencies, list_elems \u001b[38;5;241m=\u001b[39m \u001b[43moptimize_diff\u001b[49m\u001b[43m(\u001b[49m\u001b[43ml\u001b[49m\u001b[43m)\u001b[49m\n\u001b[1;32m      5\u001b[0m     dic_list\u001b[38;5;241m.\u001b[39mappend(dic_elems)\n\u001b[1;32m      7\u001b[0m combined_dict \u001b[38;5;241m=\u001b[39m {}\n",
      "\u001b[0;31mTypeError\u001b[0m: optimize_diff() missing 2 required positional arguments: 'parametre' and 'calc_func'"
     ]
    }
   ],
   "source": [
    "combined_dict = finding_params()\n",
    "\n",
    "def plot_change_param(key_list): \n",
    "    x = [1, 2, 3, 4]\n",
    "    fig, ax = plt.subplots(figsize=(6, 6)) \n",
    "    for key in key_list: \n",
    "        ax.scatter(x, combined_dict[key], label = key)\n",
    "\n",
    "    plt.legend()\n",
    "    plt.xlabel(\"Data Set Number\")\n",
    "    plt.ylabel(\"Parameter Value\")\n",
    "    plt.title(\"Change in Parameters\") \n",
    "    plt.show()\n",
    "\n",
    "#plot_change_param(['R1', 'R2'])\n",
    "#plot_change_param(['Rs', 'Ds'])\n",
    "#plot_change_param(['C1', 'C2'])\n",
    "#plot_change_param(['a', 'L'])\n",
    "#plot_change_param(['K', 'sigma'])\n",
    "#plot_change_param(['ebsilon'])\n"
   ]
  },
  {
   "cell_type": "markdown",
   "metadata": {},
   "source": [
    "Comparison plot"
   ]
  },
  {
   "cell_type": "code",
   "execution_count": 24,
   "metadata": {},
   "outputs": [
    {
     "ename": "NameError",
     "evalue": "name 'calc_Z' is not defined",
     "output_type": "error",
     "traceback": [
      "\u001b[0;31m---------------------------------------------------------------------------\u001b[0m",
      "\u001b[0;31mNameError\u001b[0m                                 Traceback (most recent call last)",
      "Cell \u001b[0;32mIn[24], line 2\u001b[0m\n\u001b[1;32m      1\u001b[0m frequencies \u001b[38;5;241m=\u001b[39m np\u001b[38;5;241m.\u001b[39marray(get_exp_data(\u001b[38;5;241m1\u001b[39m, \u001b[38;5;124m\"\u001b[39m\u001b[38;5;124m\"\u001b[39m)[\u001b[38;5;241m1\u001b[39m])\n\u001b[0;32m----> 2\u001b[0m Z \u001b[38;5;241m=\u001b[39m \u001b[43mcalc_Z\u001b[49m(dict_to_list(a_parametre), frequencies)\n\u001b[1;32m      3\u001b[0m Z_scipy \u001b[38;5;241m=\u001b[39m calc_Z(list_elems, frequencies)\n\u001b[1;32m      4\u001b[0m Z_pso \u001b[38;5;241m=\u001b[39m calc_Z(best_params, frequencies)\n",
      "\u001b[0;31mNameError\u001b[0m: name 'calc_Z' is not defined"
     ]
    }
   ],
   "source": [
    "frequencies = np.array(get_exp_data(1, \"\")[1])\n",
    "Z = calc_Z(dict_to_list(a_parametre), frequencies)\n",
    "Z_scipy = calc_Z(list_elems, frequencies)\n",
    "Z_pso = calc_Z(best_params, frequencies)\n",
    "\n",
    "fig, ax = plt.subplots(figsize=(6, 6)) \n",
    "ax.scatter(np.array(get_exp_data(i, \"\")[0][0]), -np.array(get_exp_data(i, \"\")[0][1]), color = 'red', label=f\"Experimental \"+str(np.round(get_vdc(i, \"\"),3))+\" V\") \n",
    "ax.plot(Z.real, -Z.imag, label = f'Meyers', color = 'blue')\n",
    "ax.plot(Z_pso.real, -Z_pso.imag, label = f'PSO optimized', color = 'grey')\n",
    "ax.plot(Z_scipy.real, -Z_scipy.imag, label = f'scipy optimized', color = 'grey')\n",
    "\n",
    "\n",
    "#ax.set_xlim(0.016, 0.045) \n",
    "#ax.set_ylim(0, 0.012)\n",
    "\n",
    "plt.legend()\n",
    "plt.title(\"Comparing\") \n",
    "plt.show() "
   ]
  },
  {
   "cell_type": "markdown",
   "metadata": {},
   "source": [
    "# Dataset 1: Fitting R1, C1, Ds and a to experimental data"
   ]
  },
  {
   "cell_type": "code",
   "execution_count": null,
   "metadata": {},
   "outputs": [
    {
     "data": {
      "text/plain": [
       "'\\n\\na_fitting = {\\n    \"Rel\": 0.00202, # motstand elektrolytt, [ohm.m^2]\\n    \"R1\": 0.01,  # motstand, [ohm.m^2]\\n    \"R2\": 0.008, \\n    \"Q1\": 0.9,  # kapasitans\\n    \"Q2\": 0.9, \\n    \"alpha_q1\": 0.75,\\n    \"alpha_q2\": 0.8,\\n    \"Ds\": 4.1e-15,     # diffusjonskoeffisient [m^2.s^-1]\\n    \"alpha\": 0.93, #ikke-ideell diffusjon\\n    \"a\": 428947,  # overflateareal porer/volum electrode [m^-1]\\n    }\\n\\n\\nRs_a = params[\\'Negative particle radius [m]\\']\\nL_a = params[\\'Negative electrode thickness [m]\\'] \\nsigma_a = params[\\'Negative electrode conductivity [S.m-1]\\'] \\nepsilon_a = e_a # volume fraction anode\\nK_a = (params[\\'Electrolyte conductivity [S.m-1]\\'](c_e, T)*epsilon_a)/params[\\'Negative electrode Bruggeman coefficient (electrolyte)\\']\\n\\ni = 1\\n\\n'"
      ]
     },
     "execution_count": 47,
     "metadata": {},
     "output_type": "execute_result"
    }
   ],
   "source": [
    "'''\n",
    "a_fitting = {\n",
    "    \"Rel\": 0.002, # motstand elektrolytt, [ohm.m^2]\n",
    "    \"R1\": 0.02,  # motstand, [ohm.m^2]\n",
    "    \"Q1\": 0.75,  # kapasitans\n",
    "    \"alpha\": 0.8,\n",
    "    \"Ds\": 2e-16,     # diffusjonskoeffisient [m^2.s^-1]\n",
    "    \"alpha2\": 0.8, #ikke-ideell diffusjon\n",
    "    \"a\": 618947,  # overflateareal porer/volum electrode [m^-1]\n",
    "    }\n",
    "'''\n",
    "\n",
    "'''\n",
    "\n",
    "a_fitting = {\n",
    "    \"Rel\": 0.00202, # motstand elektrolytt, [ohm.m^2]\n",
    "    \"R1\": 0.01,  # motstand, [ohm.m^2]\n",
    "    \"R2\": 0.008, \n",
    "    \"Q1\": 0.9,  # kapasitans\n",
    "    \"Q2\": 0.9, \n",
    "    \"alpha_q1\": 0.75,\n",
    "    \"alpha_q2\": 0.8,\n",
    "    \"Ds\": 4.1e-15,     # diffusjonskoeffisient [m^2.s^-1]\n",
    "    \"alpha\": 0.93, #ikke-ideell diffusjon\n",
    "    \"a\": 428947,  # overflateareal porer/volum electrode [m^-1]\n",
    "    }\n",
    "\n",
    "\n",
    "Rs_a = params['Negative particle radius [m]']\n",
    "L_a = params['Negative electrode thickness [m]'] \n",
    "sigma_a = params['Negative electrode conductivity [S.m-1]'] \n",
    "epsilon_a = e_a # volume fraction anode\n",
    "K_a = (params['Electrolyte conductivity [S.m-1]'](c_e, T)*epsilon_a)/params['Negative electrode Bruggeman coefficient (electrolyte)']\n",
    "\n",
    "i = 1\n",
    "\n",
    "'''"
   ]
  },
  {
   "cell_type": "markdown",
   "metadata": {},
   "source": [
    "### Regner ut impedansen "
   ]
  },
  {
   "cell_type": "code",
   "execution_count": null,
   "metadata": {},
   "outputs": [
    {
     "data": {
      "text/plain": [
       "'\\n\\ndef R_part(Ds): \\n    R_part = _dU_dc_a*(Rs_a/(F*Ds))\\n    return R_part \\n\\ndef Y_s(omega, Ds, alpha):\\n    omega_s = (omega*Rs_a**2)/Ds**alpha\\n    Y_s = (np.sqrt(1j*omega_s) - np.tanh(np.sqrt(1j*omega_s)))/np.tanh(np.sqrt(1j*omega_s))\\n    return Y_s\\n\\ndef Y_particle(omega, R1, R2, Q1, Q2, alpha_q1, alpha_q2, R_part, Y_s): \\n    Y = 1/((R1 + R_part/Y_s)/(1 + (1j*omega)**alpha_q1*Q1*(R1 + R_part/Y_s)) + R2/(1 + (1j*omega)**alpha_q2*Q2*R2))\\n    return Y\\n\\ndef v(a, Y): \\n    v = L_a/ (((K_a*sigma_a)/(K_a + sigma_a))**0.5*((a*Y))**(-0.5))\\n    return v\\n\\n# Function to calculate Z \\ndef calculate_Z(comp, frequencies):\\n    # Update param dictionary from the flat parameter list (comp), where comp is updated values\\n    param = list_to_dict(a_fitting, comp) \\n    ang_freq = 2 * np.pi * frequencies\\n\\n    Rp = R_part(param[\\'Ds\\'])\\n    Ys = Y_s(ang_freq, param[\\'Ds\\'], param[\\'alpha\\'])\\n    Y = Y_particle(ang_freq, param[\\'R1\\'], param[\\'R2\\'], param[\\'Q1\\'], param[\\'Q2\\'], param[\\'alpha_q1\\'], param[\\'alpha_q2\\'], Rp, Ys)\\n    v_calc = v(param[\\'a\\'], Y)\\n\\n    # The total impedance: \\n    Z = param[\\'Rel\\'] + (L_a/(K_a+sigma_a))*(1 + (2 + (sigma_a/K_a + K_a/sigma_a)*np.cosh(v_calc))/(v_calc*np.sinh(v_calc)))\\n    \\n    return Z/area_electrode\\n\\nfrequencies = np.array(get_exp_data(1, \"\")[1])\\nZ_init = calculate_Z(dict_to_list(a_fitting), frequencies)\\nplt.plot(Z_init.real, -Z_init.imag)\\nplt.show()\\n\\n'"
      ]
     },
     "execution_count": 48,
     "metadata": {},
     "output_type": "execute_result"
    }
   ],
   "source": [
    "'''\n",
    "\n",
    "def R_part(Ds): \n",
    "    R_part = _dU_dc_a*(Rs_a/(F*Ds))\n",
    "    return R_part \n",
    "\n",
    "def Y_s(omega, Ds, alpha):\n",
    "    omega_s = (omega*Rs_a**2)/Ds**alpha\n",
    "    Y_s = (np.sqrt(1j*omega_s) - np.tanh(np.sqrt(1j*omega_s)))/np.tanh(np.sqrt(1j*omega_s))\n",
    "    return Y_s\n",
    "\n",
    "def Y_particle(omega, R1, R2, Q1, Q2, alpha_q1, alpha_q2, R_part, Y_s): \n",
    "    Y = 1/((R1 + R_part/Y_s)/(1 + (1j*omega)**alpha_q1*Q1*(R1 + R_part/Y_s)) + R2/(1 + (1j*omega)**alpha_q2*Q2*R2))\n",
    "    return Y\n",
    "\n",
    "def v(a, Y): \n",
    "    v = L_a/ (((K_a*sigma_a)/(K_a + sigma_a))**0.5*((a*Y))**(-0.5))\n",
    "    return v\n",
    "\n",
    "# Function to calculate Z \n",
    "def calculate_Z(comp, frequencies):\n",
    "    # Update param dictionary from the flat parameter list (comp), where comp is updated values\n",
    "    param = list_to_dict(a_fitting, comp) \n",
    "    ang_freq = 2 * np.pi * frequencies\n",
    "\n",
    "    Rp = R_part(param['Ds'])\n",
    "    Ys = Y_s(ang_freq, param['Ds'], param['alpha'])\n",
    "    Y = Y_particle(ang_freq, param['R1'], param['R2'], param['Q1'], param['Q2'], param['alpha_q1'], param['alpha_q2'], Rp, Ys)\n",
    "    v_calc = v(param['a'], Y)\n",
    "\n",
    "    # The total impedance: \n",
    "    Z = param['Rel'] + (L_a/(K_a+sigma_a))*(1 + (2 + (sigma_a/K_a + K_a/sigma_a)*np.cosh(v_calc))/(v_calc*np.sinh(v_calc)))\n",
    "    \n",
    "    return Z/area_electrode\n",
    "\n",
    "frequencies = np.array(get_exp_data(1, \"\")[1])\n",
    "Z_init = calculate_Z(dict_to_list(a_fitting), frequencies)\n",
    "plt.plot(Z_init.real, -Z_init.imag)\n",
    "plt.show()\n",
    "\n",
    "'''"
   ]
  },
  {
   "cell_type": "markdown",
   "metadata": {},
   "source": [
    "### Prøver én kalkuleringsfunksjon"
   ]
  },
  {
   "cell_type": "code",
   "execution_count": null,
   "metadata": {},
   "outputs": [
    {
     "data": {
      "text/plain": [
       "'\\n\\ndef calc_Zen(comp_a, frequencies):\\n    # Update param dictionary from the flat parameter list (comp), where comp is updated values\\n    param_a = list_to_dict(a_fitting, comp_a) \\n    ang_freq = 2 * np.pi * frequencies\\n\\n    Rp_a = _dU_dc_a*(Rs_a/(F*param_a[\\'Ds\\']))\\n    omegas_a = (ang_freq*Rs_a**2)/param_a[\\'Ds\\']**param_a[\\'alpha\\']\\n    Ys_a = (np.sqrt(1j*omegas_a) - np.tanh(np.sqrt(1j*omegas_a)))/np.tanh(np.sqrt(1j*omegas_a))\\n    Y_a = 1/((param_a[\\'R1\\'] + Rp_a/Ys_a)/(1 + (1j*ang_freq)**param_a[\\'alpha_q1\\']*param_a[\\'Q1\\']*(param_a[\\'R1\\'] + Rp_a/Ys_a)) + param_a[\\'R2\\']/(1 + (1j*ang_freq)**param_a[\\'alpha_q2\\']*param_a[\\'Q2\\']*param_a[\\'R2\\']))\\n    v_calc_a = L_a/(((K_a*sigma_a)/(K_a + sigma_a))**0.5*((param_a[\\'a\\']*Y_a))**(-0.5))\\n\\n    # The total impedance: \\n    Z_a = param_a[\\'Rel\\'] + (L_a/(K_a+sigma_a))*(1 + (2 + (sigma_a/K_a + K_a/sigma_a)*np.cosh(v_calc_a))/(v_calc_a*np.sinh(v_calc_a)))\\n    \\n    return Z_a/area_electrode\\n\\nfrequencies = np.array(get_exp_data(i, \"\")[1])\\nZ_init = calc_Zen(dict_to_list(a_fitting), frequencies)\\nplt.plot(Z_init.real, -Z_init.imag)\\nplt.show()\\n\\n'"
      ]
     },
     "execution_count": 49,
     "metadata": {},
     "output_type": "execute_result"
    }
   ],
   "source": [
    "'''\n",
    "\n",
    "def calc_Zen(comp_a, frequencies):\n",
    "    # Update param dictionary from the flat parameter list (comp), where comp is updated values\n",
    "    param_a = list_to_dict(a_fitting, comp_a) \n",
    "    ang_freq = 2 * np.pi * frequencies\n",
    "\n",
    "    Rp_a = _dU_dc_a*(Rs_a/(F*param_a['Ds']))\n",
    "    omegas_a = (ang_freq*Rs_a**2)/param_a['Ds']**param_a['alpha']\n",
    "    Ys_a = (np.sqrt(1j*omegas_a) - np.tanh(np.sqrt(1j*omegas_a)))/np.tanh(np.sqrt(1j*omegas_a))\n",
    "    Y_a = 1/((param_a['R1'] + Rp_a/Ys_a)/(1 + (1j*ang_freq)**param_a['alpha_q1']*param_a['Q1']*(param_a['R1'] + Rp_a/Ys_a)) + param_a['R2']/(1 + (1j*ang_freq)**param_a['alpha_q2']*param_a['Q2']*param_a['R2']))\n",
    "    v_calc_a = L_a/(((K_a*sigma_a)/(K_a + sigma_a))**0.5*((param_a['a']*Y_a))**(-0.5))\n",
    "\n",
    "    # The total impedance: \n",
    "    Z_a = param_a['Rel'] + (L_a/(K_a+sigma_a))*(1 + (2 + (sigma_a/K_a + K_a/sigma_a)*np.cosh(v_calc_a))/(v_calc_a*np.sinh(v_calc_a)))\n",
    "    \n",
    "    return Z_a/area_electrode\n",
    "\n",
    "frequencies = np.array(get_exp_data(i, \"\")[1])\n",
    "Z_init = calc_Zen(dict_to_list(a_fitting), frequencies)\n",
    "plt.plot(Z_init.real, -Z_init.imag)\n",
    "plt.show()\n",
    "\n",
    "'''"
   ]
  },
  {
   "cell_type": "markdown",
   "metadata": {},
   "source": [
    "## Code for fitting the parameters"
   ]
  },
  {
   "cell_type": "markdown",
   "metadata": {},
   "source": [
    "Scipy.minimize"
   ]
  },
  {
   "cell_type": "code",
   "execution_count": 108,
   "metadata": {},
   "outputs": [
    {
     "name": "stdout",
     "output_type": "stream",
     "text": [
      "0.784\n"
     ]
    }
   ],
   "source": [
    "'''\n",
    "# Optimizing the difference function for a given data set\n",
    "def optimize_diff(i):\n",
    "    # Load the experimental data \n",
    "    exp_real = np.array(get_exp_data(i, \"\")[0][0])\n",
    "    exp_imag = np.array(get_exp_data(i, \"\")[0][1])\n",
    "    frequencies = np.array(get_exp_data(i, \"\")[1])\n",
    "\n",
    "    # Difference function for the optimization\n",
    "    def diff_func(comp, exp_real, exp_imag, frequencies):\n",
    "        Z = calculate_Z(comp, frequencies)\n",
    "        diff_real = Z.real - exp_real\n",
    "        diff_imag = Z.imag - exp_imag\n",
    "        sum_square_diff = np.sum(diff_real ** 2 + diff_imag ** 2)\n",
    "        return sum_square_diff\n",
    "    \n",
    "    #print(diff_func(dict_to_list(a_number_parametre), exp_real, exp_imag, frequencies))\n",
    "\n",
    "    # Convert initial dictionary to list for optimization\n",
    "    initial_elems = dict_to_list(a_fitting)\n",
    "\n",
    "    # Optimization options\n",
    "    options = {\n",
    "        'maxiter': 10000,    # Maximum number of iterations\n",
    "        'ftol': 1e-4,       # Function value tolerance\n",
    "        #'disp': True\n",
    "    }\n",
    "\n",
    "    # Minimize the difference function (optimize parameters)\n",
    "    opt = minimize(diff_func, initial_elems, args=(exp_real, exp_imag, frequencies), method='TNC', options=options)\n",
    "    opt_elems = list_to_dict(a_fitting, opt.x)\n",
    "    final_diff = diff_func(opt.x, exp_real, exp_imag, frequencies)\n",
    "    \n",
    "    #print(\"Final sum of squared difference for dataset\", i, \":\", final_diff)\n",
    "\n",
    "    return opt_elems, final_diff, frequencies, opt.x \n",
    "\n",
    "dic_elems, final_diff, frequencies, list_elems = optimize_diff(i)\n",
    "\n",
    "print(final_diff)\n",
    "print(dic_elems)\n",
    "print(a_fitting)\n",
    "\n",
    "\n",
    "\n",
    "i = 1\n",
    "\n",
    "from utils.optimizing_plot import optimizing_plot\n",
    "\n",
    "#optimizing_plot(4, \"Randles\", a_randles, calc_randles_Z)\n",
    "#optimizing_plot(4, \"Meyers\", a_meyers, calc_meyers_Z)\n",
    "\n",
    "# Optimizing the difference function for a given data set\n",
    "def optimize_randles(i, parametre, calc_func):\n",
    "    # finding the optimization from the randles circuit\n",
    "    dic_randles_Z, final_diff, frequencies, list_randles_Z = optimize_diff(i, a_randles, calc_randles_Z)\n",
    "    frequencies = np.array(get_exp_data(i, \"\")[1])\n",
    "\n",
    "    # Difference function for the optimization\n",
    "    def diff_func(comp, list_randles_Z, frequencies):\n",
    "        Z_randles = calc_randles_Z(list_randles_Z, frequencies)\n",
    "        Z_meyers = calc_func(comp, frequencies)\n",
    "        diff = Z_meyers - Z_randles\n",
    "        sum_square_diff = np.sum(diff**2)\n",
    "        return sum_square_diff\n",
    "\n",
    "    # Convert initial dictionary to list for optimization\n",
    "    initial_elems = dict_to_list(parametre)\n",
    "\n",
    "    # Optimization options\n",
    "    options = {\n",
    "        'maxiter': 10000,    # Maximum number of iterations\n",
    "        'ftol': 1e-4,       # Function value tolerance\n",
    "        #'disp': True\n",
    "    }\n",
    "\n",
    "    # Minimize the difference function (optimize parameters)\n",
    "    opt = minimize(diff_func, initial_elems, args=(list_randles_Z, frequencies), method='TNC', options=options)\n",
    "    opt_elems = list_to_dict(parametre, opt.x)\n",
    "    final_diff = diff_func(opt.x, list_randles_Z, frequencies)\n",
    "    \n",
    "    #print(\"Final sum of squared difference for dataset\", i, \":\", final_diff)\n",
    "\n",
    "    return opt_elems, final_diff, frequencies, opt.x \n",
    "\n",
    "dic_elems, final_diff, frequencies, list_elems = optimize_randles(i, a_meyers_K, calc_meyers_K_Z)\n",
    "\n",
    "print(list_elems)\n",
    "\n",
    "'''\n",
    "\n",
    "# Parameters for calculation of constants parameters below \n",
    "c_e = params['EC initial concentration in electrolyte [mol.m-3]']\n",
    "T = 298 #K\n",
    "F = 96485 #C/mol \n",
    "R = 8.314 #J/mol*K\n",
    "n = 1 \n",
    "e_a = 1 - params['Negative electrode porosity']\n",
    "area_electrode = params['Electrode height [m]']*params['Electrode width [m]'] #[m^2]\n",
    "\n",
    "# Constant parameters\n",
    "Rs_a = params['Negative particle radius [m]']\n",
    "L_a = params['Negative electrode thickness [m]'] \n",
    "sigma_a = params['Negative electrode conductivity [S.m-1]'] \n",
    "epsilon_a = e_a # volume fraction anode\n",
    "K_a = (params['Electrolyte conductivity [S.m-1]'](c_e, T)*epsilon_a)/params['Negative electrode Bruggeman coefficient (electrolyte)']\n",
    "\n",
    "print(epsilon_a)"
   ]
  },
  {
   "cell_type": "code",
   "execution_count": 187,
   "metadata": {},
   "outputs": [
    {
     "data": {
      "image/png": "[encoded data removed]",
      "text/plain": [
       "<Figure size 600x600 with 1 Axes>"
      ]
     },
     "metadata": {},
     "output_type": "display_data"
    },
    {
     "data": {
      "image/png": "[encoded data removed]",
      "text/plain": [
       "<Figure size 600x600 with 1 Axes>"
      ]
     },
     "metadata": {},
     "output_type": "display_data"
    },
    {
     "data": {
      "image/png": "[encoded data removed]",
      "text/plain": [
       "<Figure size 600x600 with 1 Axes>"
      ]
     },
     "metadata": {},
     "output_type": "display_data"
    }
   ],
   "source": [
    "'''\n",
    "# From Randles difference function\n",
    "dic_elems, final_diff, frequencies, list_elems = optimize_randles(i, a_meyers_all, calc_meyers_all_Z)\n",
    "name = 'Meyers'\n",
    "Z = calc_meyers_all_Z(dict_to_list(a_meyers_all), frequencies)\n",
    "Z_scipy = calc_meyers_all_Z(list_elems, frequencies)\n",
    "\n",
    "fig, ax = plt.subplots(figsize=(6, 6)) \n",
    "ax.scatter(np.array(get_exp_data(i, \"\")[0][0]), -np.array(get_exp_data(i, \"\")[0][1]), color = 'red', label=f\"Experimental \"+str(np.round(get_vdc(i, \"\"),3))+\" V\") \n",
    "ax.scatter(Z.real, -Z.imag, label = f'ECM '+name, color = 'blue')\n",
    "ax.plot(Z_scipy.real, -Z_scipy.imag, label = f'scipy', color = 'green')\n",
    "plt.legend()\n",
    "plt.title(\"Comparing\") \n",
    "plt.show() \n",
    "\n",
    "'''\n",
    "# From difference function \n",
    "optimizing_plot(1, \"Randles\", a_randles, calc_randles_Z, optimize_diff)\n",
    "optimizing_plot(1, \"Meyers\", a_meyers_K, calc_meyers_K_Z, optimize_diff)\n",
    "optimizing_plot(1, \"Meyers\", a_meyers_all, calc_meyers_all_Z, optimize_diff)\n",
    "\n"
   ]
  },
  {
   "cell_type": "markdown",
   "metadata": {},
   "source": [
    "PSO"
   ]
  },
  {
   "cell_type": "code",
   "execution_count": null,
   "metadata": {},
   "outputs": [
    {
     "ename": "NameError",
     "evalue": "name 'a_fitting' is not defined",
     "output_type": "error",
     "traceback": [
      "\u001b[0;31m---------------------------------------------------------------------------\u001b[0m",
      "\u001b[0;31mNameError\u001b[0m                                 Traceback (most recent call last)",
      "Cell \u001b[0;32mIn[20], line 12\u001b[0m\n\u001b[1;32m      9\u001b[0m upper_bounds \u001b[38;5;241m=\u001b[39m [\u001b[38;5;241m0.002\u001b[39m, \u001b[38;5;241m0.03\u001b[39m, \u001b[38;5;241m0.03\u001b[39m, \u001b[38;5;241m3\u001b[39m, \u001b[38;5;241m3\u001b[39m, \u001b[38;5;241m1\u001b[39m, \u001b[38;5;241m1\u001b[39m, \u001b[38;5;241m1e-15\u001b[39m, \u001b[38;5;241m1\u001b[39m, \u001b[38;5;241m1e8\u001b[39m] \n\u001b[1;32m     10\u001b[0m bounds \u001b[38;5;241m=\u001b[39m (lower_bounds, upper_bounds)\n\u001b[0;32m---> 12\u001b[0m initial_elems \u001b[38;5;241m=\u001b[39m dict_to_list(\u001b[43ma_fitting\u001b[49m)\n\u001b[1;32m     14\u001b[0m \u001b[38;5;28;01mdef\u001b[39;00m \u001b[38;5;21mdiff_func\u001b[39m(comp, exp_real, exp_imag, frequencies):\n\u001b[1;32m     15\u001b[0m         Z \u001b[38;5;241m=\u001b[39m calculate_Z(comp, frequencies)\n",
      "\u001b[0;31mNameError\u001b[0m: name 'a_fitting' is not defined"
     ]
    }
   ],
   "source": [
    "import pyswarms as ps \n",
    "from pyswarms.single import GlobalBestPSO\n",
    "\n",
    "exp_real = np.array(get_exp_data(1, \"\")[0][0])\n",
    "exp_imag = np.array(get_exp_data(1, \"\")[0][1])\n",
    "frequencies = np.array(get_exp_data(1, \"\")[1])\n",
    "\n",
    "lower_bounds = [0, 0, 0, 0, 0, 0, 0, 1e-20, 0, 1e4, ] \n",
    "upper_bounds = [0.002, 0.03, 0.03, 3, 3, 1, 1, 1e-15, 1, 1e8] \n",
    "bounds = (lower_bounds, upper_bounds)\n",
    "\n",
    "initial_elems = dict_to_list(a_fitting)\n",
    "\n",
    "def diff_func(comp, exp_real, exp_imag, frequencies):\n",
    "        Z = calculate_Z(comp, frequencies)\n",
    "        diff_real = Z.real - exp_real\n",
    "        diff_imag = Z.imag - exp_imag\n",
    "        sum_square_diff = np.sum(diff_real ** 2 + diff_imag ** 2)\n",
    "        return sum_square_diff\n",
    "\n",
    "def wrapped_diff_function(params):\n",
    "    return np.array([diff_func(param_set, exp_real, exp_imag, frequencies) for param_set in params])\n",
    "\n",
    "n_dim = 10 # changing 10 parameters\n",
    "\n",
    "options = {'c1': 0.5,      # Cognitive parameter (influence of personal best)\n",
    "    'c2': 0.3,      # Social parameter (influence of global best)\n",
    "    'w': 0.9,       # Inertia parameter (how much particles retain velocity)\n",
    "    }\n",
    "\n",
    "optimizer = ps.single.GlobalBestPSO(n_particles=200, dimensions=n_dim, options=options, bounds=bounds)\n",
    "\n",
    "best_cost, best_params = optimizer.optimize(wrapped_diff_function, iters=200)\n",
    "print(best_params)\n"
   ]
  },
  {
   "cell_type": "markdown",
   "metadata": {},
   "source": [
    "Fredrik's basinhopping"
   ]
  },
  {
   "cell_type": "code",
   "execution_count": null,
   "metadata": {},
   "outputs": [
    {
     "name": "stdout",
     "output_type": "stream",
     "text": [
      "basinhopping step 0: f 7.89982e-06\n",
      "warning: basinhopping: local minimization failure\n",
      "basinhopping step 1: f 7.89982e-06 trial_f 10.2512 accepted 0  lowest_f 7.89982e-06\n",
      "warning: basinhopping: local minimization failure\n",
      "basinhopping step 2: f 7.89982e-06 trial_f 36.6434 accepted 0  lowest_f 7.89982e-06\n",
      "warning: basinhopping: local minimization failure\n",
      "basinhopping step 3: f 7.89982e-06 trial_f 8.20977 accepted 0  lowest_f 7.89982e-06\n",
      "warning: basinhopping: local minimization failure\n",
      "basinhopping step 4: f 7.89982e-06 trial_f 6.29444 accepted 0  lowest_f 7.89982e-06\n",
      "warning: basinhopping: local minimization failure\n",
      "basinhopping step 5: f 7.89982e-06 trial_f 7.12927 accepted 0  lowest_f 7.89982e-06\n",
      "warning: basinhopping: local minimization failure\n",
      "basinhopping step 6: f 7.89982e-06 trial_f 15.8877 accepted 0  lowest_f 7.89982e-06\n",
      "warning: basinhopping: local minimization failure\n",
      "basinhopping step 7: f 7.89982e-06 trial_f 10.4639 accepted 0  lowest_f 7.89982e-06\n",
      "warning: basinhopping: local minimization failure\n",
      "basinhopping step 8: f 7.89982e-06 trial_f 37.3137 accepted 0  lowest_f 7.89982e-06\n",
      "warning: basinhopping: local minimization failure\n",
      "basinhopping step 9: f 7.89982e-06 trial_f 7.83024 accepted 0  lowest_f 7.89982e-06\n",
      "warning: basinhopping: local minimization failure\n",
      "basinhopping step 10: f 7.89982e-06 trial_f 6.25021 accepted 0  lowest_f 7.89982e-06\n",
      "warning: basinhopping: local minimization failure\n",
      "basinhopping step 11: f 7.89982e-06 trial_f 16.7088 accepted 0  lowest_f 7.89982e-06\n",
      "warning: basinhopping: local minimization failure\n",
      "basinhopping step 12: f 7.89982e-06 trial_f 33.8897 accepted 0  lowest_f 7.89982e-06\n",
      "warning: basinhopping: local minimization failure\n",
      "basinhopping step 13: f 7.89982e-06 trial_f 58.0529 accepted 0  lowest_f 7.89982e-06\n",
      "warning: basinhopping: local minimization failure\n",
      "basinhopping step 14: f 7.89982e-06 trial_f 81.3692 accepted 0  lowest_f 7.89982e-06\n",
      "warning: basinhopping: local minimization failure\n",
      "basinhopping step 15: f 7.89982e-06 trial_f 6.80684 accepted 0  lowest_f 7.89982e-06\n",
      "warning: basinhopping: local minimization failure\n",
      "basinhopping step 16: f 7.89982e-06 trial_f 10.2172 accepted 0  lowest_f 7.89982e-06\n",
      "warning: basinhopping: local minimization failure\n",
      "basinhopping step 17: f 7.89982e-06 trial_f 16.2402 accepted 0  lowest_f 7.89982e-06\n",
      "warning: basinhopping: local minimization failure\n",
      "basinhopping step 18: f 7.89982e-06 trial_f 0.0611325 accepted 0  lowest_f 7.89982e-06\n",
      "warning: basinhopping: local minimization failure\n",
      "basinhopping step 19: f 7.89982e-06 trial_f 0.0249893 accepted 0  lowest_f 7.89982e-06\n",
      "warning: basinhopping: local minimization failure\n",
      "basinhopping step 20: f 7.89982e-06 trial_f 0.0508403 accepted 0  lowest_f 7.89982e-06\n",
      "warning: basinhopping: local minimization failure\n",
      "basinhopping step 21: f 7.89982e-06 trial_f 0.0902059 accepted 0  lowest_f 7.89982e-06\n",
      "warning: basinhopping: local minimization failure\n",
      "basinhopping step 22: f 7.89982e-06 trial_f 93.1146 accepted 0  lowest_f 7.89982e-06\n",
      "warning: basinhopping: local minimization failure\n",
      "basinhopping step 23: f 7.89982e-06 trial_f 0.0173034 accepted 0  lowest_f 7.89982e-06\n",
      "warning: basinhopping: local minimization failure\n",
      "basinhopping step 24: f 7.89982e-06 trial_f 19.0881 accepted 0  lowest_f 7.89982e-06\n",
      "warning: basinhopping: local minimization failure\n",
      "basinhopping step 25: f 7.89982e-06 trial_f 71.4997 accepted 0  lowest_f 7.89982e-06\n",
      "warning: basinhopping: local minimization failure\n",
      "basinhopping step 26: f 7.89982e-06 trial_f 31.1368 accepted 0  lowest_f 7.89982e-06\n",
      "warning: basinhopping: local minimization failure\n",
      "basinhopping step 27: f 7.89982e-06 trial_f 0.0621246 accepted 0  lowest_f 7.89982e-06\n",
      "warning: basinhopping: local minimization failure\n",
      "basinhopping step 28: f 7.89982e-06 trial_f 19.9941 accepted 0  lowest_f 7.89982e-06\n",
      "warning: basinhopping: local minimization failure\n",
      "basinhopping step 29: f 7.89982e-06 trial_f 4.2841 accepted 0  lowest_f 7.89982e-06\n",
      "warning: basinhopping: local minimization failure\n",
      "basinhopping step 30: f 7.89982e-06 trial_f 26.5394 accepted 0  lowest_f 7.89982e-06\n",
      "warning: basinhopping: local minimization failure\n",
      "basinhopping step 31: f 7.89982e-06 trial_f 0.0219502 accepted 0  lowest_f 7.89982e-06\n",
      "warning: basinhopping: local minimization failure\n",
      "basinhopping step 32: f 7.89982e-06 trial_f 0.0481787 accepted 0  lowest_f 7.89982e-06\n",
      "warning: basinhopping: local minimization failure\n",
      "basinhopping step 33: f 7.89982e-06 trial_f 4.17147 accepted 0  lowest_f 7.89982e-06\n",
      "warning: basinhopping: local minimization failure\n",
      "basinhopping step 34: f 7.89982e-06 trial_f 0.0233006 accepted 0  lowest_f 7.89982e-06\n",
      "warning: basinhopping: local minimization failure\n",
      "basinhopping step 35: f 7.89982e-06 trial_f 0.0232374 accepted 0  lowest_f 7.89982e-06\n",
      "warning: basinhopping: local minimization failure\n",
      "basinhopping step 36: f 7.89982e-06 trial_f 5.48187 accepted 0  lowest_f 7.89982e-06\n",
      "warning: basinhopping: local minimization failure\n",
      "basinhopping step 37: f 7.89982e-06 trial_f 7.34142 accepted 0  lowest_f 7.89982e-06\n",
      "warning: basinhopping: local minimization failure\n",
      "basinhopping step 38: f 7.89982e-06 trial_f 12.8728 accepted 0  lowest_f 7.89982e-06\n",
      "warning: basinhopping: local minimization failure\n",
      "basinhopping step 39: f 7.89982e-06 trial_f 61.44 accepted 0  lowest_f 7.89982e-06\n",
      "warning: basinhopping: local minimization failure\n",
      "basinhopping step 40: f 7.89982e-06 trial_f 24.6801 accepted 0  lowest_f 7.89982e-06\n",
      "warning: basinhopping: local minimization failure\n",
      "basinhopping step 41: f 7.89982e-06 trial_f 0.0199712 accepted 0  lowest_f 7.89982e-06\n",
      "warning: basinhopping: local minimization failure\n",
      "basinhopping step 42: f 7.89982e-06 trial_f 0.0160653 accepted 0  lowest_f 7.89982e-06\n",
      "warning: basinhopping: local minimization failure\n",
      "basinhopping step 43: f 7.89982e-06 trial_f 0.0173791 accepted 0  lowest_f 7.89982e-06\n",
      "warning: basinhopping: local minimization failure\n",
      "basinhopping step 44: f 7.89982e-06 trial_f 0.0216221 accepted 0  lowest_f 7.89982e-06\n",
      "warning: basinhopping: local minimization failure\n",
      "basinhopping step 45: f 7.89982e-06 trial_f 12.5738 accepted 0  lowest_f 7.89982e-06\n",
      "warning: basinhopping: local minimization failure\n",
      "basinhopping step 46: f 7.89982e-06 trial_f 50.2428 accepted 0  lowest_f 7.89982e-06\n",
      "warning: basinhopping: local minimization failure\n",
      "basinhopping step 47: f 7.89982e-06 trial_f 0.0266773 accepted 0  lowest_f 7.89982e-06\n",
      "warning: basinhopping: local minimization failure\n",
      "basinhopping step 48: f 7.89982e-06 trial_f 8.03396 accepted 0  lowest_f 7.89982e-06\n",
      "warning: basinhopping: local minimization failure\n",
      "basinhopping step 49: f 7.89982e-06 trial_f 62.5422 accepted 0  lowest_f 7.89982e-06\n",
      "adaptive stepsize: acceptance rate 0.000000 target 0.500000 new stepsize 0.18 old stepsize 0.2\n",
      "warning: basinhopping: local minimization failure\n",
      "basinhopping step 50: f 7.89982e-06 trial_f 0.0621246 accepted 0  lowest_f 7.89982e-06\n",
      "warning: basinhopping: local minimization failure\n",
      "basinhopping step 51: f 7.89982e-06 trial_f 9.75455 accepted 0  lowest_f 7.89982e-06\n",
      "warning: basinhopping: local minimization failure\n",
      "basinhopping step 52: f 7.89982e-06 trial_f 0.0621246 accepted 0  lowest_f 7.89982e-06\n",
      "warning: basinhopping: local minimization failure\n",
      "basinhopping step 53: f 7.89982e-06 trial_f 0.0235376 accepted 0  lowest_f 7.89982e-06\n",
      "warning: basinhopping: local minimization failure\n",
      "basinhopping step 54: f 7.89982e-06 trial_f 0.0611788 accepted 0  lowest_f 7.89982e-06\n",
      "warning: basinhopping: local minimization failure\n",
      "basinhopping step 55: f 7.89982e-06 trial_f 0.0200206 accepted 0  lowest_f 7.89982e-06\n",
      "warning: basinhopping: local minimization failure\n",
      "basinhopping step 56: f 7.89982e-06 trial_f 8.83585 accepted 0  lowest_f 7.89982e-06\n",
      "warning: basinhopping: local minimization failure\n",
      "basinhopping step 57: f 7.89982e-06 trial_f 7.62166 accepted 0  lowest_f 7.89982e-06\n",
      "warning: basinhopping: local minimization failure\n",
      "basinhopping step 58: f 7.89982e-06 trial_f 7.60996 accepted 0  lowest_f 7.89982e-06\n",
      "warning: basinhopping: local minimization failure\n",
      "basinhopping step 59: f 7.89982e-06 trial_f 18.9407 accepted 0  lowest_f 7.89982e-06\n",
      "warning: basinhopping: local minimization failure\n",
      "basinhopping step 60: f 7.89982e-06 trial_f 8.74971 accepted 0  lowest_f 7.89982e-06\n",
      "warning: basinhopping: local minimization failure\n",
      "basinhopping step 61: f 7.89982e-06 trial_f 21.0063 accepted 0  lowest_f 7.89982e-06\n",
      "warning: basinhopping: local minimization failure\n",
      "basinhopping step 62: f 7.89982e-06 trial_f 7.88945 accepted 0  lowest_f 7.89982e-06\n",
      "warning: basinhopping: local minimization failure\n",
      "basinhopping step 63: f 7.89982e-06 trial_f 32.368 accepted 0  lowest_f 7.89982e-06\n",
      "warning: basinhopping: local minimization failure\n",
      "basinhopping step 64: f 7.89982e-06 trial_f 36.6391 accepted 0  lowest_f 7.89982e-06\n",
      "warning: basinhopping: local minimization failure\n",
      "basinhopping step 65: f 7.89982e-06 trial_f 8.64243 accepted 0  lowest_f 7.89982e-06\n",
      "warning: basinhopping: local minimization failure\n",
      "basinhopping step 66: f 7.89982e-06 trial_f 8.22761 accepted 0  lowest_f 7.89982e-06\n",
      "warning: basinhopping: local minimization failure\n",
      "basinhopping step 67: f 7.89982e-06 trial_f 8.56588 accepted 0  lowest_f 7.89982e-06\n",
      "warning: basinhopping: local minimization failure\n",
      "basinhopping step 68: f 7.89982e-06 trial_f 38.7086 accepted 0  lowest_f 7.89982e-06\n",
      "warning: basinhopping: local minimization failure\n",
      "basinhopping step 69: f 7.89982e-06 trial_f 76.8302 accepted 0  lowest_f 7.89982e-06\n",
      "warning: basinhopping: local minimization failure\n",
      "basinhopping step 70: f 7.89982e-06 trial_f 53.3352 accepted 0  lowest_f 7.89982e-06\n",
      "warning: basinhopping: local minimization failure\n",
      "basinhopping step 71: f 7.89982e-06 trial_f 7.97891 accepted 0  lowest_f 7.89982e-06\n",
      "warning: basinhopping: local minimization failure\n",
      "basinhopping step 72: f 7.89982e-06 trial_f 0.0359639 accepted 0  lowest_f 7.89982e-06\n",
      "warning: basinhopping: local minimization failure\n",
      "basinhopping step 73: f 7.89982e-06 trial_f 7.69541 accepted 0  lowest_f 7.89982e-06\n",
      "warning: basinhopping: local minimization failure\n",
      "basinhopping step 74: f 7.89982e-06 trial_f 72.0422 accepted 0  lowest_f 7.89982e-06\n",
      "warning: basinhopping: local minimization failure\n",
      "basinhopping step 75: f 7.89982e-06 trial_f 0.0294538 accepted 0  lowest_f 7.89982e-06\n",
      "warning: basinhopping: local minimization failure\n",
      "basinhopping step 76: f 7.89982e-06 trial_f 0.00505813 accepted 0  lowest_f 7.89982e-06\n",
      "warning: basinhopping: local minimization failure\n",
      "basinhopping step 77: f 7.89982e-06 trial_f 0.0334892 accepted 0  lowest_f 7.89982e-06\n",
      "warning: basinhopping: local minimization failure\n",
      "basinhopping step 78: f 7.89982e-06 trial_f 23.6885 accepted 0  lowest_f 7.89982e-06\n",
      "warning: basinhopping: local minimization failure\n",
      "basinhopping step 79: f 7.89982e-06 trial_f 8.13319 accepted 0  lowest_f 7.89982e-06\n",
      "warning: basinhopping: local minimization failure\n",
      "basinhopping step 80: f 7.89982e-06 trial_f 0.0187345 accepted 0  lowest_f 7.89982e-06\n",
      "warning: basinhopping: local minimization failure\n",
      "basinhopping step 81: f 7.89982e-06 trial_f 41.0709 accepted 0  lowest_f 7.89982e-06\n",
      "warning: basinhopping: local minimization failure\n",
      "basinhopping step 82: f 7.89982e-06 trial_f 0.017698 accepted 0  lowest_f 7.89982e-06\n",
      "warning: basinhopping: local minimization failure\n",
      "basinhopping step 83: f 7.89982e-06 trial_f 37.9525 accepted 0  lowest_f 7.89982e-06\n",
      "warning: basinhopping: local minimization failure\n",
      "basinhopping step 84: f 7.89982e-06 trial_f 0.041467 accepted 0  lowest_f 7.89982e-06\n",
      "warning: basinhopping: local minimization failure\n",
      "basinhopping step 85: f 7.89982e-06 trial_f 5.56027 accepted 0  lowest_f 7.89982e-06\n",
      "warning: basinhopping: local minimization failure\n",
      "basinhopping step 86: f 7.89982e-06 trial_f 0.0114055 accepted 0  lowest_f 7.89982e-06\n",
      "warning: basinhopping: local minimization failure\n",
      "basinhopping step 87: f 7.89982e-06 trial_f 56.6023 accepted 0  lowest_f 7.89982e-06\n",
      "warning: basinhopping: local minimization failure\n",
      "basinhopping step 88: f 7.89982e-06 trial_f 23.5918 accepted 0  lowest_f 7.89982e-06\n",
      "warning: basinhopping: local minimization failure\n",
      "basinhopping step 89: f 7.89982e-06 trial_f 61.4063 accepted 0  lowest_f 7.89982e-06\n",
      "warning: basinhopping: local minimization failure\n",
      "basinhopping step 90: f 7.89982e-06 trial_f 8.12773 accepted 0  lowest_f 7.89982e-06\n",
      "warning: basinhopping: local minimization failure\n",
      "basinhopping step 91: f 7.89982e-06 trial_f 53.9513 accepted 0  lowest_f 7.89982e-06\n",
      "warning: basinhopping: local minimization failure\n",
      "basinhopping step 92: f 7.89982e-06 trial_f 4.67219 accepted 0  lowest_f 7.89982e-06\n",
      "warning: basinhopping: local minimization failure\n",
      "basinhopping step 93: f 7.89982e-06 trial_f 2.38834 accepted 0  lowest_f 7.89982e-06\n",
      "warning: basinhopping: local minimization failure\n",
      "basinhopping step 94: f 7.89982e-06 trial_f 7.13148 accepted 0  lowest_f 7.89982e-06\n",
      "warning: basinhopping: local minimization failure\n",
      "basinhopping step 95: f 7.89982e-06 trial_f 8.07224 accepted 0  lowest_f 7.89982e-06\n",
      "warning: basinhopping: local minimization failure\n",
      "basinhopping step 96: f 7.89982e-06 trial_f 73.994 accepted 0  lowest_f 7.89982e-06\n",
      "warning: basinhopping: local minimization failure\n",
      "basinhopping step 97: f 7.89982e-06 trial_f 0.0325404 accepted 0  lowest_f 7.89982e-06\n",
      "warning: basinhopping: local minimization failure\n",
      "basinhopping step 98: f 7.89982e-06 trial_f 7.12927 accepted 0  lowest_f 7.89982e-06\n",
      "warning: basinhopping: local minimization failure\n",
      "basinhopping step 99: f 7.89982e-06 trial_f 0.0202643 accepted 0  lowest_f 7.89982e-06\n",
      "adaptive stepsize: acceptance rate 0.000000 target 0.500000 new stepsize 0.162 old stepsize 0.18\n",
      "warning: basinhopping: local minimization failure\n",
      "basinhopping step 100: f 7.89982e-06 trial_f 20.751 accepted 0  lowest_f 7.89982e-06\n",
      "warning: basinhopping: local minimization failure\n",
      "basinhopping step 101: f 7.89982e-06 trial_f 52.1611 accepted 0  lowest_f 7.89982e-06\n",
      "warning: basinhopping: local minimization failure\n",
      "basinhopping step 102: f 7.89982e-06 trial_f 0.0186784 accepted 0  lowest_f 7.89982e-06\n",
      "warning: basinhopping: local minimization failure\n",
      "basinhopping step 103: f 7.89982e-06 trial_f 0.0280376 accepted 0  lowest_f 7.89982e-06\n",
      "warning: basinhopping: local minimization failure\n",
      "basinhopping step 104: f 7.89982e-06 trial_f 15.4378 accepted 0  lowest_f 7.89982e-06\n",
      "warning: basinhopping: local minimization failure\n",
      "basinhopping step 105: f 7.89982e-06 trial_f 17.1221 accepted 0  lowest_f 7.89982e-06\n",
      "warning: basinhopping: local minimization failure\n",
      "basinhopping step 106: f 7.89982e-06 trial_f 1.71714 accepted 0  lowest_f 7.89982e-06\n",
      "warning: basinhopping: local minimization failure\n",
      "basinhopping step 107: f 7.89982e-06 trial_f 7.25247 accepted 0  lowest_f 7.89982e-06\n",
      "warning: basinhopping: local minimization failure\n",
      "basinhopping step 108: f 7.89982e-06 trial_f 0.0621242 accepted 0  lowest_f 7.89982e-06\n",
      "warning: basinhopping: local minimization failure\n",
      "basinhopping step 109: f 7.89982e-06 trial_f 30.1538 accepted 0  lowest_f 7.89982e-06\n",
      "warning: basinhopping: local minimization failure\n",
      "basinhopping step 110: f 7.89982e-06 trial_f 0.0225834 accepted 0  lowest_f 7.89982e-06\n",
      "warning: basinhopping: local minimization failure\n",
      "basinhopping step 111: f 7.89982e-06 trial_f 20.2686 accepted 0  lowest_f 7.89982e-06\n",
      "warning: basinhopping: local minimization failure\n",
      "basinhopping step 112: f 7.89982e-06 trial_f 7.92637 accepted 0  lowest_f 7.89982e-06\n",
      "warning: basinhopping: local minimization failure\n",
      "basinhopping step 113: f 7.89982e-06 trial_f 7.96054 accepted 0  lowest_f 7.89982e-06\n",
      "warning: basinhopping: local minimization failure\n",
      "basinhopping step 114: f 7.89982e-06 trial_f 24.602 accepted 0  lowest_f 7.89982e-06\n",
      "warning: basinhopping: local minimization failure\n",
      "basinhopping step 115: f 7.89982e-06 trial_f 38.1918 accepted 0  lowest_f 7.89982e-06\n",
      "warning: basinhopping: local minimization failure\n",
      "basinhopping step 116: f 7.89982e-06 trial_f 0.0621242 accepted 0  lowest_f 7.89982e-06\n",
      "warning: basinhopping: local minimization failure\n",
      "basinhopping step 117: f 7.89982e-06 trial_f 0.0256433 accepted 0  lowest_f 7.89982e-06\n",
      "warning: basinhopping: local minimization failure\n",
      "basinhopping step 118: f 7.89982e-06 trial_f 8.38247 accepted 0  lowest_f 7.89982e-06\n",
      "warning: basinhopping: local minimization failure\n",
      "basinhopping step 119: f 7.89982e-06 trial_f 32.8218 accepted 0  lowest_f 7.89982e-06\n",
      "warning: basinhopping: local minimization failure\n",
      "basinhopping step 120: f 7.89982e-06 trial_f 0.03853 accepted 0  lowest_f 7.89982e-06\n",
      "warning: basinhopping: local minimization failure\n",
      "basinhopping step 121: f 7.89982e-06 trial_f 51.2585 accepted 0  lowest_f 7.89982e-06\n",
      "warning: basinhopping: local minimization failure\n",
      "basinhopping step 122: f 7.89982e-06 trial_f 27.5974 accepted 0  lowest_f 7.89982e-06\n",
      "warning: basinhopping: local minimization failure\n",
      "basinhopping step 123: f 7.89982e-06 trial_f 6.70203 accepted 0  lowest_f 7.89982e-06\n",
      "warning: basinhopping: local minimization failure\n",
      "basinhopping step 124: f 7.89982e-06 trial_f 24.5269 accepted 0  lowest_f 7.89982e-06\n",
      "warning: basinhopping: local minimization failure\n",
      "basinhopping step 125: f 7.89982e-06 trial_f 0.0191257 accepted 0  lowest_f 7.89982e-06\n",
      "warning: basinhopping: local minimization failure\n",
      "basinhopping step 126: f 7.89982e-06 trial_f 0.0155478 accepted 0  lowest_f 7.89982e-06\n",
      "warning: basinhopping: local minimization failure\n",
      "basinhopping step 127: f 7.89982e-06 trial_f 7.13087 accepted 0  lowest_f 7.89982e-06\n",
      "warning: basinhopping: local minimization failure\n",
      "basinhopping step 128: f 7.89982e-06 trial_f 7.94697 accepted 0  lowest_f 7.89982e-06\n",
      "warning: basinhopping: local minimization failure\n",
      "basinhopping step 129: f 7.89982e-06 trial_f 0.0172447 accepted 0  lowest_f 7.89982e-06\n",
      "warning: basinhopping: local minimization failure\n",
      "basinhopping step 130: f 7.89982e-06 trial_f 33.3133 accepted 0  lowest_f 7.89982e-06\n",
      "warning: basinhopping: local minimization failure\n",
      "basinhopping step 131: f 7.89982e-06 trial_f 17.531 accepted 0  lowest_f 7.89982e-06\n",
      "warning: basinhopping: local minimization failure\n",
      "basinhopping step 132: f 7.89982e-06 trial_f 0.00998358 accepted 0  lowest_f 7.89982e-06\n",
      "warning: basinhopping: local minimization failure\n",
      "basinhopping step 133: f 7.89982e-06 trial_f 7.13221 accepted 0  lowest_f 7.89982e-06\n",
      "warning: basinhopping: local minimization failure\n",
      "basinhopping step 134: f 7.89982e-06 trial_f 8.24072 accepted 0  lowest_f 7.89982e-06\n",
      "warning: basinhopping: local minimization failure\n",
      "basinhopping step 135: f 7.89982e-06 trial_f 7.15074 accepted 0  lowest_f 7.89982e-06\n",
      "warning: basinhopping: local minimization failure\n",
      "basinhopping step 136: f 7.89982e-06 trial_f 0.00469335 accepted 0  lowest_f 7.89982e-06\n",
      "warning: basinhopping: local minimization failure\n",
      "basinhopping step 137: f 7.89982e-06 trial_f 23.98 accepted 0  lowest_f 7.89982e-06\n",
      "warning: basinhopping: local minimization failure\n",
      "basinhopping step 138: f 7.89982e-06 trial_f 0.0267232 accepted 0  lowest_f 7.89982e-06\n",
      "warning: basinhopping: local minimization failure\n",
      "basinhopping step 139: f 7.89982e-06 trial_f 8.65787 accepted 0  lowest_f 7.89982e-06\n",
      "warning: basinhopping: local minimization failure\n",
      "basinhopping step 140: f 7.89982e-06 trial_f 7.91998 accepted 0  lowest_f 7.89982e-06\n",
      "warning: basinhopping: local minimization failure\n",
      "basinhopping step 141: f 7.89982e-06 trial_f 61.0918 accepted 0  lowest_f 7.89982e-06\n",
      "warning: basinhopping: local minimization failure\n",
      "basinhopping step 142: f 7.89982e-06 trial_f 41.9712 accepted 0  lowest_f 7.89982e-06\n",
      "warning: basinhopping: local minimization failure\n",
      "basinhopping step 143: f 7.89982e-06 trial_f 0.0160149 accepted 0  lowest_f 7.89982e-06\n",
      "warning: basinhopping: local minimization failure\n",
      "basinhopping step 144: f 7.89982e-06 trial_f 7.59249 accepted 0  lowest_f 7.89982e-06\n",
      "warning: basinhopping: local minimization failure\n",
      "basinhopping step 145: f 7.89982e-06 trial_f 0.0613411 accepted 0  lowest_f 7.89982e-06\n",
      "warning: basinhopping: local minimization failure\n",
      "basinhopping step 146: f 7.89982e-06 trial_f 41.7531 accepted 0  lowest_f 7.89982e-06\n",
      "warning: basinhopping: local minimization failure\n",
      "basinhopping step 147: f 7.89982e-06 trial_f 0.0183609 accepted 0  lowest_f 7.89982e-06\n",
      "warning: basinhopping: local minimization failure\n",
      "basinhopping step 148: f 7.89982e-06 trial_f 7.7894 accepted 0  lowest_f 7.89982e-06\n",
      "warning: basinhopping: local minimization failure\n",
      "basinhopping step 149: f 7.89982e-06 trial_f 8.9992 accepted 0  lowest_f 7.89982e-06\n",
      "adaptive stepsize: acceptance rate 0.000000 target 0.500000 new stepsize 0.1458 old stepsize 0.162\n",
      "warning: basinhopping: local minimization failure\n",
      "basinhopping step 150: f 7.89982e-06 trial_f 8.37365 accepted 0  lowest_f 7.89982e-06\n",
      "warning: basinhopping: local minimization failure\n",
      "basinhopping step 151: f 7.89982e-06 trial_f 41.4807 accepted 0  lowest_f 7.89982e-06\n",
      "warning: basinhopping: local minimization failure\n",
      "basinhopping step 152: f 7.89982e-06 trial_f 6.33085 accepted 0  lowest_f 7.89982e-06\n",
      "warning: basinhopping: local minimization failure\n",
      "basinhopping step 153: f 7.89982e-06 trial_f 52.7625 accepted 0  lowest_f 7.89982e-06\n",
      "warning: basinhopping: local minimization failure\n",
      "basinhopping step 154: f 7.89982e-06 trial_f 0.0255318 accepted 0  lowest_f 7.89982e-06\n",
      "warning: basinhopping: local minimization failure\n",
      "basinhopping step 155: f 7.89982e-06 trial_f 0.0610829 accepted 0  lowest_f 7.89982e-06\n",
      "warning: basinhopping: local minimization failure\n",
      "basinhopping step 156: f 7.89982e-06 trial_f 58.8348 accepted 0  lowest_f 7.89982e-06\n",
      "warning: basinhopping: local minimization failure\n",
      "basinhopping step 157: f 7.89982e-06 trial_f 63.1215 accepted 0  lowest_f 7.89982e-06\n",
      "warning: basinhopping: local minimization failure\n",
      "basinhopping step 158: f 7.89982e-06 trial_f 7.87976 accepted 0  lowest_f 7.89982e-06\n",
      "warning: basinhopping: local minimization failure\n",
      "basinhopping step 159: f 7.89982e-06 trial_f 73.414 accepted 0  lowest_f 7.89982e-06\n",
      "warning: basinhopping: local minimization failure\n",
      "basinhopping step 160: f 7.89982e-06 trial_f 27.1463 accepted 0  lowest_f 7.89982e-06\n",
      "warning: basinhopping: local minimization failure\n",
      "basinhopping step 161: f 7.89982e-06 trial_f 13.3296 accepted 0  lowest_f 7.89982e-06\n",
      "warning: basinhopping: local minimization failure\n",
      "basinhopping step 162: f 7.89982e-06 trial_f 7.1958 accepted 0  lowest_f 7.89982e-06\n",
      "warning: basinhopping: local minimization failure\n",
      "basinhopping step 163: f 7.89982e-06 trial_f 20.6198 accepted 0  lowest_f 7.89982e-06\n",
      "warning: basinhopping: local minimization failure\n",
      "basinhopping step 164: f 7.89982e-06 trial_f 0.0188555 accepted 0  lowest_f 7.89982e-06\n",
      "warning: basinhopping: local minimization failure\n",
      "basinhopping step 165: f 7.89982e-06 trial_f 32.1304 accepted 0  lowest_f 7.89982e-06\n",
      "warning: basinhopping: local minimization failure\n",
      "basinhopping step 166: f 7.89982e-06 trial_f 7.19918 accepted 0  lowest_f 7.89982e-06\n",
      "warning: basinhopping: local minimization failure\n",
      "basinhopping step 167: f 7.89982e-06 trial_f 7.71757 accepted 0  lowest_f 7.89982e-06\n",
      "warning: basinhopping: local minimization failure\n",
      "basinhopping step 168: f 7.89982e-06 trial_f 15.9905 accepted 0  lowest_f 7.89982e-06\n",
      "warning: basinhopping: local minimization failure\n",
      "basinhopping step 169: f 7.89982e-06 trial_f 59.6445 accepted 0  lowest_f 7.89982e-06\n",
      "warning: basinhopping: local minimization failure\n",
      "basinhopping step 170: f 7.89982e-06 trial_f 55.9828 accepted 0  lowest_f 7.89982e-06\n",
      "warning: basinhopping: local minimization failure\n",
      "basinhopping step 171: f 7.89982e-06 trial_f 0.0352446 accepted 0  lowest_f 7.89982e-06\n",
      "warning: basinhopping: local minimization failure\n",
      "basinhopping step 172: f 7.89982e-06 trial_f 63.6779 accepted 0  lowest_f 7.89982e-06\n",
      "warning: basinhopping: local minimization failure\n",
      "basinhopping step 173: f 7.89982e-06 trial_f 5.55997 accepted 0  lowest_f 7.89982e-06\n",
      "warning: basinhopping: local minimization failure\n",
      "basinhopping step 174: f 7.89982e-06 trial_f 0.0592295 accepted 0  lowest_f 7.89982e-06\n",
      "warning: basinhopping: local minimization failure\n",
      "basinhopping step 175: f 7.89982e-06 trial_f 0.0227487 accepted 0  lowest_f 7.89982e-06\n",
      "warning: basinhopping: local minimization failure\n",
      "basinhopping step 176: f 7.89982e-06 trial_f 0.0227194 accepted 0  lowest_f 7.89982e-06\n",
      "warning: basinhopping: local minimization failure\n",
      "basinhopping step 177: f 7.89982e-06 trial_f 7.97803 accepted 0  lowest_f 7.89982e-06\n",
      "warning: basinhopping: local minimization failure\n",
      "basinhopping step 178: f 7.89982e-06 trial_f 51.4843 accepted 0  lowest_f 7.89982e-06\n",
      "warning: basinhopping: local minimization failure\n",
      "basinhopping step 179: f 7.89982e-06 trial_f 0.0397688 accepted 0  lowest_f 7.89982e-06\n",
      "warning: basinhopping: local minimization failure\n",
      "basinhopping step 180: f 7.89982e-06 trial_f 0.0225662 accepted 0  lowest_f 7.89982e-06\n",
      "warning: basinhopping: local minimization failure\n",
      "basinhopping step 181: f 7.89982e-06 trial_f 43.157 accepted 0  lowest_f 7.89982e-06\n",
      "warning: basinhopping: local minimization failure\n",
      "basinhopping step 182: f 7.89982e-06 trial_f 66.4849 accepted 0  lowest_f 7.89982e-06\n",
      "warning: basinhopping: local minimization failure\n",
      "basinhopping step 183: f 7.89982e-06 trial_f 0.0621246 accepted 0  lowest_f 7.89982e-06\n",
      "warning: basinhopping: local minimization failure\n",
      "basinhopping step 184: f 7.89982e-06 trial_f 0.0283797 accepted 0  lowest_f 7.89982e-06\n",
      "warning: basinhopping: local minimization failure\n",
      "basinhopping step 185: f 7.89982e-06 trial_f 5.11544 accepted 0  lowest_f 7.89982e-06\n",
      "warning: basinhopping: local minimization failure\n",
      "basinhopping step 186: f 7.89982e-06 trial_f 15.5161 accepted 0  lowest_f 7.89982e-06\n",
      "warning: basinhopping: local minimization failure\n",
      "basinhopping step 187: f 7.89982e-06 trial_f 0.0198782 accepted 0  lowest_f 7.89982e-06\n",
      "warning: basinhopping: local minimization failure\n",
      "basinhopping step 188: f 7.89982e-06 trial_f 99.5425 accepted 0  lowest_f 7.89982e-06\n",
      "warning: basinhopping: local minimization failure\n",
      "basinhopping step 189: f 7.89982e-06 trial_f 8.02536 accepted 0  lowest_f 7.89982e-06\n",
      "warning: basinhopping: local minimization failure\n",
      "basinhopping step 190: f 7.89982e-06 trial_f 8.48318 accepted 0  lowest_f 7.89982e-06\n",
      "warning: basinhopping: local minimization failure\n",
      "basinhopping step 191: f 7.89982e-06 trial_f 64.2963 accepted 0  lowest_f 7.89982e-06\n",
      "warning: basinhopping: local minimization failure\n",
      "basinhopping step 192: f 7.89982e-06 trial_f 8.19407 accepted 0  lowest_f 7.89982e-06\n",
      "warning: basinhopping: local minimization failure\n",
      "basinhopping step 193: f 7.89982e-06 trial_f 33.022 accepted 0  lowest_f 7.89982e-06\n",
      "warning: basinhopping: local minimization failure\n",
      "basinhopping step 194: f 7.89982e-06 trial_f 7.22465 accepted 0  lowest_f 7.89982e-06\n",
      "warning: basinhopping: local minimization failure\n",
      "basinhopping step 195: f 7.89982e-06 trial_f 8.73697 accepted 0  lowest_f 7.89982e-06\n",
      "warning: basinhopping: local minimization failure\n",
      "basinhopping step 196: f 7.89982e-06 trial_f 0.0619187 accepted 0  lowest_f 7.89982e-06\n",
      "warning: basinhopping: local minimization failure\n",
      "basinhopping step 197: f 7.89982e-06 trial_f 37.6439 accepted 0  lowest_f 7.89982e-06\n",
      "warning: basinhopping: local minimization failure\n",
      "basinhopping step 198: f 7.89982e-06 trial_f 72.8544 accepted 0  lowest_f 7.89982e-06\n",
      "warning: basinhopping: local minimization failure\n",
      "basinhopping step 199: f 7.89982e-06 trial_f 7.27657 accepted 0  lowest_f 7.89982e-06\n",
      "adaptive stepsize: acceptance rate 0.000000 target 0.500000 new stepsize 0.13122 old stepsize 0.1458\n",
      "warning: basinhopping: local minimization failure\n",
      "basinhopping step 200: f 7.89982e-06 trial_f 61.9427 accepted 0  lowest_f 7.89982e-06\n",
      "{'Rel': 0.00202, 'R1': 0.01, 'R2': 0.008, 'Q1': 0.9, 'Q2': 0.9, 'alpha_q1': 0.75, 'alpha_q2': 0.8, 'Ds': 4.1e-15, 'alpha': 0.93, 'a': 428947.0}\n"
     ]
    }
   ],
   "source": [
    "exp_real = np.array(get_exp_data(1, \"\")[0][0])\n",
    "exp_imag = np.array(get_exp_data(1, \"\")[0][1])\n",
    "frequencies = np.array(get_exp_data(1, \"\")[1])\n",
    "\n",
    "lower_bounds = [0, 0, 0, 0, 0, 0, 0, 1e-20, 0, 1e3] \n",
    "upper_bounds = [0.03, 0.1, 0.1,  5, 5, 1, 1, 1e-10, 1, 1e8] \n",
    "bounds = list(zip(lower_bounds, upper_bounds))\n",
    "#bounds_values = (lower_bounds, upper_bounds)\n",
    "#bounds = [bounds_values] * len(dict_to_list(a_fitting)),\n",
    "#bounds = tuple(bounds)\n",
    "\n",
    "\n",
    "initial_elems = dict_to_list(a_fitting)\n",
    "\n",
    "def diff_func(x0, exp_real, exp_imag, frequencies):\n",
    "        Z = calculate_Z(x0, frequencies)\n",
    "        diff_real = Z.real - exp_real\n",
    "        diff_imag = Z.imag - exp_imag\n",
    "        sum_square_diff = np.sum(diff_real ** 2 + diff_imag ** 2)\n",
    "        return sum_square_diff\n",
    "\n",
    "sol = basinhopping(diff_func, x0=initial_elems, niter=200, T=1, stepsize=0.2, minimizer_kwargs={'method':'slsqp', 'args':(exp_real, exp_imag, frequencies), 'bounds':bounds, 'tol':10**-6}, take_step=None, accept_test=None, callback=None, interval=50, disp=True, niter_success=None, seed=None)\n",
    "sol_elems = list_to_dict(a_fitting, sol.x)\n",
    "print(sol_elems)"
   ]
  },
  {
   "cell_type": "code",
   "execution_count": null,
   "metadata": {},
   "outputs": [
    {
     "data": {
      "image/png": "[encoded data removed]",
      "text/plain": [
       "<Figure size 600x600 with 1 Axes>"
      ]
     },
     "metadata": {},
     "output_type": "display_data"
    }
   ],
   "source": [
    "frequencies = np.array(get_exp_data(i, \"\")[1])\n",
    "Z = calculate_Z(dict_to_list(a_fitting), frequencies)\n",
    "Z_pso = calculate_Z(best_params, frequencies)\n",
    "Z_Fbasin = calculate_Z(sol.x, frequencies)\n",
    "\n",
    "fig, ax = plt.subplots(figsize=(6, 6)) \n",
    "ax.scatter(np.array(get_exp_data(i, \"\")[0][0]), -np.array(get_exp_data(i, \"\")[0][1]), color = 'red', label=f\"Experimental \"+str(np.round(get_vdc(i, \"\"),3))+\" V\") \n",
    "ax.scatter(Z.real, -Z.imag, label = f'Meyers', color = 'blue')\n",
    "#ax.plot(Z_Fbasin.real, -Z_Fbasin.imag, label = f'Fredrik basinhopping', color = 'green')\n",
    "#ax.plot(Z_pso.real, -Z_pso.imag, label = f'pso', color = 'grey')\n",
    "\n",
    "\n",
    "#ax.set_xlim(0.016, 0.045) \n",
    "#ax.set_ylim(0, 0.012)\n",
    "\n",
    "plt.legend()\n",
    "plt.title(\"Comparing\") \n",
    "plt.show() "
   ]
  }
 ],
 "metadata": {
  "kernelspec": {
   "display_name": "base",
   "language": "python",
   "name": "python3"
  },
  "language_info": {
   "codemirror_mode": {
    "name": "ipython",
    "version": 3
   },
   "file_extension": ".py",
   "mimetype": "text/x-python",
   "name": "python",
   "nbconvert_exporter": "python",
   "pygments_lexer": "ipython3",
   "version": "3.11.5"
  }
 },
 "nbformat": 4,
 "nbformat_minor": 2
}
