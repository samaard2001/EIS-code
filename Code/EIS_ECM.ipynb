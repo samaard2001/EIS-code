{
 "cells": [
  {
   "cell_type": "markdown",
   "metadata": {},
   "source": [
    "Importing libraries"
   ]
  },
  {
   "cell_type": "code",
   "execution_count": 1,
   "metadata": {},
   "outputs": [],
   "source": [
    "import pybammeis\n",
    "import pybamm\n",
    "import os\n",
    "import re\n",
    "import numpy as np\n",
    "from gamry_parser import GamryParser, Impedance\n",
    "import pandas as pd\n",
    "import time as timer\n",
    "import matplotlib.pyplot as plt\n",
    "from scipy.fft import fft\n",
    "import random\n",
    "from scipy.optimize import minimize\n",
    "from scipy.optimize import basinhopping\n",
    "from scipy.interpolate import interp1d\n",
    "import pyswarms as ps \n",
    "from pyswarms.single import GlobalBestPSO"
   ]
  },
  {
   "cell_type": "markdown",
   "metadata": {},
   "source": [
    "Uploading experimental data"
   ]
  },
  {
   "cell_type": "code",
   "execution_count": 2,
   "metadata": {},
   "outputs": [],
   "source": [
    "# ved ca. 45% SoC \n",
    "# ved 25 deg C\n",
    "\n",
    "def get_exp_data(i, d): \n",
    "    z_list = []\n",
    "    file = \"/Users/synnemard/Desktop/lithium_ion/EIS_data/MJ1_01_EIS-SoC_01-05/MJ1_01_EIS-SoC_0\"+str(i)+\"/\"+d+\"EISGALV3V587.DTA\"\n",
    "    ca = Impedance(file)\n",
    "    ca.load(filename=file)\n",
    "\n",
    "    # extract EIS curve\n",
    "    res = ca.get_curve_data().iloc[::-1]\n",
    "    df_real = res['Zreal']\n",
    "    df_imag= res['Zimag']\n",
    "    df_freq = res['Freq']\n",
    "    #df_name = res['Vdc']\n",
    "\n",
    "    # Removing the points beneath the y-axis \n",
    "    real = df_real[df_imag <= 0]\n",
    "    imag = df_imag[df_imag <= 0]\n",
    "    freq = df_freq[df_imag <= 0]\n",
    "    \n",
    "    #name = sum(df_name)/len(df_name)\n",
    "    # Adding the impendances to the list \n",
    "    z_list.append(real)\n",
    "    z_list.append(imag)\n",
    "    return[z_list, freq, len(freq)] #, df_name]\n"
   ]
  },
  {
   "cell_type": "markdown",
   "metadata": {},
   "source": [
    "Function to get detailed information on V (SOC should be around 45%)"
   ]
  },
  {
   "cell_type": "code",
   "execution_count": 3,
   "metadata": {},
   "outputs": [
    {
     "data": {
      "text/plain": [
       "3.572173346938775"
      ]
     },
     "execution_count": 3,
     "metadata": {},
     "output_type": "execute_result"
    }
   ],
   "source": [
    "def get_vdc(i, d): \n",
    "    length = get_exp_data(i, d)[2]\n",
    "    file = \"/Users/synnemard/Desktop/lithium_ion/EIS_data/MJ1_01_EIS-SoC_01-05/MJ1_01_EIS-SoC_0\"+str(i)+\"/\"+d+\"EISGALV3V587.DTA\"\n",
    "    df = pd.read_csv(file, delimiter='\\t', skiprows=[i for i in range(0, 60)], encoding='ISO-8859-1')\n",
    "\n",
    "    df_vdc = df['Vdc'][::-1]\n",
    "    vdc = df_vdc[:length+1]\n",
    "    v_list = np.array(vdc)\n",
    "\n",
    "    sum = 0 \n",
    "    for i in v_list: \n",
    "        sum += float(i) \n",
    "    v_avg = sum/len(v_list)\n",
    "\n",
    "    return v_avg #, df_name]\n",
    "\n",
    "get_vdc(1, \"\")"
   ]
  },
  {
   "cell_type": "markdown",
   "metadata": {},
   "source": [
    "## Parameters from Amund\n",
    "\n",
    "(I have only changed the electrolyte conductivity)"
   ]
  },
  {
   "cell_type": "code",
   "execution_count": 4,
   "metadata": {},
   "outputs": [],
   "source": [
    "\n",
    "# OCV curves for the anode and cathode\n",
    "# Simple math model for the individual electrode potentials as a function of the stoichiometry of Lithium\n",
    "def MJ1_ocp_tanh_SiC(sto):\n",
    "    x = sto\n",
    "    p = np.array([ 1.20912055e+00,  5.62297420e+01, -1.11020020e-01, -2.53458213e-01, 4.92581391e+01,  1.22046522e-02,  4.73538620e-02,  1.79631246e+01, 1.75283209e-01,  1.88038929e-02,  3.03255334e+01,  4.66328034e-01])\n",
    "    \n",
    "    return (\n",
    "            p[0] * np.exp(-p[1] * x)\n",
    "            + p[2]\n",
    "            - p[3] * np.tanh(p[4] * (x - p[5]))\n",
    "            - p[6] * np.tanh(p[7] * (x - p[8]))\n",
    "            - p[9] * np.tanh(p[10] * (x - p[11]))\n",
    "        )\n",
    "\n",
    "def MJ1_ocp_tanh_NMC(sto):\n",
    "    x = sto\n",
    "    p = np.array([ 0.74041974,  4.39107343,  0.03434767, 18.16841489,  0.53463176, 17.68283504, 14.59709162,  0.28835348, 17.58474971, 14.69911523,  0.28845641])\n",
    "\n",
    "    return (\n",
    "            -p[0] * x\n",
    "            + p[1]\n",
    "            - p[2] * np.tanh(p[3] * (x - p[4]))\n",
    "            - p[5] * np.tanh(p[6] * (x - p[7]))\n",
    "            + p[8] * np.tanh(p[9] * (x - p[10]))\n",
    "        )\n",
    "\n",
    "# Parameters from literature\n",
    "literature_params = {\n",
    "    'Electrode height [m]': 0.059,\n",
    "    'Electrode width [m]': 0.610*2, # Multiplying by two since the electrode has active material on both sides.\n",
    "    'Lower voltage cut-off [V]': 2.5,\n",
    "    'Upper voltage cut-off [V]': 4.5,\n",
    "    'Nominal cell capacity [A.h]': 3.5,\n",
    "    'EC initial concentration in electrolyte [mol.m-3]': 1000,  #4541.0,\n",
    "\n",
    " # From Table 3 in https://doi.org/10.1016/j.jpowsour.2018.11.043\n",
    "    'Maximum concentration in negative electrode [mol.m-3]': 32418.5,\n",
    "    'Negative particle radius [m]': 6.1e-06,\n",
    "    'Negative electrode porosity': 0.216,\n",
    "    'Negative electrode active material volume fraction': 0.7011854763922494,\n",
    "    'Negative electrode conductivity [S.m-1]': 100.0,\n",
    "    'Negative electrode diffusivity [m2.s-1]': 5e-14,\n",
    "    'Negative electrode OCP [V]': MJ1_ocp_tanh_SiC,\n",
    "\n",
    "    # 'Maximum concentration in positive electrode [mol.m-3]': 51081.15,\n",
    "    'Positive particle radius [m]': 3.8e-06,\n",
    "    'Positive electrode porosity': 0.171,\n",
    "    'Positive electrode active material volume fraction': 0.7355902286855152,\n",
    "    'Positive electrode conductivity [S.m-1]': 0.17,\n",
    "    'Positive electrode diffusivity [m2.s-1]': 5e-13,\n",
    "    'Positive electrode OCP [V]': MJ1_ocp_tanh_NMC,\n",
    "\n",
    "    'Separator porosity': 0.45,\n",
    "\n",
    "    # end of section 3 data\n",
    "    \n",
    "    # From Table A-9 and A-10 in https://doi.org/10.1016/j.jpowsour.2018.11.043\n",
    "    'Negative current collector conductivity [S.m-1]': 5.9e7/(1+3.383e-3 * (298.15-293.15)), \n",
    "    'Negative current collector thickness [m]': 11e-06,\n",
    "    'Negative current collector density [kg.m-3]': 8950.0,\n",
    "    'Negative current collector specific heat capacity [J.kg-1.K-1]': 385.0,\n",
    "    'Negative current collector thermal conductivity [W.m-1.K-1]': 398.0,\n",
    "    'Negative electrode density [kg.m-3]': 2242.0,\n",
    "    'Negative electrode specific heat capacity [J.kg-1.K-1]': 867.0,\n",
    "    'Negative electrode thermal conductivity [W.m-1.K-1]': 1.04,\n",
    "    'Negative electrode thickness [m]': 86.7e-6, # 86.7 in Sturm 2019, 85um in Heenan2020, 170um in NASA\n",
    "    'Positive current collector conductivity [S.m-1]': 3.78e7/(1+4.290e-3 * (298.15-293.15)),\n",
    "    'Positive current collector density [kg.m-3]': 2710.0,\n",
    "    'Positive current collector specific heat capacity [J.kg-1.K-1]': 903.0,\n",
    "    'Positive current collector thermal conductivity [W.m-1.K-1]': 238.0,\n",
    "    'Positive current collector thickness [m]': 17.3e-06,\n",
    "    'Positive electrode density [kg.m-3]': 4870.0,\n",
    "    'Positive electrode specific heat capacity [J.kg-1.K-1]': 840.1,\n",
    "    'Positive electrode thermal conductivity [W.m-1.K-1]': 1.58,\n",
    "    'Positive electrode thickness [m]': 66.2e-6, #66.2um in Sturm2019, 72.5um in Heenan2020, 160um in NASA\n",
    "    'Separator density [kg.m-3]': 1009.0,\n",
    "    'Separator specific heat capacity [J.kg-1.K-1]': 1978.2,\n",
    "    'Separator thermal conductivity [W.m-1.K-1]': 0.33,\n",
    "    'Separator thickness [m]': 12e-06,\n",
    "\n",
    "    # end of table data\n",
    "    }\n",
    "\n",
    "# Use default parameters from the Chen2020 publication\n",
    "params = pybamm.ParameterValues(\"Chen2020\")\n",
    "\n",
    "# Overwrite parameters with our own\n",
    "for parameter, value in literature_params.items():\n",
    "    try:\n",
    "        if params[parameter] != value: # Check if the parameter exists in 'params' and has a different value\n",
    "            params[parameter] = value # Update 'params' with the new value from 'literature_params'\n",
    "    except KeyError as e: # This block handles the case where the 'parameter' is not in 'params'\n",
    "        print(f\"Parameter {parameter} not part of default. Skipping.\")\n",
    "\n",
    "#params['Electrolyte conductivity']\n"
   ]
  },
  {
   "cell_type": "markdown",
   "metadata": {},
   "source": [
    "### Finding the $-\\frac{\\partial U}{\\partial c_s}$ for each the anode and the cathode"
   ]
  },
  {
   "cell_type": "code",
   "execution_count": 5,
   "metadata": {},
   "outputs": [],
   "source": [
    "c_n_max = params[\"Maximum concentration in negative electrode [mol.m-3]\"]\n",
    "c_n_s_max = c_n_max \n",
    "c_p_max = params[\"Maximum concentration in positive electrode [mol.m-3]\"]\n",
    "c_p_s_max = c_p_max\n",
    "\n",
    "params.set_initial_stoichiometries(0.45) # Setting SOC, this changes the initial concentrations\n",
    "c_n = params['Initial concentration in negative electrode [mol.m-3]'] \n",
    "c_n_s = c_n # for the surface of the particle\n",
    "c_p = params['Initial concentration in positive electrode [mol.m-3]'] \n",
    "c_p_s = c_p\n"
   ]
  },
  {
   "cell_type": "code",
   "execution_count": 6,
   "metadata": {},
   "outputs": [],
   "source": [
    "\n",
    "def sech_2(z): \n",
    "    return 1/np.cosh(z)**2\n",
    "\n",
    "def _dU_dc_anode(c): \n",
    "    x = c/c_n_max\n",
    "    # Har satt in for x i uttrykket for potensial lenger oppe og derivert med hensyn på c\n",
    "    p = np.array([ 1.20912055e+00,  5.62297420e+01, -1.11020020e-01, -2.53458213e-01, 4.92581391e+01,  1.22046522e-02,  4.73538620e-02,  1.79631246e+01, 1.75283209e-01,  1.88038929e-02,  3.03255334e+01,  4.66328034e-01])\n",
    "    dU_dc = -(p[6]*p[7]*sech_2(p[7]*(c/c_n_max-p[8])))/c_n_max - (p[3]*p[4]*sech_2(p[4]*(c/c_n_max-p[5])))/c_n_max - (p[9]*p[10]*sech_2(p[10]*(c/c_n_max-p[11])))/c_n_max - (p[0]*p[1]*np.exp(-p[1]*c/c_n_max))/c_n_max\n",
    "    return -dU_dc # [V*m^3/mol]\n",
    "\n",
    "_dU_dc_a = _dU_dc_anode(c_n)\n",
    "\n",
    "def _dU_dc_cathode(c): \n",
    "    x = c/c_p_max\n",
    "    # Har satt in for x i uttrykket for potensial lenger oppe og derivert med hensyn på c\n",
    "    p = np.array([ 0.74041974,  4.39107343,  0.03434767, 18.16841489,  0.53463176, 17.68283504, 14.59709162,  0.28835348, 17.58474971, 14.69911523,  0.28845641])\n",
    "    dU_dc = -(p[5]*p[6]*sech_2(p[6]*(c/c_p_max-p[7])))/c_p_max - (p[2]*p[3]*sech_2(p[3]*(c/c_p_max-p[4])))/c_p_max + (p[9]*p[8]*sech_2(p[9]*(c/c_p_max-p[10])))/c_p_max - p[0]\n",
    "    return -dU_dc # [V*m^3/mol]\n",
    "\n",
    "_dU_dc_c = _dU_dc_cathode(c_p)\n"
   ]
  },
  {
   "cell_type": "markdown",
   "metadata": {},
   "source": [
    "### Diverse utregninger "
   ]
  },
  {
   "cell_type": "code",
   "execution_count": 7,
   "metadata": {},
   "outputs": [],
   "source": [
    "F = 96485 #C/mol \n",
    "R = 8.314 #J/mol*K\n",
    "n = 1 \n",
    "T = 298 # K"
   ]
  },
  {
   "cell_type": "code",
   "execution_count": 8,
   "metadata": {},
   "outputs": [],
   "source": [
    "volume_anode = params['Electrode height [m]']*params['Electrode width [m]']*params['Negative electrode thickness [m]'] # [m^3]\n",
    "volume_cathode = params['Electrode height [m]']*params['Electrode width [m]']*params['Positive electrode thickness [m]'] # [m^3]\n",
    "area_electrode = params['Electrode height [m]']*params['Electrode width [m]'] #[m^2]\n",
    "\n",
    "c_e = params['EC initial concentration in electrolyte [mol.m-3]']\n",
    "i_0_a = params['Negative electrode exchange-current density [A.m-2]'](c_e, c_n_s, c_n_s_max, T)\n",
    "i_0_c = params['Positive electrode exchange-current density [A.m-2]'](c_e, c_p_s, c_p_s_max, T)\n",
    "\n",
    "r_a = params['Negative particle radius [m]']\n",
    "r_c = params['Positive particle radius [m]']\n",
    "e_a = 1 - params['Negative electrode porosity']\n",
    "e_c = 1 - params['Positive electrode porosity']"
   ]
  },
  {
   "cell_type": "markdown",
   "metadata": {},
   "source": [
    "Functions to convert list to dictionary or vice versa "
   ]
  },
  {
   "cell_type": "code",
   "execution_count": 9,
   "metadata": {},
   "outputs": [],
   "source": [
    "# Function to convert dictionary to list\n",
    "def dict_to_list(c_elem):\n",
    "    return list(c_elem.values())\n",
    "\n",
    "# Function to convert list back to dictionary\n",
    "def list_to_dict(c_elem, optimized_values):\n",
    "    keys = list(c_elem.keys())\n",
    "    return dict(zip(keys, optimized_values))\n"
   ]
  },
  {
   "cell_type": "markdown",
   "metadata": {},
   "source": [
    "#### Equation for finding $R_{ct}$ from the given exchange current density parameter: \n",
    "\n",
    "The charge transfer resistances (= $R_{ct}$), $R1$ and $R2$, are found from the Butler-Volmer equation: \n",
    "\n",
    "$$R_{ct} = \\frac{RT}{n\\cdot i_0(\\alpha_a + \\alpha_c)F}, $$\n",
    "\n",
    "at small overpotentials and assuming a symmetrical charge transfer process $(\\alpha_a + \\alpha_c = 1)$. This equation is also written as equation $(20)$ in the Meyers paper. "
   ]
  },
  {
   "cell_type": "code",
   "execution_count": 10,
   "metadata": {},
   "outputs": [],
   "source": [
    "def R_ct(i_0): \n",
    "    return (R*T)/(n*F*i_0) # [ohm.m^2]\n",
    "\n",
    "R1_a = R_ct(i_0_a).__dict__['_value']\n",
    "R1_c = R_ct(i_0_c).__dict__['_value']"
   ]
  },
  {
   "cell_type": "markdown",
   "metadata": {},
   "source": [
    "#### Equation for finding the pore surface volume divided by the electrode volume (=$a$):\n",
    "\n",
    "The pore surface area can be found from the following calculations: \n",
    "\n",
    "$$V_{particle} = \\frac{4\\pi r^3}{3}$$\n",
    "$$V_{active} = \\epsilon \\cdot V_{electrode}, $$\n",
    "\n",
    "where $\\epsilon$ is the fraction of active electrode material and then $V_{active}$ is the volume of the active electrode material. This gives the number of particles $N = \\frac{V_{active}}{V_{particle}}$. Further, the surface area of one particle is \n",
    "\n",
    "$$A_{particle} = 4 \\pi r^2, $$\n",
    "\n",
    "so that $A_{total} = N\\cdot A_{particle}$, where $A_{total}$ is the total pore/particle surface area. \n",
    "\n",
    "Then $a$ is calculated from \n",
    "\n",
    "$$a = \\frac{A_{total}}{V_{electrode}}$$\n",
    "\n",
    "\n"
   ]
  },
  {
   "cell_type": "code",
   "execution_count": 13,
   "metadata": {},
   "outputs": [
    {
     "name": "stdout",
     "output_type": "stream",
     "text": [
      "385573.7704918033\n",
      "385573.77049180336\n"
     ]
    }
   ],
   "source": [
    "N = e_a*volume_anode/((4*np.pi/3)*r_a**3)\n",
    "\n",
    "def a(V_electrode, e): \n",
    "    V_particle = (4*np.pi/3)*r_a**3\n",
    "    V_active = e*V_electrode \n",
    "    # Number of particles\n",
    "    N = V_active/V_particle \n",
    "    # Surface area of particle \n",
    "    A_particle = 4*np.pi*r_a**2\n",
    "    # Total surface area of particles\n",
    "    A_total = N*A_particle # so that A_total = (3*e)/r_particle\n",
    "    return A_total/V_electrode # [m^-1]\n",
    "\n",
    "\n",
    "print(a(volume_anode, e_a))\n",
    "\n",
    "print(3*e_a/r_a)"
   ]
  },
  {
   "cell_type": "markdown",
   "metadata": {},
   "source": [
    "## Meyers parametre"
   ]
  },
  {
   "cell_type": "markdown",
   "metadata": {},
   "source": [
    "+ $R1$ - resistance \n",
    "+ $R2$ - resistance \n",
    "+ $C1$ - capicitance \n",
    "+ $C2$ - capicitance \n",
    "+ $R_s$ - particle size (assuming radius)\n",
    "+ $D_s$ - diffusion coefficient \n",
    "+ $a$ - surface area of pores per volume electrode\n",
    "+ $L$ - electrode thickness\n",
    "+ $K$ - electrolyte conductivity \n",
    "+ $\\sigma$ - electrode conductivity \n",
    "+ $\\epsilon$ - porosity \n",
    "+ $\\left(-\\frac{\\partial U}{\\partial c_s}\\right)$\n",
    "\n",
    "These parameters are defined from the given parameters by Amund (above). If the Meyer parameter does not have an equivalent in the parameter list above, it is calculated from relations (for example, the resistances $R1$ and $R2$ are calculated from the exhange current density $i$). \n",
    "\n",
    "Fra Ann-Mari sine anbefalinger har jeg ikke inkludert R1 og R2 i førsteomgang. "
   ]
  },
  {
   "cell_type": "code",
   "execution_count": 15,
   "metadata": {},
   "outputs": [
    {
     "name": "stdout",
     "output_type": "stream",
     "text": [
      "{'R1': 0.07825704835882585, 'C1': 0.2, 'Rs': 6.1e-06, 'Ds': 5e-14, 'a': 385573.7704918033, 'L': 8.67e-05, 'K': 0.9487000000000005, 'sigma': 100.0, 'ebsilon': 0.784, '-dU_dcs': 1.3786045384026093e-05}\n",
      "{'R1': 0.0076328858714558205, 'C1': 0.2, 'Rs': 3.8e-06, 'Ds': 5e-13, 'a': 407704.9180327869, 'L': 6.62e-05, 'K': 0.9487000000000005, 'sigma': 0.17, 'ebsilon': 0.829, '-dU_dcs': 0.740426330458689}\n"
     ]
    }
   ],
   "source": [
    "\n",
    "a_parametre = {\n",
    "    \"R1\": R1_a,  # motstand, [ohm.m^2]\n",
    "    \"C1\": params['Negative electrode double-layer capacity [F.m-2]'],  # kapasitans\n",
    "    \"Rs\": params['Negative particle radius [m]'], # partikkelstørrelse, [F.m^-2]\n",
    "    \"Ds\": params['Negative electrode diffusivity [m2.s-1]'],     # diffusjonskoeffisient [m^2.s^-1]\n",
    "    \"a\": a(volume_anode, e_a),  # overflateareal porer/volum electrode [m^-1]\n",
    "    \"L\": params['Negative electrode thickness [m]'],  # tykkelse, elektrode, [m]\n",
    "    \"K\" : params['Electrolyte conductivity [S.m-1]'](c_e, T),  # ledningsevne elektrolytt [S.m^-1]\n",
    "    \"sigma\": params['Negative electrode conductivity [S.m-1]'], # ledningsevne, fast elektrodematerial [S.m^-1]\n",
    "    \"ebsilon\": e_a,     # volume fraction anode\n",
    "    \"-dU_dcs\": _dU_dc_a, #[V.m^3.mol-1]\n",
    "    }\n",
    "\n",
    "c_parametre = {\n",
    "    \"R1\": R1_c,  # motstand\n",
    "    \"C1\": params['Positive electrode double-layer capacity [F.m-2]'],  # kapasitans\n",
    "    \"Rs\": params['Positive particle radius [m]'], # partikkelstørrelse\n",
    "    \"Ds\": params['Positive electrode diffusivity [m2.s-1]'],     # diffusjonskoeffisient \n",
    "    \"a\": a(volume_cathode, e_c),  # overflateareal porer/volum electrode \n",
    "    \"L\": params['Positive electrode thickness [m]'],  # tykkelse, elektrode\n",
    "    \"K\" : params['Electrolyte conductivity [S.m-1]'](c_e, T),  # ledningsevne elektrolytt \n",
    "    \"sigma\": params['Positive electrode conductivity [S.m-1]'], # ledningsevne, fast elektrodematerial \n",
    "    \"ebsilon\": e_c,     # volume fraction cathode\n",
    "    \"-dU_dcs\": _dU_dc_c, \n",
    "    }\n",
    "\n",
    "print(a_parametre)\n",
    "print(c_parametre)\n",
    "#params.search('Positive particle surface concentration [mol.m-3]')"
   ]
  },
  {
   "cell_type": "markdown",
   "metadata": {},
   "source": [
    "## Calculate impedance (from Meyers paper)"
   ]
  },
  {
   "cell_type": "markdown",
   "metadata": {},
   "source": [
    "$$R_{part} = \\left(-\\frac{\\partial U}{\\partial c_s}\\right)\\frac{R_s}{FD_s}$$\n",
    "\n",
    "$$Y_s = \\frac{\\sqrt{j\\Omega_s}-\\tanh(\\sqrt{j\\Omega_s})}{\\tanh(\\sqrt{j\\Omega_s})},$$\n",
    "\n",
    "where $Y_s$ is the admittance for the diffusion effect and $\\Omega_s$ is the dimensionless frequency: \n",
    "\n",
    "$$\\Omega_s = \\frac{\\omega R_s^2}{D_s}$$\n",
    "\n",
    "Further, \n",
    "\n",
    "$$Y(\\omega) = \\frac{1}{\\frac{R1 + \\frac{R_{part}}{Y_s}}{1 + j\\omega C1\\left(R1 + \\frac{R_{part}}{Y_s}\\right)} + \\frac{R2}{1+j\\omega R2\\cdot C2}}, $$\n",
    "\n",
    "where $Y(\\omega)$ is the admittance (intercalation, BV-kinetics and double-layer capacitance) of a single particle at a given frequency. $\\overline{aY}$ is the average admittance in the porous electrode. \n",
    "\n",
    "$$v = \\frac{L}{\\left(\\frac{K\\sigma}{K + \\sigma}\\right)^{\\frac{1}{2}}\\left({\\overline{aY}}\\right)^{-\\frac{1}{2}}}, $$\n",
    "\n",
    "where the parameter $v$ is a function of frequency $\\omega$ and is determined for set values of $\\sigma$ and $K$. \n",
    "Finally, the total impedance is given by\n",
    "\n",
    "$$Z = \\frac{L}{K+\\sigma}\\left[1 + \\frac{2 + (\\frac{\\sigma}{K} + \\frac{K}{\\sigma})\\cosh v}{v\\cdot \\sinh v}\\right]$$\n",
    "\n",
    "\n"
   ]
  },
  {
   "cell_type": "code",
   "execution_count": 16,
   "metadata": {},
   "outputs": [],
   "source": [
    "def R_part(param): \n",
    "    R_part = _dU_dc_a*(param['Rs']/(F*param['Ds']))\n",
    "    return R_part \n",
    "\n",
    "def Y_s(param, ang_freq):\n",
    "    omega_s = (ang_freq*param['Rs']**2)/param['Ds']\n",
    "    Y_s = (np.sqrt(1j*omega_s) - np.tanh(np.sqrt(1j*omega_s)))/np.tanh(np.sqrt(1j*omega_s))\n",
    "    return Y_s\n",
    "\n",
    "def Y_particle(param, ang_freq, R_part, Y_s): \n",
    "    Y = 1/((param['R1'] + R_part/Y_s)/(1 + 1j*ang_freq*param['C1']*(param['R1'] + R_part/Y_s)))\n",
    "    return Y\n",
    "\n",
    "def v(param, Y): \n",
    "    v = param['L']/ (((param['K']*param['sigma'])/(param['K'] + param['sigma']))**0.5*((param['a']*Y))**(-0.5))\n",
    "    return v"
   ]
  },
  {
   "cell_type": "code",
   "execution_count": 17,
   "metadata": {},
   "outputs": [
    {
     "data": {
      "image/png": "[encoded data removed]",
      "text/plain": [
       "<Figure size 640x480 with 1 Axes>"
      ]
     },
     "metadata": {},
     "output_type": "display_data"
    }
   ],
   "source": [
    "\n",
    "# Function to calculate Z \n",
    "def calc_Z(comp, frequencies):\n",
    "    # Update param dictionary from the flat parameter list (comp), where comp is updated values\n",
    "    param = list_to_dict(a_parametre, comp) \n",
    "    ang_freq = 2 * np.pi * frequencies\n",
    "\n",
    "    Rp = R_part(param)\n",
    "    Ys = Y_s(param, ang_freq)\n",
    "    Y = Y_particle(param, ang_freq, Rp, Ys)\n",
    "    v_calc = v(param, Y)\n",
    "\n",
    "    # The total impedance: \n",
    "    Z = (param['L']/(param['K']+param['sigma']))*(1 + (2 + (param['sigma']/param['K'] + param['K']/param['sigma'])*np.cosh(v_calc))/(v_calc*np.sinh(v_calc)))\n",
    "    \n",
    "    return Z/area_electrode\n",
    "\n",
    "frequencies = np.array(get_exp_data(1, \"\")[1])\n",
    "Z_init = calc_Z(dict_to_list(a_parametre), frequencies)\n",
    "plt.plot(Z_init.real, -Z_init.imag)\n",
    "plt.show()"
   ]
  },
  {
   "cell_type": "code",
   "execution_count": 18,
   "metadata": {},
   "outputs": [
    {
     "name": "stdout",
     "output_type": "stream",
     "text": [
      "0.01707152410422453\n",
      "{'R1': 0.07825704835882585, 'C1': 0.2, 'Rs': 6.099999999995956e-06, 'Ds': 2.1577330190871727e-14, 'a': 385573.7704918033, 'L': 8.669999999979409e-05, 'K': 0.9487000000000005, 'sigma': 100.0, 'ebsilon': 0.784, '-dU_dcs': 1.3786045384026093e-05}\n",
      "{'R1': 0.07825704835882585, 'C1': 0.2, 'Rs': 6.1e-06, 'Ds': 5e-14, 'a': 385573.7704918033, 'L': 8.67e-05, 'K': 0.9487000000000005, 'sigma': 100.0, 'ebsilon': 0.784, '-dU_dcs': 1.3786045384026093e-05}\n"
     ]
    }
   ],
   "source": [
    "\n",
    "# Optimizing the difference function for a given data set\n",
    "def optimize_diff(i):\n",
    "    # Load the experimental data \n",
    "    exp_real = np.array(get_exp_data(i, \"\")[0][0])\n",
    "    exp_imag = np.array(get_exp_data(i, \"\")[0][1])\n",
    "    frequencies = np.array(get_exp_data(i, \"\")[1])\n",
    "\n",
    "    # Difference function for the optimization\n",
    "    def diff_func(comp, exp_real, exp_imag, frequencies):\n",
    "        Z = calc_Z(comp, frequencies)\n",
    "        diff_real = Z.real - exp_real\n",
    "        diff_imag = Z.imag - exp_imag\n",
    "        sum_square_diff = np.sum(diff_real ** 2 + diff_imag ** 2)\n",
    "        return sum_square_diff\n",
    "    \n",
    "    #print(diff_func(dict_to_list(a_number_parametre), exp_real, exp_imag, frequencies))\n",
    "\n",
    "    # Convert initial dictionary to list for optimization\n",
    "    initial_elems = dict_to_list(a_parametre)\n",
    "\n",
    "    # Optimization options\n",
    "    options = {\n",
    "        'maxiter': 10000,    # Maximum number of iterations\n",
    "        'ftol': 1e-4,       # Function value tolerance\n",
    "        #'disp': True\n",
    "    }\n",
    "\n",
    "    # Minimize the difference function (optimize parameters)\n",
    "    opt = minimize(diff_func, initial_elems, args=(exp_real, exp_imag, frequencies), method='TNC', options=options)\n",
    "    opt_elems = list_to_dict(a_parametre, opt.x)\n",
    "    final_diff = diff_func(opt.x, exp_real, exp_imag, frequencies)\n",
    "    \n",
    "    #print(\"Final sum of squared difference for dataset\", i, \":\", final_diff)\n",
    "\n",
    "    return opt_elems, final_diff, frequencies, opt.x \n",
    "\n",
    "# Example usage: optimize for a specific dataset (choose i from 1 to 5)\n",
    "i = 1 # Change i to the desired dataset index\n",
    "dic_elems, final_diff, frequencies, list_elems = optimize_diff(i)\n",
    "\n",
    "print(final_diff)\n",
    "print(dic_elems)\n",
    "print(a_parametre)\n"
   ]
  },
  {
   "cell_type": "markdown",
   "metadata": {},
   "source": [
    "PSO"
   ]
  },
  {
   "cell_type": "code",
   "execution_count": 19,
   "metadata": {},
   "outputs": [
    {
     "name": "stderr",
     "output_type": "stream",
     "text": [
      "2024-11-09 14:59:16,223 - pyswarms.single.global_best - INFO - Optimize for 100 iters with {'c1': 0.5, 'c2': 0.3, 'w': 0.9}\n",
      "pyswarms.single.global_best: 100%|██████████|100/100, best_cost=0.000479\n",
      "2024-11-09 14:59:18,735 - pyswarms.single.global_best - INFO - Optimization finished | best cost: 0.000479198753080396, best pos: [-9.76300597e-06  3.59866565e+00  4.62307283e+00  2.12253058e+00\n",
      "  6.28332554e+00  1.56235912e-02  4.28961346e+00  3.08470516e+00\n",
      "  3.57531635e+00  1.86470499e+00]\n"
     ]
    },
    {
     "name": "stdout",
     "output_type": "stream",
     "text": [
      "0.000479198753080396\n",
      "[-9.76300597e-06  3.59866565e+00  4.62307283e+00  2.12253058e+00\n",
      "  6.28332554e+00  1.56235912e-02  4.28961346e+00  3.08470516e+00\n",
      "  3.57531635e+00  1.86470499e+00]\n"
     ]
    }
   ],
   "source": [
    "\n",
    "i = 1\n",
    "exp_real = np.array(get_exp_data(i, \"\")[0][0])\n",
    "exp_imag = np.array(get_exp_data(i, \"\")[0][1])\n",
    "frequencies = np.array(get_exp_data(i, \"\")[1])\n",
    "\n",
    "# Difference function for the optimization\n",
    "def diff_func(comp, exp_real, exp_imag, frequencies):\n",
    "    Z = calc_Z(comp, frequencies)\n",
    "    diff_real = Z.real - exp_real\n",
    "    diff_imag = Z.imag - exp_imag\n",
    "    sum_square_diff = np.sum(diff_real ** 2 + diff_imag ** 2)\n",
    "    return sum_square_diff\n",
    "\n",
    "def wrapped_diff_func(comp):\n",
    "  return np.array([diff_func(par, exp_real, exp_imag, frequencies) for par in comp])\n",
    "\n",
    "n_dim = len(a_parametre) #changing \n",
    "\n",
    "options = {\n",
    "    'c1': 0.5, \n",
    "    'c2': 0.3, \n",
    "    'w': 0.9,\n",
    "}\n",
    "\n",
    "optimizer = ps.single.GlobalBestPSO(n_particles = 100, dimensions = n_dim, options = options)\n",
    "\n",
    "best_cost, best_params = optimizer.optimize(wrapped_diff_func, iters =100)\n",
    "\n",
    "print(best_cost)\n",
    "print(best_params)"
   ]
  },
  {
   "cell_type": "code",
   "execution_count": 20,
   "metadata": {},
   "outputs": [
    {
     "data": {
      "image/png": "[encoded data removed]",
      "text/plain": [
       "<Figure size 640x480 with 1 Axes>"
      ]
     },
     "metadata": {},
     "output_type": "display_data"
    }
   ],
   "source": [
    "frequencies = np.array(get_exp_data(1, \"\")[1])\n",
    "Z_opt = calc_Z(best_params, frequencies)\n",
    "\n",
    "plt.plot(Z_opt.real, -Z_opt.imag)\n",
    "plt.show()"
   ]
  },
  {
   "cell_type": "markdown",
   "metadata": {},
   "source": [
    "Observe how the parameters are changing with degradation"
   ]
  },
  {
   "cell_type": "code",
   "execution_count": 18,
   "metadata": {},
   "outputs": [],
   "source": [
    "def finding_params(): \n",
    "    dic_list = []\n",
    "    for l in range(1,6):\n",
    "        dic_elems, final_diff, frequencies, list_elems = optimize_diff(l)\n",
    "        dic_list.append(dic_elems)\n",
    "    \n",
    "    combined_dict = {}\n",
    "    \n",
    "    for d in dic_list:\n",
    "        for key, value in d.items():\n",
    "            # If key is not in combined_dict, initialize with empty list\n",
    "            if key not in combined_dict:\n",
    "                combined_dict[key] = []\n",
    "            # Append the value to the list for this key\n",
    "            combined_dict[key].append(value)\n",
    "\n",
    "    return combined_dict"
   ]
  },
  {
   "cell_type": "code",
   "execution_count": 19,
   "metadata": {},
   "outputs": [],
   "source": [
    "combined_dict = finding_params()\n",
    "\n",
    "def plot_change_param(key_list): \n",
    "    x = [1, 2, 3, 4, 5]\n",
    "    fig, ax = plt.subplots(figsize=(6, 6)) \n",
    "    for key in key_list: \n",
    "        ax.scatter(x, combined_dict[key], label = key)\n",
    "\n",
    "    plt.legend()\n",
    "    plt.xlabel(\"Data Set Number\")\n",
    "    plt.ylabel(\"Parameter Value\")\n",
    "    plt.title(\"Change in Parameters\") \n",
    "    plt.show()\n",
    "\n",
    "#plot_change_param(['R1', 'R2'])\n",
    "#plot_change_param(['Rs', 'Ds'])\n",
    "#plot_change_param(['C1', 'C2'])\n",
    "#plot_change_param(['a', 'L'])\n",
    "#plot_change_param(['K', 'sigma'])\n",
    "#plot_change_param(['ebsilon'])\n"
   ]
  },
  {
   "cell_type": "markdown",
   "metadata": {},
   "source": [
    "Comparison plot"
   ]
  },
  {
   "cell_type": "code",
   "execution_count": 21,
   "metadata": {},
   "outputs": [
    {
     "data": {
      "image/png": "[encoded data removed]",
      "text/plain": [
       "<Figure size 600x600 with 1 Axes>"
      ]
     },
     "metadata": {},
     "output_type": "display_data"
    }
   ],
   "source": [
    "frequencies = np.array(get_exp_data(1, \"\")[1])\n",
    "Z = calc_Z(dict_to_list(a_parametre), frequencies)\n",
    "Z_scipy = calc_Z(list_elems, frequencies)\n",
    "Z_pso = calc_Z(best_params, frequencies)\n",
    "\n",
    "fig, ax = plt.subplots(figsize=(6, 6)) \n",
    "ax.scatter(np.array(get_exp_data(i, \"\")[0][0]), -np.array(get_exp_data(i, \"\")[0][1]), color = 'red', label=f\"Experimental \"+str(np.round(get_vdc(i, \"\"),3))+\" V\") \n",
    "ax.plot(Z.real, -Z.imag, label = f'Meyers', color = 'blue')\n",
    "ax.plot(Z_pso.real, -Z_pso.imag, label = f'PSO optimized', color = 'grey')\n",
    "ax.plot(Z_scipy.real, -Z_scipy.imag, label = f'scipy optimized', color = 'grey')\n",
    "\n",
    "\n",
    "#ax.set_xlim(0.016, 0.045) \n",
    "#ax.set_ylim(0, 0.012)\n",
    "\n",
    "plt.legend()\n",
    "plt.title(\"Comparing\") \n",
    "plt.show() "
   ]
  },
  {
   "cell_type": "markdown",
   "metadata": {},
   "source": [
    "# Dataset 1: Fitting R1, C1, Ds and a to experimental data"
   ]
  },
  {
   "cell_type": "code",
   "execution_count": 25,
   "metadata": {},
   "outputs": [],
   "source": [
    "\n",
    "a_fitting = {\n",
    "    \"Rel\": 0.002, # motstand elektrolytt, [ohm.m^2]\n",
    "    \"R1\": 0.012,  # motstand, [ohm.m^2]\n",
    "    \"Q1\": 0.9,  # kapasitans\n",
    "    \"R2\": 0.01,\n",
    "    \"Q2\": 0.9,\n",
    "    \"alpha\": 0.8,\n",
    "    \"Ds\": 2e-16,     # diffusjonskoeffisient [m^2.s^-1]\n",
    "    \"a\": 618947,  # overflateareal porer/volum electrode [m^-1]\n",
    "    }\n",
    "\n",
    "Rs = params['Negative particle radius [m]']\n",
    "L = params['Negative electrode thickness [m]']\n",
    "K = params['Electrolyte conductivity [S.m-1]'](c_e, T) \n",
    "sigma = params['Negative electrode conductivity [S.m-1]'] \n",
    "epsilon = e_a # volume fraction anode\n",
    "_dU_dcs = _dU_dc_a\n"
   ]
  },
  {
   "cell_type": "code",
   "execution_count": 26,
   "metadata": {},
   "outputs": [],
   "source": [
    "def R_part(param): \n",
    "    R_part = _dU_dcs*(Rs/(F*param['Ds']))\n",
    "    return R_part \n",
    "\n",
    "def Y_s(param, ang_freq):\n",
    "    omega_s = (ang_freq*Rs**2)/param['Ds']\n",
    "    Y_s = (np.sqrt(1j*omega_s) - np.tanh(np.sqrt(1j*omega_s)))/np.tanh(np.sqrt(1j*omega_s))\n",
    "    return Y_s\n",
    "\n",
    "# Trying to use non-ideal double-layer capacitance (CPE): Z_CPE = 1/(Q(1j*omega)**alpha)\n",
    "\n",
    "def Y_particle(param, ang_freq, R_part, Y_s): \n",
    "    Y = 1/((param['R1'] + R_part/Y_s)/(1 + (1j*ang_freq)**param['alpha']*param['Q1']*(param['R1'] + R_part/Y_s)) + param['R2']/(1+(1j*ang_freq)**param['alpha']*param['Q2']*param['R2']))\n",
    "    #Y = 1/((param['R1'] + R_part/Y_s)/(1 + (1j*ang_freq)**param['alpha']*param['Q1']*(param['R1'] + R_part/Y_s)))\n",
    "    return Y\n",
    "\n",
    "def v(param, Y): \n",
    "    v = L/(((K*sigma)/(K + sigma))**0.5*((param['a']*Y))**(-0.5))\n",
    "    return v"
   ]
  },
  {
   "cell_type": "code",
   "execution_count": 27,
   "metadata": {},
   "outputs": [
    {
     "data": {
      "image/png": "[encoded data removed]",
      "text/plain": [
       "<Figure size 640x480 with 1 Axes>"
      ]
     },
     "metadata": {},
     "output_type": "display_data"
    }
   ],
   "source": [
    "\n",
    "def calc_Z1(comp, frequencies):\n",
    "    # Update param dictionary from the flat parameter list (comp), where comp is updated values\n",
    "    param = list_to_dict(a_fitting, comp) \n",
    "    ang_freq = 2 * np.pi * frequencies\n",
    "\n",
    "    Rp = R_part(param)\n",
    "    Ys = Y_s(param, ang_freq)\n",
    "    Y = Y_particle(param, ang_freq, Rp, Ys)\n",
    "    v_calc = v(param, Y)\n",
    "\n",
    "    # The total impedance: \n",
    "    Z = param['Rel'] + (L/(K+sigma))*(1 + (2 + (sigma/K + K/sigma)*np.cosh(v_calc))/(v_calc*np.sinh(v_calc)))\n",
    "    \n",
    "    return Z/area_electrode\n",
    "\n",
    "frequencies = np.array(get_exp_data(1, \"\")[1])\n",
    "Z_init = calc_Z1(dict_to_list(a_fitting), frequencies)\n",
    "plt.plot(Z_init.real, -Z_init.imag)\n",
    "plt.show()"
   ]
  },
  {
   "cell_type": "markdown",
   "metadata": {},
   "source": [
    "## Code for fitting the parameters"
   ]
  },
  {
   "cell_type": "markdown",
   "metadata": {},
   "source": [
    "Scipy.minimize"
   ]
  },
  {
   "cell_type": "code",
   "execution_count": 28,
   "metadata": {},
   "outputs": [
    {
     "name": "stdout",
     "output_type": "stream",
     "text": [
      "3.203157198442505e-05\n",
      "{'Rel': 0.002, 'R1': 0.012, 'Q1': 0.9, 'R2': 0.01, 'Q2': 0.9, 'alpha': 0.8, 'Ds': 2e-16, 'a': 618947.0}\n",
      "{'Rel': 0.002, 'R1': 0.012, 'Q1': 0.9, 'R2': 0.01, 'Q2': 0.9, 'alpha': 0.8, 'Ds': 2e-16, 'a': 618947}\n"
     ]
    }
   ],
   "source": [
    "# Optimizing the difference function for a given data set\n",
    "def optimize_diff(i):\n",
    "    # Load the experimental data \n",
    "    exp_real = np.array(get_exp_data(i, \"\")[0][0])\n",
    "    exp_imag = np.array(get_exp_data(i, \"\")[0][1])\n",
    "    frequencies = np.array(get_exp_data(i, \"\")[1])\n",
    "\n",
    "    # Difference function for the optimization\n",
    "    def diff_func(comp, exp_real, exp_imag, frequencies):\n",
    "        Z = calc_Z1(comp, frequencies)\n",
    "        diff_real = Z.real - exp_real\n",
    "        diff_imag = Z.imag - exp_imag\n",
    "        sum_square_diff = np.sum(diff_real ** 2 + diff_imag ** 2)\n",
    "        return sum_square_diff\n",
    "    \n",
    "    #print(diff_func(dict_to_list(a_number_parametre), exp_real, exp_imag, frequencies))\n",
    "\n",
    "    # Convert initial dictionary to list for optimization\n",
    "    initial_elems = dict_to_list(a_fitting)\n",
    "\n",
    "    # Optimization options\n",
    "    options = {\n",
    "        'maxiter': 10000,    # Maximum number of iterations\n",
    "        'ftol': 1e-4,       # Function value tolerance\n",
    "        #'disp': True\n",
    "    }\n",
    "\n",
    "    # Minimize the difference function (optimize parameters)\n",
    "    opt = minimize(diff_func, initial_elems, args=(exp_real, exp_imag, frequencies), method='TNC', options=options)\n",
    "    opt_elems = list_to_dict(a_fitting, opt.x)\n",
    "    final_diff = diff_func(opt.x, exp_real, exp_imag, frequencies)\n",
    "    \n",
    "    #print(\"Final sum of squared difference for dataset\", i, \":\", final_diff)\n",
    "\n",
    "    return opt_elems, final_diff, frequencies, opt.x \n",
    "\n",
    "i = 1 # Change i to the desired dataset index\n",
    "dic_elems, final_diff, frequencies, list_elems = optimize_diff(i)\n",
    "\n",
    "print(final_diff)\n",
    "print(dic_elems)\n",
    "print(a_fitting)\n"
   ]
  },
  {
   "cell_type": "markdown",
   "metadata": {},
   "source": [
    "Basinhopping"
   ]
  },
  {
   "cell_type": "code",
   "execution_count": 29,
   "metadata": {},
   "outputs": [
    {
     "data": {
      "text/plain": [
       "'\\nfrom scipy.optimize import basinhopping, minimize\\nimport numpy as np\\n\\n# Optimizing the difference function for a given data set\\ndef optimize_diff(i):\\n    # Load the experimental data \\n    exp_real = np.array(get_exp_data(i, \"\")[0][0])\\n    exp_imag = np.array(get_exp_data(i, \"\")[0][1])\\n    frequencies = np.array(get_exp_data(i, \"\")[1])\\n\\n    # Difference function for the optimization\\n    def diff_func(comp, exp_real, exp_imag, frequencies):\\n        Z = calc_Z1(comp, frequencies)\\n        diff_real = Z.real - exp_real\\n        diff_imag = Z.imag - exp_imag\\n        sum_square_diff = np.sum(diff_real ** 2 + diff_imag ** 2)\\n        return sum_square_diff\\n    \\n    # Convert initial dictionary to list for optimization\\n    initial_elems = dict_to_list(a_fitting)\\n\\n    # Define a local minimization step to be used within basinhopping\\n    def local_minimizer(x):\\n        # Use TNC or any suitable method within basinhopping\\n        opt = minimize(diff_func, x, args=(exp_real, exp_imag, frequencies), method=\\'TNC\\', options={\\'ftol\\': 1e-5, \\'maxiter\\': 10000})\\n        return opt\\n\\n    # Basinhopping configuration\\n    minimizer_kwargs = {\"method\": \"TNC\", \"args\": (exp_real, exp_imag, frequencies)}\\n    options = {\\n        \\'niter\\': 200,  # Number of basinhopping iterations\\n        \\'stepsize\\': 0.5  # Step size for random jumps\\n    }\\n\\n    # Run the basinhopping optimization\\n    opt = basinhopping(diff_func, initial_elems, minimizer_kwargs=minimizer_kwargs, niter=options[\\'niter\\'], stepsize=options[\\'stepsize\\'])\\n    \\n    # Convert optimized parameters back to dictionary\\n    opt_elems = list_to_dict(a_fitting, opt.x)\\n    final_diff = diff_func(opt.x, exp_real, exp_imag, frequencies)\\n    \\n    # Print results for debugging\\n    print(\"Final sum of squared difference for dataset\", i, \":\", final_diff)\\n\\n    return opt_elems, final_diff, frequencies, opt.x \\n\\n# Example usage: optimize for a specific dataset (choose i from 1 to 5)\\ni = 1  # Change i to the desired dataset index\\ndic_elems, final_diff, frequencies, list_elems = optimize_diff(i)\\n\\nprint(\"Final difference:\", final_diff)\\nprint(\"Optimized parameter dictionary:\", dic_elems)\\nprint(\"Initial fitting parameters:\", a_fitting)\\n\\n'"
      ]
     },
     "execution_count": 29,
     "metadata": {},
     "output_type": "execute_result"
    }
   ],
   "source": [
    "'''\n",
    "from scipy.optimize import basinhopping, minimize\n",
    "import numpy as np\n",
    "\n",
    "# Optimizing the difference function for a given data set\n",
    "def optimize_diff(i):\n",
    "    # Load the experimental data \n",
    "    exp_real = np.array(get_exp_data(i, \"\")[0][0])\n",
    "    exp_imag = np.array(get_exp_data(i, \"\")[0][1])\n",
    "    frequencies = np.array(get_exp_data(i, \"\")[1])\n",
    "\n",
    "    # Difference function for the optimization\n",
    "    def diff_func(comp, exp_real, exp_imag, frequencies):\n",
    "        Z = calc_Z1(comp, frequencies)\n",
    "        diff_real = Z.real - exp_real\n",
    "        diff_imag = Z.imag - exp_imag\n",
    "        sum_square_diff = np.sum(diff_real ** 2 + diff_imag ** 2)\n",
    "        return sum_square_diff\n",
    "    \n",
    "    # Convert initial dictionary to list for optimization\n",
    "    initial_elems = dict_to_list(a_fitting)\n",
    "\n",
    "    # Define a local minimization step to be used within basinhopping\n",
    "    def local_minimizer(x):\n",
    "        # Use TNC or any suitable method within basinhopping\n",
    "        opt = minimize(diff_func, x, args=(exp_real, exp_imag, frequencies), method='TNC', options={'ftol': 1e-5, 'maxiter': 10000})\n",
    "        return opt\n",
    "\n",
    "    # Basinhopping configuration\n",
    "    minimizer_kwargs = {\"method\": \"TNC\", \"args\": (exp_real, exp_imag, frequencies)}\n",
    "    options = {\n",
    "        'niter': 200,  # Number of basinhopping iterations\n",
    "        'stepsize': 0.5  # Step size for random jumps\n",
    "    }\n",
    "\n",
    "    # Run the basinhopping optimization\n",
    "    opt = basinhopping(diff_func, initial_elems, minimizer_kwargs=minimizer_kwargs, niter=options['niter'], stepsize=options['stepsize'])\n",
    "    \n",
    "    # Convert optimized parameters back to dictionary\n",
    "    opt_elems = list_to_dict(a_fitting, opt.x)\n",
    "    final_diff = diff_func(opt.x, exp_real, exp_imag, frequencies)\n",
    "    \n",
    "    # Print results for debugging\n",
    "    print(\"Final sum of squared difference for dataset\", i, \":\", final_diff)\n",
    "\n",
    "    return opt_elems, final_diff, frequencies, opt.x \n",
    "\n",
    "# Example usage: optimize for a specific dataset (choose i from 1 to 5)\n",
    "i = 1  # Change i to the desired dataset index\n",
    "dic_elems, final_diff, frequencies, list_elems = optimize_diff(i)\n",
    "\n",
    "print(\"Final difference:\", final_diff)\n",
    "print(\"Optimized parameter dictionary:\", dic_elems)\n",
    "print(\"Initial fitting parameters:\", a_fitting)\n",
    "\n",
    "'''"
   ]
  },
  {
   "cell_type": "markdown",
   "metadata": {},
   "source": [
    "Fredrik's basinhopping"
   ]
  },
  {
   "cell_type": "code",
   "execution_count": 30,
   "metadata": {},
   "outputs": [
    {
     "name": "stdout",
     "output_type": "stream",
     "text": [
      "basinhopping step 0: f 0.000383218\n",
      "basinhopping step 1: f 0.000680704 trial_f 0.000680704 accepted 1  lowest_f 0.000383218\n",
      "basinhopping step 2: f 0.000401714 trial_f 0.000401714 accepted 1  lowest_f 0.000383218\n",
      "basinhopping step 3: f 0.000427029 trial_f 0.000427029 accepted 1  lowest_f 0.000383218\n",
      "basinhopping step 4: f 0.000444205 trial_f 0.000444205 accepted 1  lowest_f 0.000383218\n",
      "basinhopping step 5: f 0.000379816 trial_f 0.000379816 accepted 1  lowest_f 0.000379816\n",
      "found new global minimum on step 5 with function value 0.000379816\n",
      "basinhopping step 6: f 0.000356983 trial_f 0.000356983 accepted 1  lowest_f 0.000356983\n",
      "found new global minimum on step 6 with function value 0.000356983\n",
      "basinhopping step 7: f 0.000380071 trial_f 0.000380071 accepted 1  lowest_f 0.000356983\n",
      "basinhopping step 8: f 0.00213086 trial_f 0.00213086 accepted 1  lowest_f 0.000356983\n",
      "basinhopping step 9: f 0.000290302 trial_f 0.000290302 accepted 1  lowest_f 0.000290302\n",
      "found new global minimum on step 9 with function value 0.000290302\n",
      "basinhopping step 10: f 0.000255359 trial_f 0.000255359 accepted 1  lowest_f 0.000255359\n",
      "found new global minimum on step 10 with function value 0.000255359\n",
      "basinhopping step 11: f 0.000330527 trial_f 0.000330527 accepted 1  lowest_f 0.000255359\n",
      "basinhopping step 12: f 0.000324542 trial_f 0.000324542 accepted 1  lowest_f 0.000255359\n",
      "basinhopping step 13: f 0.000347395 trial_f 0.000347395 accepted 1  lowest_f 0.000255359\n",
      "basinhopping step 14: f 0.00023561 trial_f 0.00023561 accepted 1  lowest_f 0.00023561\n",
      "found new global minimum on step 14 with function value 0.00023561\n",
      "basinhopping step 15: f 0.000506619 trial_f 0.000506619 accepted 1  lowest_f 0.00023561\n",
      "basinhopping step 16: f 0.000518815 trial_f 0.000518815 accepted 1  lowest_f 0.00023561\n",
      "basinhopping step 17: f 0.000316208 trial_f 0.000316208 accepted 1  lowest_f 0.00023561\n",
      "basinhopping step 18: f 0.000319532 trial_f 0.000319532 accepted 1  lowest_f 0.00023561\n",
      "basinhopping step 19: f 0.000354599 trial_f 0.000354599 accepted 1  lowest_f 0.00023561\n",
      "basinhopping step 20: f 0.000397926 trial_f 0.000397926 accepted 1  lowest_f 0.00023561\n",
      "basinhopping step 21: f 0.000472949 trial_f 0.000472949 accepted 1  lowest_f 0.00023561\n",
      "basinhopping step 22: f 0.000274795 trial_f 0.000274795 accepted 1  lowest_f 0.00023561\n",
      "basinhopping step 23: f 0.000308082 trial_f 0.000308082 accepted 1  lowest_f 0.00023561\n",
      "basinhopping step 24: f 0.000704869 trial_f 0.000704869 accepted 1  lowest_f 0.00023561\n",
      "basinhopping step 25: f 0.000657239 trial_f 0.000657239 accepted 1  lowest_f 0.00023561\n",
      "basinhopping step 26: f 0.000677452 trial_f 0.000677452 accepted 1  lowest_f 0.00023561\n",
      "basinhopping step 27: f 0.000610579 trial_f 0.000610579 accepted 1  lowest_f 0.00023561\n",
      "basinhopping step 28: f 0.000372228 trial_f 0.000372228 accepted 1  lowest_f 0.00023561\n",
      "basinhopping step 29: f 0.000255084 trial_f 0.000255084 accepted 1  lowest_f 0.00023561\n",
      "basinhopping step 30: f 0.000217556 trial_f 0.000217556 accepted 1  lowest_f 0.000217556\n",
      "found new global minimum on step 30 with function value 0.000217556\n",
      "basinhopping step 31: f 0.000207886 trial_f 0.000207886 accepted 1  lowest_f 0.000207886\n",
      "found new global minimum on step 31 with function value 0.000207886\n",
      "basinhopping step 32: f 0.00120204 trial_f 0.00120204 accepted 1  lowest_f 0.000207886\n",
      "basinhopping step 33: f 0.000205141 trial_f 0.000205141 accepted 1  lowest_f 0.000205141\n",
      "found new global minimum on step 33 with function value 0.000205141\n",
      "basinhopping step 34: f 0.000202679 trial_f 0.000202679 accepted 1  lowest_f 0.000202679\n",
      "found new global minimum on step 34 with function value 0.000202679\n",
      "basinhopping step 35: f 0.000236923 trial_f 0.000236923 accepted 1  lowest_f 0.000202679\n",
      "basinhopping step 36: f 0.000630454 trial_f 0.000630454 accepted 1  lowest_f 0.000202679\n",
      "basinhopping step 37: f 0.000593805 trial_f 0.000593805 accepted 1  lowest_f 0.000202679\n",
      "basinhopping step 38: f 0.000201285 trial_f 0.000201285 accepted 1  lowest_f 0.000201285\n",
      "found new global minimum on step 38 with function value 0.000201285\n",
      "basinhopping step 39: f 0.00021338 trial_f 0.00021338 accepted 1  lowest_f 0.000201285\n",
      "basinhopping step 40: f 0.000260071 trial_f 0.000260071 accepted 1  lowest_f 0.000201285\n",
      "basinhopping step 41: f 0.000315032 trial_f 0.000315032 accepted 1  lowest_f 0.000201285\n",
      "basinhopping step 42: f 0.000508297 trial_f 0.000508297 accepted 1  lowest_f 0.000201285\n",
      "basinhopping step 43: f 0.000212793 trial_f 0.000212793 accepted 1  lowest_f 0.000201285\n",
      "basinhopping step 44: f 0.000207284 trial_f 0.000207284 accepted 1  lowest_f 0.000201285\n",
      "basinhopping step 45: f 0.000295093 trial_f 0.000295093 accepted 1  lowest_f 0.000201285\n",
      "basinhopping step 46: f 0.00054626 trial_f 0.00054626 accepted 1  lowest_f 0.000201285\n",
      "basinhopping step 47: f 0.000337075 trial_f 0.000337075 accepted 1  lowest_f 0.000201285\n",
      "basinhopping step 48: f 0.000551214 trial_f 0.000551214 accepted 1  lowest_f 0.000201285\n",
      "basinhopping step 49: f 0.000355484 trial_f 0.000355484 accepted 1  lowest_f 0.000201285\n",
      "adaptive stepsize: acceptance rate 0.980000 target 0.500000 new stepsize 0.222222 old stepsize 0.2\n",
      "basinhopping step 50: f 0.00038182 trial_f 0.00038182 accepted 1  lowest_f 0.000201285\n",
      "{'Rel': -0.010485471955494182, 'R1': 0.2815513592430963, 'Q1': 0.5020532558393144, 'R2': 0.5748202983988737, 'Q2': 0.4567846758252284, 'alpha': 0.024972152914918347, 'Ds': -6.128571135365625, 'a': 618946.5381647305}\n"
     ]
    }
   ],
   "source": [
    "exp_real = np.array(get_exp_data(1, \"\")[0][0])\n",
    "exp_imag = np.array(get_exp_data(1, \"\")[0][1])\n",
    "frequencies = np.array(get_exp_data(1, \"\")[1])\n",
    "#'bounds':bounds,\n",
    "\n",
    "initial_elems = dict_to_list(a_fitting)\n",
    "\n",
    "def diff_func(comp, exp_real, exp_imag, frequencies):\n",
    "        Z = calc_Z1(comp, frequencies)\n",
    "        diff_real = Z.real - exp_real\n",
    "        diff_imag = Z.imag - exp_imag\n",
    "        sum_square_diff = np.sum(diff_real ** 2 + diff_imag ** 2)\n",
    "        return sum_square_diff\n",
    "\n",
    "sol = basinhopping(diff_func, x0=initial_elems, niter=50, T=1, stepsize=0.2, minimizer_kwargs={'method':'slsqp','args':(exp_real, exp_imag, frequencies),'tol':10**-6}, take_step=None, accept_test=None, callback=None, interval=50, disp=True, niter_success=None, seed=None)\n",
    "sol_elems = list_to_dict(a_fitting, sol.x)\n",
    "print(sol_elems)"
   ]
  },
  {
   "cell_type": "code",
   "execution_count": 31,
   "metadata": {},
   "outputs": [
    {
     "data": {
      "image/png": "[encoded data removed]",
      "text/plain": [
       "<Figure size 600x600 with 1 Axes>"
      ]
     },
     "metadata": {},
     "output_type": "display_data"
    }
   ],
   "source": [
    "frequencies = np.array(get_exp_data(i, \"\")[1])\n",
    "Z = calc_Z1(dict_to_list(a_fitting), frequencies)\n",
    "Z_scipy = calc_Z1(list_elems, frequencies)\n",
    "Z_Fbasin = calc_Z1(sol.x, frequencies)\n",
    "\n",
    "fig, ax = plt.subplots(figsize=(6, 6)) \n",
    "ax.scatter(np.array(get_exp_data(i, \"\")[0][0]), -np.array(get_exp_data(i, \"\")[0][1]), color = 'red', label=f\"Experimental \"+str(np.round(get_vdc(i, \"\"),3))+\" V\") \n",
    "ax.plot(Z.real, -Z.imag, label = f'Meyers', color = 'blue')\n",
    "ax.plot(Z_Fbasin.real, -Z_Fbasin.imag, label = f'Fredrik basinhopping', color = 'green')\n",
    "ax.plot(Z_scipy.real, -Z_scipy.imag, label = f'basinhopping', color = 'grey')\n",
    "\n",
    "\n",
    "#ax.set_xlim(0.016, 0.045) \n",
    "#ax.set_ylim(0, 0.012)\n",
    "\n",
    "plt.legend()\n",
    "plt.title(\"Comparing\") \n",
    "plt.show() "
   ]
  }
 ],
 "metadata": {
  "kernelspec": {
   "display_name": "base",
   "language": "python",
   "name": "python3"
  },
  "language_info": {
   "codemirror_mode": {
    "name": "ipython",
    "version": 3
   },
   "file_extension": ".py",
   "mimetype": "text/x-python",
   "name": "python",
   "nbconvert_exporter": "python",
   "pygments_lexer": "ipython3",
   "version": "3.11.5"
  }
 },
 "nbformat": 4,
 "nbformat_minor": 2
}
