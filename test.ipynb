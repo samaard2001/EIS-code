{
 "cells": [
  {
   "cell_type": "markdown",
   "metadata": {},
   "source": [
    "Test PyBamm"
   ]
  },
  {
   "cell_type": "code",
   "execution_count": 1,
   "metadata": {},
   "outputs": [
    {
     "data": {
      "text/plain": [
       "<pybamm.solvers.solution.Solution at 0x136848b10>"
      ]
     },
     "execution_count": 1,
     "metadata": {},
     "output_type": "execute_result"
    }
   ],
   "source": [
    "import pybamm as pb\n",
    "\n",
    "model = pb.lithium_ion.DFN()\n",
    "sim = pb.Simulation(model)\n",
    "sim.solve([0, 3600])"
   ]
  },
  {
   "cell_type": "markdown",
   "metadata": {},
   "source": [
    "Model variables and outputs"
   ]
  },
  {
   "cell_type": "code",
   "execution_count": 2,
   "metadata": {},
   "outputs": [
    {
     "name": "stdout",
     "output_type": "stream",
     "text": [
      "Electrolyte concentration [Molar]\n",
      "Electrolyte concentration [mol.m-3]\n",
      "Electrolyte concentration concatenation [mol.m-3]\n",
      "Electrolyte convection flux [mol.m-2.s-1]\n",
      "Electrolyte current density [A.m-2]\n",
      "Electrolyte diffusion flux [mol.m-2.s-1]\n",
      "Electrolyte flux [mol.m-2.s-1]\n",
      "Electrolyte migration flux [mol.m-2.s-1]\n",
      "Electrolyte potential [V]\n",
      "Electrolyte transport efficiency\n",
      "Gradient of electrolyte potential [V.m-1]\n",
      "Gradient of negative electrolyte potential [V.m-1]\n",
      "Gradient of positive electrolyte potential [V.m-1]\n",
      "Gradient of separator electrolyte potential [V.m-1]\n",
      "Loss of lithium inventory, including electrolyte [%]\n",
      "Negative electrolyte concentration [Molar]\n",
      "Negative electrolyte concentration [mol.m-3]\n",
      "Negative electrolyte potential [V]\n",
      "Negative electrolyte transport efficiency\n",
      "Positive electrolyte concentration [Molar]\n",
      "Positive electrolyte concentration [mol.m-3]\n",
      "Positive electrolyte potential [V]\n",
      "Positive electrolyte transport efficiency\n",
      "Separator electrolyte concentration [Molar]\n",
      "Separator electrolyte concentration [mol.m-3]\n",
      "Separator electrolyte potential [V]\n",
      "Separator electrolyte transport efficiency\n",
      "Sum of electrolyte reaction source terms [A.m-3]\n",
      "Sum of negative electrode electrolyte reaction source terms [A.m-3]\n",
      "Sum of positive electrode electrolyte reaction source terms [A.m-3]\n",
      "Sum of x-averaged negative electrode electrolyte reaction source terms [A.m-3]\n",
      "Sum of x-averaged positive electrode electrolyte reaction source terms [A.m-3]\n",
      "Total lithium in electrolyte [mol]\n",
      "Total lithium lost from electrolyte [mol]\n",
      "X-averaged battery electrolyte ohmic losses [V]\n",
      "X-averaged electrolyte concentration [Molar]\n",
      "X-averaged electrolyte concentration [mol.m-3]\n",
      "X-averaged electrolyte ohmic losses [V]\n",
      "X-averaged electrolyte overpotential [V]\n",
      "X-averaged electrolyte potential [V]\n",
      "X-averaged negative electrolyte concentration [Molar]\n",
      "X-averaged negative electrolyte concentration [mol.m-3]\n",
      "X-averaged negative electrolyte potential [V]\n",
      "X-averaged negative electrolyte transport efficiency\n",
      "X-averaged positive electrolyte concentration [Molar]\n",
      "X-averaged positive electrolyte concentration [mol.m-3]\n",
      "X-averaged positive electrolyte potential [V]\n",
      "X-averaged positive electrolyte transport efficiency\n",
      "X-averaged separator electrolyte concentration [Molar]\n",
      "X-averaged separator electrolyte concentration [mol.m-3]\n",
      "X-averaged separator electrolyte potential [V]\n",
      "X-averaged separator electrolyte transport efficiency\n"
     ]
    },
    {
     "data": {
      "text/plain": [
       "'\\nsim.plot(\\n    [\\n        [\"Electrode current density [A.m-2]\", \"Electrolyte current density [A.m-2]\"],\\n        \"Voltage [V]\",\\n    ]\\n)\\n'"
      ]
     },
     "execution_count": 2,
     "metadata": {},
     "output_type": "execute_result"
    }
   ],
   "source": [
    "#model.variable_names()\n",
    "#model.variables.search(\"electrolyte\")\n",
    "\n",
    "#output_variables = [\"Electrolyte concentration [mol.m-3]\", \"Voltage [V]\"] #må også oppgi enkeltplot i lister!\n",
    "#sim.plot(output_variables = output_variables)\n",
    "\n",
    "#nesting lists\n",
    "'''\n",
    "sim.plot(\n",
    "    [\n",
    "        [\"Electrode current density [A.m-2]\", \"Electrolyte current density [A.m-2]\"],\n",
    "        \"Voltage [V]\",\n",
    "    ]\n",
    ")\n",
    "'''\n",
    "\n",
    "#contributions of overpotential\n",
    "#sim.plot_voltage_components()\n",
    "#dette kan også bli splittet i elektrodene ved å skrive \n",
    "#sim.plot_voltage_components(split_by_electrode=True)"
   ]
  },
  {
   "cell_type": "markdown",
   "metadata": {},
   "source": [
    "Parameter values"
   ]
  },
  {
   "cell_type": "code",
   "execution_count": 4,
   "metadata": {},
   "outputs": [],
   "source": [
    "parameter_values = pb.ParameterValues(\"Chen2020\")\n",
    "#specific parameter values can be accessed using standard dictionary syntax: \n",
    "parameter_values[\"Electrode height [m]\"]\n",
    "#can also search parameter values with \n",
    "#parameter_values.search(\"electrolyte\")\n",
    "\n",
    "#check the specific parameters the model requires and what kind of parameter it is: \n",
    "#model.print_parameter_info()\n",
    "# a function parameter can always be defined to be a constant, but a parameter cannot be defined to be a function. \n",
    "#change constant parameters \n",
    "parameter_values[\"Current function [A]\"] = 10\n"
   ]
  },
  {
   "cell_type": "markdown",
   "metadata": {},
   "source": [
    "Defining parameters"
   ]
  },
  {
   "cell_type": "code",
   "execution_count": 4,
   "metadata": {},
   "outputs": [
    {
     "data": {
      "application/vnd.jupyter.widget-view+json": {
       "model_id": "4d04f835a6434b8c94c1a8aa2e95f1ac",
       "version_major": 2,
       "version_minor": 0
      },
      "text/plain": [
       "interactive(children=(FloatSlider(value=0.0, description='t', max=120.0, step=1.2), Output()), _dom_classes=('…"
      ]
     },
     "metadata": {},
     "output_type": "display_data"
    },
    {
     "data": {
      "text/plain": [
       "<pybamm.plotting.quick_plot.QuickPlot at 0x1354c4310>"
      ]
     },
     "execution_count": 4,
     "metadata": {},
     "output_type": "execute_result"
    }
   ],
   "source": [
    "import numpy as np\n",
    "def my_current(t):\n",
    "    return pb.sin(2 * np.pi * t / 60)\n",
    "\n",
    "\n",
    "parameter_values[\"Current function [A]\"] = my_current\n",
    "#the actual name given to the argument does not matter, but the order does. Check print_parameter_info. \n",
    "\n",
    "sim = pb.Simulation(model, parameter_values=parameter_values)\n",
    "t_eval = np.arange(0, 121, 1)\n",
    "sim.solve(t_eval=t_eval)\n",
    "sim.plot([\"Current [A]\", \"Voltage [V]\"]) \n",
    "\n",
    "#we can also define a new parameter set from scratch (like Amund has done).\n",
    "#see tutorial 4 on pybamm for more information, under \"define a new parameter set\". \n",
    "#it is often convenient to define the parameter set in a separate file, and then call  \n",
    "#import by get_parameter_values method. \n",
    "\n"
   ]
  },
  {
   "cell_type": "markdown",
   "metadata": {},
   "source": [
    "Experiments and cycles"
   ]
  },
  {
   "cell_type": "code",
   "execution_count": 5,
   "metadata": {},
   "outputs": [],
   "source": [
    "#we can reproduce real cycling conditions via tuples - see Tutorial 5. \n",
    "#key difference between cycles and steps; steps can be skipped, but not cycles.\n",
    "# model = pybamm.lithium_ion.DFN()\n",
    "#sim = pybamm.Simulation(model, experiment=experiment) \n",
    "\n",
    "#we can choose to plot a specific cycle: \n",
    "#sim.solution.cycles[0].plot()\n",
    "\n",
    "#we can pass additional arguments to a step (periods etc)\n",
    "#pybamm.step.string(\"Discharge at 1C for 1 hour\", period=\"1 minute\", temperature=\"25oC\", tags=[\"tag1\"])\n",
    "#can also directly program instead of using string formatting: \n",
    "#pybamm.step.current(1, duration=\"1 hour\", termination=\"2.5 V\")\n",
    "#can also use drive cycles; see Tutorial 5. "
   ]
  },
  {
   "cell_type": "markdown",
   "metadata": {},
   "source": [
    "Post-processed variables"
   ]
  },
  {
   "cell_type": "code",
   "execution_count": 6,
   "metadata": {},
   "outputs": [
    {
     "data": {
      "text/plain": [
       "array([4.18095279, 4.2008079 , 4.13529144, 4.22601343, 4.15002952,\n",
       "       4.17825622, 4.19999   ])"
      ]
     },
     "execution_count": 6,
     "metadata": {},
     "output_type": "execute_result"
    }
   ],
   "source": [
    "solution = sim.solve([0, 3600])\n",
    "#defining post-processed variable for the relevant variables: \n",
    "V = solution[\"Voltage [V]\"]\n",
    "#these processedvariable objects contain the datapoints for the corresponding variable\n",
    "#can be accessed by calling the entries variable. \n",
    "V.entries\n",
    "#post-processed variables can be called at any time, which will return the interpolated value from the data above\n",
    "#V([200, 400, 780, 1236])  # times in seconds"
   ]
  },
  {
   "cell_type": "markdown",
   "metadata": {},
   "source": [
    "Saving simulation and output data"
   ]
  },
  {
   "cell_type": "code",
   "execution_count": 7,
   "metadata": {},
   "outputs": [],
   "source": [
    "#sim.save(\"DFNe.pkl\")\n",
    "#we can load the stored simulation doing \n",
    "#sim2 = pb.load(\"DFNe.pkl\")\n",
    "#we can also just save the solution of the simulation\n",
    "#sol = sim.solution\n",
    "#sol.save(\"SPMe_sol.pkl\")\n",
    "#can also just save the data for some variables, also in .csv or .mat format, or matlab (see tutorial 6)\n",
    "#sol.save_data(\"sol_data.pkl\", [\"Current [A]\", \"Voltage [V]\"], to_format = \"csv\")\n",
    "\n",
    "#remove data\n",
    "#import os\n",
    "#os.remove(\"DFNe.pkl\")\n"
   ]
  },
  {
   "cell_type": "markdown",
   "metadata": {},
   "source": [
    "Solver options and tolerances"
   ]
  },
  {
   "cell_type": "code",
   "execution_count": 8,
   "metadata": {},
   "outputs": [],
   "source": [
    "#Might want to tighten the tolerances to obtain a more accurate solution\n",
    "#or might want to loosen the tolerances to reduce the solve time. \n",
    "\n",
    "#Casadisolver\n",
    "#you can integrate until you hit a certain voltage - reccommended for simulations of a full charge or discharge. "
   ]
  },
  {
   "cell_type": "markdown",
   "metadata": {},
   "source": [
    "Mesh"
   ]
  },
  {
   "cell_type": "code",
   "execution_count": 9,
   "metadata": {},
   "outputs": [],
   "source": [
    "#default number of mesh points used in a simulation\n",
    "#you may find you need to increase the number points in the mesh to obtain an accurate solution. \n",
    "#good practice to conduct a mesh refinement study --> simulate the same problem with a finer mesh and compare the results. \n",
    "\n",
    "#look at the default numbers\n",
    "#model.default_var_pts\n",
    "\n",
    "#we can create our own dictionary (see tutorial 9)\n",
    "#we can do a mesh refinement study (see tutorial 9)\n",
    "#can use labels in the dynamic plot method so the plots are labeled. "
   ]
  }
 ],
 "metadata": {
  "kernelspec": {
   "display_name": "Python 3",
   "language": "python",
   "name": "python3"
  },
  "language_info": {
   "codemirror_mode": {
    "name": "ipython",
    "version": 3
   },
   "file_extension": ".py",
   "mimetype": "text/x-python",
   "name": "python",
   "nbconvert_exporter": "python",
   "pygments_lexer": "ipython3",
   "version": "3.11.5"
  }
 },
 "nbformat": 4,
 "nbformat_minor": 2
}
